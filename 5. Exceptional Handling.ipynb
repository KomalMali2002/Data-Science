{
 "cells": [
  {
   "cell_type": "markdown",
   "id": "75221fc4-cc29-403d-8abc-a4403481b7cc",
   "metadata": {},
   "source": [
    " @ Errors : Issue or mistake thats disturbs the normal flow of execution.\n",
    " 1. Syntax error\n",
    " 2. Runtime error\n",
    " 3. Logical error\n",
    " 4. Semantic error\n",
    " \n",
    "          1. Syntax Error: - It will occure when python compiler will not able to parse it or it is not following the proper syntax\n",
    "                           - We need to rectifly the syntax then only we will able to execute the program\n",
    "                           - Indentation error \n",
    "                           - Invalid literal \n",
    "                           - Missing parenthesis-----\n",
    "                           - All the syntax error will occurs before the excution of the program.\n",
    " \n",
    "          2. Runtime Error: - Runtime Error will occurs when we are executing the program.\n",
    "                            - Runtime Error will not contain any syntactical error.\n",
    "                            1. Zerodivision error : (ex a=10/0)\n",
    "                            2. Type error : (ex. a='2'+2)\n",
    "                            3. Value error : (ex. int(\"abc\"))\n",
    "                            4. Index error : (list=[1,2,3,4] , print(list[5]))\n",
    "                            5. Stackoverflow : when we are not specifyting the anchor step\n",
    "                            6. Recursion error : \n",
    "                                   1. When we are not specifyting the anchor step\n",
    "                                   2. Wrong recursive call\n",
    "                            7. Key error :  (ex. dict{'a':1,'b':2}  ,dict['c'])\n",
    "                            8. File not found error etc\n",
    "\n",
    "          3. Logical Error: - There is no syntax error and no runtime error\n",
    "                            - It occurs when we are getting incorrect output or unexpected output \n",
    "\n",
    "          4. Symtac Error handling: \n",
    "                           - We will check the syntax and rectify it\n",
    "                           - Logical error : - Test the code \n",
    "                                             - Debug the code\n",
    "                           - Runtime Error : - Exception handling\n",
    "\n",
    "                           - Segmentation fault : We are generally getting segmentation fault in lower programming languaage \n",
    "                                                - In python there is very less chances to get segmentation fault\n",
    "                                                - Because python has its own memory module and garbage collection\n",
    "                                                - We will get the segmentation fault python when we are is dealing with\n",
    "                                                   the external libraries  which is built in  c/c++\n",
    "\n",
    " @ Exception : -  Unwanted or unexpected event thats disturb the normal flow\n",
    "\n",
    "               -  Exception can be occurs in hardware level as well as software.\n",
    "              \n",
    "               -  If exception is happening in the hardware level we called as interrupt.\n",
    "              \n",
    "               -  To handle the interrupt we have interrupt service routine in interrupt vector table.\n",
    "              \n",
    "               -  In case of software if we got  the exception we have exceptional handling\n",
    "\n",
    " @ Exceptional Handlinng : - It is not the process of rectifying or correcting the error it is alternate way to forcefully terminate the execution.\n",
    "\n",
    "                           - If we are not handling the exception it leads to the abnormal termination.\n",
    "   \n",
    "                           - By forceful termination it will release all the holding resources\n",
    "                          \n",
    "                           1. Resource leak :\n",
    "                               Ex - open\n",
    "                               \n",
    "                           2. Unreleased lock:\n",
    "                               Ex : program: process:\n",
    "                               \n",
    "                                Shared resoured : where the shared resource is available we called it  as critical section \n",
    "                                p1------enter into the critical section\n",
    "                                \n",
    "                                Semaphore : any integer value except 0\n",
    "                                \n",
    "                                It leads to starvation or deadlock\n",
    "                                \n",
    "                           3. Transaction issue: \n",
    "                              Transation: \n",
    "                              \n",
    "  - Exceptional handling means not rectifying the runtime error\n",
    "  - It is giving alternate way to handle that error\n",
    "  - For handling the exception we have four blocks\n",
    "\n",
    "                          - For handling the exception we have\n",
    "    \n",
    "                              1. Try block : - Code which raised the exception is called raisky code\n",
    "                                             - Raisky code will always be put into try block \n",
    "                                             - Always try to put the minimum instruction/code into the try block\n",
    "                                             - Risky code : which will raise the exception\n",
    "    \n",
    "                              2. Except block :  - Except block will excepted only when the exception is raised \n",
    "                                                 - If there is no exception the exception block will not be executed because\n",
    "                                                 - Once the exception is raised the statement below that will not executed  \n",
    "                                                   the exception  control in directly suspended from try block to except block\n",
    "                                                 - Every exception in a python will considered as object it having\n",
    "                                                   the corresponding exception class\n",
    "                                                 - Whenever the exception is occurs PVM will create the object\n",
    "                                                   the exception class and if the exception handling code is available\n",
    "                                                   pvm will excuted that otherwisw there will be abnormal termination\n",
    "                                                 - Whenever there is a exception it is handle by expecpt block\n",
    "                                                 - We can use the mutiple exception block \n",
    "                                                   Ex - try :\n",
    "                                                        except e1:\n",
    "                                                        except e2:\n",
    "\n",
    "                                                   - Divison code :\n",
    "                                                   - Except (ZeroDivisionError,valueError):\n",
    "                                3. Else block:\n",
    "                                    \n",
    "                                4. Finally block: - It is use for resource cleaning purpose\n",
    "                                                  - Weather the expection is raised or not finally block will be executed\n",
    "                                                  - We cant keep the cleanup code in exception block because if there is no exception\n",
    "                                                    the cleanup code  will not be executed\n",
    "                                                  - Q Who cleanup your code\n",
    "\n",
    " Q How to handle the exception handling :\n",
    "\n",
    " @ Control flow\n",
    "\n",
    "     try:\n",
    "         instruction1\n",
    "         instruction2 \n",
    "         instruction3\n",
    "         instruction4\n",
    "   except e:\n",
    "          instruction5\n",
    "          \n",
    "          instruction6\n",
    "    \n",
    " - If the exception occurs in the instruction2 then the instruction1,instruction2 and instruction6 is executed it is normal termination\n",
    " - If the all try block instruction has no any exception then the except block is not execute but exception in \n",
    "    instruction6 then its called abnormal termination\n",
    "  \n",
    "  \n",
    " Q  How the python will manage the memory :\n",
    "   - There is no relation between program size and space complexity\n",
    "   - In python  memory allocation and deallocation will be done automatically because python has a garbage collector\n",
    "   - Garbage collector is available in virtual memory(indirectly it is a secondary memory)\n",
    "   - Genrally in a python we are mostly using heap segment\n",
    "\n",
    " @ Garbage collection : Virtual memory :\n",
    "   - Q The program to given he signal to the garbage collection it is available in python interpreter\n",
    "   - Garbage collector space is always consider as the heap segment\n"
   ]
  },
  {
   "cell_type": "markdown",
   "id": "626b9b46-9bf1-41a3-96a0-b5678fc11fc4",
   "metadata": {},
   "source": [
    "try:\n",
    "    print(10/0)\n",
    "except ZeroDivisionError:\n",
    "    print(\"division not possible\")"
   ]
  },
  {
   "cell_type": "code",
   "execution_count": 1,
   "id": "7875a0f7-f597-4c99-94ba-40c4bcd8b4cf",
   "metadata": {},
   "outputs": [
    {
     "name": "stdout",
     "output_type": "stream",
     "text": [
      "division not possible\n"
     ]
    }
   ],
   "source": [
    "try:\n",
    "    print(10/0)\n",
    "except ZeroDivisionError:\n",
    "    print(\"division not possible\")"
   ]
  },
  {
   "cell_type": "code",
   "execution_count": 2,
   "id": "d62019ae-8616-46c7-846b-7df50b44170a",
   "metadata": {},
   "outputs": [
    {
     "name": "stdout",
     "output_type": "stream",
     "text": [
      "5.0\n"
     ]
    }
   ],
   "source": [
    "try:\n",
    "    print(10/2)\n",
    "except ZeroDivisionError:\n",
    "    print(\"division not possible\")"
   ]
  },
  {
   "cell_type": "code",
   "execution_count": 7,
   "id": "a9bdbbac-95b4-4552-b3a3-2239f4a916ff",
   "metadata": {},
   "outputs": [
    {
     "name": "stdin",
     "output_type": "stream",
     "text": [
      "enter any number 5\n",
      "enter any number 2\n"
     ]
    },
    {
     "name": "stdout",
     "output_type": "stream",
     "text": [
      "2.5\n"
     ]
    }
   ],
   "source": [
    "def divide_numbers(a,b):\n",
    "    if b==0:\n",
    "       print(\" Division by zero is not allowed\") \n",
    "    else:\n",
    "       return (a/b)\n",
    "a=float(input(\"enter any number\"))\n",
    "b=float(input(\"enter any number\"))\n",
    "print (divide_numbers(a,b))\n"
   ]
  },
  {
   "cell_type": "code",
   "execution_count": 8,
   "id": "cbc99d2d-8ffa-48a7-b106-263520fc645e",
   "metadata": {},
   "outputs": [
    {
     "name": "stdin",
     "output_type": "stream",
     "text": [
      "Enter the numerator:  10\n",
      "Enter the denominator:  2\n"
     ]
    },
    {
     "name": "stdout",
     "output_type": "stream",
     "text": [
      "The result is: 5.0\n",
      "Division operation completed.\n"
     ]
    }
   ],
   "source": [
    "def divide_numbers():\n",
    "    try:\n",
    "        num1 = float(input(\"Enter the numerator: \"))\n",
    "        num2 = float(input(\"Enter the denominator: \"))\n",
    "        result = num1 / num2\n",
    "    except ZeroDivisionError:\n",
    "        print(\"Error: Division by zero is not allowed.\")\n",
    "    except ValueError:\n",
    "        print(\"Error: Invalid input. Please enter numeric values.\")\n",
    "    else:\n",
    "        print(f\"The result is: {result}\")\n",
    "    finally:\n",
    "        print(\"Division operation completed.\")\n",
    "divide_numbers()\n"
   ]
  },
  {
   "cell_type": "code",
   "execution_count": 6,
   "id": "6ad227b2-d48b-4cc4-af5b-bd3892e2cbb6",
   "metadata": {},
   "outputs": [
    {
     "name": "stdin",
     "output_type": "stream",
     "text": [
      "Enter the file name to read:  file1\n"
     ]
    },
    {
     "name": "stdout",
     "output_type": "stream",
     "text": [
      "File content:\n",
      "python programming is a simple one\n",
      "python is good for scripting\n",
      "python is really good for automation\n",
      "python has good backend framework\n",
      "134 567 8907!@#$%^&*\n",
      "File read successfully.\n",
      "Operation completed.\n"
     ]
    }
   ],
   "source": [
    " # I want to read the file and print the content on the file we have write permission\n",
    "def read_and_print_file():\n",
    "    try:\n",
    "        file_name = input(\"Enter the file name to read: \")\n",
    "        with open(file_name, 'r') as file:\n",
    "            content = file.read()\n",
    "            print(\"File content:\")\n",
    "            print(content)\n",
    "    except FileNotFoundError:\n",
    "        print(f\"Error: The file '{file_name}' was not found.\")\n",
    "    except Exception as e:\n",
    "        print(f\"An unexpected error occurred: {e}\")\n",
    "    else:\n",
    "        print(\"File read successfully.\")\n",
    "    finally:\n",
    "        print(\"Operation completed.\")\n",
    "\n",
    "read_and_print_file()"
   ]
  },
  {
   "cell_type": "code",
   "execution_count": 9,
   "id": "51855b81-f713-468e-ac7a-3aaf86ea81f3",
   "metadata": {},
   "outputs": [
    {
     "name": "stdout",
     "output_type": "stream",
     "text": [
      "<class 'ZeroDivisionError'>\n",
      "<class 'ZeroDivisionError'>\n",
      "ZeroDivisionError\n",
      "division by zero\n"
     ]
    }
   ],
   "source": [
    "try:\n",
    "    print(10/0)\n",
    "except Exception as e:\n",
    "    print (type(e))\n",
    "    print(e.__class__)\n",
    "    print(e.__class__.__name__)\n",
    "    print(e)"
   ]
  },
  {
   "cell_type": "code",
   "execution_count": 11,
   "id": "e30e6439-dbc5-4411-9611-15e738e00222",
   "metadata": {},
   "outputs": [
    {
     "name": "stdout",
     "output_type": "stream",
     "text": [
      "division not possible\n",
      "division is possible\n"
     ]
    }
   ],
   "source": [
    "try:\n",
    "    print(10/0)\n",
    "except ZeroDivisionError:\n",
    "    print(\"division not possible\")\n",
    "finally:\n",
    "    print(\"division is possible\")"
   ]
  },
  {
   "cell_type": "code",
   "execution_count": 10,
   "id": "4fb24c9a-a6a5-431f-81b5-8b5809700317",
   "metadata": {},
   "outputs": [
    {
     "name": "stdout",
     "output_type": "stream",
     "text": [
      "original lisi: [1, 2, 3, 4]\n",
      "list after appending 5: [1, 2, 3, 4, 5]\n"
     ]
    }
   ],
   "source": [
    "#  write a python program that perform any list operation and that handle the attribute error if there is a exception\n",
    "try:\n",
    "    list=[1,2,3,4]\n",
    "    print(\"original lisi:\",list)\n",
    "    list.append(5)\n",
    "    print(\"list after appending 5:\",list)\n",
    "except AttributeError:\n",
    "    print (\"opration is not possible\")\n",
    "    "
   ]
  }
 ],
 "metadata": {
  "kernelspec": {
   "display_name": "Python 3 (ipykernel)",
   "language": "python",
   "name": "python3"
  },
  "language_info": {
   "codemirror_mode": {
    "name": "ipython",
    "version": 3
   },
   "file_extension": ".py",
   "mimetype": "text/x-python",
   "name": "python",
   "nbconvert_exporter": "python",
   "pygments_lexer": "ipython3",
   "version": "3.13.0"
  }
 },
 "nbformat": 4,
 "nbformat_minor": 5
}
