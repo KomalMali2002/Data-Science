{
 "cells": [
  {
   "cell_type": "markdown",
   "id": "2dd29046-744d-4874-a30d-eac18fea89fd",
   "metadata": {},
   "source": [
    "# @ Modules And Packages"
   ]
  },
  {
   "cell_type": "markdown",
   "id": "b331e980-6f77-4799-9fdc-ef1657f80237",
   "metadata": {},
   "source": [
    "# @ Modules"
   ]
  },
  {
   "cell_type": "markdown",
   "id": "814f155d-eadc-41d6-bc3c-a85ec2e8120c",
   "metadata": {},
   "source": [
    "@ Modules VS Packages VS Libraray\n",
    "\n",
    " @ Modules :\n",
    " \n",
    " - Modules refers to a file containing python statements and definition\n",
    " - Reusability\n",
    "\n",
    " - There are two types of module\n",
    " 1. Builin module (predefined) :\n",
    "  - It is directly defined in the language itself we have to directly use it.\n",
    "     1. Math\n",
    "     2. Datatime\n",
    "     3. Os\n",
    "     4. Random\n",
    "    \n",
    " 2. User defined module :\n",
    "   - We are creating our own modules\n",
    "   - Syntax:\n",
    "     \n",
    "            import module_name\n",
    "            import--keyword\n",
    "            Modules---no of function\n",
    "   - It mandatory to import the modules because we have to see the function which are present inside the module\n",
    "   - Modules refers to a file containing python statement and definations \n",
    "   - Ex: import math\n",
    "   - Syntax:\n",
    "       from modules_math import fun\n",
    "\n",
    "    @ Ex :  from math import*\n",
    "   - Syntax: we can use the alias \n",
    "            import math as m\n",
    "   - module_name.function_name\n",
    "\n",
    " @ OS : \n",
    " \n",
    "         - It is used for performing os level oprations\n",
    "         - Every os has two mode \n",
    "            1. GUI ( grapical user interface)\n",
    "            2. CUI (commant user interface)\n",
    "\n",
    " p='please open the notepad'\n",
    " \n",
    " if(notepad in p)and ((open in p)or(execute in p))\n",
    " \n",
    " os.system(notepad)\n",
    "\n",
    " 1. Go to jupyter\n",
    " 2. Click on new text file\n",
    " 3. Write the python code\n",
    " 4. Save that file with .py extension\n",
    " 5. import that module in a program\n",
    " 6. Access with the function name\n",
    "\n",
    " @ Packages :\n",
    "  - Package are the way for structuring the python module\n",
    "  - It is a kind of directory\n",
    "  - Packages must contains the __init__.py.\n",
    "  - Without __init__.py this file it is not considered as package \n",
    "  - __init__.py this file can be empty o or it can have some startup or initilization code\n",
    "\n",
    " @ Library :\n",
    " - It is a collection of modules and packages\n",
    " - It contains huge set of modules and package\n",
    " - Ex : numpy,panda,matplotlib etc\n",
    "\n",
    "\n",
    " @ Code sheet\n",
    " \n",
    " @ Problem solving \n",
    " \n",
    " @ List dic string iterative recussion \n",
    " \n",
    " @ Library\n",
    " \n",
    " @ Start the coding for problem solving\n",
    "\n",
    " 1. Loops \n",
    "     - Tracing---  how exactly llp will work\n",
    "     - Basic level (w3resource,gfg)\n",
    "     - IQ (TCS NQT) iterative approach\n",
    "    \n",
    " 2. Recusive approch \n",
    "     - Maths\n",
    "     - Stack\n",
    "     - Function -- try to 40 Quesstion\n",
    "     - Tracking of recursive code: 100 Question (200)\n",
    "     - Basic recursive Questions\n",
    "     - W3resourse , gfg\n",
    "     - Difference recursive errors\n",
    "     - Leetcode Questions\n",
    "\n",
    "@ Projecteuler (for logic build)\n"
   ]
  },
  {
   "cell_type": "code",
   "execution_count": 19,
   "id": "6edf3fad-63d5-4f54-a048-4dce8368bf24",
   "metadata": {},
   "outputs": [
    {
     "data": {
      "text/plain": [
       "3.141592653589793"
      ]
     },
     "execution_count": 19,
     "metadata": {},
     "output_type": "execute_result"
    }
   ],
   "source": [
    "import math\n",
    "math.pi"
   ]
  },
  {
   "cell_type": "code",
   "execution_count": 3,
   "id": "7a28d31e-a3e3-42f0-9eb5-1e648145ea01",
   "metadata": {},
   "outputs": [
    {
     "data": {
      "text/plain": [
       "8.0"
      ]
     },
     "execution_count": 3,
     "metadata": {},
     "output_type": "execute_result"
    }
   ],
   "source": [
    "math.pow(2,3)"
   ]
  },
  {
   "cell_type": "code",
   "execution_count": null,
   "id": "fad07d52-c57d-46f2-98d5-b4db152b5088",
   "metadata": {},
   "outputs": [],
   "source": [
    "math.  # use to Tab"
   ]
  },
  {
   "cell_type": "code",
   "execution_count": 7,
   "id": "edeea129-7447-410c-913f-6bd5ff3cb0e1",
   "metadata": {},
   "outputs": [
    {
     "data": {
      "text/plain": [
       "'Return x**y (x to the power of y).'"
      ]
     },
     "execution_count": 7,
     "metadata": {},
     "output_type": "execute_result"
    }
   ],
   "source": [
    "math.pow.__doc__"
   ]
  },
  {
   "cell_type": "code",
   "execution_count": 10,
   "id": "b84db740-b90a-493d-a3fa-cc5b3914628c",
   "metadata": {},
   "outputs": [
    {
     "data": {
      "text/plain": [
       "0"
      ]
     },
     "execution_count": 10,
     "metadata": {},
     "output_type": "execute_result"
    }
   ],
   "source": [
    "import os\n",
    "os.system(\"notepad\")"
   ]
  },
  {
   "cell_type": "code",
   "execution_count": 11,
   "id": "4c4083f5-fc0d-4846-aee6-64aed567866d",
   "metadata": {},
   "outputs": [
    {
     "data": {
      "text/plain": [
       "1"
      ]
     },
     "execution_count": 11,
     "metadata": {},
     "output_type": "execute_result"
    }
   ],
   "source": [
    "os.system(\"chrome\")"
   ]
  },
  {
   "cell_type": "code",
   "execution_count": 12,
   "id": "215f456a-a638-40d6-bfb2-63289cfa2ca3",
   "metadata": {},
   "outputs": [
    {
     "data": {
      "text/plain": [
       "1"
      ]
     },
     "execution_count": 12,
     "metadata": {},
     "output_type": "execute_result"
    }
   ],
   "source": [
    "os.system(\"word2013\")"
   ]
  },
  {
   "cell_type": "code",
   "execution_count": 9,
   "id": "fc15320d-6f0a-48ad-89c4-fec3979aa27f",
   "metadata": {},
   "outputs": [
    {
     "data": {
      "text/plain": [
       "13"
      ]
     },
     "execution_count": 9,
     "metadata": {},
     "output_type": "execute_result"
    }
   ],
   "source": [
    "#code for fiboseries\n",
    "import fiboseries\n",
    "fiboseries.fibo(6)"
   ]
  },
  {
   "cell_type": "raw",
   "id": "4e14773b-a6a6-4212-8290-e427eed32b89",
   "metadata": {},
   "source": [
    "# speech to text\n",
    "p = \"please open th notepaad\"\n",
    "if ((notepadin p)and(open in p)(excute in p))\n",
    "os.system(\"notepad\")"
   ]
  },
  {
   "cell_type": "code",
   "execution_count": 2,
   "id": "6965a0e9-a323-46b1-984d-2299c1f7027d",
   "metadata": {},
   "outputs": [
    {
     "data": {
      "text/plain": [
       "datetime.datetime(2025, 2, 4, 18, 35, 0, 431729)"
      ]
     },
     "execution_count": 2,
     "metadata": {},
     "output_type": "execute_result"
    }
   ],
   "source": [
    "import datetime\n",
    "datetime.datetime.now()"
   ]
  },
  {
   "cell_type": "code",
   "execution_count": 12,
   "id": "2a43ab12-c9a8-42dc-9859-568482242cf1",
   "metadata": {},
   "outputs": [
    {
     "data": {
      "text/plain": [
       "[3]"
      ]
     },
     "execution_count": 12,
     "metadata": {},
     "output_type": "execute_result"
    }
   ],
   "source": [
    "#code for duplicate\n",
    "import repeat\n",
    "repeat.duplicate([1,2,3,4,5,3,6])"
   ]
  },
  {
   "cell_type": "code",
   "execution_count": 5,
   "id": "21565e2a-8788-496d-b9c5-955268f3ed12",
   "metadata": {},
   "outputs": [
    {
     "data": {
      "text/plain": [
       "5"
      ]
     },
     "execution_count": 5,
     "metadata": {},
     "output_type": "execute_result"
    }
   ],
   "source": [
    "import random\n",
    "random.randint(2,5)\n"
   ]
  },
  {
   "cell_type": "code",
   "execution_count": 22,
   "id": "93dc3802-b60a-46ab-9b46-d5c10af6758b",
   "metadata": {},
   "outputs": [
    {
     "data": {
      "text/plain": [
       "1"
      ]
     },
     "execution_count": 22,
     "metadata": {},
     "output_type": "execute_result"
    }
   ],
   "source": [
    "import random\n",
    "random.randint(0,10)"
   ]
  },
  {
   "cell_type": "code",
   "execution_count": 16,
   "id": "3664a17a-ac9a-49c8-9b23-a6259ce2804b",
   "metadata": {},
   "outputs": [
    {
     "name": "stdout",
     "output_type": "stream",
     "text": [
      "[3, 2, 5, 1, 4]\n"
     ]
    }
   ],
   "source": [
    "import random\n",
    "a=[1,2,3,4,5]\n",
    "random.shuffle(a)\n",
    "print(a)"
   ]
  },
  {
   "cell_type": "code",
   "execution_count": 17,
   "id": "8a8f6164-5e86-4126-8ea9-1e17618ee34c",
   "metadata": {},
   "outputs": [
    {
     "data": {
      "text/plain": [
       "1742934059.7222774"
      ]
     },
     "execution_count": 17,
     "metadata": {},
     "output_type": "execute_result"
    }
   ],
   "source": [
    "import time\n",
    "time.time()"
   ]
  },
  {
   "cell_type": "code",
   "execution_count": 36,
   "id": "b6a7f9a5-e4c4-495d-80aa-4f4d85c8584a",
   "metadata": {},
   "outputs": [
    {
     "name": "stdout",
     "output_type": "stream",
     "text": [
      "Input List: [1, 2, 3, 4, 5, 1, 3, 6, 6, 7, 8, 9, 10]\n",
      "Duplicate Elements: []\n"
     ]
    }
   ],
   "source": [
    "# user defined module to return the duplicate list\n",
    "def find_duplicates(input_list):\n",
    "    duplicates = []\n",
    "    seen = set()\n",
    "    for item in input_list:\n",
    "        if item in seen:\n",
    "            if item not in duplicates:\n",
    "                duplicates.append(item)\n",
    "            else:\n",
    "                seen.add(item)\n",
    "    return duplicates\n",
    "if __name__ == \"__main__\":\n",
    "    test_list = [1,2,3,4,5,1,3,6,6,7,8,9,10]\n",
    "print(\"Input List:\", test_list)\n",
    "print(\"Duplicate Elements:\", find_duplicates(test_list))"
   ]
  },
  {
   "cell_type": "code",
   "execution_count": 11,
   "id": "65180bcc-fd22-4f26-a5c0-92d94cd5b1bc",
   "metadata": {},
   "outputs": [
    {
     "data": {
      "text/plain": [
       "10"
      ]
     },
     "execution_count": 11,
     "metadata": {},
     "output_type": "execute_result"
    }
   ],
   "source": [
    "# Program of GCD\n",
    "import newadd\n",
    "newadd.gcd(50,10)"
   ]
  },
  {
   "cell_type": "code",
   "execution_count": null,
   "id": "f0abb948-3a89-487c-8372-ab97bf7a1a1a",
   "metadata": {},
   "outputs": [],
   "source": [
    "#Q creat user defined module for sort in that you have to create Queick sort."
   ]
  },
  {
   "cell_type": "code",
   "execution_count": 5,
   "id": "cb553c0e-4044-4f30-bf10-9f9840f3f5f3",
   "metadata": {},
   "outputs": [
    {
     "name": "stdout",
     "output_type": "stream",
     "text": [
      "3\n",
      "1\n",
      "2\n",
      "1\n",
      "1\n",
      "1\n",
      "2\n",
      "2\n"
     ]
    }
   ],
   "source": [
    "# tracing  ----- iterative approch\n",
    "def count(n,d=1):\n",
    "    print(n)\n",
    "    print(d)\n",
    "    d+=1\n",
    "    if n>1:\n",
    "     count(n-1)\n",
    "     print(d)\n",
    "count(3)"
   ]
  },
  {
   "cell_type": "code",
   "execution_count": 12,
   "id": "df04db01-b5e6-40d7-8e09-e0a72e1ec8bb",
   "metadata": {},
   "outputs": [],
   "source": [
    "#tracing program\n",
    "def sum(n):\n",
    "    n=3\n",
    "    if n==2:\n",
    "        return 2\n",
    "    return sum(n-1)*n\n",
    "    sum(5) "
   ]
  },
  {
   "cell_type": "code",
   "execution_count": 18,
   "id": "c82d96ff-c032-4f21-a779-0d7d3fdfb514",
   "metadata": {},
   "outputs": [
    {
     "data": {
      "text/plain": [
       "6"
      ]
     },
     "execution_count": 18,
     "metadata": {},
     "output_type": "execute_result"
    }
   ],
   "source": [
    "#tracing program\n",
    "def sample (x):\n",
    "    if x==0 or x==2:\n",
    "        return 1\n",
    "    return sample(x-1)*(x-1)\n",
    "sample(4)"
   ]
  },
  {
   "cell_type": "code",
   "execution_count": 11,
   "id": "45a1a304-0098-4b56-ba90-af3459f6137c",
   "metadata": {},
   "outputs": [
    {
     "data": {
      "text/plain": [
       "1"
      ]
     },
     "execution_count": 11,
     "metadata": {},
     "output_type": "execute_result"
    }
   ],
   "source": [
    "#tracing program\n",
    "def f (n,r=[0]):\n",
    "    if n<0:\n",
    "        return 1\n",
    "    r[0]=n\n",
    "    return f(n-1,r)+r[0]\n",
    "f(5) # wrong"
   ]
  },
  {
   "cell_type": "code",
   "execution_count": 29,
   "id": "72707f4f-39ae-435d-9761-888537ae923d",
   "metadata": {},
   "outputs": [
    {
     "name": "stdout",
     "output_type": "stream",
     "text": [
      "-\n",
      "-\n",
      "-\n",
      "-\n",
      "-\n",
      "-\n",
      "-\n",
      "-\n"
     ]
    }
   ],
   "source": [
    "#tracing program\n",
    "def hownydash(n):\n",
    "    if n==0:\n",
    "        print(\"-\")\n",
    "    elif n==1:\n",
    "        print(\"-\")\n",
    "    else:\n",
    "        hownydash(n-1)\n",
    "        hownydash(n-2)\n",
    "hownydash(5)"
   ]
  },
  {
   "cell_type": "code",
   "execution_count": 10,
   "id": "5de6e952-d341-46c5-bf46-5bd887e413cd",
   "metadata": {},
   "outputs": [
    {
     "name": "stdout",
     "output_type": "stream",
     "text": [
      "17\n"
     ]
    }
   ],
   "source": [
    "#tracing program\n",
    "def fun1(x,y):\n",
    "    if y==0:\n",
    "        return 0\n",
    "    return x+fun2(x,y-1)\n",
    "def fun2(x,y):\n",
    "    if x==0:\n",
    "        return y\n",
    "    return fun2(x-1,x+y)\n",
    "print(fun1(4,4))\n",
    "       "
   ]
  },
  {
   "cell_type": "code",
   "execution_count": 15,
   "id": "25faf874-7a2b-4fd3-a725-cf6dec2b767f",
   "metadata": {},
   "outputs": [
    {
     "name": "stdout",
     "output_type": "stream",
     "text": [
      "hellohellohellohellohellohelloworldworldworldworldworldworldworld"
     ]
    }
   ],
   "source": [
    "def greet(n):\n",
    "    if n>0:\n",
    "        print(\"hello\",end=\"\")\n",
    "        greet(n-1)\n",
    "    print(\"world\",end=\"\")\n",
    "greet(6)"
   ]
  },
  {
   "cell_type": "code",
   "execution_count": 3,
   "id": "01427dac-5776-48da-a98d-2d26e6825323",
   "metadata": {},
   "outputs": [
    {
     "data": {
      "text/plain": [
       "1640"
      ]
     },
     "execution_count": 3,
     "metadata": {},
     "output_type": "execute_result"
    }
   ],
   "source": [
    "def f1(n):\n",
    "    if n == 0 or n == 1:\n",
    "        return n\n",
    "    else:\n",
    "        return 2 * f1(n - 1) + 3 * f1(n - 2)\n",
    "f1(8)"
   ]
  },
  {
   "cell_type": "code",
   "execution_count": 4,
   "id": "5281c4a4-4533-4341-82f5-b2deb4ba59b5",
   "metadata": {},
   "outputs": [
    {
     "name": "stdout",
     "output_type": "stream",
     "text": [
      "5\n"
     ]
    }
   ],
   "source": [
    "def f(n):\n",
    "    if n<= 1:\n",
    "        return 1\n",
    "    if n % 2 == 0:\n",
    "        return f(n // 2)\n",
    "    return f(n // 2) + f(n // 2 + 1)\n",
    "\n",
    "print(f(11))"
   ]
  },
  {
   "cell_type": "code",
   "execution_count": 5,
   "id": "fac17df5-40d1-4a01-b093-ff4af6f7484a",
   "metadata": {},
   "outputs": [
    {
     "data": {
      "text/plain": [
       "5"
      ]
     },
     "execution_count": 5,
     "metadata": {},
     "output_type": "execute_result"
    }
   ],
   "source": [
    "11//2"
   ]
  },
  {
   "cell_type": "code",
   "execution_count": 6,
   "id": "c14e31c5-8168-4c9c-b405-782d57af72cc",
   "metadata": {},
   "outputs": [
    {
     "name": "stdout",
     "output_type": "stream",
     "text": [
      "15\n"
     ]
    }
   ],
   "source": [
    "def f(a, n):\n",
    "    if n<= 0:\n",
    "        return 0\n",
    "    elif a[0] % 2 == 0: # Check if the first element is even\n",
    "        return a[0] + f(a[1:], n - 1)\n",
    "    else:\n",
    "        return a[0] - f(a[1:], n - 1)\n",
    "\n",
    "a = [12, 7, 13, 4, 11, 6]\n",
    "print(f(a, len(a)))"
   ]
  }
 ],
 "metadata": {
  "kernelspec": {
   "display_name": "Python 3 (ipykernel)",
   "language": "python",
   "name": "python3"
  },
  "language_info": {
   "codemirror_mode": {
    "name": "ipython",
    "version": 3
   },
   "file_extension": ".py",
   "mimetype": "text/x-python",
   "name": "python",
   "nbconvert_exporter": "python",
   "pygments_lexer": "ipython3",
   "version": "3.13.0"
  }
 },
 "nbformat": 4,
 "nbformat_minor": 5
}
