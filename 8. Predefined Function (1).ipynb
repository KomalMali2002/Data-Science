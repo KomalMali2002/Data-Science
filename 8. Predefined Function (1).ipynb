{
 "cells": [
  {
   "cell_type": "markdown",
   "id": "de01e6f9-abe4-4d8c-9d70-2eac9a4e16f6",
   "metadata": {},
   "source": [
    "# @ Predefined Function"
   ]
  },
  {
   "cell_type": "markdown",
   "id": "6ad0179d-1923-4e29-9b3d-febcbf73f1bd",
   "metadata": {},
   "source": [
    " @ Predefined Function :\n",
    " \n",
    "    Function : \n",
    "              \n",
    "               - Block of code to perform the particular task \n",
    "               - Reusability\n",
    "               - Decresing redundancy\n",
    "               - Syntax :\n",
    "                        def fun_name()\n",
    "                        \"\"\"\n",
    "                          doc string\n",
    "                       \"\"\"\n",
    "    Doc string :\n",
    "                  \n",
    "                 - What exactly the functin will do\n",
    "                 - It will increase the readability of the program\n",
    "                 - For execution of the function we need to call it\n",
    "                 - Function may or may not return the value\n",
    "                 - Return statement is optional\n",
    "\n",
    " @ There are two types of function :\n",
    " \n",
    "                                   1. Builin function or predefined function\n",
    "                                    - The functions which are already available in the language itself\n",
    "                                    - To execute that builin function we just need to call it \n",
    "                                    - There are many predefined function in python \n",
    "                                       1.abs()\n",
    "                                       2.map()\n",
    "                                       3.filter()\n",
    "                                       4.enmerate()\n",
    "                                       5.divmod().......etc\n",
    "\n",
    " @ 1. abs() :\n",
    " \n",
    "            - It predefined function in python\n",
    "            - It will return the absolute value\n",
    "            - The meaning of absolute value is it will retuen the value with out sign\n",
    "            - It will take only one argument\n",
    "            - It will take three types of arguments\n",
    "               1. Integer\n",
    "               2. Floting number\n",
    "               3. Complex number  ----(a+bj) or (a+jb) it is part of \n",
    "               In case of complex number it will return the magnitude of the complex numbers\n",
    "         EX  - Distance ------ absolute value\n",
    "             - Speed -------  absolute value of velocity \n",
    "             - MAE : median absolute error \n",
    "             - Profit,loss\n",
    "\n",
    " @ 2. all() :\n",
    "            \n",
    "            - It is also predefined function\n",
    "            - It will work on iterable (all the data structure)\n",
    "            - It will return true when all the element in the iterable are true\n",
    "            - It will return false when atleast one value is false in iterable\n",
    "            - It will return the boolean value\n",
    "            - Every non zero is consider as true only 0 is considered as false\n",
    "            - All the empty iterable is true.\n",
    "\n",
    " @ Usecases: Data Preprocessing : Before processing we are making some changes in the data\n",
    " \n",
    "                                - 1. Check waether all the values in the columns are normalized or not\n",
    "                                - 2. Check all the feature are having less that 0.05 p value \n",
    "\n",
    " @ 3. dir() : \n",
    "            \n",
    "            - It is a predefined function\n",
    "            - It will return attributes function or class of the data type\n",
    "\n",
    " @ 4. divmod() :\n",
    "               \n",
    "               - It is also a predefined function in python \n",
    "               - It will take two values as argument and it will return the tuple of quotient and remainder\n",
    "\n",
    " @ 5. enumerate() :\n",
    "                  \n",
    "                  - It is a predefined function in python\n",
    "                  - It is used to enumerate\n",
    "                  - Enumerate means we are listing down the elements of iterable with indez\n",
    "                  \n",
    " @ syntax : \n",
    "             \n",
    "             - enumerate (iterable ,start=0)\n",
    "             - iterable : list,tuple,set,dictionary\n",
    "             - strat = 0 by default it is zero\n",
    "             - it will two argument:\n",
    "               iterable  ------ mandatory\n",
    "               start----- optional\n",
    "             - it is used to keep track of the indexes in the elements of iterable\n",
    "             - internally enumerate will use loop to listing down\n",
    "\n",
    " @ Usecase :\n",
    "             \n",
    "             1. We can use the key track of number of iteration oe epoch while training the ML model.\n",
    "             2. We can keep track of batches.\n",
    "\n",
    " @ 6. filter() :\n",
    "               \n",
    "               - It is also predefined function in python\n",
    "               - It is used to filter out the elemnets of the iterable based on some conditon\n",
    "               \n",
    " @ syntax : \n",
    "           \n",
    "           - It will take two argument\n",
    "            1. Function : condition(based on these condition only it will filter out the element)\n",
    "            2. Iterable : list,set,tuple,dict etc\n",
    "               Filter (function,iterable)\n",
    "           - Filter () function will return the filter object\n",
    "           - It will stored all the filtered elements in different iterable\n",
    "           - If we want see the element we have to convert it to list\n",
    "           \n",
    " @ Usecase :\n",
    " \n",
    "             - We can use it for data preprocessing and cleaning\n",
    "             - Filtered out all the missing value in the coloum\n",
    "             - Filterde out the outliers\n",
    "\n",
    " @ 7. isinstance() :\n",
    "                   \n",
    "                   - It is also predefined function in python\n",
    "                   - It used to check weather the object is a instant of a particular class or not \n",
    "                   - It is also the boolean function \n",
    "                   - True : when the object is instance of a class\n",
    "                   - False : when the object is not instance of a class\n",
    "                   \n",
    " @ Syntax :\n",
    "          \n",
    "          isinstance(object,classinfo)\n",
    "          1. Object : class,object,variable\n",
    "          2. Classinfo: daatype  and tuple of datatypes\n",
    "\n",
    " @ Usecase :\n",
    "             \n",
    "             1. When we are creating the ML pipeline will always check the data is in correct format or not\n",
    "             2. We will always check the datatype when we will do the hyperparameter tunning\n",
    "\n",
    " @ 8. Map () : \n",
    "             \n",
    "             - It is also predefined function in python\n",
    "             - It us used to apply the function on each item of the list\n",
    "             \n",
    " @ syntax : \n",
    "           \n",
    "            map(function,iterable)\n",
    "          - It will also take two argument\n",
    "          - Function is apply on each item of the iterable \n",
    "          - Iterable : list,set etc\n",
    "          - It will return map object so we neeed to convert it iterable (list)\n",
    "\n",
    " @ Usecase : \n",
    "             \n",
    "             - Data preprocessing : encoding\n",
    "             - Feature engineer\n",
    " \n",
    " @ 9. reduce () :\n",
    " \n",
    "                - It is also predefined function in python\n",
    "                - It is use to reduce the iterable into single value\n",
    "                \n",
    " @ syntax : \n",
    "            \n",
    "            from fuctools import reduce  \n",
    "            reduce (function,iterative)\n",
    "          - It will take two argument\n",
    "          - Function : it is also apply on all the elements of the iterative\n",
    "          \n",
    " ex :\n",
    " \n",
    "      Mean of the height of student present in the class\n",
    "      Data aggregation\n",
    "      Descriptive statistics,inferrential start\n",
    "      \n",
    "      Map(),filter(),reduce():transformation phase of the ETL process\n",
    "      ETL: E----- extract\n",
    "           T-----tranform------ transformation\n",
    "           L----- load\n",
    "\n",
    " 1. Extract : It will extract the data from each transformation database\n",
    " 2. Tranform : It cover whole data inti single format(staging phase)map(),reduce(),filter()\n",
    " 3. Load : Transform data will be loaded onto the datawarehouse(OLAP) online analytical processing\n",
    "\n",
    " @ Database : collection of related of data \n",
    " \n",
    " @ Transactional dattabase : traditional data\n",
    "\n",
    " @ Lambda Function : \n",
    "                     \n",
    "                     - It is called anonymous function\n",
    "                     - In anonymous function means it dont have any name to define (no name)\n",
    "                     - In a python when we write a function we will use the def keyword but for anonymus function \n",
    "                        we will use lambda as keyword\n",
    "                     - We are extensively  using this function inside a builin function like map(), reduce(), filter()\n",
    "                     - Lambda is a very simple and we can write it in a single line\n",
    "            Syntax : - Lambda argument: expression\n",
    "                     - Lambda---- keyword\n",
    "                     - Argument----- input to the function\n",
    "                     - Expression----\n",
    "\n",
    " @ Iterator : - It is python object to traverse the iterable each element one by one\n",
    " \n",
    " @ Iterable : - Data structure which we want to iterate\n",
    " \n",
    " @ Iterator : It is a object who is iterating each element of the iterator one by one\n",
    " \n",
    "   next() - It will next iteration element \n",
    " \n",
    " @ StopIteration : It will show when there is no element left in the iterable\n",
    " \n",
    " @ Generator : \n",
    "               \n",
    "               - It is also a python object or iterator it will return the value one after other \n",
    "               - Instead of return keyword we are using yield keyword get return      \n",
    "               - Both iterator and generators are memory efficient\n",
    "               - All through they both are using the loop inside\n",
    "               - Whenever we have huge amount of data and we dont want to load that data then in that case we can use gernerator\n"
   ]
  },
  {
   "cell_type": "code",
   "execution_count": 1,
   "id": "d5967b5e-cc4c-45e1-978b-9d44ed434bab",
   "metadata": {},
   "outputs": [
    {
     "name": "stdout",
     "output_type": "stream",
     "text": [
      "hellokomal\n",
      "None\n"
     ]
    }
   ],
   "source": [
    "def print_name(name):\n",
    "    \"\"\"\n",
    "    this function will print name\n",
    "    \"\"\"\n",
    "    print(\"hello\"+str(name))\n",
    "print(print_name(\"komal\"))"
   ]
  },
  {
   "cell_type": "code",
   "execution_count": 3,
   "id": "f5788568-e4ce-49eb-bd1c-75f166fcbbb6",
   "metadata": {},
   "outputs": [
    {
     "name": "stdout",
     "output_type": "stream",
     "text": [
      "\n",
      "this function will print name\n",
      "\n"
     ]
    }
   ],
   "source": [
    "print(print_name.__doc__)"
   ]
  },
  {
   "cell_type": "code",
   "execution_count": 2,
   "id": "f4d59dd5-9f08-4c6c-ae35-23bb8764e666",
   "metadata": {},
   "outputs": [
    {
     "data": {
      "text/plain": [
       "5"
      ]
     },
     "execution_count": 2,
     "metadata": {},
     "output_type": "execute_result"
    }
   ],
   "source": [
    "abs(-5)"
   ]
  },
  {
   "cell_type": "code",
   "execution_count": 3,
   "id": "7b36a591-e15b-49ff-af88-57beaeaa2db8",
   "metadata": {},
   "outputs": [
    {
     "data": {
      "text/plain": [
       "3"
      ]
     },
     "execution_count": 3,
     "metadata": {},
     "output_type": "execute_result"
    }
   ],
   "source": [
    "abs(3)"
   ]
  },
  {
   "cell_type": "code",
   "execution_count": 4,
   "id": "7d2d3ec4-9c2f-4825-a546-1f2d9c7fb7c5",
   "metadata": {},
   "outputs": [
    {
     "data": {
      "text/plain": [
       "3.14"
      ]
     },
     "execution_count": 4,
     "metadata": {},
     "output_type": "execute_result"
    }
   ],
   "source": [
    "abs(-3.14)"
   ]
  },
  {
   "cell_type": "code",
   "execution_count": 5,
   "id": "b88005da-7cc6-4e6e-b0f2-c495fd3a6118",
   "metadata": {},
   "outputs": [
    {
     "data": {
      "text/plain": [
       "2.23606797749979"
      ]
     },
     "execution_count": 5,
     "metadata": {},
     "output_type": "execute_result"
    }
   ],
   "source": [
    "abs(1+2j)"
   ]
  },
  {
   "cell_type": "code",
   "execution_count": 6,
   "id": "4e572259-17a8-497b-8e50-560aa6d6e27e",
   "metadata": {},
   "outputs": [
    {
     "data": {
      "text/plain": [
       "2.23606797749979"
      ]
     },
     "execution_count": 6,
     "metadata": {},
     "output_type": "execute_result"
    }
   ],
   "source": [
    "abs(-1-2j)"
   ]
  },
  {
   "cell_type": "code",
   "execution_count": 7,
   "id": "1bc84d79-03bc-4b08-88dd-ef1af43a2c69",
   "metadata": {},
   "outputs": [
    {
     "data": {
      "text/plain": [
       "True"
      ]
     },
     "execution_count": 7,
     "metadata": {},
     "output_type": "execute_result"
    }
   ],
   "source": [
    "lst=[1,2,3,4,5]\n",
    "all(lst)"
   ]
  },
  {
   "cell_type": "code",
   "execution_count": 8,
   "id": "efa3d765-b10a-4336-90cc-d003a22ec5b8",
   "metadata": {},
   "outputs": [
    {
     "data": {
      "text/plain": [
       "False"
      ]
     },
     "execution_count": 8,
     "metadata": {},
     "output_type": "execute_result"
    }
   ],
   "source": [
    "lst=[0,1,2,3,4,5]\n",
    "all(lst)"
   ]
  },
  {
   "cell_type": "code",
   "execution_count": 10,
   "id": "4e930029-d674-4e5e-96e7-1cd78ea6f948",
   "metadata": {},
   "outputs": [
    {
     "data": {
      "text/plain": [
       "True"
      ]
     },
     "execution_count": 10,
     "metadata": {},
     "output_type": "execute_result"
    }
   ],
   "source": [
    "lst=[True,3,5]\n",
    "all(lst)"
   ]
  },
  {
   "cell_type": "code",
   "execution_count": 11,
   "id": "94f89ce7-465b-44ce-8a45-8c3c54db9b3e",
   "metadata": {},
   "outputs": [
    {
     "data": {
      "text/plain": [
       "False"
      ]
     },
     "execution_count": 11,
     "metadata": {},
     "output_type": "execute_result"
    }
   ],
   "source": [
    "lst=[False,4,5,6,7]\n",
    "all(lst)"
   ]
  },
  {
   "cell_type": "code",
   "execution_count": 12,
   "id": "7581f31b-3288-4c71-b0a1-465e6d5c142d",
   "metadata": {},
   "outputs": [
    {
     "data": {
      "text/plain": [
       "True"
      ]
     },
     "execution_count": 12,
     "metadata": {},
     "output_type": "execute_result"
    }
   ],
   "source": [
    "tle=(1,2,3,4)\n",
    "all(tle)"
   ]
  },
  {
   "cell_type": "code",
   "execution_count": 13,
   "id": "667a9833-1d3f-4d6c-87be-7ebf7382a99c",
   "metadata": {},
   "outputs": [
    {
     "data": {
      "text/plain": [
       "True"
      ]
     },
     "execution_count": 13,
     "metadata": {},
     "output_type": "execute_result"
    }
   ],
   "source": [
    "lst=[]\n",
    "all(lst)"
   ]
  },
  {
   "cell_type": "code",
   "execution_count": 14,
   "id": "446dea2d-42be-46d1-ab81-b196374edf02",
   "metadata": {},
   "outputs": [
    {
     "data": {
      "text/plain": [
       "True"
      ]
     },
     "execution_count": 14,
     "metadata": {},
     "output_type": "execute_result"
    }
   ],
   "source": [
    "lst={}\n",
    "all(lst)"
   ]
  },
  {
   "cell_type": "code",
   "execution_count": 21,
   "id": "e2f09380-d131-4fd3-8ace-a640b4dc840c",
   "metadata": {},
   "outputs": [
    {
     "data": {
      "text/plain": [
       "False"
      ]
     },
     "execution_count": 21,
     "metadata": {},
     "output_type": "execute_result"
    }
   ],
   "source": [
    "dict={1:2,0:3,6:7}\n",
    "all(dict)"
   ]
  },
  {
   "cell_type": "code",
   "execution_count": 18,
   "id": "2d3b0e36-335d-4987-8bd1-ee815e7fd426",
   "metadata": {},
   "outputs": [
    {
     "data": {
      "text/plain": [
       "True"
      ]
     },
     "execution_count": 18,
     "metadata": {},
     "output_type": "execute_result"
    }
   ],
   "source": [
    "dict={1:2,3:0,6:7}\n",
    "all(dict)"
   ]
  },
  {
   "cell_type": "code",
   "execution_count": 23,
   "id": "95701e9d-1640-4aa1-bdca-15e5507305d0",
   "metadata": {},
   "outputs": [
    {
     "name": "stdout",
     "output_type": "stream",
     "text": [
      "['__add__', '__class__', '__class_getitem__', '__contains__', '__delattr__', '__delitem__', '__dir__', '__doc__', '__eq__', '__format__', '__ge__', '__getattribute__', '__getitem__', '__getstate__', '__gt__', '__hash__', '__iadd__', '__imul__', '__init__', '__init_subclass__', '__iter__', '__le__', '__len__', '__lt__', '__mul__', '__ne__', '__new__', '__reduce__', '__reduce_ex__', '__repr__', '__reversed__', '__rmul__', '__setattr__', '__setitem__', '__sizeof__', '__str__', '__subclasshook__', 'append', 'clear', 'copy', 'count', 'extend', 'index', 'insert', 'pop', 'remove', 'reverse', 'sort']\n"
     ]
    }
   ],
   "source": [
    "#dir()\n",
    "lst=[1,2,3,4,5]\n",
    "print(dir(lst))"
   ]
  },
  {
   "cell_type": "raw",
   "id": "1bb9ae2b-bbca-448e-948c-8f757e165f30",
   "metadata": {},
   "source": [
    "from sklearn.ensemble import RandomForestClassifier\n",
    "model=RandomForestClassifier()\n",
    "print(dir(model))"
   ]
  },
  {
   "cell_type": "code",
   "execution_count": 25,
   "id": "06e1c8a6-4c06-4125-b3e7-89e56e0fb272",
   "metadata": {},
   "outputs": [
    {
     "name": "stdout",
     "output_type": "stream",
     "text": [
      "(4, 1)\n"
     ]
    }
   ],
   "source": [
    "print(divmod(9,2))"
   ]
  },
  {
   "cell_type": "code",
   "execution_count": 17,
   "id": "f7889d5f-2c74-4425-a9a5-c8f7176e282c",
   "metadata": {},
   "outputs": [
    {
     "name": "stdout",
     "output_type": "stream",
     "text": [
      "(5, 3)\n"
     ]
    }
   ],
   "source": [
    "print(divmod(103,20))"
   ]
  },
  {
   "cell_type": "code",
   "execution_count": 2,
   "id": "f0eee58c-373d-4d46-92d8-521e2d7bd6fc",
   "metadata": {},
   "outputs": [
    {
     "name": "stdout",
     "output_type": "stream",
     "text": [
      "0 10\n",
      "1 11\n",
      "2 13\n",
      "3 14\n"
     ]
    }
   ],
   "source": [
    "list=[10,11,13,14]\n",
    "for index,val in enumerate (list):\n",
    "    print(index,val)"
   ]
  },
  {
   "cell_type": "code",
   "execution_count": 3,
   "id": "19b29dfa-2648-4a2e-ba61-35bdbddad7f7",
   "metadata": {},
   "outputs": [
    {
     "name": "stdout",
     "output_type": "stream",
     "text": [
      "0 10\n",
      "1 11\n",
      "2 13\n",
      "3 14\n"
     ]
    }
   ],
   "source": [
    "list=[10,11,13,14]\n",
    "for index,val in enumerate (list,start=0):\n",
    "    print(index,val)"
   ]
  },
  {
   "cell_type": "code",
   "execution_count": 4,
   "id": "c570aa34-2dd0-40e9-a247-e58df12d4313",
   "metadata": {},
   "outputs": [
    {
     "name": "stdout",
     "output_type": "stream",
     "text": [
      "12 10\n",
      "13 11\n",
      "14 13\n",
      "15 14\n"
     ]
    }
   ],
   "source": [
    "list=[10,11,13,14]\n",
    "for index,val in enumerate (list,start=12):\n",
    "    print(index,val)"
   ]
  },
  {
   "cell_type": "code",
   "execution_count": 6,
   "id": "f2818f63-f131-4fba-824a-7781eda60687",
   "metadata": {},
   "outputs": [
    {
     "name": "stdout",
     "output_type": "stream",
     "text": [
      "0 hii\n",
      "1 bye\n"
     ]
    }
   ],
   "source": [
    "#create a enumerate\n",
    "t=(\"hii\",\"bye\")\n",
    "for index,val in enumerate (t):\n",
    "    print(index,val)"
   ]
  },
  {
   "cell_type": "code",
   "execution_count": 7,
   "id": "e5cb391c-c2fc-4339-96d0-bd9580569b9a",
   "metadata": {},
   "outputs": [
    {
     "name": "stdout",
     "output_type": "stream",
     "text": [
      "0 56\n",
      "1 25\n",
      "2 67\n",
      "3 23\n"
     ]
    }
   ],
   "source": [
    "s={23,25,56,67}\n",
    "for index,val in enumerate (s):\n",
    "    print(index,val)"
   ]
  },
  {
   "cell_type": "code",
   "execution_count": 18,
   "id": "e387304d-fbd5-41c4-8980-757c86ca743c",
   "metadata": {},
   "outputs": [
    {
     "name": "stdout",
     "output_type": "stream",
     "text": [
      "0 1\n",
      "1 2\n"
     ]
    }
   ],
   "source": [
    "dict={1:\"a\",2:\"c\",2:\"c\"}\n",
    "for index,key in enumerate(dict):\n",
    "    print(index,key,)"
   ]
  },
  {
   "cell_type": "code",
   "execution_count": 16,
   "id": "fff88329-0a2f-4cf6-9c68-c9fba8836806",
   "metadata": {},
   "outputs": [
    {
     "name": "stdout",
     "output_type": "stream",
     "text": [
      "0 1\n",
      "1 2\n",
      "2 3\n"
     ]
    }
   ],
   "source": [
    "dict={1:'a',2:'b',3:'c'}\n",
    "for index,key in enumerate(dict):\n",
    "    print(index,key)"
   ]
  },
  {
   "cell_type": "code",
   "execution_count": 20,
   "id": "2c6e1a61-9593-448b-af75-34eed42c167e",
   "metadata": {},
   "outputs": [
    {
     "name": "stdout",
     "output_type": "stream",
     "text": [
      "0 23\n",
      "1 45\n",
      "2 67\n",
      "3 89\n",
      "None\n"
     ]
    }
   ],
   "source": [
    "def my_enumerate(list):\n",
    "    for i in range(len(list)):\n",
    "        print(i,list[i])\n",
    "list=23,45,67,89\n",
    "print(my_enumerate(list))"
   ]
  },
  {
   "cell_type": "code",
   "execution_count": 26,
   "id": "735b3598-7fc2-4461-9a85-375f16086170",
   "metadata": {},
   "outputs": [
    {
     "name": "stdout",
     "output_type": "stream",
     "text": [
      "(2, 4, 6, 8)\n"
     ]
    }
   ],
   "source": [
    "def my_even(x):\n",
    "    return x%2==0\n",
    "list1=[1,2,3,4,5,6,7,8,9,89]\n",
    "even_no =filter(my_even,list1)\n",
    "print(tuple(even_no))"
   ]
  },
  {
   "cell_type": "code",
   "execution_count": 29,
   "id": "e795f9b7-7b3f-49bf-8735-73d131529475",
   "metadata": {},
   "outputs": [
    {
     "name": "stdout",
     "output_type": "stream",
     "text": [
      "range(-10, 10)\n",
      "(1, 2, 3, 4, 5, 6, 7, 8, 9)\n"
     ]
    }
   ],
   "source": [
    "def positive(a):\n",
    "    if a>0:\n",
    "        return a\n",
    "b=range(-10,10)\n",
    "print(b)\n",
    "positive_element=tuple(filter(positive,b))\n",
    "print(positive_element)                          "
   ]
  },
  {
   "cell_type": "code",
   "execution_count": 15,
   "id": "ec7a6df9-6bf9-4771-8185-68e6399e0099",
   "metadata": {},
   "outputs": [],
   "source": [
    "# Function to find and print even-length strings\n",
    "def even_length(strings):\n",
    "    for string in strings:\n",
    "        if len(string) % 2 == 0:\n",
    "            print(string)\n",
    "strings = [\"hello\", \"world\"]"
   ]
  },
  {
   "cell_type": "code",
   "execution_count": 35,
   "id": "d0164368-d654-4c13-b5f2-7766973b1d0d",
   "metadata": {},
   "outputs": [
    {
     "name": "stdout",
     "output_type": "stream",
     "text": [
      "True\n"
     ]
    }
   ],
   "source": [
    "x=5\n",
    "print(isinstance(x,int))"
   ]
  },
  {
   "cell_type": "markdown",
   "id": "8103e90b-c5ec-4090-9a30-83a76fac811f",
   "metadata": {},
   "source": [
    "y=7.5\n",
    "print(isinstance(x,float))"
   ]
  },
  {
   "cell_type": "code",
   "execution_count": 14,
   "id": "1d65a56b-8202-430d-ba99-b2cd368a71ba",
   "metadata": {},
   "outputs": [
    {
     "name": "stdout",
     "output_type": "stream",
     "text": [
      "True\n"
     ]
    }
   ],
   "source": [
    "y=7.5\n",
    "print(isinstance(y,float))"
   ]
  },
  {
   "cell_type": "code",
   "execution_count": 38,
   "id": "1a6fb0be-b1e7-4728-a667-28a790b7c2e6",
   "metadata": {},
   "outputs": [
    {
     "name": "stdout",
     "output_type": "stream",
     "text": [
      "True\n"
     ]
    }
   ],
   "source": [
    "z=\"komal\"\n",
    "print(isinstance(z,(int,float,str)))"
   ]
  },
  {
   "cell_type": "code",
   "execution_count": 39,
   "id": "6f3232b0-1421-42a7-a0cf-a62232a7c7b1",
   "metadata": {},
   "outputs": [
    {
     "name": "stdout",
     "output_type": "stream",
     "text": [
      "hello\n",
      "True\n"
     ]
    }
   ],
   "source": [
    "class sample:\n",
    "    print(\"hello\")\n",
    "obj=sample()\n",
    "print(isinstance(obj,sample))    "
   ]
  },
  {
   "cell_type": "code",
   "execution_count": 42,
   "id": "f139e6fe-f023-482d-94e8-f48463b5eacb",
   "metadata": {},
   "outputs": [
    {
     "name": "stdout",
     "output_type": "stream",
     "text": [
      "True\n"
     ]
    }
   ],
   "source": [
    "a=(2,3,4,5,6)\n",
    "print(isinstance(a,tuple))"
   ]
  },
  {
   "cell_type": "code",
   "execution_count": 46,
   "id": "3a1994e3-7d69-4aaf-93e4-724d963ebff4",
   "metadata": {},
   "outputs": [
    {
     "name": "stdout",
     "output_type": "stream",
     "text": [
      "True\n"
     ]
    }
   ],
   "source": [
    "a={2,3,4,5,6}\n",
    "print(isinstance(a,set))"
   ]
  },
  {
   "cell_type": "code",
   "execution_count": null,
   "id": "687679e5-3139-4cb6-91a5-3a1a1becd076",
   "metadata": {},
   "outputs": [],
   "source": [
    "# semi circle in pattern"
   ]
  },
  {
   "cell_type": "code",
   "execution_count": 48,
   "id": "eac13bb2-eee2-4aa1-a02b-9494cd0b3dd9",
   "metadata": {},
   "outputs": [
    {
     "name": "stdout",
     "output_type": "stream",
     "text": [
      "(1, 4, 9, 16)\n"
     ]
    }
   ],
   "source": [
    "ab=[1,2,3,4]\n",
    "def power(p):\n",
    "    return p**2\n",
    "numbers=map(power,ab)\n",
    "print(tuple(numbers))"
   ]
  },
  {
   "cell_type": "code",
   "execution_count": 51,
   "id": "422be3b6-c55d-47f4-9092-5335441dd125",
   "metadata": {},
   "outputs": [
    {
     "name": "stdout",
     "output_type": "stream",
     "text": [
      "24\n"
     ]
    }
   ],
   "source": [
    "from functools import reduce\n",
    "cv=[1,2,3,4]\n",
    "def product(x,y):\n",
    "    return x*y\n",
    "total=reduce(product,cv)\n",
    "print(total)"
   ]
  },
  {
   "cell_type": "code",
   "execution_count": 13,
   "id": "3fedf5cf-4303-42ac-b727-76491b14c4e3",
   "metadata": {},
   "outputs": [
    {
     "name": "stdout",
     "output_type": "stream",
     "text": [
      "24\n"
     ]
    }
   ],
   "source": [
    "list=[1,2,3,4]\n",
    "mul=1\n",
    "for i in list:\n",
    "    mul=mul*i\n",
    "print(mul)"
   ]
  },
  {
   "cell_type": "code",
   "execution_count": 1,
   "id": "0a013f71-7721-4434-bd2b-7dfd53730795",
   "metadata": {},
   "outputs": [
    {
     "name": "stdout",
     "output_type": "stream",
     "text": [
      "10\n"
     ]
    }
   ],
   "source": [
    "double = lambda x:x*2\n",
    "print(double(5))"
   ]
  },
  {
   "cell_type": "code",
   "execution_count": 5,
   "id": "575fdf44-e136-482e-ba44-07957cdd8c7a",
   "metadata": {},
   "outputs": [
    {
     "name": "stdout",
     "output_type": "stream",
     "text": [
      "25\n"
     ]
    }
   ],
   "source": [
    "square = lambda x:x**2\n",
    "print(square(5))\n"
   ]
  },
  {
   "cell_type": "code",
   "execution_count": 18,
   "id": "e95932c1-ee61-4b26-8301-eb6f5ae4156d",
   "metadata": {},
   "outputs": [
    {
     "name": "stdout",
     "output_type": "stream",
     "text": [
      "[2, 4, 6, 8]\n"
     ]
    }
   ],
   "source": [
    "my_list =[1,2,3,4,5,6,7,8]\n",
    "our_1st=list(filter(lambda x:x%2==0,my_list))\n",
    "print(our_1st)"
   ]
  },
  {
   "cell_type": "code",
   "execution_count": 12,
   "id": "4fb61583-8528-4c01-8d5e-02d38db84a84",
   "metadata": {},
   "outputs": [
    {
     "name": "stdout",
     "output_type": "stream",
     "text": [
      "(1, 3, 5, 6, 8)\n"
     ]
    }
   ],
   "source": [
    "my_list=[1,-2,3,-4,5,6,-7,8]\n",
    "even_lst=tuple(filter(lambda x:x>=0,my_list))\n",
    "print(even_lst)"
   ]
  },
  {
   "cell_type": "code",
   "execution_count": 17,
   "id": "d90fb0e9-ce2c-42ee-8553-cdaf357aa3dd",
   "metadata": {},
   "outputs": [
    {
     "name": "stdout",
     "output_type": "stream",
     "text": [
      "[1, 4, 9, 16, 25, 36]\n"
     ]
    }
   ],
   "source": [
    "my_list=[1,2,3,4,5,6]\n",
    "square = list(map(lambda x:x**2,my_list))\n",
    "print(square) "
   ]
  },
  {
   "cell_type": "code",
   "execution_count": 10,
   "id": "dc862bd8-e2df-498d-aabe-8a7ae6133290",
   "metadata": {},
   "outputs": [
    {
     "name": "stdout",
     "output_type": "stream",
     "text": [
      "(0, 1, 0, 1, 1)\n"
     ]
    }
   ],
   "source": [
    "a=[\"male\",\"female\",\"male\",\"female\",\"female\"]\n",
    "convert=tuple(map(lambda x:0 if x=='male' else 1,a))\n",
    "print(convert)\n",
    " "
   ]
  },
  {
   "cell_type": "code",
   "execution_count": 27,
   "id": "765d1296-533f-4ccb-8e33-027e51554361",
   "metadata": {},
   "outputs": [
    {
     "name": "stdout",
     "output_type": "stream",
     "text": [
      "[('bat', 1), ('cat', 2), ('apple', 3), ('dog', 4)]\n"
     ]
    }
   ],
   "source": [
    "# sort the tuble value on second value\n",
    "or_list=[(\"apple\",3),(\"bat\",1),(\"cat\",2),(\"dog\",4)]\n",
    "or_list.sort(key = lambda x:x[1])\n",
    "print(or_list)"
   ]
  },
  {
   "cell_type": "code",
   "execution_count": 6,
   "id": "6001c0c5-3bd1-4e35-afb2-c22c87d3ebba",
   "metadata": {},
   "outputs": [
    {
     "name": "stdout",
     "output_type": "stream",
     "text": [
      "720\n"
     ]
    }
   ],
   "source": [
    "from functools import reduce\n",
    "old_list=[1,2,3,4,5,6]\n",
    "ans=reduce(lambda x,y:x*y,old_list)\n",
    "print(ans)"
   ]
  },
  {
   "cell_type": "code",
   "execution_count": 31,
   "id": "7785c935-79c5-4278-a79e-3a87a77b81dc",
   "metadata": {},
   "outputs": [
    {
     "name": "stdout",
     "output_type": "stream",
     "text": [
      "1\n",
      "2\n",
      "3\n"
     ]
    }
   ],
   "source": [
    "aa_list = [1,2,3]\n",
    "iterator = iter(aa_list)\n",
    "print (next(iterator))\n",
    "print (next(iterator))\n",
    "print (next(iterator))"
   ]
  },
  {
   "cell_type": "code",
   "execution_count": 5,
   "id": "5f3f2754-8457-4d27-9842-8b87ec9fce14",
   "metadata": {},
   "outputs": [
    {
     "name": "stdout",
     "output_type": "stream",
     "text": [
      "1\n",
      "2\n",
      "3\n",
      "no element is present\n"
     ]
    }
   ],
   "source": [
    "try:\n",
    "    list=[1,2,3]\n",
    "    iterator=iter(list)\n",
    "    print(next(iterator))\n",
    "    print(next(iterator))\n",
    "    print(next(iterator))\n",
    "    print(next(iterator))\n",
    "except StopIteration:\n",
    "    print(\"no element is present\")"
   ]
  },
  {
   "cell_type": "code",
   "execution_count": 34,
   "id": "3a76b246-9688-48ad-a65f-5b9d0259fa52",
   "metadata": {},
   "outputs": [
    {
     "name": "stdout",
     "output_type": "stream",
     "text": [
      "0\n",
      "1\n",
      "4\n",
      "9\n",
      "16\n",
      "25\n",
      "36\n",
      "49\n",
      "64\n",
      "81\n"
     ]
    }
   ],
   "source": [
    "def abc(x):\n",
    "    for i in range(x):\n",
    "        yield i*i\n",
    "result = abc(10)\n",
    "for r in result:\n",
    "    print(r)"
   ]
  }
 ],
 "metadata": {
  "kernelspec": {
   "display_name": "Python 3 (ipykernel)",
   "language": "python",
   "name": "python3"
  },
  "language_info": {
   "codemirror_mode": {
    "name": "ipython",
    "version": 3
   },
   "file_extension": ".py",
   "mimetype": "text/x-python",
   "name": "python",
   "nbconvert_exporter": "python",
   "pygments_lexer": "ipython3",
   "version": "3.13.0"
  }
 },
 "nbformat": 4,
 "nbformat_minor": 5
}
