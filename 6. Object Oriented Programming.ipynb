{
 "cells": [
  {
   "cell_type": "markdown",
   "id": "62cf3359-0668-491a-a5a2-1a03ea5f968a",
   "metadata": {},
   "source": [
    "  @ Programming :\n",
    "        \n",
    "        - Processo writing a program\n",
    "        - Process of writing the instructions for computer execution \n",
    "\n",
    "        @ Programmimg will contains:\n",
    "\n",
    "           1. Write a code: programming language\n",
    "\n",
    "           2. Compiler\n",
    "\n",
    "  @  Programming Paradigm :\n",
    "\n",
    "       - It will provide kind of framework or design to write a program\n",
    "       - Programming paradigm will help you to write a code in easier way,it is for writing complex software\n",
    "       - If we use proper programming paradigm it will be easy to extend the code at any level\n",
    "\n",
    "  1. Imperative programming :\n",
    "\n",
    "                    - Approach : - Writing the step by step instruction\n",
    "                                 - We are telling to the computer what to do as well as how to do\n",
    "                                 - Trandition programming approach\n",
    "                                 - Ex : c,python\n",
    "\n",
    "  2. Procedural programming :\n",
    "\n",
    "                - It is also the imperative approach\n",
    "                - We are dividing the program into small small modules the modules are nothing but function\n",
    "                - We are achiving the modularity through function\n",
    "                - Whenever any programming language supports modularity we called it as procedural programming\n",
    "                - We executing the program by calling the function in particular sequence\n",
    "                - Ex : c,c++,python etc\n",
    "\n",
    "  3. Declarative  Programming :\n",
    "  \n",
    "                - Approach is what to do rather that how to do\n",
    "                - Ex: select name from student where per>75\n",
    "                - Ex: SQL,HTML etc\n",
    "\n",
    "  4. Concurrent  Programming :\n",
    "  \n",
    "                - It follows the concept of multithreading\n",
    "                - Thread: -lightweight process\n",
    "                - Program contains process\n",
    "                - We are executing multiple process at the same time \n",
    "                - When we have  large size of data we mostly go for the multithreading\n",
    "                - Advantange : - Overall time will be reduce\n",
    "                               - Less chance of resource to become idle\n",
    "                - Ex :- Java,hmtl\n",
    "\n",
    "  5 Object Oriented Appoach : \n",
    "  \n",
    "                - We are everythinng is considered as a object \n",
    "                - Ex : - Any real world entity we considered it as object\n",
    "                - Ex : - Make your life better:\n",
    "                  1. Leaning the skills\n",
    "                  2. Health\n",
    "                  3. Getting a job\n",
    "                  \n",
    "  @ Class In Python :  \n",
    " \n",
    "               - Everything in a python is considered as object\n",
    "               - In a python every data type is considered as the class data type\n",
    "               - Primitive data type : - int , float, str ,bool\n",
    "               - Collection(built in DT):list, tuple, set, dictionary\n",
    "               - In a python we havethree kinds of \n",
    "                           - Construction : There is only one contructor in a python __init__\n",
    "               1. Parameterized Contructor :\n",
    "                                         - Whenever contructor is taking arguments then we called it as\n",
    "                                           parameterized contructor\n",
    "               2. Default Contructor :\n",
    "                                         - Whenever the contrucor ia not taking any argument except self the we called\n",
    "                                           it as  default contructor\n",
    "               3. Building Contructor :\n",
    "                                         - The building contructor code is kept inside our compiler code\n",
    "                                         - If there is some statement s inside the class and we are not defining the constructor \n",
    "                                           then it that case the object will be created automatically and building contructor is \n",
    "                                           getting called implicity to execute the statement present in the class\n",
    "                - There is nothing like a private in a python\n",
    "                - Python is a language for adult\n",
    "                \n",
    "  @ Access Specifiers In Python :\n",
    "  1. Public\n",
    "  2. Private\n",
    "  3. Protected----In python we don't have it\n",
    "\n",
    " 1. Public:\n",
    " - by default whatever we are witting inside the class is public\n",
    " - we can access that attributes inside the class as well as outside the class\n",
    " - problem is that any one change the data\n",
    "\n",
    " 2. Private :\n",
    " - we cant access private attribute outside the class\n",
    " - we can access it inside\n",
    " - to make any attributes as a private we have to __as prefix of that attributes\n",
    " - data hiding is getting achieved through the private attributes\n",
    " - syntax :\n",
    "           obj_name._class_name__attributes_name\n",
    " - there is nothing like a private in a python \n",
    " - python is a language for adult\n",
    "\n",
    " @ login system\n",
    " 1. username\n",
    " 2. password\n",
    " @ method : access granted \n",
    "\n",
    "\n",
    "@  object oriented programmimg :\n",
    "\n",
    "               - specificity : when we are developing the complex software oop provides better features so that we can\n",
    "                                extend the complexity upto any level:specificity\n",
    "                - ex: - bulb : object\n",
    "                     1. state : ON/FF\n",
    "                     2. behaviour :\n",
    "                     3. identity :\n",
    "                - defination : we are considering every sophisticated entity as object which is having the attributes\n",
    "                - Instuition : we are dividing the sophisticated programs into bunch of modules and they are communicating each other. \n",
    "                - when we say any programming language as a oop?\n",
    "                - feature :   1. class\n",
    "                              2. object\n",
    "                              3. abstraction\n",
    "                              4. encapsulation\n",
    "                              5. inheritance\n",
    "                              6. polymorphisum \n",
    "                            \n",
    "               1. class :  two type of classes in python :\n",
    "                          1. builtin class(predifined Data Type in python) :\n",
    "                          2. user difines class - we can create the user defined data type with the help of object oriented programming.\n",
    "                                                -  template or blueprint or plan , rule\n",
    "                                                - 1. properties/attributes/data\n",
    "                                                - 2. method/behaviour/function\n",
    "                                                     example - 1. class Data science\n",
    "                                                        properties:\n",
    "                                                            1.cirriculum\n",
    "                                                            2.mentor\n",
    "                                                            3. duration\n",
    "                                                         methods:\n",
    "                                                            1.class_online ()\n",
    "                                                            2. class_offline ()\n",
    "\n",
    "                                                           2. class student :\n",
    "                                                         properties:\n",
    "                                                            1. roll no\n",
    "                                                            2. name\n",
    "                                                            3. marks\n",
    "                                                         methods:\n",
    "                                                            1. percentage()\n",
    "                                                            2. which_class()\n",
    "                                               - class is nothing but the user defined datatype\n",
    "                                               - syntax - class class_name :\n",
    "                                                        1. properties/attributes/data\n",
    "                                                        2. method/behaviour/function\n",
    "                                                - class:keyword  the method \n",
    "                                                         class_name:identifier\n",
    "                                                         pascal notation:\n",
    "                                                         class student\n",
    "                                                         class HelloWorld\n",
    "\n",
    "                                                - inside the class we declaring 3 kinds of variable\n",
    "                                                         1. instance variable : object level variable \n",
    "                                                         2. class/static variable : class level variable\n",
    "                                                                         - we can access self and class\n",
    "                                                         3. local variable : method level variable\n",
    "                                                                        - we are using the method\n",
    "                                                                        - we cannot access local variable outside\n",
    "                                                                        - scope : method\n",
    "                                                - we have 3 kinds of methods inside the class\n",
    "                                                          1. instance method\n",
    "                                                         2. class method\n",
    "                                                         3. static method     \n",
    "\n",
    "  @ Class is a user defined data type\n",
    "\n",
    "            2.object : - object is a instance of a class\n",
    "                       - object is a variable whose data type is class\n",
    "                       - object is a physical existence of the class\n",
    "                       - without creating object we cannot execute the class\n",
    "                       - it is mandatory to create the object\n",
    "                       - object always has the attributes and methods\n",
    "                       - attributes are nothing but the variables\n",
    "                       - behaviours are nothing but the mothods\n",
    "                       - syntax - obj_name = class_name()\n",
    "                                      \n",
    "\n",
    "  @ Q how object can access the functionality of the class?\n",
    "  \n",
    "             EX : TV------class\n",
    "                  MI------object\n",
    "                  remote------ reference variable\n",
    "                  MI = TV()\n",
    "                  MI : reference variable\n",
    "\n",
    " \n",
    "  @  reference variable : \n",
    "                       \n",
    "                         - it is always referencing/pointing to the object \n",
    "                         - object is always created in the heap segment\n",
    "                         - refernce variable will contain the address of a object\n",
    "                         - for one class we can create any numbers of object\n",
    "                         - we are not dealing directly with the heap segment\n",
    "                         - we are dealing with the object throught reference variable\n",
    "                         - reference variable is available in the stack segment\n",
    "                         -  we have minimum two reference variable inside the class  \n",
    "                         - wehenever we are writing a class one default method is there we called it as constructor\n",
    "                         - whenever we want to defined the variable inside the class we have to define it inside the constructor                  \n",
    "                         - def__init__ constructor and it will take 1 default argument which is self variable\n",
    "                         - it is a special method in python\n",
    "                         - whenever we are defining the function inside the class we called it as method \n",
    "                         - if it is outside then it is function\n",
    "                         - when we are creating the object then the memory is allocate\n",
    "                         - constructor is getting invoked automatically when the object is created\n",
    "                         - when obj is created PVM will allocated the memory\n",
    "                         - PVM will executed constructor method and ddclare the initialized the variable (object level variable) \n",
    "                           instance variable\n",
    "                         - we have three type of constructor :\n",
    "                                       1. default constructor --- he have dont arument\n",
    "                                       2. parameterized constructor --- he have argument()\n",
    "                                       3. building constructor\n",
    "                        \n",
    " @ self :\n",
    "  \n",
    "         - default contructor \n",
    "         - Self is a reference variable which is pointing to the current object. \n",
    "         - Self is refering to the object inside the class.\n",
    "         - Other reference which are created with object it also referring to the object but it used to acess the data.\n",
    "         - We can't access the reference variable created for object inside the class.\n",
    "         - To access the data inside the class we have self variable.\n",
    "         \n",
    "  @ Q one object how many reference variable -----> 2 variable\n",
    "                 \n",
    "\n",
    "                3. Abstraction : - Hiding the internal details and showing the things which are necessary\n",
    "                                 - hiding : complex design / code\n",
    "                                 - showing : simple things\n",
    "                                 - we will achieve the abstraction in python by using the abstract classes\n",
    "                                 - abstrct class will contain the abstrct method\n",
    "                                 - we dont need to create the object for the abstrct class,child class will creat the object\n",
    "                                 - in a python we have abc module to tmplement abstrction\n",
    "                                 - to represent to abstrct method we will use the decorator: @ abstrctmethod\n",
    "                                 - abstract class will contain one or more abstact method\n",
    "                                 - syntax:- from abc import ABC \n",
    "                                         class A(ABC)\n",
    "                                            def fun(self):\n",
    "                                                body\n",
    "                                            def fun2(self):\n",
    "                                                pass\n",
    "                                  - we dont need to write the code in abstract method child class will write it\n",
    "                4. encapsulation : - the wrapping up of a data and its associated fiunctions together into a single unit\n",
    "                                   - class is the best example of encapsulation\n",
    "                                   - In OOPs encapsulation features we are achieving throught the class\n",
    "                                   - make the attributes always private\n",
    "                                   - data hiding is getting achieved.\n",
    "\n",
    "\n",
    "\n",
    "  @ c++ : \n",
    "         \n",
    "         - statically type language\n",
    "         - c++ is not pure object oriented \n",
    "         - it is not following the rule of encapsulation\n",
    "        \n",
    "\n",
    "\n",
    " @ POA : - Top Down Approach (Procedural oriented approach)\n",
    "  \n",
    "  @ OOP : - Bottom Up Approach\n",
    "\n",
    "                5. inhertance : - the properties of one class is acquired by anather class\n",
    "                                - class   A (parent/ base class)\n",
    "                                   class  B (child/derived class)\n",
    "                                - it supports the reusability\n",
    "                                - the inheritance is mechanisum where one class acquired the properties of another class\n",
    "                                - syntax : class A :\n",
    "                                           attributrs\n",
    "                                            method\n",
    "                                           class B()\n",
    "                                       B is a class which is inherited from class A\n",
    "                                - ex : - website : hackerearth\n",
    "                                         1. student\n",
    "                                         2. companies \n",
    "                                ----->   class student:\n",
    "                                           student details \n",
    "                                         class companies\n",
    "                                           test\n",
    "                                         class operation:\n",
    "                                          (base class / parent class)\n",
    "                                - extensibility : we are adding somr properties into the existing properties\n",
    "                                - it will increase the readadibllity\n",
    "                                - we can inherit the constructor , non private attributes and non private method\n",
    "                                - child cn access the attribute and method ,\n",
    "                                - when we creating child class object to access the members  of the parent class and\n",
    "                                  if there is a constructor present in the child class it will always execute the code \n",
    "                                  inside the child class this concept we are called it as contructor overriding\n",
    "                                - when we are creating the objec of chid class and try to access the method of parent class\n",
    "                                  of same method is availabble in the child class then child class method will gert executed \n",
    "                                  this concept we called it as method overriding\n",
    "                                -   we cannot be access the private attributes of the parent class inside the child class\n",
    "                                - super() : it is used to access the methods of the \n",
    "                                - inheritance will provide the reusability\n",
    "                                - 5 types of inheritance\n",
    "                                  1. single inheritance :-\n",
    "                                   - their is one base class and one derived class\n",
    "                                    syntax -- class A: base \n",
    "                                                 attribute/data\n",
    "                                                 method/baheviour\n",
    "                                               class B (A)derive(base)\n",
    "                                                 attribute/data\n",
    "                                                 method/baheviour\n",
    "                                  2. multilevel inheritance :-\n",
    "                                     syntax--class base_A:\n",
    "                                                 attribute/data\n",
    "                                                 method/baheviour\n",
    "                                             class B (Base_A)\n",
    "                                                  attribute/data\n",
    "                                                  method/baheviour\n",
    "                                             class c(B)\n",
    "                                                  attribute/data\n",
    "                                                  method/baheviour \n",
    "\n",
    "                                  3. multiple inheritance :-\n",
    "                                   - more than one class and only one derived class\n",
    "                                     syntax -- class A:\n",
    "                                                 attribute/data\n",
    "                                                 method/baheviour\n",
    "                                              class B\n",
    "                                                 attribute/data\n",
    "                                                 method/baheviour\n",
    "                                                class (A/B)\n",
    "                                                 attribute/data\n",
    "                                                 method/baheviour\n",
    "\n",
    "                                  4. hierarchical inheritance :-\n",
    "                                  - from one base class their are many derived class\n",
    "                                    Syntax  -- class base A:\n",
    "                                                attributes/data\n",
    "                                                methods/behaviour \n",
    "                                            class B(base_A):\n",
    "                                                attributes/data\n",
    "                                                methods/behaviour\n",
    "                                            class C(A)\n",
    "                                                attributes/data\n",
    "                                                methods/behaviour\n",
    "\n",
    "\n",
    "\n",
    "                                   5. Hybrid Inheritance :-\n",
    "                                      Syntax -- class base A:\n",
    "                                                     attributes/data\n",
    "                                                     methods/behaviour\n",
    "                                                class B(base A):\n",
    "                                                     attributes/data\n",
    "                                                     methods/behaviour\n",
    "                                                class C(A)\n",
    "                                                     attributes/data\n",
    "                                                     methods/behaviour\n",
    "                                                class D(A)\n",
    "                                                      attributes/data\n",
    "                                                      methods/behaviour\n",
    "                                                class E(A)\n",
    "                                                      attributes/data\n",
    "                                                      methods/behaviour\n",
    "                                                class F(A)\n",
    "                                                      attributes/data\n",
    "                                                      methods/behaviour\n",
    " \n",
    "\n",
    " \n",
    "\n",
    "                                  \n",
    "              6. polymorphisum : - poly means many and morhism means form\n",
    "                                 - ability to take more that one form\n",
    "                                 -  polymorphisum means same operation but different implemention\n",
    "                                 - ex.the mechanism of giving the special meaning to the operator other than the existing meaning\n",
    "\n",
    "\n",
    "\n",
    "  @ Lifetime of instance variable is object lifetime\n",
    "\n",
    "  @ destructor :\n",
    "  \n",
    "            - destructor will be delete object created by the contructor\n",
    "            - whatever the data created by the contructor is automatically dump onto the garbage collection\n",
    "            - when destuctor is getting call means it is cleaning the momemory space \n",
    "            - syntax : -  del obj_name/reference variable\n",
    "            \n",
    "  Q difference between procedural programming and object orientee programmimg?\n",
    "  \n",
    "  @ Predefined Function with Moduls :\n",
    "  \n",
    "  @ decorator :\n",
    "  \n",
    "  @ generator :\n",
    "  \n",
    "  @ Moduls : function\n",
    "  \n",
    "  @ Programming Language :\n",
    "\n",
    "      language--------: \n",
    "\n",
    "  ASIDic properties\n",
    "\n",
    "  pvm :\n",
    "\n",
    "  @ NVT : noun and verb technique\n",
    " \n",
    "  @ Data Gathering\n",
    "\n",
    "  @ modulus and pacages\n",
    "\n",
    "  web scrapping -- regular ex\n",
    "\n",
    "@ What is data scientist knows \n",
    " 1. libraries----oop\n",
    " 2. we will get to know internal details of the libraray\n",
    " 3. easy to read the documentation\n",
    " 4. bugs will be find out easily if we know oop"
   ]
  },
  {
   "cell_type": "code",
   "execution_count": 48,
   "id": "01f9101d-093e-4e8c-8b6e-21c540cf1df9",
   "metadata": {},
   "outputs": [],
   "source": [
    "l = [1,2,3,4]\n",
    "len(l) # function\n",
    "l.append(5) # method"
   ]
  },
  {
   "cell_type": "code",
   "execution_count": 4,
   "id": "7c028f1a-525c-446c-98eb-5c83e420a6e7",
   "metadata": {},
   "outputs": [
    {
     "data": {
      "text/plain": [
       "list"
      ]
     },
     "execution_count": 4,
     "metadata": {},
     "output_type": "execute_result"
    }
   ],
   "source": [
    "l=[1,2,3,4,5]\n",
    "type(l)"
   ]
  },
  {
   "cell_type": "code",
   "execution_count": 3,
   "id": "283e6ce3-55ef-4c6e-88de-fca1afb09d2a",
   "metadata": {},
   "outputs": [
    {
     "data": {
      "text/plain": [
       "{'komal': 1, 'pqr': 2, 'abc': 3}"
      ]
     },
     "execution_count": 3,
     "metadata": {},
     "output_type": "execute_result"
    }
   ],
   "source": [
    "my_dict=dict(komal=1,pqr=2,abc=3)\n",
    "my_dict"
   ]
  },
  {
   "cell_type": "code",
   "execution_count": 3,
   "id": "0014c3fa-2e1d-4d51-b85e-4775e61bc0b9",
   "metadata": {},
   "outputs": [
    {
     "name": "stdout",
     "output_type": "stream",
     "text": [
      "[1, 2, 3, 4, 5]\n",
      "[1, 2, 3, 4, 5]\n"
     ]
    }
   ],
   "source": [
    "# Refernce\n",
    "a = [1,2,3,4]\n",
    "b=a\n",
    "b.append(5)\n",
    "print(a)\n",
    "print(b)"
   ]
  },
  {
   "cell_type": "code",
   "execution_count": 4,
   "id": "03e341d6-39a8-4fbd-8780-490e77fa8615",
   "metadata": {},
   "outputs": [
    {
     "name": "stdout",
     "output_type": "stream",
     "text": [
      "1795075041792\n",
      "1795075041792\n"
     ]
    }
   ],
   "source": [
    "print(id(a))\n",
    "print(id(b))"
   ]
  },
  {
   "cell_type": "code",
   "execution_count": 9,
   "id": "0046a496-4a99-47e8-b2c1-284f7235d7c1",
   "metadata": {},
   "outputs": [],
   "source": [
    "class sample:\n",
    "    def __init__(self):\n",
    "       self.name=\"komal\"\n",
    "       self.mark=60"
   ]
  },
  {
   "cell_type": "code",
   "execution_count": 11,
   "id": "e4a6266c-e94e-41b9-a57e-e194cc34542d",
   "metadata": {},
   "outputs": [
    {
     "data": {
      "text/plain": [
       "'komal'"
      ]
     },
     "execution_count": 11,
     "metadata": {},
     "output_type": "execute_result"
    }
   ],
   "source": [
    "obj.name"
   ]
  },
  {
   "cell_type": "code",
   "execution_count": 13,
   "id": "1745e01c-01f4-4fc5-a8ba-41acdd2ea9bc",
   "metadata": {},
   "outputs": [
    {
     "data": {
      "text/plain": [
       "60"
      ]
     },
     "execution_count": 13,
     "metadata": {},
     "output_type": "execute_result"
    }
   ],
   "source": [
    "obj.mark"
   ]
  },
  {
   "cell_type": "code",
   "execution_count": 10,
   "id": "9348e69d-2d76-4b17-80c6-f4d51860861c",
   "metadata": {},
   "outputs": [
    {
     "name": "stdout",
     "output_type": "stream",
     "text": [
      "2930492203968\n"
     ]
    }
   ],
   "source": [
    "obj=sample()\n",
    "print(id(obj))\n"
   ]
  },
  {
   "cell_type": "code",
   "execution_count": 8,
   "id": "47660957-31f6-4609-98e0-4183c6650973",
   "metadata": {},
   "outputs": [],
   "source": [
    "class sample:\n",
    "    def __init__(self):\n",
    "       self.name=\"komal\"\n",
    "       self.mark=60\n",
    "    def display(self):\n",
    "        print(self.name)\n",
    "        print(self.mark)"
   ]
  },
  {
   "cell_type": "code",
   "execution_count": 9,
   "id": "34bcd159-3692-4960-bbf6-d4562cec4e41",
   "metadata": {},
   "outputs": [],
   "source": [
    "s1=sample()"
   ]
  },
  {
   "cell_type": "code",
   "execution_count": 10,
   "id": "fc19b0ff-b04d-4793-93b3-76c6e6a8847b",
   "metadata": {},
   "outputs": [
    {
     "name": "stdout",
     "output_type": "stream",
     "text": [
      "komal\n",
      "60\n"
     ]
    }
   ],
   "source": [
    "s1.display()"
   ]
  },
  {
   "cell_type": "code",
   "execution_count": 11,
   "id": "8658ce55-b424-4774-963d-682c67fb6ab7",
   "metadata": {},
   "outputs": [],
   "source": [
    "s2=sample()"
   ]
  },
  {
   "cell_type": "code",
   "execution_count": 12,
   "id": "d9d91965-b2d1-4628-822f-01f8e29ae86a",
   "metadata": {},
   "outputs": [
    {
     "name": "stdout",
     "output_type": "stream",
     "text": [
      "komal\n",
      "60\n"
     ]
    }
   ],
   "source": [
    "s2.display()"
   ]
  },
  {
   "cell_type": "code",
   "execution_count": 13,
   "id": "5c051ed7-7d18-4edd-b3aa-b35738c8ab3a",
   "metadata": {},
   "outputs": [
    {
     "name": "stdout",
     "output_type": "stream",
     "text": [
      "1795075129424\n",
      "1795073142096\n"
     ]
    }
   ],
   "source": [
    "print(id(s1))\n",
    "print(id(s2))"
   ]
  },
  {
   "cell_type": "code",
   "execution_count": 18,
   "id": "835440f0-0d29-45eb-97a4-753fc6851089",
   "metadata": {},
   "outputs": [],
   "source": [
    "class sample:\n",
    "    def __init__(self,name,marks):\n",
    "       self.name=name\n",
    "       self.mark=marks\n",
    "    def display(self):\n",
    "        print(self.name)\n",
    "        print(self.mark)"
   ]
  },
  {
   "cell_type": "code",
   "execution_count": 19,
   "id": "80047082-d7e4-43d8-be95-ab7fd7b54d38",
   "metadata": {},
   "outputs": [
    {
     "name": "stdout",
     "output_type": "stream",
     "text": [
      "komal\n",
      "90\n"
     ]
    }
   ],
   "source": [
    "s1=sample(\"komal\",90)\n",
    "s1.display()"
   ]
  },
  {
   "cell_type": "code",
   "execution_count": 21,
   "id": "b96b7eca-034c-4540-be5f-f61f21f13b51",
   "metadata": {},
   "outputs": [
    {
     "name": "stdin",
     "output_type": "stream",
     "text": [
      "enter any name:  komal\n",
      "Enter marks: 90\n"
     ]
    },
    {
     "name": "stdout",
     "output_type": "stream",
     "text": [
      "komal\n",
      "90\n"
     ]
    }
   ],
   "source": [
    "class sample:\n",
    "    def __init__(self,name,marks):\n",
    "        self.name=input(\"enter any name: \")\n",
    "        self.marks=input(\"Enter marks:\")\n",
    "    def display(self):\n",
    "        print(self.name)\n",
    "        print(self.marks)\n",
    "s3=sample(\"name\",\"marks\")\n",
    "s3.display()"
   ]
  },
  {
   "cell_type": "code",
   "execution_count": 16,
   "id": "ab964e61-079b-4c55-8234-644a736fadc4",
   "metadata": {},
   "outputs": [
    {
     "name": "stdout",
     "output_type": "stream",
     "text": [
      "1795075129424\n",
      "1795075129424\n"
     ]
    }
   ],
   "source": [
    "class sample:\n",
    "    def __init__(self):\n",
    "       self.name=\"komal\"\n",
    "       self.mark=90\n",
    "       print(id(self))\n",
    "    def display(self):\n",
    "        print(self.name)\n",
    "        print(self.mark)\n",
    "s1=sample()  \n",
    "print (id(s1))"
   ]
  },
  {
   "cell_type": "code",
   "execution_count": null,
   "id": "6a1ad59a-fe5d-490f-9e36-b38a9db571cb",
   "metadata": {},
   "outputs": [
    {
     "name": "stdin",
     "output_type": "stream",
     "text": [
      "please enter the number:\n",
      "        1.enter 1 for creating pin\n",
      "        2. enter 2for changing pin\n",
      "        3, enter 3 for checking the balance\n",
      "        4. enter 4 for withdraw\n",
      "        5. enter 5 for deposite\n",
      "        6.anything else to exit\n",
      "         1\n",
      "Enter the pin: 2002\n",
      "re-enter the pin: 2002\n"
     ]
    },
    {
     "name": "stdout",
     "output_type": "stream",
     "text": [
      "pin created successfully\n"
     ]
    },
    {
     "name": "stdin",
     "output_type": "stream",
     "text": [
      "please enter the number:\n",
      "        1.enter 1 for creating pin\n",
      "        2. enter 2for changing pin\n",
      "        3, enter 3 for checking the balance\n",
      "        4. enter 4 for withdraw\n",
      "        5. enter 5 for deposite\n",
      "        6.anything else to exit\n",
      "         2\n",
      "Enter the pin: 2002\n",
      "Enter old pin:  2002\n",
      "Enter new pin 2003\n"
     ]
    },
    {
     "name": "stdout",
     "output_type": "stream",
     "text": [
      "pin created\n"
     ]
    }
   ],
   "source": [
    "## class AtmMachine:\n",
    "    def __init__(self):\n",
    "        self.pin=''\n",
    "        self.balance=0\n",
    "    def menu(self):\n",
    "        user_input=input(\"\"\"please enter the number:\n",
    "        1.enter 1 for creating pin\n",
    "        2. enter 2for changing pin\n",
    "        3, enter 3 for checking the balance\n",
    "        4. enter 4 for withdraw\n",
    "        5. enter 5 for deposite\n",
    "        6.anything else to exit\n",
    "        \"\"\")\n",
    "        if user_input=='1':\n",
    "            #we have to create pin\n",
    "            self.create_pin()\n",
    "        elif user_input=='2':\n",
    "            self.change_pin()\n",
    "        elif user_input=='3':\n",
    "            self.check_balance()\n",
    "        elif user_input=='4':\n",
    "            self.withdraw()\n",
    "        elif user_input=='5':\n",
    "            self.deposite()\n",
    "        else:\n",
    "            self.exit()\n",
    "    def create_pin(self):\n",
    "        user_pin=int(input(\"Enter the pin:\"))\n",
    "        re_pin=int(input(\"re-enter the pin:\"))\n",
    "        if user_pin==re_pin:\n",
    "            print(\"pin created successfully\")\n",
    "        else:\n",
    "            print(\"Galat enter kiya hai\")\n",
    "        self.menu()\n",
    "        \n",
    "    def change_pin(self):\n",
    "        user_pin=int(input(\"Enter the pin:\"))\n",
    "        old_pin=int(input(\"Enter old pin: \"))\n",
    "        if user_pin==old_pin:\n",
    "            new_pin=int(input(\"Enter new pin\"))\n",
    "            print(\"pin created\")\n",
    "        else:\n",
    "            print(\"bhool gaya tu!!\")\n",
    "        self.menu()\n",
    "        \n",
    "s1=AtmMachine()\n",
    "s1.menu()\n",
    "\n"
   ]
  },
  {
   "cell_type": "code",
   "execution_count": null,
   "id": "b1f5eb37-76b7-4737-9d90-bf3ee6c745c5",
   "metadata": {},
   "outputs": [],
   "source": [
    "class Stack:\n",
    "    def __init_(self):\n",
    "        self.stack=[]\n",
    "    def push(self,ele1,ele2):\n",
    "        self.stack.append(ele1)\n",
    "        self.stack.append(ele2)\n",
    "        print(self.stack)\n",
    "    def pop(self):\n",
    "        if len(self.stack)==0:\n",
    "            print(\"stack is empty.\")\n",
    "        else:\n",
    "            self.stack.pop()\n",
    "            print(self.stack)\n",
    "    def size(self):\n",
    "        print(len(self.stack))\n",
    "    def peek(self):\n",
    "        if len(self.stack)==0:\n",
    "            print(\"it is empty\")\n",
    "        else:\n",
    "            print(self.stack[-1])\n",
    "s1=Stack()\n",
    "s1.push(15,12)\n",
    "s1.pop()\n",
    "s1.size()\n",
    "s1.peek()"
   ]
  },
  {
   "cell_type": "code",
   "execution_count": null,
   "id": "76c69cf7-26a5-4cfc-88b9-b2344dd61e99",
   "metadata": {},
   "outputs": [],
   "source": [
    "class Stack:\n",
    "    def __init__(self):\n",
    "       self.list = [] \n",
    "    def push(self,x):\n",
    "       self.list.append(x)\n",
    "    def pop(self):\n",
    "        if isempty()==0\n",
    "           self.list.pop(x)\n",
    "      else:\n",
    "          print(\"we cannot pop\")\n",
    "s1.stack()\n",
    "s1.push()\n",
    "s1.pop()"
   ]
  },
  {
   "cell_type": "code",
   "execution_count": null,
   "id": "c49f3363-3446-42fe-a4e8-f02e1da586c0",
   "metadata": {},
   "outputs": [],
   "source": [
    " class stack:\n",
    "     def __init__(self):\n",
    "         self.list =[]\n",
    "     def push (self,x)\n",
    "        self."
   ]
  },
  {
   "cell_type": "code",
   "execution_count": 1,
   "id": "674bb8a3-a932-4c5a-b8e7-fedebe31382a",
   "metadata": {},
   "outputs": [
    {
     "name": "stdout",
     "output_type": "stream",
     "text": [
      "13\n"
     ]
    }
   ],
   "source": [
    "# Python code for Josephus Problem\n",
    "def Josh(person, k, index):\n",
    "  \n",
    "  if len(person) == 1:\n",
    "    print(person[0])\n",
    "    return\n",
    "  \n",
    "  index = ((index+k)%len(person))\n",
    "\n",
    "  person.pop(index)\n",
    "\n",
    "  Josh(person,k,index)\n",
    "\n",
    "n = 14 \n",
    "k = 2\n",
    "k-=1   \n",
    "\n",
    "index = 0 \n",
    "person=[]\n",
    "for i in range(1,n+1):\n",
    "  person.append(i)\n",
    "\n",
    "Josh(person,k,index)\n"
   ]
  },
  {
   "cell_type": "code",
   "execution_count": 4,
   "id": "ff4257b6-b53c-4ba0-aaa4-5b11e85f5914",
   "metadata": {},
   "outputs": [],
   "source": [
    "# binary search tree programm\n",
    "def binary_searcht(sorted, target):\n",
    "    keys = list(sorted.keys())  \n",
    "    left, right = 0, len(keys) - 1\n",
    "    while left <= right:\n",
    "        mid = (left + right) // 2\n",
    "        mid_key = keys[mid]\n",
    "        if mid_key == target_key:\n",
    "            return sorted[mid_key]  \n",
    "        elif mid_key < target_key:\n",
    "            left = mid + 1\n",
    "        else:\n",
    "            right = mid - 1\n",
    "\n",
    "    return None  "
   ]
  },
  {
   "cell_type": "code",
   "execution_count": 2,
   "id": "9f75776a-f444-4743-afa6-4dfb9725c462",
   "metadata": {},
   "outputs": [
    {
     "name": "stdout",
     "output_type": "stream",
     "text": [
      "hello\n"
     ]
    }
   ],
   "source": [
    "class sample:\n",
    "    print(\"hello\")"
   ]
  },
  {
   "cell_type": "code",
   "execution_count": 3,
   "id": "8c6c07f5-45f1-44fe-9c11-728dabab4a3d",
   "metadata": {},
   "outputs": [
    {
     "name": "stdout",
     "output_type": "stream",
     "text": [
      "10\n"
     ]
    }
   ],
   "source": [
    "class sample:\n",
    "    a=10\n",
    "    print(a)"
   ]
  },
  {
   "cell_type": "code",
   "execution_count": 5,
   "id": "7ce6dafa-1157-4dee-92ef-8cf817a26e1d",
   "metadata": {},
   "outputs": [],
   "source": [
    "# \n",
    "class sample:\n",
    "    def __init__(self,name,country):\n",
    "        self.name=name\n",
    "        self.contry=country\n",
    "obj=sample(\"komal\",\"india\")"
   ]
  },
  {
   "cell_type": "code",
   "execution_count": 8,
   "id": "60a03ea8-c57a-4474-ac97-04be375220ff",
   "metadata": {},
   "outputs": [],
   "source": [
    "obj.age=23"
   ]
  },
  {
   "cell_type": "code",
   "execution_count": 9,
   "id": "d00e1b61-5902-43c2-8a80-2c269e9575ea",
   "metadata": {},
   "outputs": [
    {
     "data": {
      "text/plain": [
       "23"
      ]
     },
     "execution_count": 9,
     "metadata": {},
     "output_type": "execute_result"
    }
   ],
   "source": [
    "obj.age"
   ]
  },
  {
   "cell_type": "code",
   "execution_count": 6,
   "id": "d66d9766-d112-4bef-b8c9-f05c01836462",
   "metadata": {},
   "outputs": [
    {
     "data": {
      "text/plain": [
       "'komal'"
      ]
     },
     "execution_count": 6,
     "metadata": {},
     "output_type": "execute_result"
    }
   ],
   "source": [
    "obj.name"
   ]
  },
  {
   "cell_type": "code",
   "execution_count": 21,
   "id": "722c8b0a-3c75-48aa-b314-98f297b0acb9",
   "metadata": {},
   "outputs": [
    {
     "name": "stdout",
     "output_type": "stream",
     "text": [
      "komal\n",
      "india\n"
     ]
    }
   ],
   "source": [
    "# Call by reference\n",
    "class sample:\n",
    "    def __init__(self,name,country):\n",
    "        self.name=name\n",
    "        self.country=country\n",
    "def fun(person):\n",
    "    print (person.name)\n",
    "    print (person.country)\n",
    "obj=sample(\"komal\",\"india\")\n",
    "fun(obj)"
   ]
  },
  {
   "cell_type": "code",
   "execution_count": 13,
   "id": "94baddd8-bd8d-48d8-85de-7e09ae53b88f",
   "metadata": {},
   "outputs": [
    {
     "name": "stdout",
     "output_type": "stream",
     "text": [
      "1438712145168\n",
      "1438711844288\n"
     ]
    }
   ],
   "source": [
    "print(id(obj))\n",
    "print(id(person))"
   ]
  },
  {
   "cell_type": "code",
   "execution_count": 20,
   "id": "55e4b331-9a0e-44f9-a464-6578435eaa65",
   "metadata": {},
   "outputs": [
    {
     "name": "stdout",
     "output_type": "stream",
     "text": [
      "komal\n",
      "india\n",
      "komal\n",
      "india\n"
     ]
    }
   ],
   "source": [
    "class sample:\n",
    "    def __init__(self,name,country):\n",
    "        self.name=name\n",
    "        self.country=country\n",
    "def fun(person):\n",
    "    print (person.name)\n",
    "    print (person.country)\n",
    "    return person\n",
    "obj=sample(\"komal\",\"india\")\n",
    "p1=fun(obj)\n",
    "print(p1.name)\n",
    "print(p1.country)"
   ]
  },
  {
   "cell_type": "code",
   "execution_count": 32,
   "id": "0ba56673-2d07-4031-9593-70cb8c3faff7",
   "metadata": {},
   "outputs": [
    {
     "name": "stdout",
     "output_type": "stream",
     "text": [
      "komal\n",
      "india\n",
      "kiran\n",
      "india\n"
     ]
    }
   ],
   "source": [
    "class sample:\n",
    "    def __init__(self,name,country):\n",
    "        self.name=name\n",
    "        self.country=country\n",
    "def fun(person):\n",
    "    print (person.name)\n",
    "    print (person.country)\n",
    "    person.name=\"kiran\"\n",
    "    return person\n",
    "obj=sample(\"komal\",\"india\")\n",
    "p1=fun(obj)\n",
    "print(p1.name)\n",
    "print(p1.country)"
   ]
  },
  {
   "cell_type": "code",
   "execution_count": 31,
   "id": "cf0b0b2b-06d5-4a2d-b32c-3343d92ca0b9",
   "metadata": {},
   "outputs": [
    {
     "name": "stdout",
     "output_type": "stream",
     "text": [
      "komal\n",
      "india\n"
     ]
    }
   ],
   "source": [
    "class sample:\n",
    "    def __init__(self,name,country):\n",
    "        # \n",
    "        self.name=name\n",
    "        self.country=country\n",
    "def fun(person):\n",
    "    print (person.name)\n",
    "    print (person.country)\n",
    "    person.name=\"kiran\"\n",
    "    return person\n",
    "p=sample(\"komal\",\"india\")\n",
    "q=p\n",
    "print(q.name)\n",
    "print(p.country)"
   ]
  },
  {
   "cell_type": "code",
   "execution_count": 1,
   "id": "2116a1d8-8840-4166-999f-9653dd5723b2",
   "metadata": {},
   "outputs": [],
   "source": [
    "# count the number of object is created for the class\n",
    "class sample:\n",
    "    def __init__(self,name,country):\n",
    "        self.name=name\n",
    "        self.country=country\n",
    "p1=sample(\"komal\",\"USA\")\n",
    "p2=sample(\"kiran\",\"japan\")\n",
    "del p1   #destructor"
   ]
  },
  {
   "cell_type": "code",
   "execution_count": 3,
   "id": "69ba17b9-5a55-435b-8d81-0aa647a96d5c",
   "metadata": {},
   "outputs": [
    {
     "name": "stdout",
     "output_type": "stream",
     "text": [
      "20000\n",
      "5000\n"
     ]
    }
   ],
   "source": [
    "class employee:\n",
    "    def __init__(self,ID,Salary):\n",
    "        self.ID=ID\n",
    "        self.Salary=Salary\n",
    "    def display(self):\n",
    "        print(self.ID)\n",
    "        print(self.Salary)\n",
    "obj=employee(20000,5000)\n",
    "obj.display()"
   ]
  },
  {
   "cell_type": "code",
   "execution_count": 36,
   "id": "51d79102-b3ba-40a1-89ea-56cf13b5f92a",
   "metadata": {},
   "outputs": [
    {
     "name": "stdout",
     "output_type": "stream",
     "text": [
      "20000\n",
      "5000\n"
     ]
    }
   ],
   "source": [
    "class employee:\n",
    "    def __init__(self,ID,Salary):\n",
    "        self.ID=ID\n",
    "        self.__Salary=Salary\n",
    "    def display(self):\n",
    "        print(self.ID)\n",
    "        print(self.__Salary)\n",
    "obj=employee(20000,5000)\n",
    "obj.display()          "
   ]
  },
  {
   "cell_type": "code",
   "execution_count": 37,
   "id": "ab7cf3f9-3ee0-4840-b054-1bf257073d22",
   "metadata": {},
   "outputs": [
    {
     "data": {
      "text/plain": [
       "20000"
      ]
     },
     "execution_count": 37,
     "metadata": {},
     "output_type": "execute_result"
    }
   ],
   "source": [
    "obj.ID"
   ]
  },
  {
   "cell_type": "code",
   "execution_count": 38,
   "id": "17fbaf77-d9c1-41a4-a863-8a7504b9f9c9",
   "metadata": {},
   "outputs": [],
   "source": [
    "obj.__salary=2000"
   ]
  },
  {
   "cell_type": "code",
   "execution_count": 35,
   "id": "56eaeeb2-d30f-4b43-821d-8bd869f11434",
   "metadata": {},
   "outputs": [
    {
     "data": {
      "text/plain": [
       "5000"
      ]
     },
     "execution_count": 35,
     "metadata": {},
     "output_type": "execute_result"
    }
   ],
   "source": [
    "# Accessing private attribute\n",
    "obj._employee__Salary"
   ]
  },
  {
   "cell_type": "code",
   "execution_count": 39,
   "id": "c772e1f6-6d6a-4fbe-a8a5-8f72427d40d6",
   "metadata": {},
   "outputs": [
    {
     "name": "stdin",
     "output_type": "stream",
     "text": [
      "Enter the username: komal\n",
      "Enter the password 2002\n",
      "Enter the password 2002\n"
     ]
    },
    {
     "name": "stdout",
     "output_type": "stream",
     "text": [
      "Login successful\n"
     ]
    }
   ],
   "source": [
    "# Program of login System\n",
    "# 1,username 2.Password \n",
    "# Method : Accessgranted\n",
    "class login:\n",
    "    def __init__(self,username,password):\n",
    "        self.username=username\n",
    "        self.__password=password\n",
    "username=input(\"Enter the username:\")\n",
    "password=input(\"Enter the password\")\n",
    "obj=login(username,password)\n",
    "new_password=input(\"Enter the password\")\n",
    "if obj._login__password==new_password:\n",
    "    print(\"Login successful\")\n",
    "else:\n",
    "    print(\"login failed\")\n"
   ]
  },
  {
   "cell_type": "code",
   "execution_count": 13,
   "id": "afa568e7-5b7b-4af5-a660-08d50622c30b",
   "metadata": {},
   "outputs": [],
   "source": [
    "class school:\n",
    "    def __init__(self,name,marks):\n",
    "        self.name=name\n",
    "        self.marks=marks\n",
    "    def display(self):\n",
    "        print(\"student detailed saved\")\n",
    "class student(school):\n",
    "    def get_status(self):\n",
    "        print(\"student got admitted\")\n",
    "s=student(\"Komal\",30)\n"
   ]
  },
  {
   "cell_type": "code",
   "execution_count": 14,
   "id": "90240dbe-55ac-4a48-8f52-da6d685ca190",
   "metadata": {},
   "outputs": [
    {
     "data": {
      "text/plain": [
       "'Komal'"
      ]
     },
     "execution_count": 14,
     "metadata": {},
     "output_type": "execute_result"
    }
   ],
   "source": [
    "s.name"
   ]
  },
  {
   "cell_type": "code",
   "execution_count": 15,
   "id": "2ec19d84-a2b2-484d-a393-b250e436a394",
   "metadata": {},
   "outputs": [
    {
     "data": {
      "text/plain": [
       "30"
      ]
     },
     "execution_count": 15,
     "metadata": {},
     "output_type": "execute_result"
    }
   ],
   "source": [
    "s.marks"
   ]
  },
  {
   "cell_type": "code",
   "execution_count": 16,
   "id": "0d569b59-0902-4132-961a-b7998e551638",
   "metadata": {},
   "outputs": [
    {
     "name": "stdout",
     "output_type": "stream",
     "text": [
      "student detailed saved\n"
     ]
    }
   ],
   "source": [
    "s.display()"
   ]
  },
  {
   "cell_type": "code",
   "execution_count": 17,
   "id": "306c066e-db72-4966-ada6-b85b90e3abe6",
   "metadata": {},
   "outputs": [
    {
     "name": "stdout",
     "output_type": "stream",
     "text": [
      "student got admitted\n"
     ]
    }
   ],
   "source": [
    "s.get_status()"
   ]
  },
  {
   "cell_type": "code",
   "execution_count": 12,
   "id": "a288e07d-daad-458d-8e30-7a751f2135b7",
   "metadata": {},
   "outputs": [
    {
     "name": "stdout",
     "output_type": "stream",
     "text": [
      "black\n",
      "XL\n",
      "1500\n",
      "pant purchase\n"
     ]
    }
   ],
   "source": [
    "class shirt:\n",
    "    def __init__(self,colour,size,price):\n",
    "        self.colour=colour\n",
    "        self.size=size\n",
    "        self.price=price\n",
    "    def display(self):\n",
    "         print(self.colour)\n",
    "         print(self.size)\n",
    "         print(self.price)\n",
    "         print(\"shirt purchase\")\n",
    "class pant(shirt):\n",
    "    def __init__(self,colour,size,price):\n",
    "        super().__init__(colour, size, price) \n",
    "        print(self.colour)\n",
    "        print(self.size)\n",
    "        print(self.price)\n",
    "        print(\"pant purchase\")\n",
    "p=pant(\"black\",\"XL\",1500)"
   ]
  },
  {
   "cell_type": "code",
   "execution_count": 13,
   "id": "189cc534-009a-4c06-960c-197059d02716",
   "metadata": {},
   "outputs": [
    {
     "name": "stdout",
     "output_type": "stream",
     "text": [
      "black\n",
      "XL\n",
      "1500\n",
      "shirt purchase\n"
     ]
    }
   ],
   "source": [
    "p.display()"
   ]
  },
  {
   "cell_type": "code",
   "execution_count": 18,
   "id": "970e616f-2ad0-46fb-8092-89fd60ecbf6a",
   "metadata": {},
   "outputs": [],
   "source": [
    "class college:\n",
    "    def __init__(self,name,ID,marks):\n",
    "        self.name=name\n",
    "        self.ID=ID\n",
    "        self.marks=marks\n",
    "    def display(self):\n",
    "        print(self.name)\n",
    "        print(self.ID)\n",
    "        print(self.marks)\n",
    "class student(college):\n",
    "    def display(self):\n",
    "        print(\"student registered\")\n",
    "s=student(\"Keshav\",10,90)"
   ]
  },
  {
   "cell_type": "code",
   "execution_count": 19,
   "id": "7b1ffdbd-1eec-40a4-81fc-fa473ee02c03",
   "metadata": {},
   "outputs": [
    {
     "name": "stdout",
     "output_type": "stream",
     "text": [
      "student registered\n"
     ]
    }
   ],
   "source": [
    "s.display()"
   ]
  },
  {
   "cell_type": "code",
   "execution_count": 20,
   "id": "aafc3cdc-21ac-45fd-90b2-cc9bfef836fe",
   "metadata": {},
   "outputs": [],
   "source": [
    "class shirt:#parent class\n",
    "    def __init__(self,color,size,price):\n",
    "        self.color=color\n",
    "        self.size=size\n",
    "        self.__price=price\n",
    "class pant(shirt):\n",
    "    def display(self):\n",
    "        print(self._shirt__price)\n",
    "p=pant(\"White\",\"XL\",1200)"
   ]
  },
  {
   "cell_type": "code",
   "execution_count": 21,
   "id": "e38d915d-916f-49fa-ac03-1d229daf9578",
   "metadata": {},
   "outputs": [
    {
     "name": "stdout",
     "output_type": "stream",
     "text": [
      "1200\n"
     ]
    }
   ],
   "source": [
    "p.display()"
   ]
  },
  {
   "cell_type": "code",
   "execution_count": 23,
   "id": "e4956c21-230a-457a-9c76-d708a22a5cac",
   "metadata": {},
   "outputs": [],
   "source": [
    "class shirt:\n",
    "    def __init__(self,colour,size,price):\n",
    "        self.colour=colour\n",
    "        self.size=size\n",
    "        self.price=price\n",
    "    def display (self):\n",
    "         print(\"self\",\"colour\")\n",
    "         print(\"self\",\"size\")\n",
    "         print(\"self\",\"price\")\n",
    "class pant(shirt):\n",
    "    def display(self):\n",
    "        super().display()\n",
    "        print(\"child class method\")\n",
    "p=pant(\"black\",\"XL\",200)"
   ]
  },
  {
   "cell_type": "code",
   "execution_count": 18,
   "id": "056ef04e-384c-4b30-bd8f-4e102ee3fa3c",
   "metadata": {},
   "outputs": [
    {
     "name": "stdout",
     "output_type": "stream",
     "text": [
      "self colou\n",
      "self size\n",
      "self price\n"
     ]
    }
   ],
   "source": [
    "p.display()"
   ]
  },
  {
   "cell_type": "code",
   "execution_count": 24,
   "id": "31e82f97-42e4-45a4-a8ad-e7e6307ce4e6",
   "metadata": {},
   "outputs": [
    {
     "name": "stdout",
     "output_type": "stream",
     "text": [
      "Black\n",
      "xl\n",
      "2000\n",
      "child class method\n"
     ]
    }
   ],
   "source": [
    "#superb method\n",
    "class shirt:\n",
    "    def __init__(self,color,size,price):\n",
    "         self.color=color\n",
    "         self.size=size\n",
    "         self.price=price\n",
    "    def display(self):\n",
    "        print(self.color)\n",
    "        print(self.size)\n",
    "        print(self.price)\n",
    "class pant(shirt):\n",
    "    def display(self):\n",
    "        super().display()\n",
    "        print(\"child class method\")\n",
    "p=pant(\"Black\",\"xl\",2000)\n",
    "p.display()"
   ]
  },
  {
   "cell_type": "code",
   "execution_count": 24,
   "id": "193c5012-ca9f-4020-a733-79bc0d199602",
   "metadata": {},
   "outputs": [],
   "source": [
    "class test:\n",
    "    def __init__(self):\n",
    "        self.a=10\n",
    "class test(test):\n",
    "    def __init__(self):\n",
    "        self.b=20\n",
    "    def display(self):\n",
    "        super().__init__()\n",
    "        print(self.a)\n",
    "        print(self.b)\n",
    "t=test()        "
   ]
  },
  {
   "cell_type": "code",
   "execution_count": 25,
   "id": "749c9883-5952-4938-801d-62f93a850e04",
   "metadata": {},
   "outputs": [
    {
     "name": "stdout",
     "output_type": "stream",
     "text": [
      "10\n",
      "20\n"
     ]
    }
   ],
   "source": [
    "t.display()"
   ]
  },
  {
   "cell_type": "raw",
   "id": "3cb64d2a-0c22-4fd1-9da8-73aa04bf184c",
   "metadata": {},
   "source": [
    "you are building an e-commerce application"
   ]
  },
  {
   "cell_type": "code",
   "execution_count": 25,
   "id": "1efc06ba-7943-4af4-9cbb-710e7dbd8be2",
   "metadata": {},
   "outputs": [
    {
     "name": "stdout",
     "output_type": "stream",
     "text": [
      "product details\n",
      "Python Programming\n",
      "29.99\n",
      "An introduction to Python.\n",
      "John Doe\n",
      "TechPress\n"
     ]
    }
   ],
   "source": [
    "class product:\n",
    "    def __init__(self,name,price,description):\n",
    "        self.name=name\n",
    "        self.price=price\n",
    "        self.description=description\n",
    "    def display_details(self):\n",
    "        print(\"product details\")\n",
    "        print(self.name)\n",
    "        print(self.price)\n",
    "        print(self.description)\n",
    "class book(product):\n",
    "    def __init__(self,name,price,description,author,publisher):\n",
    "        super().__init__(name,price,description)\n",
    "        self.author=author\n",
    "        self.publisher=publisher\n",
    "    def display_details(self):\n",
    "        super().display_details()\n",
    "        print(self.author)\n",
    "        print(self.publisher)\n",
    "b=book(\"Python Programming\", 29.99, \"An introduction to Python.\", \"John Doe\", \"TechPress\")\n",
    "b.display_details()"
   ]
  },
  {
   "cell_type": "code",
   "execution_count": 27,
   "id": "21b006a2-b863-4a10-a987-3560ffdfcb46",
   "metadata": {},
   "outputs": [
    {
     "name": "stdout",
     "output_type": "stream",
     "text": [
      "komal\n",
      "23\n",
      "2011031\n",
      "70\n",
      "MCA\n"
     ]
    }
   ],
   "source": [
    "# multilevel inheritance\n",
    "class person:\n",
    "    def __init__(self,name,age):\n",
    "        self.name=name\n",
    "        self.age=age\n",
    "    def person_display(self):\n",
    "        print(self.name)\n",
    "        print(self.age)\n",
    "class student(person):\n",
    "    def __init__(self,name,age,rollno,grades):\n",
    "        super().__init__(name,age)\n",
    "        self.roll_no=rollno\n",
    "        self.grades=grades\n",
    "    def student_display(self):\n",
    "        print(self.roll_no)\n",
    "        print(self.grades)\n",
    "class graduate(student):\n",
    "    def __init__(self,name,age,rollno,grades,degree):\n",
    "        super().__init__(name,age,rollno,grades)\n",
    "        self.degree=degree\n",
    "    def graduate_display(self):\n",
    "        print(self.name)\n",
    "        print(self.age)\n",
    "        print(self.roll_no)\n",
    "        print(self.grades)\n",
    "        print(self.degree)\n",
    "p=graduate(\"komal\",23,2011031,70,\"MCA\")\n",
    "p.graduate_display()"
   ]
  },
  {
   "cell_type": "code",
   "execution_count": 28,
   "id": "b771faf3-87ab-454d-b2d6-821d9a449ade",
   "metadata": {
    "scrolled": true
   },
   "outputs": [
    {
     "name": "stdout",
     "output_type": "stream",
     "text": [
      "Name: Komal\n",
      "Age: 30\n",
      "Person details\n",
      "Name: kiran\n",
      "Age: 20\n",
      "Person details\n",
      "Roll No: 32\n",
      "Grade: A\n",
      "Student details\n",
      "Name: harsha\n",
      "Age: 25\n",
      "Person details\n",
      "Roll No: 45\n",
      "Grade: A+\n",
      "Student details\n",
      "Thesis Title: Deep Learning in NLP\n",
      "Graduate details\n"
     ]
    }
   ],
   "source": [
    "class Person:\n",
    "    def __init__(self, name, age): \n",
    "        self.name = name\n",
    "        self.age = age  \n",
    "    def display_details(self):\n",
    "        print(\"Name:\", self.name)\n",
    "        print(\"Age:\", self.age)\n",
    "        print(\"Person details\")\n",
    "class Student(Person):\n",
    "    def __init__(self, name, age, rollno, grade):\n",
    "        super().__init__(name, age)\n",
    "        self.rollno = rollno\n",
    "        self.grade = grade\n",
    "    \n",
    "    def display_details(self):\n",
    "        super().display_details()\n",
    "        print(\"Roll No:\", self.rollno)\n",
    "        print(\"Grade:\", self.grade)\n",
    "        print(\"Student details\")\n",
    "class Graduate(Student):\n",
    "    def __init__(self, name, age, rollno, grade, thesis_title):\n",
    "        super().__init__(name, age, rollno, grade)\n",
    "        self.thesis_title = thesis_title\n",
    "    \n",
    "    def display_details(self):\n",
    "        super().display_details()\n",
    "        print(\"Thesis Title:\", self.thesis_title)\n",
    "        print(\"Graduate details\")\n",
    "\n",
    "        \n",
    "p = Person(\"Komal\", 30)\n",
    "s = Student(\"kiran\", 20, 32, \"A\")\n",
    "g = Graduate(\"harsha\", 25, 45, \"A+\", \"Deep Learning in NLP\")\n",
    "\n",
    "p.display_details()\n",
    "s.display_details()\n",
    "g.display_details()"
   ]
  },
  {
   "cell_type": "code",
   "execution_count": 30,
   "id": "740a3bbc-967b-4932-a8c1-2201c9ced72b",
   "metadata": {},
   "outputs": [
    {
     "name": "stdout",
     "output_type": "stream",
     "text": [
      "Student Details:\n",
      "90\n",
      "math\n",
      "Extracurricular Details:\n",
      "sports\n",
      "runner up\n"
     ]
    }
   ],
   "source": [
    "#multiple inheritance\n",
    "class academic:\n",
    "    def __init__(self,grades,subjects):\n",
    "        self.grades=grades\n",
    "        self.subjects=subjects\n",
    "    def academic_display(self):\n",
    "        print(self.grades)\n",
    "        print(self.subjects)\n",
    "class extracurriculum(academic):\n",
    "    def __init__(self,grades,subjects,activities,awards):\n",
    "        super().__init__(grades,subjects)\n",
    "        self.activities=activities\n",
    "        self.awards=awards\n",
    "    def extracurricular_display(self):\n",
    "        print(\"Extracurricular Details:\")\n",
    "        print(self.activities)\n",
    "        print(self.awards)\n",
    "class student(extracurriculum):\n",
    "     def __init__(self,grades,subjects,activities,awards):\n",
    "         super().__init__(grades,subjects,activities,awards)\n",
    "     def display(self):\n",
    "        print(\"Student Details:\")\n",
    "        self.academic_display()\n",
    "        self.extracurricular_display()\n",
    "s=student(90,\"math\",\"sports\",\"runner up\")\n",
    "s.display()"
   ]
  },
  {
   "cell_type": "raw",
   "id": "7fcad8bc-ed18-4f31-91b0-9940bdfd033c",
   "metadata": {},
   "source": [
    "we have a base class person that store genral information like name or age we then have multiple derived classes thats represent different class of type of student like undergraduatestudent,graduatestudent,which both inherit the from the person class\n"
   ]
  },
  {
   "cell_type": "code",
   "execution_count": 29,
   "id": "23c105c4-b41a-479b-b5bb-2d8823061c2f",
   "metadata": {},
   "outputs": [
    {
     "name": "stdout",
     "output_type": "stream",
     "text": [
      "komal\n",
      "23\n"
     ]
    }
   ],
   "source": [
    "#Hierarchical inheritance\n",
    "class person:\n",
    "    def __init__(self,name,age):\n",
    "        self.name=name\n",
    "        self.age=age\n",
    "    def person_display(self):\n",
    "        print(self.name)\n",
    "        print(self.age)\n",
    "class undergraduate(person):\n",
    "    def __init__(self,name,age,grades):\n",
    "        super().__init__(self,name,age)\n",
    "        self.grades=grades\n",
    "    def undergraduate_display(self):\n",
    "        print(self.grades)\n",
    "class graduate(person):\n",
    "    def __init__(self,name,age,degree):\n",
    "        super().__init__(self,name,age,degree)\n",
    "        self.degree=degree\n",
    "    def graduate_display(self):\n",
    "        print(self.degree)\n",
    "p=person(\"komal\",23)\n",
    "p.person_display()"
   ]
  },
  {
   "cell_type": "code",
   "execution_count": 25,
   "id": "60a827bf-53d7-401a-a625-69f867fca2b4",
   "metadata": {},
   "outputs": [
    {
     "name": "stdout",
     "output_type": "stream",
     "text": [
      "Person Details:\n",
      "  Name: Alice\n",
      "  Age: 20\n",
      "Undergraduate Student Details:\n",
      "  Major: Computer Science\n",
      "  Year: 3\n",
      "Person Details:\n",
      "  Name: Bob\n",
      "  Age: 25\n",
      "Graduate Student Details:\n",
      "  Major: Data Science\n",
      "  Thesis Title: Deep Learning for NLP\n"
     ]
    }
   ],
   "source": [
    "class Person:\n",
    "    def __init__(self, name, age):\n",
    "        self.name = name\n",
    "        self.age = age\n",
    "\n",
    "    def display_details(self):\n",
    "        print(\"Person Details:\")\n",
    "        print(\"  Name:\", self.name)\n",
    "        print(\"  Age:\", self.age)\n",
    "\n",
    "class UndergraduateStudent(Person):\n",
    "    def __init__(self, name, age, major, year):\n",
    "        super().__init__(name, age)  \n",
    "        self.major = major          \n",
    "        self.year = year         \n",
    "\n",
    "    def display_details(self):\n",
    "        super().display_details()   \n",
    "        print(\"Undergraduate Student Details:\")\n",
    "        print(\"  Major:\", self.major)\n",
    "        print(\"  Year:\", self.year)\n",
    "        \n",
    "        \n",
    "class GraduateStudent(Person):\n",
    "    def __init__(self, name, age, major, thesis_title):\n",
    "        super().__init__(name, age)  \n",
    "        self.major = major          \n",
    "        self.thesis_title = thesis_title  \n",
    "\n",
    "    def display_details(self):\n",
    "        super().display_details()    \n",
    "        print(\"Graduate Student Details:\")\n",
    "        print(\"  Major:\", self.major)\n",
    "        print(\"  Thesis Title:\", self.thesis_title)\n",
    "        \n",
    "\n",
    "ug_student = UndergraduateStudent(\"Alice\", 20, \"Computer Science\", 3)\n",
    "grad_student = GraduateStudent(\"Bob\", 25, \"Data Science\", \"Deep Learning for NLP\")\n",
    "ug_student.display_details()\n",
    "grad_student.display_details()"
   ]
  },
  {
   "cell_type": "code",
   "execution_count": 24,
   "id": "fd13300c-6654-4ced-93a9-51358ca961b3",
   "metadata": {},
   "outputs": [
    {
     "name": "stdout",
     "output_type": "stream",
     "text": [
      "capiiital of india new dehli\n",
      " hindi is language in india\n",
      "india is famous for population\n",
      "capiiital of india new xyz\n",
      " english is language in USA\n",
      "USA  is famous for culture\n"
     ]
    }
   ],
   "source": [
    "#  polymorphisum\n",
    "class india:\n",
    "    def capital(self):\n",
    "        print(\"capiiital of india new dehli\")\n",
    "    def language(self):\n",
    "        print(\" hindi is language in india\")\n",
    "    def famous(self):\n",
    "        print(\"india is famous for population\")\n",
    "class USA:\n",
    "    def capital(self):\n",
    "        print(\"capiiital of india new xyz\")\n",
    "    def language(self):\n",
    "        print(\" english is language in USA\")\n",
    "    def famous(self):\n",
    "        print(\"USA  is famous for culture\")\n",
    "obj_india=india()\n",
    "obj_USA=USA()\n",
    "for country in (obj_india,obj_USA):\n",
    "   country.capital()\n",
    "   country.language()\n",
    "   country.famous()\n"
   ]
  },
  {
   "cell_type": "code",
   "execution_count": null,
   "id": "1c60f3fe-b7ca-4645-aebf-57d91e9e6d2f",
   "metadata": {},
   "outputs": [],
   "source": [
    "the birs is a walking like a duck swamming like a duck"
   ]
  },
  {
   "cell_type": "code",
   "execution_count": 32,
   "id": "8349b53a-aa45-4b67-914d-22c0adc4e03e",
   "metadata": {},
   "outputs": [
    {
     "name": "stdout",
     "output_type": "stream",
     "text": [
      "bho bho\n",
      "meow\n",
      "horn\n"
     ]
    }
   ],
   "source": [
    "# Duck Typing\n",
    "class animal:\n",
    "    alive=True\n",
    "class dog(animal):\n",
    "    def speaking(self):i\n",
    "        print(\"bho bho\")\n",
    "class cat(animal):\n",
    "    def speaking(self):\n",
    "        print(\"meow\")\n",
    "class car(animal):\n",
    "    def speaking(self):\n",
    "        print(\"horn\")\n",
    "animal=[dog(),cat(),car()]\n",
    "for a in animal:\n",
    "    a.speaking()"
   ]
  },
  {
   "cell_type": "code",
   "execution_count": 27,
   "id": "0eeb9a47-5ce5-45fa-975c-5853a3b0c94f",
   "metadata": {},
   "outputs": [],
   "source": [
    "# Abstractiom\n",
    "from abc import ABC,abstractmethod\n",
    "class car(ABC):\n",
    "    def info(self):\n",
    "        print(\"car has four weel\")\n",
    "        @abstractmethod\n",
    "        def speed(self):\n",
    "            pass\n",
    "class benz(car):\n",
    "     def speed (self):\n",
    "         print(\"benz average speed is 100kmph\")\n",
    "class thar(car):\n",
    "    def speed (self):\n",
    "        print(\"thar speed is 78kmph\")\n",
    "obj1=benz()\n",
    "obj2=thar()"
   ]
  },
  {
   "cell_type": "code",
   "execution_count": 28,
   "id": "243395cd-5799-4b6e-9ddf-1f4f4f13a2e7",
   "metadata": {},
   "outputs": [
    {
     "name": "stdout",
     "output_type": "stream",
     "text": [
      "car has four weel\n",
      "benz average speed is 100kmph\n"
     ]
    }
   ],
   "source": [
    "obj1.info()\n",
    "obj1.speed()"
   ]
  },
  {
   "cell_type": "code",
   "execution_count": 25,
   "id": "43dbdf35-4746-4691-afb3-9068daeacdc3",
   "metadata": {},
   "outputs": [
    {
     "name": "stdout",
     "output_type": "stream",
     "text": [
      "car has four weel\n",
      "thar speed is 78kmph\n"
     ]
    }
   ],
   "source": [
    "obj2.info()\n",
    "obj2.speed()"
   ]
  }
 ],
 "metadata": {
  "kernelspec": {
   "display_name": "Python 3 (ipykernel)",
   "language": "python",
   "name": "python3"
  },
  "language_info": {
   "codemirror_mode": {
    "name": "ipython",
    "version": 3
   },
   "file_extension": ".py",
   "mimetype": "text/x-python",
   "name": "python",
   "nbconvert_exporter": "python",
   "pygments_lexer": "ipython3",
   "version": "3.13.0"
  }
 },
 "nbformat": 4,
 "nbformat_minor": 5
}
