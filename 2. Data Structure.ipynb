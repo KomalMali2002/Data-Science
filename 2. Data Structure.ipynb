{
 "cells": [
  {
   "cell_type": "markdown",
   "id": "20994f73-6016-4aba-95ff-ddb8f4bcdfef",
   "metadata": {},
   "source": [
    "# @ Data Structure"
   ]
  },
  {
   "cell_type": "markdown",
   "id": "83b14785-6db9-45c3-98cc-47b238f56b17",
   "metadata": {},
   "source": [
    " - Way of organization the data in optimal way\n",
    " - It will take less time to retrive that data and also take less space for storing\n",
    " - Goal : optimize the time and space\n",
    " - Graph is important in data structure because their are lots of graph algorithm\n",
    "\n",
    " @ Based on the data organization,data structured are classified into 2 type :\n",
    "                                                                             1. Linear Data Structure\n",
    "                                                                             2. Non-Linear Data Structure\n",
    "\n",
    "1. Linear Data Structure - We are storing a data in linear fashion\n",
    "                         - Ex : List , Tuple , Stack\n",
    "\n",
    "2. Non-Linear Data Structure - We are storing a data in non linear fashion\n",
    "                             - Ex : Tree and Graph\n",
    "\n",
    " - Tree and graph we called it as logical data structure\n",
    " - So if we want to creat tree or graph in the memory we have to use two representation\n",
    "   1. Arrays Representation\n",
    "   2. Linked List Representation"
   ]
  },
  {
   "cell_type": "markdown",
   "id": "d39ec0b8-87bb-4a85-a973-978d2c8abdac",
   "metadata": {},
   "source": [
    "# @ Inbuild Data structure In Python\n",
    "1. List\n",
    "2. Tuple\n",
    "3. Set\n",
    "4. Dictionary"
   ]
  },
  {
   "cell_type": "markdown",
   "id": "158197bb-48e6-4f28-af96-02c80174d556",
   "metadata": {},
   "source": [
    "# @ list"
   ]
  },
  {
   "cell_type": "markdown",
   "id": "273f1915-d72b-4549-8c9b-369c72cdafe5",
   "metadata": {},
   "source": [
    " - It is inbuild data structure in python\n",
    " - It is also called collection or sequence\n",
    " - List is a collection of heterogens kind of data items\n",
    " - We can use list to store the different kind of data \n",
    " - we are using subscript oprator create a list\n",
    " - Each item in a list is seperated by comma(,)\n",
    " - Each item in a list have the index\n",
    " - Through index only we are accessing the list item\n",
    " - List is dynamic in nature\n",
    " - Mutable : We can change the content of a list\n",
    " - list will be created inside the heap segment of the memory\n",
    " - Syntax :\n",
    "           List_name = [item1 , item2 , -------- itemn]"
   ]
  },
  {
   "cell_type": "markdown",
   "id": "24585e00-b729-40c0-b5cf-f7131b294788",
   "metadata": {},
   "source": [
    "# - Basic Program"
   ]
  },
  {
   "cell_type": "markdown",
   "id": "6e7d4266-8185-4e38-b3a2-31e7ef84cc07",
   "metadata": {},
   "source": [
    "Create empty list"
   ]
  },
  {
   "cell_type": "code",
   "execution_count": 30,
   "id": "4cbf6b10-1884-4f78-ad06-d356e0d11f5b",
   "metadata": {},
   "outputs": [
    {
     "name": "stdout",
     "output_type": "stream",
     "text": [
      "[]\n"
     ]
    }
   ],
   "source": [
    "list1 = []\n",
    "print (list1)"
   ]
  },
  {
   "cell_type": "code",
   "execution_count": null,
   "id": "f623f847-f9f7-4046-96f7-616d2553a537",
   "metadata": {},
   "outputs": [],
   "source": [
    "Create the integer list"
   ]
  },
  {
   "cell_type": "code",
   "execution_count": 9,
   "id": "416f82b4-fa69-43fd-ac35-a6bbb03d0feb",
   "metadata": {},
   "outputs": [
    {
     "name": "stdout",
     "output_type": "stream",
     "text": [
      "[1, 2, 3, 4, 5]\n"
     ]
    }
   ],
   "source": [
    "list2 = [1,2,3,4,5]\n",
    "print (list2)"
   ]
  },
  {
   "cell_type": "code",
   "execution_count": null,
   "id": "b19b592d-9f0f-41d3-90cd-1072a359b9ec",
   "metadata": {},
   "outputs": [],
   "source": [
    "List of string "
   ]
  },
  {
   "cell_type": "code",
   "execution_count": 60,
   "id": "f33481d3-60c4-483a-83a1-d39652725cea",
   "metadata": {},
   "outputs": [
    {
     "name": "stdout",
     "output_type": "stream",
     "text": [
      "komal\n"
     ]
    }
   ],
   "source": [
    "list2= ['komal','mali','hello']\n",
    "print(list2[0])"
   ]
  },
  {
   "cell_type": "code",
   "execution_count": null,
   "id": "18c16784-96d7-4ac6-aa95-2fcc1a1554df",
   "metadata": {},
   "outputs": [],
   "source": [
    "list of mix element "
   ]
  },
  {
   "cell_type": "code",
   "execution_count": 18,
   "id": "b8cfd176-7827-45d6-ae8e-58336bc0e39b",
   "metadata": {},
   "outputs": [
    {
     "name": "stdout",
     "output_type": "stream",
     "text": [
      "['komal', 7, 80.5]\n"
     ]
    }
   ],
   "source": [
    "list3 = [\"komal\",7,80.5]\n",
    "print (list3)"
   ]
  },
  {
   "cell_type": "code",
   "execution_count": null,
   "id": "b03e23bd-4b24-43eb-a5bc-7c097a9b8f1f",
   "metadata": {},
   "outputs": [],
   "source": [
    "list of float "
   ]
  },
  {
   "cell_type": "code",
   "execution_count": 21,
   "id": "7bf04989-4507-4ea9-9de4-935333655f5c",
   "metadata": {},
   "outputs": [
    {
     "name": "stdout",
     "output_type": "stream",
     "text": [
      "7.8\n"
     ]
    }
   ],
   "source": [
    "list4 = [1.2,3.4,5.6,7.8]\n",
    "print (list4[3])"
   ]
  },
  {
   "cell_type": "markdown",
   "id": "48c43144-6418-42ec-a51f-7f6a2c3f7950",
   "metadata": {},
   "source": [
    "# Print the elements in the list"
   ]
  },
  {
   "cell_type": "code",
   "execution_count": 39,
   "id": "515c1843-2acb-41c1-ab3f-84cb80dc4ed5",
   "metadata": {},
   "outputs": [
    {
     "name": "stdout",
     "output_type": "stream",
     "text": [
      "12\n",
      "45\n",
      "67\n",
      "89\n",
      "90\n"
     ]
    }
   ],
   "source": [
    "list1 = [12,45,67,89,90]\n",
    "for i in list1:\n",
    "    print (i)"
   ]
  },
  {
   "cell_type": "markdown",
   "id": "251f5032-0b32-4de6-9811-bcb47783c74b",
   "metadata": {},
   "source": [
    "# Print the length of list"
   ]
  },
  {
   "cell_type": "code",
   "execution_count": 50,
   "id": "1f6bce53-a467-4a6c-9bdf-311ac9d11a32",
   "metadata": {},
   "outputs": [
    {
     "data": {
      "text/plain": [
       "5"
      ]
     },
     "execution_count": 50,
     "metadata": {},
     "output_type": "execute_result"
    }
   ],
   "source": [
    "list1 = [10,45,67,68,99]\n",
    "len(list1)"
   ]
  },
  {
   "cell_type": "markdown",
   "id": "84f67840-b7f3-4302-9042-aff41826f7b6",
   "metadata": {},
   "source": [
    "#  @ WAP to count the total elements of the list\n"
   ]
  },
  {
   "cell_type": "markdown",
   "id": "8c67538f-e319-41d1-bed4-3fd947ff6bf0",
   "metadata": {},
   "source": [
    "# @ iterative code"
   ]
  },
  {
   "cell_type": "code",
   "execution_count": 2,
   "id": "de10c5d0-1a66-43e8-a0b4-67881b2ce322",
   "metadata": {},
   "outputs": [
    {
     "name": "stdout",
     "output_type": "stream",
     "text": [
      "5\n"
     ]
    }
   ],
   "source": [
    "def list_count(list1):\n",
    "    count=0\n",
    "    for i in list1:\n",
    "        count+=1\n",
    "    return count\n",
    "list1=[10, 25,30,78,90]\n",
    "print(list_count(list1))"
   ]
  },
  {
   "cell_type": "markdown",
   "id": "2cf2fc28-42bb-4faf-abe4-7a9e15468de3",
   "metadata": {},
   "source": [
    "# @ Recursion Code"
   ]
  },
  {
   "cell_type": "code",
   "execution_count": 3,
   "id": "8024f6cd-bdd2-44b7-8861-ad73e89b3933",
   "metadata": {},
   "outputs": [
    {
     "name": "stdout",
     "output_type": "stream",
     "text": [
      "5\n"
     ]
    }
   ],
   "source": [
    "def list_count(list1,count=0):\n",
    "    if count==len(list1):\n",
    "        return 0 \n",
    "    else:\n",
    "        return 1+ list_count(list1,count+1)    \n",
    "list1=[10, 25,30,78,90]\n",
    "print(list_count(list1))"
   ]
  },
  {
   "cell_type": "markdown",
   "id": "87b6157d-9d50-4d55-a7ae-cb0662e51d25",
   "metadata": {},
   "source": [
    "# WAP to search the element in list"
   ]
  },
  {
   "cell_type": "markdown",
   "id": "c234dcef-a63f-4b18-a964-572eba24f19b",
   "metadata": {},
   "source": [
    "# @ Iterative¶"
   ]
  },
  {
   "cell_type": "code",
   "execution_count": 4,
   "id": "8c840bb5-6160-4d87-b25f-2be558131395",
   "metadata": {},
   "outputs": [
    {
     "name": "stdin",
     "output_type": "stream",
     "text": [
      "enter any number 12\n"
     ]
    },
    {
     "name": "stdout",
     "output_type": "stream",
     "text": [
      "True\n"
     ]
    }
   ],
   "source": [
    "list = [76,65,53,30,12]\n",
    "n = int (input(\"enter any number\"))\n",
    "d = False\n",
    "for i in list: \n",
    "    if i == n:\n",
    "       d = True\n",
    "       print (d) \n",
    "if d== False:\n",
    "  print (d)"
   ]
  },
  {
   "cell_type": "code",
   "execution_count": 25,
   "id": "fc0b4fc2-f3e2-4a99-b287-02cfd01491bb",
   "metadata": {},
   "outputs": [
    {
     "name": "stdin",
     "output_type": "stream",
     "text": [
      "enter any number 50\n"
     ]
    },
    {
     "name": "stdout",
     "output_type": "stream",
     "text": [
      "False\n"
     ]
    }
   ],
   "source": [
    "def my_search (list1,target):\n",
    "    d = False\n",
    "    for i in list1:\n",
    "        if i == target:\n",
    "            return True\n",
    "    return False\n",
    "list1 = [76,65,53,30,12]\n",
    "target = int (input(\"enter any number\"))\n",
    "print (my_search(list1,target))"
   ]
  },
  {
   "cell_type": "code",
   "execution_count": 73,
   "id": "c96acf63-c548-4eba-a523-5695b710a446",
   "metadata": {},
   "outputs": [
    {
     "name": "stdout",
     "output_type": "stream",
     "text": [
      "12\n"
     ]
    }
   ],
   "source": [
    "list = [1,1,2,3,2,5,5,7,7,9,11,3,12,9,11]\n",
    "def oddnumber (list1):\n",
    "    result = 0\n",
    "    for i in list:\n",
    "        result^i\n",
    "print(i)"
   ]
  },
  {
   "cell_type": "markdown",
   "id": "ca638066-8bb4-44fb-9c8e-ca971fcf55e1",
   "metadata": {},
   "source": [
    "#  @  Append "
   ]
  },
  {
   "cell_type": "code",
   "execution_count": 31,
   "id": "dfe565c2-e22f-40a4-be47-f2a0ae533875",
   "metadata": {},
   "outputs": [
    {
     "name": "stdout",
     "output_type": "stream",
     "text": [
      "[45, 67, 23, 49, 90, 100]\n"
     ]
    }
   ],
   "source": [
    "list = [45,67,23,49,90]\n",
    "list.append(100)\n",
    "print(list)"
   ]
  },
  {
   "cell_type": "code",
   "execution_count": 29,
   "id": "1783e89f-fdb1-4f44-aabc-0a6ec76dff2d",
   "metadata": {},
   "outputs": [
    {
     "name": "stdin",
     "output_type": "stream",
     "text": [
      "enter any number 100\n"
     ]
    },
    {
     "name": "stdout",
     "output_type": "stream",
     "text": [
      "None\n"
     ]
    }
   ],
   "source": [
    "def my_append(list,item):\n",
    "    list = [23,27,36,78,89]\n",
    "item = int (input(\"enter any number\"))\n",
    "print (my_append(list,100))"
   ]
  },
  {
   "cell_type": "code",
   "execution_count": 48,
   "id": "d4aaccba-d052-4a93-a408-f3fd85fd55bd",
   "metadata": {},
   "outputs": [
    {
     "name": "stdout",
     "output_type": "stream",
     "text": [
      "[1, 2, 3, 4, 5, 6, 7, 100]\n"
     ]
    }
   ],
   "source": [
    "def my_append(list,item):\n",
    "    list +=[item]\n",
    "    return list\n",
    "list = [1,2,3,4,5,6,7]\n",
    "print (my_append(list,100))"
   ]
  },
  {
   "cell_type": "code",
   "execution_count": 75,
   "id": "06b619a0-385b-40b1-be8e-ffd40c215fca",
   "metadata": {},
   "outputs": [
    {
     "name": "stdout",
     "output_type": "stream",
     "text": [
      "[76, 55, 78, 67, 90, [10, 25, 67, 45, 67]]\n"
     ]
    }
   ],
   "source": [
    "list1 = [76,55,78,67,90]\n",
    "list2 = [10,25,67,45,67]\n",
    "list1.append(list2)\n",
    "print (list1)"
   ]
  },
  {
   "cell_type": "code",
   "execution_count": 1,
   "id": "dfcf058c-09f2-4688-a626-316223836a86",
   "metadata": {},
   "outputs": [
    {
     "name": "stdout",
     "output_type": "stream",
     "text": [
      "[76, 55, 78, 67, 90, 10, 25, 67, 45, 67]\n"
     ]
    }
   ],
   "source": [
    "list1 = [76,55,78,67,90]\n",
    "list2 = [10,25,67,45,67]\n",
    "list1.extend(list2)\n",
    "print (list1)"
   ]
  },
  {
   "cell_type": "markdown",
   "id": "fcf3ec5a-5d26-4dbd-a9eb-08eeb8bb0559",
   "metadata": {},
   "source": [
    "# @ WAP to find the Maximum Number"
   ]
  },
  {
   "cell_type": "code",
   "execution_count": 9,
   "id": "a8061694-7ec7-4d5c-94fd-a0c4d177bbeb",
   "metadata": {},
   "outputs": [
    {
     "name": "stdout",
     "output_type": "stream",
     "text": [
      "80\n"
     ]
    }
   ],
   "source": [
    "def maximum(list1,max):\n",
    "    for i in list1:\n",
    "        if max<=i:\n",
    "            max=i\n",
    "    return max\n",
    "list1=[12,23,43,44,50,80]\n",
    "max=list1[0]\n",
    "print(maximum(list1,max))"
   ]
  },
  {
   "cell_type": "markdown",
   "id": "d9d5c86c-200a-4e2c-9778-959eaf7f085c",
   "metadata": {},
   "source": [
    "# @ WAP to find the Minimum Number"
   ]
  },
  {
   "cell_type": "code",
   "execution_count": 10,
   "id": "cd1c0c23-0bb0-4765-858e-93d0284561f7",
   "metadata": {},
   "outputs": [
    {
     "name": "stdout",
     "output_type": "stream",
     "text": [
      "7\n"
     ]
    }
   ],
   "source": [
    "def minimum(list1,min):\n",
    "    for i in list1:\n",
    "        if min>i:\n",
    "            min=i\n",
    "    return min\n",
    "list1=[12,23,43,7,50,80]\n",
    "min=list1[0]\n",
    "print(minimum(list1,min))"
   ]
  },
  {
   "cell_type": "markdown",
   "id": "2b18395f-e3fa-4d16-83c1-4a123d9a9362",
   "metadata": {},
   "source": [
    "# @ WAP to count the element is repeated in the list"
   ]
  },
  {
   "cell_type": "code",
   "execution_count": 8,
   "id": "1a9153c0-f689-4930-8b23-6bc2d9418075",
   "metadata": {},
   "outputs": [
    {
     "name": "stdin",
     "output_type": "stream",
     "text": [
      "Enter any number 5\n"
     ]
    },
    {
     "name": "stdout",
     "output_type": "stream",
     "text": [
      "2\n"
     ]
    }
   ],
   "source": [
    "def count(list,n):\n",
    "    count=0\n",
    "    for i in list:\n",
    "        if n==i:\n",
    "            count+=1\n",
    "    return count\n",
    "n=int(input(\"Enter any number\"))\n",
    "list=[2,3,4,2,5,6,7,7,5]\n",
    "print(count(list,n))"
   ]
  },
  {
   "cell_type": "markdown",
   "id": "d7d7a16d-8b6a-4033-876e-f8fe02361cf3",
   "metadata": {},
   "source": [
    "Q.List is optimal or not?\n",
    "    - Whenever we are creating the list for one item of a list for one item of a list two blocks of memory is created.\n",
    "    - So,the list is mutable not optimal.\n",
    "    - It is taking extra space inside memory.\n",
    "\n",
    "- Deletion Function\n",
    "  Del-deleting the list\n",
    "  Remove:Remove the items.\n",
    "      list.remove(x)\n",
    "      - It will remove x from the list\n",
    "  Pop: list.pop(index)-It is also delete the item\n",
    "     - It will remove the element from the list according to the index\n",
    "\n",
    "- membership operator (in,not in)\n",
    "- reverse=list.reverse()"
   ]
  },
  {
   "cell_type": "code",
   "execution_count": 27,
   "id": "606ffa9d-bb45-49b0-8f92-4549a352c659",
   "metadata": {},
   "outputs": [
    {
     "data": {
      "text/plain": [
       "5"
      ]
     },
     "execution_count": 27,
     "metadata": {},
     "output_type": "execute_result"
    }
   ],
   "source": [
    "list1 =[1,2,3,4,5,6,7,8]\n",
    "list2 = {1,2,4,5,6,7,8,3}\n",
    "for i in list1:\n",
    "     continue\n",
    "list.pop(2)"
   ]
  },
  {
   "cell_type": "code",
   "execution_count": 58,
   "id": "a36a733a-3a6a-47c4-9bf4-3bc40333a02f",
   "metadata": {},
   "outputs": [
    {
     "name": "stdout",
     "output_type": "stream",
     "text": [
      "Reversed list1: [8, 7, 6, 5, 4, 3, 2, 1]\n"
     ]
    }
   ],
   "source": [
    "list1 = [1, 2, 3, 4, 5, 6, 7, 8]\n",
    "list2 = [1, 2, 3, 4, 5, 7, 8]\n",
    "list1.reverse()\n",
    "print(\"Reversed list1:\", list1)\n"
   ]
  },
  {
   "cell_type": "markdown",
   "id": "2b657c7f-60e4-439d-a893-360994fd33b3",
   "metadata": {},
   "source": [
    "# @ Remove¶"
   ]
  },
  {
   "cell_type": "code",
   "execution_count": 11,
   "id": "c367d077-b074-48d0-821d-cf9f8cbc259c",
   "metadata": {},
   "outputs": [
    {
     "name": "stdout",
     "output_type": "stream",
     "text": [
      "[5, 6, 7, 86, 92, 10]\n"
     ]
    }
   ],
   "source": [
    "list=[4,5,6,7,86,92,10]\n",
    "list.remove(4)\n",
    "print(list)"
   ]
  },
  {
   "cell_type": "markdown",
   "id": "643814d0-9181-444b-9e3f-210f8ed33914",
   "metadata": {},
   "source": [
    "# @ Deleting"
   ]
  },
  {
   "cell_type": "code",
   "execution_count": 12,
   "id": "ca2d288d-469b-4850-91df-c40f03b70323",
   "metadata": {},
   "outputs": [
    {
     "name": "stdout",
     "output_type": "stream",
     "text": [
      "<class 'list'>\n"
     ]
    }
   ],
   "source": [
    "list=[4,5,6,7,8,9,10]\n",
    "del list\n",
    "print(list)"
   ]
  },
  {
   "cell_type": "code",
   "execution_count": 18,
   "id": "5cc0ba9b-325c-4cdd-bacb-1e43048ac1af",
   "metadata": {},
   "outputs": [
    {
     "name": "stdin",
     "output_type": "stream",
     "text": [
      "Enter any number 4\n"
     ]
    },
    {
     "name": "stdout",
     "output_type": "stream",
     "text": [
      "[2, 4, 5, 6]\n"
     ]
    }
   ],
   "source": [
    "def delete(list,index=0):\n",
    "    for i in list:\n",
    "        if index==i:\n",
    "            list.pop(index)\n",
    "            continue\n",
    "        else:\n",
    "            index+1\n",
    "    return list\n",
    "index=int(input(\"Enter any number\"))\n",
    "list=[2,4,5,6,78]\n",
    "print(delete(list,index))"
   ]
  },
  {
   "cell_type": "markdown",
   "id": "d8cdeed8-af0c-4e35-a98c-8119fc888ad3",
   "metadata": {},
   "source": [
    "# @ Slicing:"
   ]
  },
  {
   "cell_type": "markdown",
   "id": "7f25c366-94a2-4be8-89af-c041574b0405",
   "metadata": {},
   "source": [
    " - It is used to access the element in specific range\n",
    " - Syntax:\n",
    "        [start : End : Stepsize]\n",
    " - Start value is optional\n",
    " - If we are not define the start value by default it start from 0.\n",
    " - Stepsize is also a optional, if it is not specifing by default it is 1.\n",
    " - End is also a optional. if we don't specify the value it goes till the end of list.\n",
    " - If stepsize is -1 it directly reversed the list"
   ]
  },
  {
   "cell_type": "markdown",
   "id": "ff434b43-b17d-4ad5-82a0-de59a70a3a6e",
   "metadata": {},
   "source": [
    "# @ Sorting"
   ]
  },
  {
   "cell_type": "markdown",
   "id": "63ccd878-8fc0-4c3b-bf9c-9584ad633692",
   "metadata": {},
   "source": [
    " - Element are arrange in ascending or decending order.\n",
    "    There are 2 types of sorting:\n",
    "      1.Comparision based sorting:\n",
    "             We are comparing the element with each other and sorting\n",
    "      2.Non-comparision based sorting:\n",
    "             Without comparing the element with each other.\n",
    "\n",
    "   - Comparision Based Sort:\n",
    "      1.Bubble sort\n",
    "      2.Selection sort\n",
    "      3.Insertion sort\n",
    "      4.Merge sort\n",
    "      5.Quick sort\n",
    "      6.Swap sort\n",
    "\n",
    "   - Python internally used the time sort non-comparision based sort\n",
    "       1.Count sort\n",
    "       2.Radix sort\n",
    "\n",
    "   - Based on the memory the sorting are classified into 2 types:\n",
    "       1.In palace sort:\n",
    "           In case of in palace sorting we don't required any extra memory. space complexity is constant O(1)\n",
    "\n",
    "       2.Not in palace:\n",
    "            It is not happing in the main memory it will extra space from secondary memory"
   ]
  },
  {
   "cell_type": "markdown",
   "id": "c11004a7-f206-482b-aa6e-289fcb6b3943",
   "metadata": {},
   "source": [
    "# @ WAP of Bubble Sort in iterative and recursive approach"
   ]
  },
  {
   "cell_type": "code",
   "execution_count": 7,
   "id": "6b22131a-bde2-4dd8-bab1-4a732a2c7c07",
   "metadata": {},
   "outputs": [
    {
     "name": "stdout",
     "output_type": "stream",
     "text": [
      "[3, 6, 19, 11, 9, 0, 12, 4, 7]\n",
      "[3, 6, 11, 9, 0, 12, 4, 7, 19]\n"
     ]
    }
   ],
   "source": [
    "def bubble_sort (list):\n",
    "    for i in range(0,len(list)-1):\n",
    "        for j in range(0,len(list)-1):\n",
    "            if list[j] > list[j+1]:\n",
    "                temp = list [j]\n",
    "                list[j] = list[j+1]\n",
    "                list[j+1] = temp\n",
    "        return list\n",
    "list = [3,6,19,11,9,0,12,4,7]\n",
    "print  (list)\n",
    "sorted_list = bubble_sort(list)\n",
    "print (sorted_list)\n"
   ]
  },
  {
   "cell_type": "code",
   "execution_count": 5,
   "id": "24796eb8-6b14-4876-82a8-524f8a093326",
   "metadata": {},
   "outputs": [
    {
     "name": "stdout",
     "output_type": "stream",
     "text": [
      "[9, 0, 2, 4, 67, 45, 19, 23, 1]\n",
      "None\n"
     ]
    }
   ],
   "source": [
    "def recursive_bs (list,n):\n",
    "    if n==1:\n",
    "        return list\n",
    "    else:\n",
    "        for i in range (0,n-1):\n",
    "            if list[i]>list[i+1]:\n",
    "                temp = list[i]\n",
    "                list[i+1]=  list[i]\n",
    "                list[i+1]=temp\n",
    "                return recursive_bs (list,(n-1))\n",
    "list = [9,0,2,4,67,45,19,23,1]\n",
    "print (list)\n",
    "n = len(list) \n",
    "sorted_list = recursive_bs(list,n)\n",
    "print (sorted_list)\n"
   ]
  },
  {
   "cell_type": "markdown",
   "id": "6ccd173e-cadb-4b3d-b1d9-2b30e8d856b5",
   "metadata": {},
   "source": [
    "# @ WAP of insertion and selection Sort in iterative and recursive approach"
   ]
  },
  {
   "cell_type": "code",
   "execution_count": 22,
   "id": "b49eb630-0c29-4ffa-8f41-572064fbc0a9",
   "metadata": {},
   "outputs": [
    {
     "name": "stdout",
     "output_type": "stream",
     "text": [
      "Original array: [12, 3, 4, 6, 8, 9, 2]\n",
      "Sorted array: [2, 3, 4, 6, 8, 9, 12]\n"
     ]
    }
   ],
   "source": [
    "def selection_sort(list):\n",
    "    for i in range(len(list)):\n",
    "        min_idx = i\n",
    "        for j in range(i+1, len(list)):\n",
    "            if list[j] < list[min_idx]:\n",
    "                min_idx = j\n",
    "        list[i], list[min_idx] = list[min_idx], list[i]\n",
    "\n",
    "\n",
    "list = [12,3,4,6,8,9,2]\n",
    "print(\"Original array:\", list)\n",
    "selection_sort(list)\n",
    "print(\"Sorted array:\", list)"
   ]
  },
  {
   "cell_type": "code",
   "execution_count": 23,
   "id": "de09ebdc-337f-45a0-a7b4-9537a7a32a68",
   "metadata": {},
   "outputs": [
    {
     "name": "stdout",
     "output_type": "stream",
     "text": [
      "Original array: [12, 3, 4, 6, 8, 9, 2]\n",
      "Sorted array: [2, 3, 4, 6, 8, 9, 12]\n"
     ]
    }
   ],
   "source": [
    "def selection_sort_recursive(list, index=0):\n",
    "    if index == len(list):\n",
    "        return\n",
    "    min_idx = index\n",
    "    for j in range(index + 1, len(list)):\n",
    "        if list[j] < list[min_idx]:\n",
    "            min_idx = j\n",
    "    list[index], list[min_idx] = list[min_idx], list[index]\n",
    "    selection_sort_recursive(list, index + 1)\n",
    "\n",
    "list = [12,3,4,6,8,9,2]\n",
    "print(\"Original array:\", list)\n",
    "selection_sort_recursive(list)\n",
    "print(\"Sorted array:\", list)"
   ]
  },
  {
   "cell_type": "markdown",
   "id": "04fd44b7-2715-4643-b498-2c4c5d65a773",
   "metadata": {},
   "source": [
    "# @ WAP of merge sort in iterative and recursive approach"
   ]
  },
  {
   "cell_type": "code",
   "execution_count": 36,
   "id": "b33872ee-46c3-4d50-9855-e4eb18a4fee5",
   "metadata": {},
   "outputs": [
    {
     "name": "stdout",
     "output_type": "stream",
     "text": [
      "Original list: [38, 27, 43, 3, 9, 82, 10]\n",
      "Sorted list: [3, 9, 10, 27, 38, 43, 82]\n"
     ]
    }
   ],
   "source": [
    "def merge_sort_iterative(list):\n",
    "    n = len(list)\n",
    "    sublist_size = 1\n",
    "    while sublist_size < n:\n",
    "        for start in range(0, n, 2 * sublist_size):\n",
    "            mid = min(start + sublist_size - 1, n - 1)\n",
    "            end = min(start + 2 * sublist_size - 1, n - 1)\n",
    "            merge(list, start, mid, end)\n",
    "        sublist_size *= 2\n",
    "\n",
    "def merge(list, start, mid, end):\n",
    "    left = list[start:mid + 1]\n",
    "    right = list[mid + 1:end + 1]\n",
    "    i = 0 \n",
    "    j = 0\n",
    "    k = start \n",
    "    while i < len(left) and j < len(right):\n",
    "        if left[i] <= right[j]:\n",
    "            list[k] = left[i]\n",
    "            i += 1\n",
    "        else:\n",
    "            list[k] = right[j]\n",
    "            j += 1\n",
    "        k += 1\n",
    "    \n",
    "    while i < len(left):\n",
    "        list[k] = left[i]\n",
    "        i += 1\n",
    "        k += 1\n",
    "    while j < len(right):\n",
    "        list[k] = right[j]\n",
    "        j += 1\n",
    "        k += 1\n",
    "list= [38, 27, 43, 3, 9, 82, 10]\n",
    "print(\"Original list:\", list)\n",
    "merge_sort_iterative(list)\n",
    "print(\"Sorted list:\", list)\n"
   ]
  },
  {
   "cell_type": "markdown",
   "id": "79d09fb9-00a0-4637-bc7e-62dc457d3e96",
   "metadata": {},
   "source": [
    "# @ Important question in interview"
   ]
  },
  {
   "cell_type": "markdown",
   "id": "777e407c-936e-4cfb-9078-682483d0443f",
   "metadata": {},
   "source": [
    "# @ Find the median of list"
   ]
  },
  {
   "cell_type": "code",
   "execution_count": 19,
   "id": "81297d60-086f-47cf-90c6-2d2c76b4f2e6",
   "metadata": {},
   "outputs": [
    {
     "name": "stdout",
     "output_type": "stream",
     "text": [
      "9.5\n"
     ]
    }
   ],
   "source": [
    "def median(list1, list2):\n",
    "    combined = sorted(list1 + list2)\n",
    "    n = len(combined)\n",
    "    if n % 2 == 0:\n",
    "        mid = (combined[n // 2 - 1] + combined[n // 2]) / 2\n",
    "    else:\n",
    "        mid = combined[n // 2]\n",
    "    return mid\n",
    "list1 = [2, 5, 7, 8, 9]\n",
    "list2 = [10, 12, 14, 20, 30]\n",
    "print(median(list1, list2))"
   ]
  },
  {
   "cell_type": "markdown",
   "id": "c59d627b-b081-402f-9e33-39ac7ce96beb",
   "metadata": {},
   "source": [
    "# @ Rotation the element in the list"
   ]
  },
  {
   "cell_type": "code",
   "execution_count": 20,
   "id": "87a7ea16-471b-4dba-8bac-0d000571dd2e",
   "metadata": {},
   "outputs": [
    {
     "name": "stdin",
     "output_type": "stream",
     "text": [
      "Enter any number 3\n"
     ]
    },
    {
     "name": "stdout",
     "output_type": "stream",
     "text": [
      "[4, 5, 6, 1, 2, 3]\n"
     ]
    }
   ],
   "source": [
    "def rotate_left(list, k):\n",
    "    k %= len(list)\n",
    "    return list[k:] + list[:k]\n",
    "k=int(input(\"Enter any number\"))\n",
    "list=[1,2,3,4,5,6]\n",
    "print(rotate_left(list,k))"
   ]
  },
  {
   "cell_type": "code",
   "execution_count": 21,
   "id": "a1deb342-fb35-48f3-838e-5ab50ec6b17f",
   "metadata": {},
   "outputs": [
    {
     "name": "stdout",
     "output_type": "stream",
     "text": [
      "duplicate element=  2\n",
      "False\n"
     ]
    }
   ],
   "source": [
    "def conjugate(list):\n",
    "    for i in list:\n",
    "        if list[i]==list[i]+1:\n",
    "            i+=1\n",
    "        else:\n",
    "            print(\"duplicate element= \",list[i])\n",
    "            return list[i]==list[i+1]\n",
    "            print(\"Missing element=\",list[i])\n",
    "\n",
    "list=[1,2,3,3,5,6]\n",
    "print(conjugate(list))"
   ]
  },
  {
   "cell_type": "code",
   "execution_count": 25,
   "id": "a39397b5-a393-4a10-9afb-b3f7bf4ec52a",
   "metadata": {},
   "outputs": [
    {
     "name": "stdin",
     "output_type": "stream",
     "text": [
      "Enter any number 5\n"
     ]
    },
    {
     "name": "stdout",
     "output_type": "stream",
     "text": [
      "10\n"
     ]
    }
   ],
   "source": [
    "def kth_smallest_index(list, k):\n",
    "   \n",
    "    sorted_list = sorted(list)\n",
    "    return sorted_list[k]\n",
    "list = [10, 3, 5, 2, 8, 7]\n",
    "k = int(input(\"Enter any number\"))\n",
    "print(kth_smallest_index(list, k))"
   ]
  },
  {
   "cell_type": "code",
   "execution_count": 17,
   "id": "6f35022c-0f7e-400c-b903-7b0422b1979e",
   "metadata": {},
   "outputs": [
    {
     "name": "stdout",
     "output_type": "stream",
     "text": [
      "(6, 12)\n"
     ]
    }
   ],
   "source": [
    " def targetsum(list,count=0):\n",
    "     targetsum = 0\n",
    "     for i in list:\n",
    "         targetsum +=1\n",
    "         count+=1 \n",
    "     return targetsum,count\n",
    "list = [1,3,9,7,4,2]\n",
    "total, count = targetsum(list)  \n",
    "print(targetsum (list,count))"
   ]
  },
  {
   "cell_type": "markdown",
   "id": "16d7c36d-e85f-4fcd-b7c3-2c4a4aa803e5",
   "metadata": {},
   "source": [
    "# @ WAP of Negative number multiplication"
   ]
  },
  {
   "cell_type": "code",
   "execution_count": 28,
   "id": "f98aa5bd-99e7-4d9f-a485-487ec200a1b9",
   "metadata": {},
   "outputs": [
    {
     "name": "stdin",
     "output_type": "stream",
     "text": [
      "Enter first number -7\n",
      "Enter second number 4\n"
     ]
    },
    {
     "name": "stdout",
     "output_type": "stream",
     "text": [
      "-28\n"
     ]
    }
   ],
   "source": [
    "def multiplication(a,b):\n",
    "    if b==0:\n",
    "        return 0\n",
    "    elif b>0:\n",
    "        return a+multiplication(a,(b-1))\n",
    "    else:\n",
    "        return -multiplication(a,-b)\n",
    "a=int(input(\"Enter first number\"))\n",
    "b=int(input(\"Enter second number\"))\n",
    "print(multiplication(a,b))"
   ]
  },
  {
   "cell_type": "raw",
   "id": "781bc050-2542-4975-be53-54b1b98f98ad",
   "metadata": {},
   "source": [
    "def mergesort(list,k):\n",
    "   for i in list:\n",
    "    if  k == i:\n",
    "       retrn =+1\n",
    "a = int (input(\"enter any number \"))\n",
    "list= [1,4,5,7,8,9,10,11,6]       \n",
    "print (mergesort(k))     "
   ]
  },
  {
   "cell_type": "code",
   "execution_count": 3,
   "id": "7804a29d-0305-4a5d-b4f7-7f85c18923e9",
   "metadata": {},
   "outputs": [
    {
     "name": "stdout",
     "output_type": "stream",
     "text": [
      "[4, 4, 6, 6, 7, 9]\n"
     ]
    }
   ],
   "source": [
    "list=[4,6,7,9,4,6]\n",
    "print(sorted(list))"
   ]
  },
  {
   "cell_type": "code",
   "execution_count": 4,
   "id": "7e35186c-216d-4e06-bfdf-b39de75add41",
   "metadata": {},
   "outputs": [
    {
     "name": "stdout",
     "output_type": "stream",
     "text": [
      "[9, 7, 6, 6, 4, 4]\n"
     ]
    }
   ],
   "source": [
    "print(sorted(list,reverse=True))"
   ]
  },
  {
   "cell_type": "code",
   "execution_count": 5,
   "id": "fa777ee4-35b0-48a3-9a97-a1df56326c6d",
   "metadata": {},
   "outputs": [
    {
     "name": "stdout",
     "output_type": "stream",
     "text": [
      "{4, 23, 56, 45, 78}\n"
     ]
    }
   ],
   "source": [
    "list={4,23,45,56,78}\n",
    "new_list=list.copy()\n",
    "print(new_list)"
   ]
  },
  {
   "cell_type": "code",
   "execution_count": 50,
   "id": "e6e7f97a-12f0-4dc6-9603-2d1d10eebba8",
   "metadata": {},
   "outputs": [
    {
     "name": "stdout",
     "output_type": "stream",
     "text": [
      "[]\n"
     ]
    }
   ],
   "source": [
    "def copyelement(list1,list2):\n",
    "    for i in list1: \n",
    "        list2.append(i)\n",
    "list1=[2,4,6,8,12]\n",
    "list2=[]\n",
    "print(list2)"
   ]
  },
  {
   "cell_type": "code",
   "execution_count": 10,
   "id": "8795fef1-d683-4096-9be4-2dc9d9d399b5",
   "metadata": {},
   "outputs": [
    {
     "name": "stdout",
     "output_type": "stream",
     "text": [
      "True\n"
     ]
    }
   ],
   "source": [
    "# it is returing true when any non zero element is present in the list\n",
    "list = [3,4,5,6,7,8,9]\n",
    "print(any(list))"
   ]
  },
  {
   "cell_type": "code",
   "execution_count": 27,
   "id": "dd71261a-b887-48d7-9698-0fe55cc6a51a",
   "metadata": {},
   "outputs": [
    {
     "name": "stdout",
     "output_type": "stream",
     "text": [
      "False\n"
     ]
    }
   ],
   "source": [
    "def element(list,index=0):\n",
    "    d=False\n",
    "    for i in list:\n",
    "        if list[index]==0:\n",
    "            return True\n",
    "    return False\n",
    "    \n",
    "list=[2,13,20,40,65,0]\n",
    "print(element(list))"
   ]
  },
  {
   "cell_type": "code",
   "execution_count": 11,
   "id": "3cedb522-f06e-4f30-8003-b2a75c14ab9e",
   "metadata": {},
   "outputs": [
    {
     "name": "stdout",
     "output_type": "stream",
     "text": [
      "False\n"
     ]
    }
   ],
   "source": [
    "list = [0,0,0,0]\n",
    "print(any(list))"
   ]
  },
  {
   "cell_type": "code",
   "execution_count": 12,
   "id": "09aeaa28-0f61-485f-8b8c-c7bbbf7d1972",
   "metadata": {},
   "outputs": [
    {
     "name": "stdout",
     "output_type": "stream",
     "text": [
      "False\n"
     ]
    }
   ],
   "source": [
    "print(all(list))"
   ]
  },
  {
   "cell_type": "code",
   "execution_count": 13,
   "id": "de9a6015-4b4c-47ee-9104-6559f645cb07",
   "metadata": {},
   "outputs": [
    {
     "name": "stdout",
     "output_type": "stream",
     "text": [
      "True\n"
     ]
    }
   ],
   "source": [
    "list = [1,2,3,4,5,6]\n",
    "print(all(list))"
   ]
  },
  {
   "cell_type": "code",
   "execution_count": 51,
   "id": "bcf1355e-9699-49c2-9b7a-8f559f2cd96d",
   "metadata": {},
   "outputs": [
    {
     "name": "stdout",
     "output_type": "stream",
     "text": [
      "False\n"
     ]
    }
   ],
   "source": [
    "def element(list,index=0):\n",
    "    d=False\n",
    "    for i in list:\n",
    "        if list[index]==0:\n",
    "            return True\n",
    "    return False\n",
    "    \n",
    "list=[2,13,20,40,65,0]\n",
    "print(element(list))\n"
   ]
  },
  {
   "cell_type": "code",
   "execution_count": 24,
   "id": "9faf7508-edc6-4e70-bca1-57f315ff6d4e",
   "metadata": {},
   "outputs": [
    {
     "name": "stdout",
     "output_type": "stream",
     "text": [
      "[1, 256, 6561, 65536, 390625]\n"
     ]
    }
   ],
   "source": [
    "list = [i**2 for i in list]\n",
    "print (list)"
   ]
  },
  {
   "cell_type": "code",
   "execution_count": 31,
   "id": "8be292da-7929-4c59-9113-07f1c9d22e30",
   "metadata": {},
   "outputs": [
    {
     "name": "stdout",
     "output_type": "stream",
     "text": [
      "[1, 256, 6561, 65536, 390625]\n"
     ]
    }
   ],
   "source": [
    "list1 = [1,2,3,4,5,6]\n",
    "list2 = []\n",
    "for i in list:\n",
    "    list2.append(i**2)\n",
    "print (list)"
   ]
  },
  {
   "cell_type": "code",
   "execution_count": 21,
   "id": "54533d57-d967-458f-8dce-2ac39542605c",
   "metadata": {},
   "outputs": [
    {
     "name": "stdout",
     "output_type": "stream",
     "text": [
      "[2, 4, 6]\n"
     ]
    }
   ],
   "source": [
    "list = [1,2,3,4,5,6,7]\n",
    "list = [i for i in list if i % 2 == 0] \n",
    "print (list)"
   ]
  },
  {
   "cell_type": "code",
   "execution_count": 20,
   "id": "b51d32b1-fb53-4783-aec8-222c8c2c7fa1",
   "metadata": {},
   "outputs": [
    {
     "name": "stdout",
     "output_type": "stream",
     "text": [
      "[2, 4, 6]\n"
     ]
    }
   ],
   "source": [
    "lst = [1, 2, 3, 4, 5, 6, 7]\n",
    "lst = [i for i in lst if i % 2 == 0] \n",
    "print(lst)  "
   ]
  },
  {
   "cell_type": "code",
   "execution_count": 36,
   "id": "c8e5bbc4-28b7-4532-887c-009892f87256",
   "metadata": {},
   "outputs": [
    {
     "data": {
      "text/plain": [
       "[3, 4, 5, 8, 9]"
      ]
     },
     "execution_count": 36,
     "metadata": {},
     "output_type": "execute_result"
    }
   ],
   "source": [
    "# remove all the floating numbers and list ans print only integer list\n",
    "list = [3,4,5,8,9,6.6,1.2]\n",
    "ans = [i for i in list if i==int(i)]\n",
    "ans"
   ]
  },
  {
   "cell_type": "code",
   "execution_count": 29,
   "id": "fef988cd-c657-4386-8fc7-9c49034cb186",
   "metadata": {},
   "outputs": [],
   "source": [
    "list=[1,2,3,4,5]"
   ]
  },
  {
   "cell_type": "code",
   "execution_count": 30,
   "id": "7bed38d3-0eae-475b-9144-afc688d83a13",
   "metadata": {},
   "outputs": [
    {
     "name": "stdout",
     "output_type": "stream",
     "text": [
      "[1, 4, 9, 16, 25]\n"
     ]
    }
   ],
   "source": [
    "list=[i**2 for i in list]\n",
    "print(list)"
   ]
  },
  {
   "cell_type": "code",
   "execution_count": 31,
   "id": "ff0c96a6-c376-4a0c-856c-33b23bf9a370",
   "metadata": {},
   "outputs": [
    {
     "name": "stdout",
     "output_type": "stream",
     "text": [
      "[False, True, False, True, False, True, False, True, False, True]\n"
     ]
    }
   ],
   "source": [
    "list=[1,2,3,4,5,6,7,8,9,10]\n",
    "list=[i%2==0 for i in list]\n",
    "print(list)"
   ]
  },
  {
   "cell_type": "code",
   "execution_count": 32,
   "id": "c526b694-dc1a-47f5-b61a-2d6e62587b6e",
   "metadata": {},
   "outputs": [
    {
     "name": "stdout",
     "output_type": "stream",
     "text": [
      "The first ten even numbers are: [2, 4, 6, 8, 10, 12, 14, 16, 18, 20]\n"
     ]
    }
   ],
   "source": [
    "numbers = [1, 2, 3, 4, 5, 6, 7, 8, 9, 10, 11, 12, 13, 14, 15, 16, 17, 18, 19, 20]\n",
    "first_ten_evens = [num for num in numbers if num % 2 == 0][:10]\n",
    "print(\"The first ten even numbers are:\", first_ten_evens)"
   ]
  },
  {
   "cell_type": "code",
   "execution_count": 33,
   "id": "04309b25-e662-4795-834e-a37bc48c1411",
   "metadata": {},
   "outputs": [
    {
     "name": "stdout",
     "output_type": "stream",
     "text": [
      "The first ten odd numbers are: [1, 3, 5, 7, 9, 11, 13, 15, 17, 19]\n"
     ]
    }
   ],
   "source": [
    "numbers = [1, 2, 3, 4, 5, 6, 7, 8, 9, 10, 11, 12, 13, 14, 15, 16, 17, 18, 19, 20]\n",
    "first_ten_odds = [num for num in numbers if num % 2 != 0][:10]\n",
    "print(\"The first ten odd numbers are:\", first_ten_odds)"
   ]
  },
  {
   "cell_type": "code",
   "execution_count": 34,
   "id": "39c5f1b5-7a09-4aca-b169-3ba8a738c3e9",
   "metadata": {},
   "outputs": [
    {
     "name": "stdout",
     "output_type": "stream",
     "text": [
      "Numbers divisible by 7 from 1 to 1000 are: [7, 14, 21, 28, 35, 42, 49, 56, 63, 70, 77, 84, 91, 98, 105, 112, 119, 126, 133, 140, 147, 154, 161, 168, 175, 182, 189, 196, 203, 210, 217, 224, 231, 238, 245, 252, 259, 266, 273, 280, 287, 294, 301, 308, 315, 322, 329, 336, 343, 350, 357, 364, 371, 378, 385, 392, 399, 406, 413, 420, 427, 434, 441, 448, 455, 462, 469, 476, 483, 490, 497, 504, 511, 518, 525, 532, 539, 546, 553, 560, 567, 574, 581, 588, 595, 602, 609, 616, 623, 630, 637, 644, 651, 658, 665, 672, 679, 686, 693, 700, 707, 714, 721, 728, 735, 742, 749, 756, 763, 770, 777, 784, 791, 798, 805, 812, 819, 826, 833, 840, 847, 854, 861, 868, 875, 882, 889, 896, 903, 910, 917, 924, 931, 938, 945, 952, 959, 966, 973, 980, 987, 994]\n"
     ]
    }
   ],
   "source": [
    "divisible_by_seven = [num for num in range(1, 1001) if num % 7 == 0]\n",
    "print(\"Numbers divisible by 7 from 1 to 1000 are:\", divisible_by_seven)"
   ]
  },
  {
   "cell_type": "markdown",
   "id": "3a5a5ddb-9e06-4a64-a3a4-59ee0bcfbe96",
   "metadata": {},
   "source": [
    "# @  Nested list"
   ]
  },
  {
   "cell_type": "code",
   "execution_count": 40,
   "id": "df1a236c-a966-425c-9685-ef6ce0bece14",
   "metadata": {},
   "outputs": [
    {
     "data": {
      "text/plain": [
       "1"
      ]
     },
     "execution_count": 40,
     "metadata": {},
     "output_type": "execute_result"
    }
   ],
   "source": [
    "list = [[1,2,3],[4,5],[6,7,8,9]]\n",
    "list[0][0]                   "
   ]
  },
  {
   "cell_type": "code",
   "execution_count": 23,
   "id": "e75eb947-6884-457f-8e24-04d5d18cc08a",
   "metadata": {},
   "outputs": [
    {
     "name": "stdout",
     "output_type": "stream",
     "text": [
      "[[1, 2, 3], [4, 5], [6, 7, 8, 9, 10], [10, 11]]\n"
     ]
    }
   ],
   "source": [
    "list = [[1, 2, 3], [4, 5], [6, 7, 8, 9, 10], [10, 11]]\n",
    "print(list)"
   ]
  },
  {
   "cell_type": "code",
   "execution_count": 48,
   "id": "af3fd5a3-cfc6-4383-8a38-a2af71440913",
   "metadata": {},
   "outputs": [
    {
     "name": "stdout",
     "output_type": "stream",
     "text": [
      "1\n",
      "2\n",
      "3\n",
      "4\n",
      "5\n",
      "6\n",
      "7\n",
      "8\n",
      "9\n",
      "10\n",
      "11\n"
     ]
    }
   ],
   "source": [
    "list = [[1,2,3],[4,5],[6,7,8,9],[10,11]]\n",
    "for inner_list in list:\n",
    "      for i in inner_list:\n",
    "          print (i)    "
   ]
  },
  {
   "cell_type": "code",
   "execution_count": 24,
   "id": "86469e8d-270f-4352-a6ed-aa66e70e3f70",
   "metadata": {},
   "outputs": [
    {
     "name": "stdout",
     "output_type": "stream",
     "text": [
      "Combined dictionary: {31: 1, 45: 1, 67: 1, 89: 1, 90: 2, 100: 1, 12: 1, 34: 1, 56: 1, 78: 1, 101: 1, 102: 1, 103: 1}\n",
      "same element of the list is:  {90: 2}\n"
     ]
    }
   ],
   "source": [
    "#find the number of list repeated itself and common elements in both the list\n",
    "list1 = [31, 45, 67, 89, 90, 100]\n",
    "list2 = [12, 34, 56, 78, 90, 101, 102, 103]\n",
    "combined_dict = {}\n",
    "\n",
    "for item in list1 + list2:\n",
    "    combined_dict[item] = combined_dict.get(item, 0) + 1\n",
    "print(\"Combined dictionary:\", combined_dict)\n",
    "\n",
    "same_elements = {key: value for key, value in combined_dict.items() if value > 1}\n",
    "print(\"same element of the list is: \",same_elements)"
   ]
  },
  {
   "cell_type": "markdown",
   "id": "a2de9eaa-82ed-4f5e-8697-98384a0dab82",
   "metadata": {},
   "source": [
    "# @ Tuple"
   ]
  },
  {
   "cell_type": "markdown",
   "id": "bb92daf1-f162-4507-bda8-bc60c8579374",
   "metadata": {},
   "source": [
    " - Inbuilt data structure in python \n",
    " - It is also a linear data structure \n",
    " - It is also collection of heterogeneous kind of data\n",
    " - syntax:\n",
    "         tuple_name = (itam1,iteam2,-------)\n",
    "         each element is separated by comma(,)\n",
    " - To access the tuple element we required a index\n",
    " - We can access tuple element in 0(1)time\n",
    " - We can not change the content of the tuple once it is created because tuple are immutable\n",
    " - Tuple are fixed size while list are the variable size\n",
    " - Tuple are more memory efficient that list "
   ]
  },
  {
   "cell_type": "code",
   "execution_count": 1,
   "id": "02f4dafa-5b43-417f-8df4-2b295f34896a",
   "metadata": {},
   "outputs": [
    {
     "data": {
      "text/plain": [
       "()"
      ]
     },
     "execution_count": 1,
     "metadata": {},
     "output_type": "execute_result"
    }
   ],
   "source": [
    "# creating empty tuple \n",
    "t =()\n",
    "t"
   ]
  },
  {
   "cell_type": "code",
   "execution_count": 2,
   "id": "7ac34bb0-7306-4f35-b298-771361ec7027",
   "metadata": {},
   "outputs": [
    {
     "data": {
      "text/plain": [
       "(1, 2, 3, 4)"
      ]
     },
     "execution_count": 2,
     "metadata": {},
     "output_type": "execute_result"
    }
   ],
   "source": [
    "# creating tuple of integer\n",
    "t1=(1,2,3,4)\n",
    "t1"
   ]
  },
  {
   "cell_type": "code",
   "execution_count": 3,
   "id": "63792ed4-af58-4bdc-a433-45e7f3504cbb",
   "metadata": {},
   "outputs": [
    {
     "data": {
      "text/plain": [
       "(1.2, 3.4, 5.6)"
      ]
     },
     "execution_count": 3,
     "metadata": {},
     "output_type": "execute_result"
    }
   ],
   "source": [
    "t2=(1.2,3.4,5.6)\n",
    "t2"
   ]
  },
  {
   "cell_type": "code",
   "execution_count": 5,
   "id": "60022c7e-3b99-4173-8c2a-2816b9bcae8b",
   "metadata": {},
   "outputs": [
    {
     "data": {
      "text/plain": [
       "'mayur'"
      ]
     },
     "execution_count": 5,
     "metadata": {},
     "output_type": "execute_result"
    }
   ],
   "source": [
    "t3=(\"mayur\")\n",
    "t3"
   ]
  },
  {
   "cell_type": "code",
   "execution_count": 7,
   "id": "7ff2c841-0a8f-4995-a624-368100077c37",
   "metadata": {},
   "outputs": [
    {
     "data": {
      "text/plain": [
       "('mayur', 101)"
      ]
     },
     "execution_count": 7,
     "metadata": {},
     "output_type": "execute_result"
    }
   ],
   "source": [
    "t3 = (\"mayur\",101)\n",
    "t3"
   ]
  },
  {
   "cell_type": "code",
   "execution_count": 8,
   "id": "02a54d29-3916-400f-be1c-9fd7eb406848",
   "metadata": {},
   "outputs": [
    {
     "data": {
      "text/plain": [
       "56"
      ]
     },
     "execution_count": 8,
     "metadata": {},
     "output_type": "execute_result"
    }
   ],
   "source": [
    "t=(34,56,70,90)\n",
    "t[1]"
   ]
  },
  {
   "cell_type": "markdown",
   "id": "c9de033f-09f6-49bb-8f70-f003cecc3201",
   "metadata": {
    "scrolled": true
   },
   "source": [
    "[-2]"
   ]
  },
  {
   "cell_type": "code",
   "execution_count": 10,
   "id": "d37b5f61-71a4-4dff-907b-58ab5d59a498",
   "metadata": {},
   "outputs": [
    {
     "data": {
      "text/plain": [
       "[34, 56, 70, 90]"
      ]
     },
     "execution_count": 10,
     "metadata": {},
     "output_type": "execute_result"
    }
   ],
   "source": [
    "list=list(t)\n",
    "list"
   ]
  },
  {
   "cell_type": "code",
   "execution_count": 13,
   "id": "4b8b63df-b991-40b9-9cc0-dee59212e9d3",
   "metadata": {},
   "outputs": [
    {
     "name": "stdout",
     "output_type": "stream",
     "text": [
      "Tuple: (1, 2, 3, 'apple', 'banana')\n"
     ]
    }
   ],
   "source": [
    "my_list = [1, 2, 3, \"apple\", \"banana\"]\n",
    "my_tuple = tuple(my_list)\n",
    "print(\"Tuple:\", my_tuple)"
   ]
  },
  {
   "cell_type": "code",
   "execution_count": 14,
   "id": "724cc44f-46d0-4c74-ae2f-3a2f13eb14f2",
   "metadata": {},
   "outputs": [
    {
     "data": {
      "text/plain": [
       "23"
      ]
     },
     "execution_count": 14,
     "metadata": {},
     "output_type": "execute_result"
    }
   ],
   "source": [
    "t=(12,14,16,[23,34,56],(\"mayur\"))\n",
    "t[3][0]"
   ]
  },
  {
   "cell_type": "code",
   "execution_count": 17,
   "id": "887a5cb2-e9f1-4c48-810f-8e34efb337d6",
   "metadata": {},
   "outputs": [
    {
     "data": {
      "text/plain": [
       "(12, 14, 16, [200, 34, 56], 'mayur')"
      ]
     },
     "execution_count": 17,
     "metadata": {},
     "output_type": "execute_result"
    }
   ],
   "source": [
    "t[3][0]=200\n",
    "t"
   ]
  },
  {
   "cell_type": "code",
   "execution_count": 18,
   "id": "6140610f-e8ed-4e70-b452-0711914bd712",
   "metadata": {},
   "outputs": [
    {
     "data": {
      "text/plain": [
       "(1, 2, 3, 4, 5, 11, 12, 13, 14, 15)"
      ]
     },
     "execution_count": 18,
     "metadata": {},
     "output_type": "execute_result"
    }
   ],
   "source": [
    "t1=(1,2,3,4,5)\n",
    "t2=(11,12,13,14,15)\n",
    "t1+t2"
   ]
  },
  {
   "cell_type": "code",
   "execution_count": 20,
   "id": "979c2978-604a-4895-a774-ab4b5b28d186",
   "metadata": {},
   "outputs": [
    {
     "data": {
      "text/plain": [
       "(1, 2, 3, 4, 5, 11, 12, 13, 14, 15)"
      ]
     },
     "execution_count": 20,
     "metadata": {},
     "output_type": "execute_result"
    }
   ],
   "source": [
    "t3=t1+t2\n",
    "t3"
   ]
  },
  {
   "cell_type": "code",
   "execution_count": 21,
   "id": "1287862b-32cd-4fa4-b405-ab4934cdc6b6",
   "metadata": {},
   "outputs": [
    {
     "data": {
      "text/plain": [
       "('komal', 'hi', 'how', 1, 2, 3, 4, 5)"
      ]
     },
     "execution_count": 21,
     "metadata": {},
     "output_type": "execute_result"
    }
   ],
   "source": [
    "t1 = (\"komal\",\"hi\",\"how\")\n",
    "t2 = (1,2,3,4,5)\n",
    "t1+t2"
   ]
  },
  {
   "cell_type": "code",
   "execution_count": 22,
   "id": "69350473-b0d3-4a9d-8cb5-5a6311792cc4",
   "metadata": {},
   "outputs": [
    {
     "data": {
      "text/plain": [
       "('komal', 'hi', 'how', 1, 2, 3, 4, 5)"
      ]
     },
     "execution_count": 22,
     "metadata": {},
     "output_type": "execute_result"
    }
   ],
   "source": [
    "list1 = (\"komal\",\"hi\",\"how\")\n",
    "list2 = (1,2,3,4,5)\n",
    "list1+list2"
   ]
  },
  {
   "cell_type": "code",
   "execution_count": 24,
   "id": "6115ebc5-bba6-49d7-9a81-14a96693f6af",
   "metadata": {},
   "outputs": [
    {
     "name": "stdout",
     "output_type": "stream",
     "text": [
      "1\n",
      "2\n",
      "3\n",
      "4\n",
      "5\n"
     ]
    }
   ],
   "source": [
    "#iterative\n",
    "t=(1,2,3,4,5)\n",
    "for i in t:\n",
    "    print(i)"
   ]
  },
  {
   "cell_type": "code",
   "execution_count": 29,
   "id": "4e521263-3eee-4e56-8013-edabbccec55c",
   "metadata": {},
   "outputs": [
    {
     "data": {
      "text/plain": [
       "(1, 2, 3, 4, 5, 10, 20, 30, 40, 50)"
      ]
     },
     "execution_count": 29,
     "metadata": {},
     "output_type": "execute_result"
    }
   ],
   "source": [
    "t1 = (1,2,3,4,5)\n",
    "t2 = (10,20,30,40,50)\n",
    "t1+t2\n"
   ]
  },
  {
   "cell_type": "code",
   "execution_count": 31,
   "id": "70e5b523-c077-41b3-857e-022c124f5ae8",
   "metadata": {},
   "outputs": [
    {
     "data": {
      "text/plain": [
       "(1, 2, 3, 4, 5, 10, 20, 30, 40, 50)"
      ]
     },
     "execution_count": 31,
     "metadata": {},
     "output_type": "execute_result"
    }
   ],
   "source": [
    "t3 = t1+t2\n",
    "t3"
   ]
  },
  {
   "cell_type": "markdown",
   "id": "ba5b99a5-d40c-48b6-a21b-241581135460",
   "metadata": {},
   "source": [
    "# @ iterative"
   ]
  },
  {
   "cell_type": "code",
   "execution_count": 35,
   "id": "b6102ac9-e4c9-4c5a-b6dd-bc7d82321493",
   "metadata": {},
   "outputs": [
    {
     "name": "stdout",
     "output_type": "stream",
     "text": [
      "Concatenated Tuple: (1, 2, 3, 4, 5, 11, 12, 14, 6, 7, 8, 9, 10, 21, 22, 23)\n",
      "Prime Numbers Tuple: (2, 3, 5, 11, 7, 23)\n"
     ]
    }
   ],
   "source": [
    "def is_prime(num):\n",
    "    if num < 2:\n",
    "        return False\n",
    "    for i in range(2, int(num**0.5) + 1):\n",
    "        if num % i == 0:\n",
    "            return False\n",
    "    return True\n",
    "tuple1 = (1, 2, 3, 4, 5, 11, 12, 14)\n",
    "tuple2 = (6, 7, 8, 9, 10, 21, 22, 23)\n",
    "concatenated_tuple = tuple1 + tuple2\n",
    "prime_tuple = tuple(num for num in concatenated_tuple if is_prime(num))\n",
    "print(\"Concatenated Tuple:\", concatenated_tuple)\n",
    "print(\"Prime Numbers Tuple:\", prime_tuple)"
   ]
  },
  {
   "cell_type": "code",
   "execution_count": 36,
   "id": "eee569d1-bbf1-40c0-8da1-893b3e5ec477",
   "metadata": {
    "scrolled": true
   },
   "outputs": [
    {
     "data": {
      "text/plain": [
       "('komal', 'komal', 'komal', 'komal', 'komal')"
      ]
     },
     "execution_count": 36,
     "metadata": {},
     "output_type": "execute_result"
    }
   ],
   "source": [
    "t = ((\"komal\",)*5)\n",
    "t"
   ]
  },
  {
   "cell_type": "code",
   "execution_count": 39,
   "id": "51f5703e-a924-468d-a0d1-6b1fc8bb749a",
   "metadata": {},
   "outputs": [
    {
     "data": {
      "text/plain": [
       "('komal',\n",
       " 'mali',\n",
       " 'komal',\n",
       " 'mali',\n",
       " 'komal',\n",
       " 'mali',\n",
       " 'komal',\n",
       " 'mali',\n",
       " 'komal',\n",
       " 'mali',\n",
       " 'komal',\n",
       " 'mali',\n",
       " 'komal',\n",
       " 'mali',\n",
       " 'komal',\n",
       " 'mali',\n",
       " 'komal',\n",
       " 'mali',\n",
       " 'komal',\n",
       " 'mali')"
      ]
     },
     "execution_count": 39,
     "metadata": {},
     "output_type": "execute_result"
    }
   ],
   "source": [
    "t = ((\"komal\",\"mali\",)*10)\n",
    "t"
   ]
  },
  {
   "cell_type": "code",
   "execution_count": 37,
   "id": "a3faf5be-0a80-4098-a7c1-e78a94ced556",
   "metadata": {},
   "outputs": [
    {
     "data": {
      "text/plain": [
       "2"
      ]
     },
     "execution_count": 37,
     "metadata": {},
     "output_type": "execute_result"
    }
   ],
   "source": [
    "t=(1,2,3,4,5,5,1,2,9)\n",
    "t.count(5)"
   ]
  },
  {
   "cell_type": "code",
   "execution_count": 40,
   "id": "91faea68-97f3-47e6-a8d7-d092041bd0b1",
   "metadata": {},
   "outputs": [
    {
     "data": {
      "text/plain": [
       "2"
      ]
     },
     "execution_count": 40,
     "metadata": {},
     "output_type": "execute_result"
    }
   ],
   "source": [
    "t = (2,3,4,5,6,7)\n",
    "t.index(4)"
   ]
  },
  {
   "cell_type": "code",
   "execution_count": 41,
   "id": "15e4679d-305c-48bf-83fc-311d085a2bcc",
   "metadata": {},
   "outputs": [
    {
     "name": "stdout",
     "output_type": "stream",
     "text": [
      "True\n"
     ]
    }
   ],
   "source": [
    "t=(1,2,3,4,5,6)\n",
    "print(4 in t)"
   ]
  },
  {
   "cell_type": "code",
   "execution_count": 43,
   "id": "04597fef-d7fe-4645-a5f2-3612a38e19d7",
   "metadata": {},
   "outputs": [
    {
     "data": {
      "text/plain": [
       "7"
      ]
     },
     "execution_count": 43,
     "metadata": {},
     "output_type": "execute_result"
    }
   ],
   "source": [
    "t=(1,2,3,4,5,6,7)\n",
    "len(t)"
   ]
  },
  {
   "cell_type": "code",
   "execution_count": 47,
   "id": "a1b17d26-268c-4672-863c-4e7f3a71517d",
   "metadata": {},
   "outputs": [
    {
     "data": {
      "text/plain": [
       "[1, 2, 6, 9, 13, 23, 44, 45]"
      ]
     },
     "execution_count": 47,
     "metadata": {},
     "output_type": "execute_result"
    }
   ],
   "source": [
    "t=(2,45,1,9,23,13,44,6)\n",
    "new_t=sorted(t)\n",
    "new_t"
   ]
  },
  {
   "cell_type": "code",
   "execution_count": 60,
   "id": "8c8d0df9-9255-40dd-ac8a-5dfe0fa00299",
   "metadata": {},
   "outputs": [
    {
     "data": {
      "text/plain": [
       "reversed"
      ]
     },
     "execution_count": 60,
     "metadata": {},
     "output_type": "execute_result"
    }
   ],
   "source": [
    "type(new_t)"
   ]
  },
  {
   "cell_type": "code",
   "execution_count": 49,
   "id": "bc3a7f96-b566-4786-acb4-e827da225bfd",
   "metadata": {},
   "outputs": [
    {
     "data": {
      "text/plain": [
       "(2, 45, 1, 9, 23, 13, 44, 6)"
      ]
     },
     "execution_count": 49,
     "metadata": {},
     "output_type": "execute_result"
    }
   ],
   "source": [
    "t"
   ]
  },
  {
   "cell_type": "code",
   "execution_count": 52,
   "id": "704168f4-0dd3-4d26-aef3-c981a7fba24c",
   "metadata": {},
   "outputs": [
    {
     "data": {
      "text/plain": [
       "90"
      ]
     },
     "execution_count": 52,
     "metadata": {},
     "output_type": "execute_result"
    }
   ],
   "source": [
    "t = (45,1,23,19,78,90)\n",
    "max(t)\n"
   ]
  },
  {
   "cell_type": "code",
   "execution_count": 53,
   "id": "b606535c-eb17-466d-9d78-30068229eb21",
   "metadata": {},
   "outputs": [
    {
     "data": {
      "text/plain": [
       "1"
      ]
     },
     "execution_count": 53,
     "metadata": {},
     "output_type": "execute_result"
    }
   ],
   "source": [
    "min(t)"
   ]
  },
  {
   "cell_type": "code",
   "execution_count": 54,
   "id": "3249d8b8-23e0-4c9e-ac9a-2da631aa9499",
   "metadata": {},
   "outputs": [
    {
     "data": {
      "text/plain": [
       "256"
      ]
     },
     "execution_count": 54,
     "metadata": {},
     "output_type": "execute_result"
    }
   ],
   "source": [
    "sum(t)"
   ]
  },
  {
   "cell_type": "code",
   "execution_count": 55,
   "id": "bc9708f8-d9d1-49f4-8415-431550e138f3",
   "metadata": {},
   "outputs": [
    {
     "data": {
      "text/plain": [
       "True"
      ]
     },
     "execution_count": 55,
     "metadata": {},
     "output_type": "execute_result"
    }
   ],
   "source": [
    "any(t)"
   ]
  },
  {
   "cell_type": "code",
   "execution_count": 56,
   "id": "924a8117-f36f-48aa-8867-d0bdc3dc1dbe",
   "metadata": {},
   "outputs": [
    {
     "data": {
      "text/plain": [
       "True"
      ]
     },
     "execution_count": 56,
     "metadata": {},
     "output_type": "execute_result"
    }
   ],
   "source": [
    "all(t)"
   ]
  },
  {
   "cell_type": "code",
   "execution_count": 61,
   "id": "034a7e20-8937-463e-b309-1077039783b1",
   "metadata": {},
   "outputs": [
    {
     "data": {
      "text/plain": [
       "(90, 78, 19, 23, 1, 45)"
      ]
     },
     "execution_count": 61,
     "metadata": {},
     "output_type": "execute_result"
    }
   ],
   "source": [
    "t = (45,1,23,19,78,90)\n",
    "new_t=tuple(reversed(t))\n",
    "new_t"
   ]
  },
  {
   "cell_type": "markdown",
   "id": "4afd33a4-3048-4e3c-9fcd-e54e3e497cef",
   "metadata": {},
   "source": [
    "# @ sets"
   ]
  },
  {
   "cell_type": "markdown",
   "id": "f2d0a417-f32b-4ab7-9e00-599b7d7d8f90",
   "metadata": {},
   "source": [
    " - Set is mutable\n",
    " - Set is a inbuild data structure in a python\n",
    " - It is linear data structure\n",
    " - Set is a collection of all well defined object\n",
    " - It is unordered (there is no order fixed for the elements)\n",
    " - Set to will contains the unique values\n",
    " - It dont allow the duplicate \n",
    " - Syntax :\n",
    "          s = {item1, item2, ---------}\n",
    " - Each item in set is seprated by comma (,)\n",
    " - We can not access the set elements with help of index because set are unorderd\n",
    " - Sets are mutable we can change the content of the set\n",
    "\n",
    " -  Sets Operations:\n",
    "                    1. Union\n",
    "                    2. intersection\n",
    "                    3. sets difference\n",
    "                    4. symmetric difference\n"
   ]
  },
  {
   "cell_type": "code",
   "execution_count": 3,
   "id": "7f3c1ede-c7ef-40d5-974c-01622fc264ef",
   "metadata": {},
   "outputs": [
    {
     "data": {
      "text/plain": [
       "set"
      ]
     },
     "execution_count": 3,
     "metadata": {},
     "output_type": "execute_result"
    }
   ],
   "source": [
    "# creating empty set\n",
    "s = set()\n",
    "type(s)"
   ]
  },
  {
   "cell_type": "code",
   "execution_count": 5,
   "id": "51fef62a-7792-448e-9c05-aa32622b3eff",
   "metadata": {},
   "outputs": [
    {
     "data": {
      "text/plain": [
       "{1, 2, 3, 4, 5}"
      ]
     },
     "execution_count": 5,
     "metadata": {},
     "output_type": "execute_result"
    }
   ],
   "source": [
    "s = {1,2,3,4,5}\n",
    "s"
   ]
  },
  {
   "cell_type": "code",
   "execution_count": 6,
   "id": "10f8dbe2-6048-4531-8827-4efe11610fdf",
   "metadata": {},
   "outputs": [
    {
     "data": {
      "text/plain": [
       "{1, 2, 3, 4, 5, 100}"
      ]
     },
     "execution_count": 6,
     "metadata": {},
     "output_type": "execute_result"
    }
   ],
   "source": [
    "s = {1,2,3,4,5}\n",
    "s.add(100)\n",
    "s"
   ]
  },
  {
   "cell_type": "code",
   "execution_count": 7,
   "id": "f256f0a0-6d77-4594-b79f-c0ce5a028b86",
   "metadata": {},
   "outputs": [
    {
     "data": {
      "text/plain": [
       "{1, 2, 3, 4, 5}"
      ]
     },
     "execution_count": 7,
     "metadata": {},
     "output_type": "execute_result"
    }
   ],
   "source": [
    "s = {1,2,3,4,2,4,5}\n",
    "s"
   ]
  },
  {
   "cell_type": "code",
   "execution_count": 18,
   "id": "0946eff8-4175-43c6-9d85-3b21c3ec488e",
   "metadata": {},
   "outputs": [
    {
     "data": {
      "text/plain": [
       "{1, 2, 3, 4, 5, 23, 45, 67}"
      ]
     },
     "execution_count": 18,
     "metadata": {},
     "output_type": "execute_result"
    }
   ],
   "source": [
    "list =[1,2,3,4,5]\n",
    "s.update({23,45,67})\n",
    "s"
   ]
  },
  {
   "cell_type": "code",
   "execution_count": 21,
   "id": "c061fed6-31c6-497b-a118-5d9ebe4692aa",
   "metadata": {},
   "outputs": [
    {
     "data": {
      "text/plain": [
       "{1, 2, 3, 4, 5, 23, 45, 67}"
      ]
     },
     "execution_count": 21,
     "metadata": {},
     "output_type": "execute_result"
    }
   ],
   "source": [
    "s1={12,23,5,6}\n",
    "s.discard(6)\n",
    "s"
   ]
  },
  {
   "cell_type": "markdown",
   "id": "6c7990d7-dd72-4a40-aa3f-281c28ac3880",
   "metadata": {},
   "source": [
    "# set={1,2,3,4,5}\n",
    "all(set)\n"
   ]
  },
  {
   "cell_type": "code",
   "execution_count": 38,
   "id": "5d796718-7d4f-4f57-bb77-fa025456a702",
   "metadata": {},
   "outputs": [
    {
     "data": {
      "text/plain": [
       "True"
      ]
     },
     "execution_count": 38,
     "metadata": {},
     "output_type": "execute_result"
    }
   ],
   "source": [
    "set={1,2,3,4,5}\n",
    "any(set)\n"
   ]
  },
  {
   "cell_type": "code",
   "execution_count": 29,
   "id": "b4bcea44-3dcf-47e0-addb-7a10336b93b0",
   "metadata": {},
   "outputs": [],
   "source": [
    "set={1,2,3,4,5}"
   ]
  },
  {
   "cell_type": "code",
   "execution_count": 30,
   "id": "1626b8c8-78f5-41e1-bf59-21fb02ac50bf",
   "metadata": {},
   "outputs": [
    {
     "data": {
      "text/plain": [
       "5"
      ]
     },
     "execution_count": 30,
     "metadata": {},
     "output_type": "execute_result"
    }
   ],
   "source": [
    "max(set)\n"
   ]
  },
  {
   "cell_type": "code",
   "execution_count": 33,
   "id": "61bf883e-48d1-486c-996e-a8580b853538",
   "metadata": {},
   "outputs": [
    {
     "data": {
      "text/plain": [
       "1"
      ]
     },
     "execution_count": 33,
     "metadata": {},
     "output_type": "execute_result"
    }
   ],
   "source": [
    "min(set)\n"
   ]
  },
  {
   "cell_type": "code",
   "execution_count": 36,
   "id": "f0123227-d790-4494-b9d1-a6740d7786c8",
   "metadata": {},
   "outputs": [
    {
     "data": {
      "text/plain": [
       "5"
      ]
     },
     "execution_count": 36,
     "metadata": {},
     "output_type": "execute_result"
    }
   ],
   "source": [
    "len(set)"
   ]
  },
  {
   "cell_type": "code",
   "execution_count": 41,
   "id": "cd2fe37b-2ca4-44e4-8703-7971522054a0",
   "metadata": {},
   "outputs": [
    {
     "name": "stdout",
     "output_type": "stream",
     "text": [
      "2\n",
      "4\n",
      "5\n",
      "6\n",
      "8\n"
     ]
    }
   ],
   "source": [
    "s = {2,4,5,6,8}\n",
    "for i in s:\n",
    "    print(i)"
   ]
  },
  {
   "cell_type": "code",
   "execution_count": 44,
   "id": "9d85c241-4fce-4144-b744-06858bf660d2",
   "metadata": {},
   "outputs": [
    {
     "name": "stdout",
     "output_type": "stream",
     "text": [
      "{2, 4, 5, 6, 8}\n",
      "{2, 4, 5, 6, 8}\n",
      "{2, 4, 5, 6, 8}\n",
      "{2, 4, 5, 6, 8}\n",
      "{2, 4, 5, 6, 8}\n"
     ]
    }
   ],
   "source": [
    "s = {2,4,5,6,8}\n",
    "for i in s:\n",
    "      print(s)"
   ]
  },
  {
   "cell_type": "markdown",
   "id": "b5041a2e-7d94-49f7-a2dd-ea2c505590aa",
   "metadata": {},
   "source": [
    "# @ Set Operation"
   ]
  },
  {
   "cell_type": "code",
   "execution_count": null,
   "id": "c1a038a9-a50e-478c-bb25-ec2441d9c7ef",
   "metadata": {},
   "outputs": [],
   "source": [
    "1. union\n",
    "2. intersection\n",
    "3. set difference\n",
    "4. symmetric differncce"
   ]
  },
  {
   "cell_type": "code",
   "execution_count": 45,
   "id": "c93fa0c0-ccb4-495b-bfa4-741a34bdd801",
   "metadata": {},
   "outputs": [
    {
     "name": "stdout",
     "output_type": "stream",
     "text": [
      "{1, 2, 3, 4, 5, 6, 9, 11, 78, 56}\n"
     ]
    }
   ],
   "source": [
    "s1 = {1,2,3,4,5,6}\n",
    "s2 = {56,78,9,11}\n",
    "print(s1.union(s2))"
   ]
  },
  {
   "cell_type": "code",
   "execution_count": 49,
   "id": "57e5a580-8dd5-41b9-846e-56bf59dd320f",
   "metadata": {},
   "outputs": [
    {
     "data": {
      "text/plain": [
       "{1, 2, 3, 4, 5, 6, 10, 20, 30, 40, 50, 60}"
      ]
     },
     "execution_count": 49,
     "metadata": {},
     "output_type": "execute_result"
    }
   ],
   "source": [
    "s1 = {1,2,3,4,5,6}\n",
    "s2 = {10,20,30,40,50,60}\n",
    "s3 =(s1.union(s2))\n",
    "s3"
   ]
  },
  {
   "cell_type": "code",
   "execution_count": 53,
   "id": "08d3ba05-ea8d-4369-bb5f-958c1ed8843c",
   "metadata": {},
   "outputs": [
    {
     "name": "stdout",
     "output_type": "stream",
     "text": [
      "{3, 4}\n"
     ]
    }
   ],
   "source": [
    "s1 = {1,2,3,4,5,6}\n",
    "s2 = {10,20,30,3,4,540,50,60}\n",
    "print(s1.intersection(s2))\n"
   ]
  },
  {
   "cell_type": "code",
   "execution_count": 54,
   "id": "d0f35c4f-26be-4656-a549-f19fbdc54340",
   "metadata": {},
   "outputs": [
    {
     "name": "stdout",
     "output_type": "stream",
     "text": [
      "{3, 4}\n"
     ]
    }
   ],
   "source": [
    "print(s1&s2)"
   ]
  },
  {
   "cell_type": "code",
   "execution_count": 56,
   "id": "2fe30668-992b-4401-a1e9-fb9bde8ea3f7",
   "metadata": {},
   "outputs": [
    {
     "name": "stdout",
     "output_type": "stream",
     "text": [
      "{1, 2, 5, 6, 10, 50, 20, 60, 540, 30}\n"
     ]
    }
   ],
   "source": [
    "print(s1^s2)"
   ]
  },
  {
   "cell_type": "code",
   "execution_count": 63,
   "id": "8950a286-e288-488e-8804-db035b496851",
   "metadata": {},
   "outputs": [
    {
     "name": "stdout",
     "output_type": "stream",
     "text": [
      "{1, 2, 3, 4, 5, 6, 7, 8, 9}\n"
     ]
    }
   ],
   "source": [
    "s1 = {1,2,3,4,5,6,7,8,9}\n",
    "s2 = {10,20,50,60,70,80}\n",
    "print(s1.difference(s2))"
   ]
  },
  {
   "cell_type": "code",
   "execution_count": 69,
   "id": "81d3c9f9-eb78-4884-aefb-f670447193dc",
   "metadata": {},
   "outputs": [
    {
     "name": "stdout",
     "output_type": "stream",
     "text": [
      "{1, 2, 3, 70, 6, 7, 8, 10, 9, 80, 50, 20, 60}\n"
     ]
    }
   ],
   "source": [
    "s1 = {1,2,3,4,5,6,7,8,9}\n",
    "s2 = {10,20,50,60,4,5,70,80}\n",
    "print(s1.symmetric_difference(s2))"
   ]
  },
  {
   "cell_type": "code",
   "execution_count": 72,
   "id": "1021b5ea-0851-48ae-80db-0e9e9cdc971e",
   "metadata": {},
   "outputs": [
    {
     "name": "stdout",
     "output_type": "stream",
     "text": [
      "False\n"
     ]
    }
   ],
   "source": [
    "s1 = {2,3,4,5,6}\n",
    "s2 = {34,2,9,7}\n",
    "print(s1.isdisjoint(s2))"
   ]
  },
  {
   "cell_type": "code",
   "execution_count": 73,
   "id": "c700d804-1151-42c5-b8f7-7c0e598f661b",
   "metadata": {},
   "outputs": [
    {
     "name": "stdout",
     "output_type": "stream",
     "text": [
      "False\n"
     ]
    }
   ],
   "source": [
    "s1 = {2,3,4,5,6}\n",
    "s2 = {34,2,9,7,5,4,2}\n",
    "print(s1.isdisjoint(s2))"
   ]
  },
  {
   "cell_type": "code",
   "execution_count": 74,
   "id": "60df5291-eebb-45db-80cb-7773b4201d53",
   "metadata": {},
   "outputs": [
    {
     "name": "stdout",
     "output_type": "stream",
     "text": [
      "True\n"
     ]
    }
   ],
   "source": [
    "s1 = {1,2}\n",
    "s2 = {1,2,3,4,5}\n",
    "print(s1.issubset(s2))"
   ]
  },
  {
   "cell_type": "code",
   "execution_count": 76,
   "id": "54ab3682-06b6-4f60-a525-ecde9fce0227",
   "metadata": {},
   "outputs": [
    {
     "name": "stdout",
     "output_type": "stream",
     "text": [
      "True\n"
     ]
    }
   ],
   "source": [
    "s1 = {1,2}\n",
    "s2 = {1,2,3,4,5}\n",
    "print(s2.issuperset(s1))"
   ]
  },
  {
   "cell_type": "code",
   "execution_count": 2,
   "id": "436190dd-81e5-40f4-a32e-3aafafec0d4a",
   "metadata": {},
   "outputs": [
    {
     "name": "stdout",
     "output_type": "stream",
     "text": [
      "Set 1: {1, 2, 3, 4, 5}\n",
      "Set 2: {4, 5, 6, 7, 8}\n",
      "Common Elements: {4, 5}\n"
     ]
    }
   ],
   "source": [
    "set1 = {1, 2, 3, 4, 5}\n",
    "set2 = {4, 5, 6, 7, 8}\n",
    "common_elements = set1.intersection(set2)\n",
    "print(\"Set 1:\", set1)\n",
    "print(\"Set 2:\", set2)\n",
    "print(\"Common Elements:\", common_elements)bo"
   ]
  },
  {
   "cell_type": "code",
   "execution_count": 3,
   "id": "16faa612-8a6c-48cd-966e-9dd71cc66ae4",
   "metadata": {},
   "outputs": [
    {
     "name": "stdout",
     "output_type": "stream",
     "text": [
      "Set A: {1, 2, 3, 4, 5}\n",
      "Set B: {4, 5, 6, 7, 8}\n",
      "Symmetric Difference: {1, 2, 3, 6, 7, 8}\n"
     ]
    }
   ],
   "source": [
    "set1 = {1, 2, 3, 4, 5}\n",
    "set2 = {4, 5, 6, 7, 8}\n",
    "sym_diff = set1.symmetric_difference(set2)\n",
    "print(\"Set A:\", set1)\n",
    "print(\"Set B:\", set2)\n",
    "print(\"Symmetric Difference:\", sym_diff)"
   ]
  },
  {
   "cell_type": "code",
   "execution_count": 5,
   "id": "f36197d6-7f7a-4beb-9388-c77bcf8b127f",
   "metadata": {},
   "outputs": [
    {
     "data": {
      "text/plain": [
       "1"
      ]
     },
     "execution_count": 5,
     "metadata": {},
     "output_type": "execute_result"
    }
   ],
   "source": [
    "s = {1,2,3,4,5}\n",
    "s.pop()"
   ]
  },
  {
   "cell_type": "markdown",
   "id": "3ea7e0ea-981f-4c31-ad62-1ff7234d8ae9",
   "metadata": {},
   "source": [
    "# @ frozenset "
   ]
  },
  {
   "cell_type": "markdown",
   "id": "f96ad6e6-7cd4-4dff-9d57-af54d314f5e4",
   "metadata": {},
   "source": [
    " - Syntax :\n",
    "           set_name = frozenset ([arg1,arg2----])\n",
    " - Sets are mutable \n",
    " - Frozen sets are immutable \n",
    " - We cannot perform add,update function on set\n",
    " - We can perform the set oprations on the frozen set"
   ]
  },
  {
   "cell_type": "markdown",
   "id": "575c207b-c222-49dc-bd12-e8d9136df1dd",
   "metadata": {},
   "source": [
    "# @ Hashing"
   ]
  },
  {
   "cell_type": "markdown",
   "id": "4afbce08-c6ca-41bf-a069-2f099c694fb7",
   "metadata": {},
   "source": [
    " - It is called as hash table \n",
    " - Hash table is data structure\n",
    " - Whenever we are creating a dictionary in the memory hash table in created\n",
    " - It is widely used data structure in all the language\n",
    " - Almost all the language have the hash table implementation \n",
    " - Example :\n",
    "           java------hashmap\n",
    "           python--------dictionary\n",
    "           javascript-------object\n",
    "           c++----map()\n",
    "           golang------map()\n",
    " - It is a basic constructs of pl class and its member function mapping\n",
    " - Varible lookup table\n",
    " - Symbol table is also called  hash table\n",
    " - Hashing is technique for mapping\n",
    " - Isertion ,deletion,lookups all will take 0(1) order of one time\n",
    " - Hash function ------- k % N -------- function ------- key\n",
    " - Which block of main memory has to be placed where in chach\n",
    " - kth block means N/M --------- k mod N\n",
    " - N = no. of block in cache memory\n",
    " - If collision is occur hashing has own technique for that.\n",
    " - If you called own function __hash__\n"
   ]
  },
  {
   "cell_type": "markdown",
   "id": "c256a333-ac76-4c0f-beeb-953240276a68",
   "metadata": {},
   "source": [
    "# @ Dictionary"
   ]
  },
  {
   "cell_type": "markdown",
   "id": "84460fa8-102a-4e20-b398-d2bd62dc031c",
   "metadata": {},
   "source": [
    " - Inbuilt data structure in python \n",
    " - Wheneve we are creating a dtctionary inside the memory has table is creating\n",
    " - Dictionary is collection of unordered data items.\n",
    " - Dictionary will stored a data in key : value pair.\n",
    " - Syntax:\n",
    "    \n",
    "      dict_name =  {\"key1\":value1,\n",
    "                     \"key2\":value2,\n",
    "                    \"key3\":value3-------\n",
    "                }\n",
    " - If key is string the double quote\n",
    " - Key is not hasheble\n",
    " - The object which not hasheble that means it doesn't change\n",
    " - It should not be change\n",
    " - Key is always unique\n",
    " - Set and list as a key is not hashable means we cannot make these as dictionary key\n",
    " - Tuple,string,integer,float these are hashable so we can make it as dictionary key\n",
    " - We can make the changes in the contents of dictionary is mutable\n"
   ]
  },
  {
   "cell_type": "code",
   "execution_count": 2,
   "id": "e2d009a7-0876-4428-b6cf-be7bfe7f4a72",
   "metadata": {
    "collapsed": true,
    "jupyter": {
     "outputs_hidden": true
    }
   },
   "outputs": [
    {
     "data": {
      "text/plain": [
       "{1: 'mayur', 2: 'kulkerni'}"
      ]
     },
     "execution_count": 2,
     "metadata": {},
     "output_type": "execute_result"
    }
   ],
   "source": [
    "dict1 = {1:\"mayur\",2:\"kulkerni\"}\n",
    "dict1"
   ]
  },
  {
   "cell_type": "code",
   "execution_count": 4,
   "id": "aa01bd05-520b-4666-8f5e-d0af7b49cef9",
   "metadata": {},
   "outputs": [
    {
     "data": {
      "text/plain": [
       "{'hello': 1, 'how': 2, 'are': 3, 'you': 4}"
      ]
     },
     "execution_count": 4,
     "metadata": {},
     "output_type": "execute_result"
    }
   ],
   "source": [
    "dict1 = {\"hello\":1,\"how\":2,\"are\":3,\"you\":4}\n",
    "dict1"
   ]
  },
  {
   "cell_type": "code",
   "execution_count": 6,
   "id": "91d3eeab-235b-428d-a268-f3af9caa015f",
   "metadata": {},
   "outputs": [
    {
     "data": {
      "text/plain": [
       "'mayur'"
      ]
     },
     "execution_count": 6,
     "metadata": {},
     "output_type": "execute_result"
    }
   ],
   "source": [
    "dict={\n",
    "    1:\"mayur\",\n",
    "    2:\"xyz\"\n",
    "}\n",
    "dict[1]"
   ]
  },
  {
   "cell_type": "code",
   "execution_count": 11,
   "id": "549d2502-fcd9-4e1c-8755-61db90278fee",
   "metadata": {},
   "outputs": [
    {
     "data": {
      "text/plain": [
       "{1: 'mayur', 2: 'xyz', 'degree': 'xyz'}"
      ]
     },
     "execution_count": 11,
     "metadata": {},
     "output_type": "execute_result"
    }
   ],
   "source": [
    "dict[\"degree\"]=\"xyz\"\n",
    "dict"
   ]
  },
  {
   "cell_type": "code",
   "execution_count": 13,
   "id": "c131169d-e5fe-4237-b2a2-869a5257f81a",
   "metadata": {},
   "outputs": [
    {
     "data": {
      "text/plain": [
       "{1: 'mayur', 2: 'xyz'}"
      ]
     },
     "execution_count": 13,
     "metadata": {},
     "output_type": "execute_result"
    }
   ],
   "source": [
    "dict.pop(\"degree\")\n",
    "dict"
   ]
  },
  {
   "cell_type": "code",
   "execution_count": 18,
   "id": "d7c87eef-af0d-45af-9888-c9c07ef8e17b",
   "metadata": {},
   "outputs": [
    {
     "data": {
      "text/plain": [
       "{1: 'mayur'}"
      ]
     },
     "execution_count": 18,
     "metadata": {},
     "output_type": "execute_result"
    }
   ],
   "source": [
    "dict.popitem()\n",
    "dict"
   ]
  },
  {
   "cell_type": "code",
   "execution_count": 20,
   "id": "493ce108-e7cf-4746-97d3-fbaf5329c35b",
   "metadata": {},
   "outputs": [],
   "source": [
    "dict={\n",
    "    1:{1:\"kiran\",2:\"magare\"},\n",
    "    2:{\"a\":1,\"b\":2}\n",
    "}"
   ]
  },
  {
   "cell_type": "code",
   "execution_count": 22,
   "id": "fabfb233-542f-49d2-b83d-c56588d9dd84",
   "metadata": {},
   "outputs": [
    {
     "name": "stdout",
     "output_type": "stream",
     "text": [
      "{1: 'kiran', 2: 'magare'}\n",
      "{'a': 1, 'b': 2}\n"
     ]
    }
   ],
   "source": [
    "for key in dict:\n",
    "    print(dict [key])"
   ]
  },
  {
   "cell_type": "code",
   "execution_count": 25,
   "id": "e703c4a7-dbba-4e3d-a05a-27fc216e4b34",
   "metadata": {},
   "outputs": [
    {
     "name": "stdout",
     "output_type": "stream",
     "text": [
      "\n",
      "\n",
      "{'a': 1, 'b': 2}\n"
     ]
    }
   ],
   "source": [
    "def my_popitem(dict):\n",
    "    for key in dict:\n",
    "        print()\n",
    "    return dict [key]\n",
    "dict = {\n",
    "    1:{1:\"kiran\",2:\"magare\"},\n",
    "    2:{\"a\":1,\"b\":2}\n",
    "}\n",
    "print (my_popitem(dict))  "
   ]
  },
  {
   "cell_type": "code",
   "execution_count": 29,
   "id": "92aad059-f4cf-404c-8acb-7435402ba997",
   "metadata": {},
   "outputs": [
    {
     "name": "stdout",
     "output_type": "stream",
     "text": [
      "(1, {1: 'komal', 2: 'mali'})\n"
     ]
    }
   ],
   "source": [
    "def my_popitem(dict):\n",
    "    for key in dict:\n",
    "        value=dict [key]\n",
    "        return key,value\n",
    "dict = {\n",
    "    1:{1:\"komal\",2:\"mali\"},\n",
    "    2:{\"a\":1,\"b\":2}\n",
    "}\n",
    "print (my_popitem(dict))  "
   ]
  },
  {
   "cell_type": "code",
   "execution_count": 33,
   "id": "2a5b4d79-9e5d-43df-b82b-e37c4f7a222b",
   "metadata": {},
   "outputs": [
    {
     "name": "stdout",
     "output_type": "stream",
     "text": [
      "(1, {1: 'komal', 2: 'mali'})\n",
      "{1: {1: 'komal', 2: 'mali'}}\n"
     ]
    }
   ],
   "source": [
    "def my_popitem(dict):\n",
    "    for key in dict:\n",
    "        value=dict [key]\n",
    "        \n",
    "        return key,value\n",
    "dict = {\n",
    "\n",
    "    \n",
    "     1:{1:\"komal\",2:\"mali\"},\n",
    "    2:{\"a\":1,\"b\":2}\n",
    "}\n",
    "print (my_popitem(dict)) \n",
    "del dict [key]\n",
    "print(dict)"
   ]
  },
  {
   "cell_type": "code",
   "execution_count": 11,
   "id": "e61873d3-827b-43d4-a02b-42a0f14f1977",
   "metadata": {},
   "outputs": [
    {
     "data": {
      "text/plain": [
       "{'abc': 1, 'pqr': 2, 'xyz': 1}"
      ]
     },
     "execution_count": 11,
     "metadata": {},
     "output_type": "execute_result"
    }
   ],
   "source": [
    "dict = {\n",
    "    \"abc\":1,\n",
    "    \"pqr\":2,\n",
    "    \"xyz\":1,\n",
    "}\n",
    "dict"
   ]
  },
  {
   "cell_type": "code",
   "execution_count": 10,
   "id": "170a7cef-17c4-4d66-a08e-6efd1947ea1a",
   "metadata": {},
   "outputs": [
    {
     "data": {
      "text/plain": [
       "dict_items([('abc', 1), ('pqr', 2), ('xyz', 1)])"
      ]
     },
     "execution_count": 10,
     "metadata": {},
     "output_type": "execute_result"
    }
   ],
   "source": [
    "dict.items()"
   ]
  },
  {
   "cell_type": "code",
   "execution_count": 13,
   "id": "b9f38195-960a-4ed5-a97f-a1f94ce0b3c0",
   "metadata": {},
   "outputs": [
    {
     "data": {
      "text/plain": [
       "dict_values([1, 2, 1])"
      ]
     },
     "execution_count": 13,
     "metadata": {},
     "output_type": "execute_result"
    }
   ],
   "source": [
    "dict.values()"
   ]
  },
  {
   "cell_type": "code",
   "execution_count": 16,
   "id": "920adbb9-3389-424f-8cc2-111602b8a06c",
   "metadata": {},
   "outputs": [
    {
     "data": {
      "text/plain": [
       "{0: 1, 8: 1}"
      ]
     },
     "execution_count": 16,
     "metadata": {},
     "output_type": "execute_result"
    }
   ],
   "source": [
    "# creating list to dict\n",
    "list = [23,45,67,89,90,67,78,89]\n",
    "dict={}\n",
    "for ele in (0,len(list)):\n",
    "    dict [ele]=1\n",
    "dict\n",
    "    "
   ]
  },
  {
   "cell_type": "code",
   "execution_count": 37,
   "id": "df339bcf-6641-4cd4-b76c-d73995b035e0",
   "metadata": {},
   "outputs": [
    {
     "data": {
      "text/plain": [
       "{34: 0, 45: 1, 67: 2, 88: 3, 90: 4}"
      ]
     },
     "execution_count": 37,
     "metadata": {},
     "output_type": "execute_result"
    }
   ],
   "source": [
    "list=[34,45,67,88,90]\n",
    "dict={}\n",
    "for ele in range(0,len(list)):\n",
    "    dict[list[ele]]=ele\n",
    "dict"
   ]
  },
  {
   "cell_type": "code",
   "execution_count": 30,
   "id": "d6040a39-3094-4d6c-b848-e7ad2f2354c0",
   "metadata": {},
   "outputs": [
    {
     "name": "stdout",
     "output_type": "stream",
     "text": [
      "Same elements and their counts: {31: 2, 90: 2}\n"
     ]
    }
   ],
   "source": [
    "def common_elements(list1,list2): \n",
    "    for i in list1 + list2:\n",
    "        list1=[34,45,67,90,100]\n",
    "        list2=[12,34,50,80,101,103]\n",
    "common_elements = {key: value for key, value in combined_dict.items() if value > 1}\n",
    "print(\"Same elements and their counts:\",common_elements)"
   ]
  },
  {
   "cell_type": "code",
   "execution_count": 22,
   "id": "16f74db8-e032-426c-b15e-7f54b195f4e4",
   "metadata": {},
   "outputs": [
    {
     "name": "stdout",
     "output_type": "stream",
     "text": [
      "Combined dictionary: {31: 2, 45: 1, 67: 1, 89: 1, 90: 2, 100: 1, 12: 1, 56: 1, 78: 1, 101: 1, 102: 1, 103: 1}\n",
      "Same elements and their counts: {31: 2, 90: 2}\n"
     ]
    }
   ],
   "source": [
    "list1 = [31, 45, 67, 89, 90, 100]\n",
    "list2 = [12, 31, 56, 78, 90, 101, 102, 103]\n",
    "combined_dict = {}\n",
    "\n",
    "for item in list1 + list2:\n",
    "    combined_dict[item] = combined_dict.get(item, 0) + 1\n",
    "print(\"Combined dictionary:\", combined_dict)\n",
    "\n",
    "same_elements = {key: value for key, value in combined_dict.items() if value > 1}\n",
    "print(\"Same elements and their counts:\", same_elements)"
   ]
  },
  {
   "cell_type": "code",
   "execution_count": 33,
   "id": "fd754de4-7a63-4cfb-aedb-d63f4cc4665c",
   "metadata": {},
   "outputs": [
    {
     "name": "stdout",
     "output_type": "stream",
     "text": [
      "The sum of the values is: 332\n"
     ]
    }
   ],
   "source": [
    "   data = {\n",
    "    \"abc\": 100,\n",
    "    \"pqr\": 120,\n",
    "    \"xyz\": 34,\n",
    "    \"ijk\": 78\n",
    "}\n",
    "total = 0\n",
    "for value in data.values():\n",
    "    total += value\n",
    "print(\"The sum of the values is:\", total)"
   ]
  },
  {
   "cell_type": "code",
   "execution_count": 35,
   "id": "a8847d3e-53e4-4c81-8230-07af27442cc2",
   "metadata": {},
   "outputs": [
    {
     "name": "stdout",
     "output_type": "stream",
     "text": [
      "Maximum value: 120\n",
      "Minimum value: 34\n"
     ]
    }
   ],
   "source": [
    "  dict = {\n",
    "    \"abc\": 100,\n",
    "    \"pqr\": 120,\n",
    "    \"xyz\": 34,\n",
    "    \"ijk\": 78\n",
    "}\n",
    "max_value = max(dict.values())\n",
    "min_value = min(dict.values())\n",
    "\n",
    "print(\"Maximum value:\", max_value)\n",
    "print(\"Minimum value:\", min_value)"
   ]
  },
  {
   "cell_type": "code",
   "execution_count": 44,
   "id": "468ee845-b3e0-40b4-90a5-83964aeeda68",
   "metadata": {},
   "outputs": [
    {
     "name": "stdout",
     "output_type": "stream",
     "text": [
      "Maximum value: 120\n",
      "Minimum value: 34\n"
     ]
    }
   ],
   "source": [
    "dict = {\n",
    "    \"abc\": 100,\n",
    "    \"pqr\": 120,\n",
    "    \"xyz\": 34,\n",
    "    \"ijk\": 78\n",
    "}\n",
    "max_value = float('-inf')  \n",
    "min_value = float('inf')   \n",
    "for value in data.values():\n",
    "    if value > max_value:\n",
    "        max_value = value\n",
    "    if value < min_value:\n",
    "        min_value = value\n",
    "        \n",
    "print(\"Maximum value:\", max_value)\n",
    "print(\"Minimum value:\", min_value)"
   ]
  },
  {
   "cell_type": "code",
   "execution_count": 34,
   "id": "6e48f107-24b5-4e85-a4b8-f5ec5da0d1c5",
   "metadata": {},
   "outputs": [
    {
     "data": {
      "text/plain": [
       "1"
      ]
     },
     "execution_count": 34,
     "metadata": {},
     "output_type": "execute_result"
    }
   ],
   "source": [
    "len(dict)"
   ]
  },
  {
   "cell_type": "code",
   "execution_count": 40,
   "id": "0e258589-b1af-458d-8f0c-d4eee9bffd28",
   "metadata": {},
   "outputs": [
    {
     "data": {
      "text/plain": [
       "{'abc': 100, 'pqr': 120, 'xyz': 34, 'ijk': 78}"
      ]
     },
     "execution_count": 40,
     "metadata": {},
     "output_type": "execute_result"
    }
   ],
   "source": [
    " dict = {\n",
    "    \"abc\": 100,\n",
    "    \"pqr\": 120,\n",
    "    \"xyz\": 34,\n",
    "    \"ijk\": 78\n",
    "}\n",
    "my_dict=dict.copy()\n",
    "my_dict"
   ]
  },
  {
   "cell_type": "code",
   "execution_count": 41,
   "id": "f0e1d3fa-8d71-423a-ae72-cbde4b2ad9ae",
   "metadata": {},
   "outputs": [
    {
     "data": {
      "text/plain": [
       "{}"
      ]
     },
     "execution_count": 41,
     "metadata": {},
     "output_type": "execute_result"
    }
   ],
   "source": [
    "dict.clear()\n",
    "dict"
   ]
  },
  {
   "cell_type": "code",
   "execution_count": 42,
   "id": "90c7ce20-c036-40af-9dd6-93c6acb79ec1",
   "metadata": {},
   "outputs": [
    {
     "data": {
      "text/plain": [
       "{'abc': 100, 'pqr': 120, 'xyz': 34, 'ijk': 78, 'e': 500}"
      ]
     },
     "execution_count": 42,
     "metadata": {},
     "output_type": "execute_result"
    }
   ],
   "source": [
    " dict = {\n",
    "    \"abc\": 100,\n",
    "    \"pqr\": 120,\n",
    "    \"xyz\": 34,\n",
    "    \"ijk\": 78\n",
    "}\n",
    "dict[\"e\"]=500\n",
    "dict"
   ]
  },
  {
   "cell_type": "code",
   "execution_count": 43,
   "id": "67430e47-bf41-45da-92b3-0ea74ec35416",
   "metadata": {},
   "outputs": [
    {
     "data": {
      "text/plain": [
       "{'abc': 100, 'pqr': 120, 'xyz': 34, 'ijk': 78}"
      ]
     },
     "execution_count": 43,
     "metadata": {},
     "output_type": "execute_result"
    }
   ],
   "source": [
    "del dict[\"e\"]\n",
    "dict"
   ]
  },
  {
   "cell_type": "code",
   "execution_count": null,
   "id": "8344d67c-f44b-4825-89c6-51871f753506",
   "metadata": {},
   "outputs": [],
   "source": [
    "list1=[1,2,3,4,5,6,6,7,3,2,4]\n",
    "list2=[1,2,3,4,4,6,3,6,3,9]\n",
    "    for i in list1\n",
    "   \n",
    "    for i in list2 \n",
    "    return \n",
    "dict={}\n",
    "print  "
   ]
  },
  {
   "cell_type": "code",
   "execution_count": 48,
   "id": "830cfe25-885a-4d17-bf52-63ed66cb3735",
   "metadata": {},
   "outputs": [
    {
     "name": "stdout",
     "output_type": "stream",
     "text": [
      "[1, 2]\n"
     ]
    }
   ],
   "source": [
    "# In the given list return the element which came odd number of times\n",
    "list = [1,2,4,5,5,4,6,7,6,7]\n",
    "count_dict = {}\n",
    "for num in list:\n",
    "    count_dict[num] = count_dict.get(num, 0) + 1\n",
    "result = [key for key, value in count_dict.items() if vlue == 1 or value == 3]\n",
    "print(result)\n"
   ]
  },
  {
   "cell_type": "code",
   "execution_count": null,
   "id": "1129e010-2b39-4928-8f32-9ae055ec7304",
   "metadata": {},
   "outputs": [],
   "source": [
    "# Important\n",
    "1. list\n",
    "2. tuple\n",
    "3. string"
   ]
  },
  {
   "cell_type": "code",
   "execution_count": 4,
   "id": "67e01f3b-09a0-4414-9aa2-99fe933014bb",
   "metadata": {},
   "outputs": [
    {
     "name": "stdin",
     "output_type": "stream",
     "text": [
      "enter any number 5\n",
      "enter any number -6\n"
     ]
    },
    {
     "name": "stdout",
     "output_type": "stream",
     "text": [
      "False\n",
      "5 -6\n"
     ]
    }
   ],
   "source": [
    "a = int (input(\"enter any number\"))\n",
    "b = int (input(\"enter any number\"))\n",
    "if a^b < 0:\n",
    "  print (False)\n",
    "else:\n",
    "  print (True)\n",
    "print(a,b)"
   ]
  },
  {
   "cell_type": "markdown",
   "id": "ff2a5551-ad3d-44da-965e-72db86a24d57",
   "metadata": {},
   "source": [
    "# @ Tuple Slicing"
   ]
  },
  {
   "cell_type": "markdown",
   "id": "2a433f12-db64-4a55-b4ff-518c6277d6ee",
   "metadata": {},
   "source": [
    "- It will print the values within the specific range\n",
    "   Syntax:\n",
    "          tuple_name[start:end:stepsize]\n",
    "\n",
    "   stepsize\n",
    "           +ve--------traverse towards right\n",
    "           -ve--------traverse towards start"
   ]
  },
  {
   "cell_type": "code",
   "execution_count": 5,
   "id": "9fc42ea8-2c3b-4836-b0e0-abc8917a333a",
   "metadata": {},
   "outputs": [
    {
     "data": {
      "text/plain": [
       "(20, 70)"
      ]
     },
     "execution_count": 5,
     "metadata": {},
     "output_type": "execute_result"
    }
   ],
   "source": [
    "t = (10,20,30,40,50,60,70,80)\n",
    "t[1::5]"
   ]
  },
  {
   "cell_type": "code",
   "execution_count": 6,
   "id": "fe0a5996-aa55-4081-a43f-3e0d2ace3f31",
   "metadata": {},
   "outputs": [
    {
     "data": {
      "text/plain": [
       "(10, 20, 30, 40, 50, 60, 70, 80)"
      ]
     },
     "execution_count": 6,
     "metadata": {},
     "output_type": "execute_result"
    }
   ],
   "source": [
    "t[::]"
   ]
  },
  {
   "cell_type": "code",
   "execution_count": 7,
   "id": "b047c305-5078-488a-b275-5ccaa4472e90",
   "metadata": {},
   "outputs": [
    {
     "data": {
      "text/plain": [
       "(80, 70, 60, 50, 40, 30, 20, 10)"
      ]
     },
     "execution_count": 7,
     "metadata": {},
     "output_type": "execute_result"
    }
   ],
   "source": [
    "t[::-1]"
   ]
  },
  {
   "cell_type": "code",
   "execution_count": 8,
   "id": "e5bc94fc-aae7-4f9a-8d18-48f05118ccfd",
   "metadata": {},
   "outputs": [
    {
     "data": {
      "text/plain": [
       "(40, 50)"
      ]
     },
     "execution_count": 8,
     "metadata": {},
     "output_type": "execute_result"
    }
   ],
   "source": [
    "t[-5:-3]"
   ]
  },
  {
   "cell_type": "code",
   "execution_count": 9,
   "id": "fd0b4763-4e0f-4271-aad7-7ae801c9daa1",
   "metadata": {},
   "outputs": [
    {
     "data": {
      "text/plain": [
       "(40,)"
      ]
     },
     "execution_count": 9,
     "metadata": {},
     "output_type": "execute_result"
    }
   ],
   "source": [
    "t[-5:-4]"
   ]
  },
  {
   "cell_type": "code",
   "execution_count": 13,
   "id": "0775d76b-a874-448b-ace5-870671c1bd34",
   "metadata": {},
   "outputs": [
    {
     "data": {
      "text/plain": [
       "(80,)"
      ]
     },
     "execution_count": 13,
     "metadata": {},
     "output_type": "execute_result"
    }
   ],
   "source": [
    "t[:-2:-1]"
   ]
  },
  {
   "cell_type": "code",
   "execution_count": 12,
   "id": "dbe4b766-ea61-4569-a9ad-2db1a35e881c",
   "metadata": {},
   "outputs": [
    {
     "data": {
      "text/plain": [
       "(30,)"
      ]
     },
     "execution_count": 12,
     "metadata": {},
     "output_type": "execute_result"
    }
   ],
   "source": [
    "t[-6::-3]"
   ]
  },
  {
   "cell_type": "code",
   "execution_count": 14,
   "id": "07fedb2e-5071-4503-8a30-bd888d5b2f61",
   "metadata": {},
   "outputs": [
    {
     "data": {
      "text/plain": [
       "(80, 50)"
      ]
     },
     "execution_count": 14,
     "metadata": {},
     "output_type": "execute_result"
    }
   ],
   "source": [
    "t[:-6:-3]"
   ]
  },
  {
   "cell_type": "code",
   "execution_count": null,
   "id": "d686eeca-c14d-4517-9c82-00bbc95c04ad",
   "metadata": {},
   "outputs": [],
   "source": [
    "t[-6:]"
   ]
  },
  {
   "cell_type": "markdown",
   "id": "883f0084-4e5a-4b91-986f-115cbf765cfe",
   "metadata": {},
   "source": [
    "# @ String "
   ]
  },
  {
   "cell_type": "markdown",
   "id": "9ae573d9-d1e7-4bae-8189-4d42e59338a4",
   "metadata": {},
   "source": [
    "- Sequence of character is a string\n",
    "- Syntax:\n",
    "        String_name=\"\"or''or''''''\n",
    "- How to store string inside the memory:\n",
    "  String = \"k\"1byte\n",
    "  ASCIT - code-decimal codes for the characters\n",
    "- String are immutable \n",
    "- Through indexing\n",
    "- Slicing \n",
    "  len()\n",
    "  replace()\n",
    "  contacatenation: +\n",
    "  equality : ==\n",
    "\n",
    "- We cant change the contents of string\n",
    "\n",
    "- Through indexing we access the string"
   ]
  },
  {
   "cell_type": "code",
   "execution_count": 15,
   "id": "48e91597-ff54-47ec-bcd2-0b685523bf8d",
   "metadata": {},
   "outputs": [
    {
     "data": {
      "text/plain": [
       "str"
      ]
     },
     "execution_count": 15,
     "metadata": {},
     "output_type": "execute_result"
    }
   ],
   "source": [
    "stri = \"komal\"\n",
    "type(stri)\n",
    "str"
   ]
  },
  {
   "cell_type": "code",
   "execution_count": 16,
   "id": "e7bc1f6e-1f66-4f01-a08a-26dac63d9da5",
   "metadata": {},
   "outputs": [
    {
     "data": {
      "text/plain": [
       "'h'"
      ]
     },
     "execution_count": 16,
     "metadata": {},
     "output_type": "execute_result"
    }
   ],
   "source": [
    "# accessing the string element\n",
    "stri=\"how are you\"\n",
    "stri[0]"
   ]
  },
  {
   "cell_type": "code",
   "execution_count": 18,
   "id": "84e089ef-6c22-4b29-8595-f20c9fff8a82",
   "metadata": {},
   "outputs": [
    {
     "data": {
      "text/plain": [
       "'e'"
      ]
     },
     "execution_count": 18,
     "metadata": {},
     "output_type": "execute_result"
    }
   ],
   "source": [
    "stri[6]"
   ]
  },
  {
   "cell_type": "code",
   "execution_count": 22,
   "id": "00e06162-4453-4532-a77e-987d5ca7bfad",
   "metadata": {},
   "outputs": [
    {
     "name": "stdout",
     "output_type": "stream",
     "text": [
      "h\n",
      "o\n",
      "w\n",
      " \n",
      "a\n",
      "r\n",
      "e\n",
      " \n",
      "y\n",
      "o\n",
      "u\n"
     ]
    }
   ],
   "source": [
    "stri=\"how are you\"\n",
    "for i in stri:\n",
    "    print(i)"
   ]
  },
  {
   "cell_type": "code",
   "execution_count": 48,
   "id": "fe5f55a7-5c58-442d-800d-8c4d2d492094",
   "metadata": {},
   "outputs": [
    {
     "name": "stdout",
     "output_type": "stream",
     "text": [
      "True\n"
     ]
    }
   ],
   "source": [
    "s = \"aababaaabbaabbb\"\n",
    "p = \"aabb\"\n",
    "for i in s:\n",
    "    for j in p:\n",
    "        if i==j:\n",
    "            break;\n",
    "print (True)\n"
   ]
  },
  {
   "cell_type": "code",
   "execution_count": 49,
   "id": "549caacd-64b1-4ce3-a11a-1b8b44c0c2a6",
   "metadata": {},
   "outputs": [
    {
     "name": "stdout",
     "output_type": "stream",
     "text": [
      "goodnight\n"
     ]
    }
   ],
   "source": [
    "s1 =\"good\"\n",
    "s2 =\"night\"\n",
    "print(s1+s2)"
   ]
  },
  {
   "cell_type": "code",
   "execution_count": 54,
   "id": "61105c37-bae7-4307-b8cc-cb99dd435462",
   "metadata": {},
   "outputs": [
    {
     "data": {
      "text/plain": [
       "'e'"
      ]
     },
     "execution_count": 54,
     "metadata": {},
     "output_type": "execute_result"
    }
   ],
   "source": [
    "s = \"helo guys\"\n",
    "s[1]"
   ]
  },
  {
   "cell_type": "code",
   "execution_count": 55,
   "id": "31b0485d-a2f0-47c6-99e7-ceb575caab73",
   "metadata": {},
   "outputs": [
    {
     "data": {
      "text/plain": [
       "'syug oleh'"
      ]
     },
     "execution_count": 55,
     "metadata": {},
     "output_type": "execute_result"
    }
   ],
   "source": [
    "s[::-1]"
   ]
  },
  {
   "cell_type": "code",
   "execution_count": 58,
   "id": "eac52034-13ce-4ed1-bf1a-acdc5744e40f",
   "metadata": {},
   "outputs": [
    {
     "data": {
      "text/plain": [
       "'lo guys'"
      ]
     },
     "execution_count": 58,
     "metadata": {},
     "output_type": "execute_result"
    }
   ],
   "source": [
    "s.replace(\"he\",\"\")\n"
   ]
  },
  {
   "cell_type": "code",
   "execution_count": 59,
   "id": "4e352d14-6336-4d2d-bd2c-4bd705d178c3",
   "metadata": {},
   "outputs": [
    {
     "data": {
      "text/plain": [
       "'12'"
      ]
     },
     "execution_count": 59,
     "metadata": {},
     "output_type": "execute_result"
    }
   ],
   "source": [
    "a = \"12GB\"\n",
    "a.replace(\"GB\",'')"
   ]
  },
  {
   "cell_type": "code",
   "execution_count": 60,
   "id": "2911cd5d-70be-4b40-a3bb-b79d4038a5eb",
   "metadata": {},
   "outputs": [
    {
     "name": "stdout",
     "output_type": "stream",
     "text": [
      "MAYUR\n"
     ]
    }
   ],
   "source": [
    "str1 = \"mayur\"\n",
    "print(str1.upper())"
   ]
  },
  {
   "cell_type": "code",
   "execution_count": 61,
   "id": "701ed8ea-bb82-438d-acdc-ed9d6e0d6fc1",
   "metadata": {},
   "outputs": [
    {
     "name": "stdout",
     "output_type": "stream",
     "text": [
      "mayur\n"
     ]
    }
   ],
   "source": [
    "str1 = \"MAYUR\"\n",
    "print(str1.lower())"
   ]
  },
  {
   "cell_type": "code",
   "execution_count": 40,
   "id": "f8a68388-78ac-46ed-97ab-097fd9e215cd",
   "metadata": {},
   "outputs": [
    {
     "name": "stdin",
     "output_type": "stream",
     "text": [
      "Enter any string abc\n"
     ]
    },
    {
     "name": "stdout",
     "output_type": "stream",
     "text": [
      "not pallindrom\n"
     ]
    }
   ],
   "source": [
    "a=input(\"Enter any string\")\n",
    "if a==a[::-1]:\n",
    "    print(\"pallindrom\")\n",
    "else:\n",
    "    print(\"not pallindrom\")"
   ]
  },
  {
   "cell_type": "code",
   "execution_count": 6,
   "id": "b42a908e-4696-41be-9f5f-313c530f9a26",
   "metadata": {},
   "outputs": [
    {
     "name": "stdout",
     "output_type": "stream",
     "text": [
      "Original string: 'how are you'\n",
      "Length of string: 11\n",
      "Duplicate characters: ['o', ' ']\n"
     ]
    }
   ],
   "source": [
    "my_string = \"how are you\"\n",
    "duplicates = []\n",
    "length_of_string = len(my_string)\n",
    "for i in range(length_of_string):\n",
    "    char = my_string[i]\n",
    "    if my_string.count(char) > 1 and char not in duplicates:\n",
    "        duplicates.append(char)\n",
    "print(f\"Original string: '{my_string}'\")\n",
    "print(f\"Length of string: {length_of_string}\")\n",
    "print(f\"Duplicate characters: {duplicates}\")"
   ]
  },
  {
   "cell_type": "code",
   "execution_count": 1,
   "id": "b27dc2b4-809d-432c-b540-0c727e1b0d23",
   "metadata": {},
   "outputs": [
    {
     "name": "stdin",
     "output_type": "stream",
     "text": [
      "Enter a string:  google.com\n"
     ]
    },
    {
     "name": "stdout",
     "output_type": "stream",
     "text": [
      "Character counts: {'g': 2, 'o': 3, 'l': 1, 'e': 1, '.': 1, 'c': 1, 'm': 1}\n"
     ]
    }
   ],
   "source": [
    "input_string = input(\"Enter a string: \")\n",
    "char_count = {}\n",
    "for char in input_string:\n",
    "    char_count[char] = char_count.get(char, 0) + 1\n",
    "print(\"Character counts:\", char_count)"
   ]
  },
  {
   "cell_type": "code",
   "execution_count": 39,
   "id": "96b2e3c7-aa14-466f-ac1f-c991d414eed7",
   "metadata": {},
   "outputs": [
    {
     "name": "stdout",
     "output_type": "stream",
     "text": [
      "goom\n"
     ]
    }
   ],
   "source": [
    "def firstandlast(string):\n",
    "      if len(string)<2:\n",
    "          return \"\"\n",
    "      else :\n",
    "          return string[:2:]+string[len(string)-2::]\n",
    "print(firstandlast(\"google.com\"))\n"
   ]
  },
  {
   "cell_type": "code",
   "execution_count": 42,
   "id": "46a8d8db-935e-4e9d-a6b5-145c1ed81c79",
   "metadata": {},
   "outputs": [
    {
     "name": "stdout",
     "output_type": "stream",
     "text": [
      "First two string: go\n",
      "Last two string: om\n"
     ]
    }
   ],
   "source": [
    "s=\"google.com\"\n",
    "print(\"First two string:\",s[:2:])\n",
    "print(\"Last two string:\",s[-2::1])"
   ]
  },
  {
   "cell_type": "code",
   "execution_count": 41,
   "id": "9880445a-d38c-4c48-a1f6-903cf6f60425",
   "metadata": {},
   "outputs": [
    {
     "name": "stdout",
     "output_type": "stream",
     "text": [
      "google\n"
     ]
    }
   ],
   "source": [
    "string= \"GOOGLE\"\n",
    "print(string.lower())"
   ]
  },
  {
   "cell_type": "code",
   "execution_count": 3,
   "id": "b3f9dd7e-ff12-433b-a33a-d419ae498685",
   "metadata": {},
   "outputs": [
    {
     "name": "stdout",
     "output_type": "stream",
     "text": [
      "16\n"
     ]
    }
   ],
   "source": [
    "string = \"abbbabbbabbbabbbbabba\"\n",
    "print(string.find(\"babba\"))"
   ]
  },
  {
   "cell_type": "code",
   "execution_count": 4,
   "id": "2d239e04-0e95-43ec-b2bd-d593b5afb163",
   "metadata": {},
   "outputs": [
    {
     "name": "stdout",
     "output_type": "stream",
     "text": [
      "('hello how ', 'are', ' you')\n"
     ]
    }
   ],
   "source": [
    "string = \"hello how are you\"\n",
    "print(string.partition(\"are\"))"
   ]
  },
  {
   "cell_type": "code",
   "execution_count": 5,
   "id": "ee0016e7-4678-41e4-906e-6f7e008f88d5",
   "metadata": {},
   "outputs": [
    {
     "name": "stdout",
     "output_type": "stream",
     "text": [
      "('hello ', 'world', '')\n"
     ]
    }
   ],
   "source": [
    "string = \"hello world\"\n",
    "print(string.partition(\"world\"))"
   ]
  },
  {
   "cell_type": "code",
   "execution_count": 6,
   "id": "07ca3e6e-f274-4124-ab25-f4b075256d12",
   "metadata": {},
   "outputs": [
    {
     "name": "stdout",
     "output_type": "stream",
     "text": [
      "('', 'hello', '')\n"
     ]
    }
   ],
   "source": [
    "string = \"hello\"\n",
    "print(string.partition(\"hello\"))"
   ]
  },
  {
   "cell_type": "code",
   "execution_count": 38,
   "id": "fb26fcd1-8ab3-4a6e-8f45-8af8902ad9af",
   "metadata": {},
   "outputs": [
    {
     "name": "stdout",
     "output_type": "stream",
     "text": [
      "['hello', 'how', 'are', 'you', 'guys?']\n"
     ]
    }
   ],
   "source": [
    "# Find the largest word in the string\n",
    "def largestword(string_list):\n",
    "    list=[]\n",
    "    for i in string_list:\n",
    "        list.append(i)\n",
    "    return list\n",
    "print(largestword([\"hello\",\"how\",\"are\",\"you\",\"guys?\"]))"
   ]
  },
  {
   "cell_type": "code",
   "execution_count": 8,
   "id": "1dce8dc4-3588-497d-8a46-ef6ace276a4c",
   "metadata": {},
   "outputs": [
    {
     "name": "stdout",
     "output_type": "stream",
     "text": [
      "List of words: ['hello', 'how', 'are', 'you', 'guys?']\n"
     ]
    }
   ],
   "source": [
    "# by using dict\n",
    "input_string = \"hello how are you guys?\"\n",
    "word_list = []\n",
    "current_word = \"\"\n",
    "for char in input_string:\n",
    "    if char == \" \":  \n",
    "        if current_word:  \n",
    "            word_list.append(current_word)\n",
    "            current_word = \"\"  \n",
    "    else:\n",
    "        current_word += char  \n",
    "if current_word:\n",
    "    word_list.append(current_word)\n",
    "print(\"List of words:\", word_list)"
   ]
  },
  {
   "cell_type": "code",
   "execution_count": 9,
   "id": "668dc9ee-6394-4cd9-855d-8e340a4e3121",
   "metadata": {},
   "outputs": [
    {
     "name": "stdout",
     "output_type": "stream",
     "text": [
      "['hello', 'how', 'are', 'you?']\n"
     ]
    }
   ],
   "source": [
    "s = \"hello how are you?\"\n",
    "print(s.split())"
   ]
  },
  {
   "cell_type": "code",
   "execution_count": 10,
   "id": "ff4cbf7f-8626-4db9-8dbe-206fb562b795",
   "metadata": {},
   "outputs": [
    {
     "name": "stdout",
     "output_type": "stream",
     "text": [
      "['hello how are you?']\n"
     ]
    }
   ],
   "source": [
    "s = \"hello how are you?\"\n",
    "print(s.split(','))"
   ]
  },
  {
   "cell_type": "code",
   "execution_count": 11,
   "id": "621bebc4-17b4-4906-8876-b52796f798a7",
   "metadata": {},
   "outputs": [
    {
     "name": "stdout",
     "output_type": "stream",
     "text": [
      "String after swapping: you how are Hello\n"
     ]
    }
   ],
   "source": [
    "#write a program to swaping the first and last\n",
    "input_string = \"Hello how are you\"\n",
    "word_list = []\n",
    "current_word = \"\"\n",
    "for char in input_string:\n",
    "    if char == \" \":  \n",
    "        if current_word:\n",
    "            word_list.append(current_word)\n",
    "            current_word = \"\"\n",
    "    else:\n",
    "        current_word += char\n",
    "if current_word:\n",
    "    word_list.append(current_word)\n",
    "if len(word_list) > 1:  \n",
    "    word_list[0], word_list[-1] = word_list[-1], word_list[0]\n",
    "swapped_string = \" \".join(word_list)\n",
    "print(\"String after swapping:\", swapped_string)"
   ]
  },
  {
   "cell_type": "code",
   "execution_count": 12,
   "id": "00f9b355-891f-46be-9ee0-7fe42d0e0e79",
   "metadata": {},
   "outputs": [
    {
     "name": "stdout",
     "output_type": "stream",
     "text": [
      "False\n"
     ]
    }
   ],
   "source": [
    "string = \"hello how are you\"\n",
    "print(string.startswith('bye'))"
   ]
  },
  {
   "cell_type": "code",
   "execution_count": 13,
   "id": "1568012b-6adf-4229-a121-74a35eb0c1f4",
   "metadata": {},
   "outputs": [
    {
     "name": "stdout",
     "output_type": "stream",
     "text": [
      "True\n"
     ]
    }
   ],
   "source": [
    "string = '444001'\n",
    "print(string.isnumeric())"
   ]
  },
  {
   "cell_type": "code",
   "execution_count": 14,
   "id": "b3c79248-e650-487a-a149-a754e969f581",
   "metadata": {},
   "outputs": [
    {
     "name": "stdout",
     "output_type": "stream",
     "text": [
      "False\n"
     ]
    }
   ],
   "source": [
    "string = \"hello\"\n",
    "print(string.isnumeric())"
   ]
  },
  {
   "cell_type": "code",
   "execution_count": 15,
   "id": "9e55defb-8937-4a76-bfd0-0db3c21adfa7",
   "metadata": {},
   "outputs": [
    {
     "name": "stdout",
     "output_type": "stream",
     "text": [
      "4\n"
     ]
    }
   ],
   "source": [
    "string = \"how are you\"\n",
    "print(string.index(\"are\"))"
   ]
  },
  {
   "cell_type": "code",
   "execution_count": 17,
   "id": "8315829e-71ce-4807-ac35-1a6728028316",
   "metadata": {},
   "outputs": [
    {
     "name": "stdout",
     "output_type": "stream",
     "text": [
      "abbab\n",
      "abbababbab\n",
      "abbababbababbab\n",
      "abbababbababbababbab\n",
      "abbababbababbababbababbab\n",
      "abbababbababbababbababbababbab\n"
     ]
    }
   ],
   "source": [
    "rows = 6\n",
    "pattern = \"abbab\"\n",
    "for i in range(1, rows + 1):\n",
    "    print(pattern * i)"
   ]
  },
  {
   "cell_type": "code",
   "execution_count": 20,
   "id": "46dc5581-4b88-42c1-b982-d1d21c974b79",
   "metadata": {},
   "outputs": [
    {
     "name": "stdout",
     "output_type": "stream",
     "text": [
      "Compressed string: a4b4c6\n"
     ]
    }
   ],
   "source": [
    "s = \"aaaabbbbcccccc\"\n",
    "def compress_string(s):\n",
    "    compressed = []\n",
    "    count = 1\n",
    "\n",
    "    for i in range(1, len(s)):\n",
    "        if s[i] == s[i - 1]:\n",
    "            count += 1\n",
    "        else:\n",
    "            compressed.append(s[i - 1] + str(count))\n",
    "            count = 1\n",
    "\n",
    "    compressed.append(s[-1] + str(count))\n",
    "\n",
    "    return \"\".join(compressed)\n",
    "compressed = compress_string(s)\n",
    "print(\"Compressed string:\", compressed)"
   ]
  },
  {
   "cell_type": "code",
   "execution_count": 36,
   "id": "d4e802bd-00fa-4905-9ea3-d651e04a28be",
   "metadata": {},
   "outputs": [
    {
     "name": "stdout",
     "output_type": "stream",
     "text": [
      "a\n",
      "ab\n",
      "abc\n",
      "abcb\n",
      "abcba\n",
      "abcbab\n",
      "abcbaba\n",
      "abcbabab\n",
      "b\n",
      "bc\n",
      "bcb\n",
      "bcba\n",
      "bcbab\n",
      "bcbaba\n",
      "bcbabab\n",
      "c\n",
      "cb\n",
      "cba\n",
      "cbab\n",
      "cbaba\n",
      "cbabab\n",
      "b\n",
      "ba\n",
      "bab\n",
      "baba\n",
      "babab\n",
      "a\n",
      "ab\n",
      "aba\n",
      "abab\n",
      "b\n",
      "ba\n",
      "bab\n",
      "a\n",
      "ab\n",
      "b\n",
      "None\n"
     ]
    }
   ],
   "source": [
    "def substring(s):\n",
    "    for i in range(0,len(s)):\n",
    "        for j in range(i+1,len(s)+1):\n",
    "            s1=s[i:j]\n",
    "            print(s1)\n",
    "s=\"abcbabab\"\n",
    "print(substring(s))"
   ]
  },
  {
   "cell_type": "code",
   "execution_count": 35,
   "id": "ae1c9f47-77e4-473a-bc1d-281248349eef",
   "metadata": {},
   "outputs": [
    {
     "name": "stdout",
     "output_type": "stream",
     "text": [
      "a\n",
      "ab\n",
      "abc\n",
      "abcc\n",
      "abccb\n",
      "abccba\n",
      "abccb\n",
      "abcc\n",
      "abc\n",
      "ab\n",
      "a\n"
     ]
    }
   ],
   "source": [
    "s = \"abccba\"\n",
    "for i in range(1, len(s) + 1):\n",
    "    print(s[:i]) \n",
    "for i in range(len(s) - 1, 0, -1):\n",
    "    print(s[:i])"
   ]
  },
  {
   "cell_type": "code",
   "execution_count": 49,
   "id": "d4d842d7-385d-403e-9bd3-220600db3d0a",
   "metadata": {},
   "outputs": [
    {
     "name": "stdout",
     "output_type": "stream",
     "text": [
      "Compressed string: g1o2g1l1e1.1c1o1m1\n"
     ]
    }
   ],
   "source": [
    "def compress_string(s):\n",
    "    compressed = []\n",
    "    count = 1\n",
    "    for i in range(1, len(s)):\n",
    "        if s[i] == s[i - 1]:\n",
    "            count += 1\n",
    "        else:\n",
    "            compressed.append(s[i - 1] + str(count))\n",
    "            count = 1\n",
    "\n",
    "    compressed.append(s[-1] + str(count))\n",
    "\n",
    "    return \"\".join(compressed)\n",
    "compressed = compress_string(s)\n",
    "print(\"Compressed string:\",compressed)"
   ]
  },
  {
   "cell_type": "code",
   "execution_count": 25,
   "id": "5c7eef2e-d97b-429a-8b87-8ae8b3d82f2e",
   "metadata": {},
   "outputs": [
    {
     "name": "stdout",
     "output_type": "stream",
     "text": [
      "Toggled string: MAyur\n"
     ]
    }
   ],
   "source": [
    "s = \"maYUR\"\n",
    "toggled = \"\"\n",
    "for char in s:\n",
    "    if 'a' <= char <= 'z':  \n",
    "        toggled += chr(ord(char) - 32)  \n",
    "    elif 'A' <= char <= 'Z':  \n",
    "        toggled += chr(ord(char) + 32) \n",
    "    else:\n",
    "        toggled += char  \n",
    "print(\"Toggled string:\", toggled)"
   ]
  },
  {
   "cell_type": "code",
   "execution_count": 26,
   "id": "9d94efa7-282a-4437-ac28-9bb24e04972d",
   "metadata": {},
   "outputs": [
    {
     "name": "stdout",
     "output_type": "stream",
     "text": [
      "MAyur\n"
     ]
    }
   ],
   "source": [
    "def asciivalue(s):\n",
    "    result = \"\"\n",
    "    for i in s:\n",
    "        if 'A' <= i <= 'Z':\n",
    "            result += chr(ord(i) + ord('a') - ord('A'))  \n",
    "        elif 'a' <= i <= 'z':  \n",
    "            result += chr(ord(i) - ord('a') + ord('A'))  \n",
    "        else:\n",
    "            return None  \n",
    "    return result\n",
    "s = \"maYUR\"\n",
    "print(asciivalue(s)) \n"
   ]
  },
  {
   "cell_type": "code",
   "execution_count": 27,
   "id": "6e2d1327-82df-4e23-8f32-f70df4c00d40",
   "metadata": {},
   "outputs": [
    {
     "name": "stdout",
     "output_type": "stream",
     "text": [
      "Sorted words: one two three five seven\n"
     ]
    }
   ],
   "source": [
    "#sorting the string \n",
    "s = \"seven five one two three\"\n",
    "word_to_number = {\n",
    "    \"one\": 1,\n",
    "    \"two\": 2,\n",
    "    \"three\": 3,\n",
    "    \"four\": 4,\n",
    "    \"five\": 5,\n",
    "    \"six\": 6,\n",
    "    \"seven\": 7,\n",
    "    \"eight\": 8,\n",
    "    \"nine\": 9,\n",
    "    \"zero\": 0\n",
    "}\n",
    "words = s.split()\n",
    "sorted_words = sorted(words, key=lambda word: word_to_number[word])\n",
    "\n",
    "result = \" \".join(sorted_words)\n",
    "print(\"Sorted words:\",result)"
   ]
  },
  {
   "cell_type": "code",
   "execution_count": 31,
   "id": "454a9358-a122-4ec0-84d0-1bbadf0aa7ff",
   "metadata": {},
   "outputs": [
    {
     "data": {
      "text/plain": [
       "' How are you '"
      ]
     },
     "execution_count": 31,
     "metadata": {},
     "output_type": "execute_result"
    }
   ],
   "source": [
    "s=\"@@@@@@@@@@@@@@ How are you @@@@@@@@@@@@@@@@\"\n",
    "s.strip('@')"
   ]
  },
  {
   "cell_type": "code",
   "execution_count": 32,
   "id": "2b7f545e-79cf-4653-8483-035dd24eed91",
   "metadata": {},
   "outputs": [
    {
     "data": {
      "text/plain": [
       "'how are you @@@@@@@@@@@@@'"
      ]
     },
     "execution_count": 32,
     "metadata": {},
     "output_type": "execute_result"
    }
   ],
   "source": [
    "'how are you @@@@@@@@@@@@@'"
   ]
  },
  {
   "cell_type": "code",
   "execution_count": 33,
   "id": "7e4badcf-7536-413a-9dc4-ab93636ab887",
   "metadata": {},
   "outputs": [
    {
     "data": {
      "text/plain": [
       "' How are you @@@@@@@@@@@@@@@@'"
      ]
     },
     "execution_count": 33,
     "metadata": {},
     "output_type": "execute_result"
    }
   ],
   "source": [
    "s.lstrip(\"@\")"
   ]
  },
  {
   "cell_type": "code",
   "execution_count": 34,
   "id": "3a570705-4a87-4253-b08e-09dc5100c939",
   "metadata": {},
   "outputs": [
    {
     "data": {
      "text/plain": [
       "'@@@@@@@@@@@@@@ How are you '"
      ]
     },
     "execution_count": 34,
     "metadata": {},
     "output_type": "execute_result"
    }
   ],
   "source": [
    "s.rstrip('@')"
   ]
  }
 ],
 "metadata": {
  "kernelspec": {
   "display_name": "Python 3 (ipykernel)",
   "language": "python",
   "name": "python3"
  },
  "language_info": {
   "codemirror_mode": {
    "name": "ipython",
    "version": 3
   },
   "file_extension": ".py",
   "mimetype": "text/x-python",
   "name": "python",
   "nbconvert_exporter": "python",
   "pygments_lexer": "ipython3",
   "version": "3.13.0"
  }
 },
 "nbformat": 4,
 "nbformat_minor": 5
}
