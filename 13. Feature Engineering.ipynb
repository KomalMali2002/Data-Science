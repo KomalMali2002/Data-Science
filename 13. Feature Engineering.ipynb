{
 "cells": [
  {
   "cell_type": "markdown",
   "id": "08f39c86-425d-4ca9-9bb9-1b73ceb0a1b2",
   "metadata": {},
   "source": [
    "# 19/05/2025"
   ]
  },
  {
   "cell_type": "markdown",
   "id": "433e155d-e734-4fd2-bbb0-2c8f400cd397",
   "metadata": {},
   "source": [
    "# @ Feature Engineering"
   ]
  },
  {
   "cell_type": "markdown",
   "id": "03534c18-d714-452b-b979-ddc9f1a07759",
   "metadata": {},
   "source": [
    "# @ Relationship Between the Random variables :\n",
    "- X:height of a student\n",
    "\n",
    "- Y:Weight of a student\n",
    "\n",
    "- Q. find is there any relationship between X and Y?\n",
    "\n",
    "- Class---->taken --->student--->\n",
    "\n",
    "- X increases---->y increses?\n",
    "\n",
    "- X increases---->Y decreases?\n",
    "\n",
    "# @ We have a three measures for this\n",
    " - Co-variance\n",
    " - Pearsen coefficient of correlation\n",
    " - Spearmens rank correlations"
   ]
  },
  {
   "cell_type": "markdown",
   "id": "9dbbae9c-97d1-4e64-ba0a-fed0d0929ee3",
   "metadata": {},
   "source": [
    " # 1 . Co-Variance \n",
    " - Somewhat similar to variance\n",
    " - If we have two RV X and Y and we find the covariance by changeing the measures then the covariance will change this is a drawback of covariance \n",
    " - This is solved using Pearson coefficient of correlation\n",
    " - Corelation doesn't imply the causation\n",
    " - X and Y -------> RV\n",
    " - corr(X,Y)----->it doesn't mean that X causes Y or Y causes X\n"
   ]
  },
  {
   "cell_type": "code",
   "execution_count": 7,
   "id": "8cabad0f-0d80-4f03-8028-c7091a25f99f",
   "metadata": {},
   "outputs": [],
   "source": [
    "import numpy as np "
   ]
  },
  {
   "cell_type": "code",
   "execution_count": 8,
   "id": "cfb01891-6bf0-4bf4-9989-d5082bdf40ff",
   "metadata": {},
   "outputs": [
    {
     "data": {
      "text/plain": [
       "array([[134.16666667,  80.        ],\n",
       "       [ 80.        ,  58.8       ]])"
      ]
     },
     "execution_count": 8,
     "metadata": {},
     "output_type": "execute_result"
    }
   ],
   "source": [
    "height=np.array([140,145,160,155,165,170])\n",
    "weight=np.array([45,48,50,56,60,65])\n",
    "cv=np.cov(height,weight)\n",
    "cv  #it gives covariance matrix"
   ]
  },
  {
   "cell_type": "code",
   "execution_count": 9,
   "id": "041514e6-433a-432f-8503-51b4bf37dec8",
   "metadata": {},
   "outputs": [
    {
     "data": {
      "text/plain": [
       "np.float64(80.0)"
      ]
     },
     "execution_count": 9,
     "metadata": {},
     "output_type": "execute_result"
    }
   ],
   "source": [
    "cv[0,1]"
   ]
  },
  {
   "cell_type": "code",
   "execution_count": 10,
   "id": "95966706-6c54-4de7-9da6-cd11a84bb14b",
   "metadata": {},
   "outputs": [
    {
     "data": {
      "text/plain": [
       "array([[ 21.46666667,  70.4       ],\n",
       "       [ 70.4       , 284.592     ]])"
      ]
     },
     "execution_count": 10,
     "metadata": {},
     "output_type": "execute_result"
    }
   ],
   "source": [
    "# convert the height into inches and weight into lbs\n",
    "height_inch = height * 0.4\n",
    "weight_lbs = weight * 2.2\n",
    "cv2 = np.cov(height_inch,weight_lbs)\n",
    "cv2"
   ]
  },
  {
   "cell_type": "markdown",
   "id": "4f380a64-055a-4fe8-94d9-5128b7d5e03b",
   "metadata": {},
   "source": [
    " # 2. Pearson's Coefficient of Correlation\n",
    " - rho = con(x,y)/sd(x)*sd(y)\n",
    " - np.corrcoef(x,y)\n",
    " - Pearson coefficient of correlation will work good when the relationship is linear\n",
    " - If the relationship is non linear then the value of rho is 0"
   ]
  },
  {
   "cell_type": "code",
   "execution_count": 11,
   "id": "99db6a2d-e0fe-476f-8e17-4c14f7a9a0ec",
   "metadata": {},
   "outputs": [
    {
     "data": {
      "text/plain": [
       "array([[1.        , 0.90069761],\n",
       "       [0.90069761, 1.        ]])"
      ]
     },
     "execution_count": 11,
     "metadata": {},
     "output_type": "execute_result"
    }
   ],
   "source": [
    "height=np.array([140,145,160,155,165,170])\n",
    "weight=np.array([45,48,50,56,60,65])\n",
    "rho=np.corrcoef(height,weight)\n",
    "rho"
   ]
  },
  {
   "cell_type": "markdown",
   "id": "540bb21d-4deb-489b-bab5-beaeb120c16a",
   "metadata": {},
   "source": [
    "# 3. Spearmanr Rank Correlation\n",
    "  - Let we have two random variables X and Y from this two random variable we are creating the new random variable and we will\n",
    "    find the pearson coefficient of correlation for new random variables \n",
    "  - Syntax : from scipy.stas as stats import spearmanr\n",
    "  - rho = spearmanr(x,y)"
   ]
  },
  {
   "cell_type": "code",
   "execution_count": 12,
   "id": "e6be467d-5f13-43d2-8895-929945db7ea0",
   "metadata": {},
   "outputs": [],
   "source": [
    "from scipy.stats import spearmanr"
   ]
  },
  {
   "cell_type": "code",
   "execution_count": 13,
   "id": "e3cdc11c-30cd-419e-85f3-9a19b3819290",
   "metadata": {},
   "outputs": [],
   "source": [
    "import scipy.stats as stats"
   ]
  },
  {
   "cell_type": "code",
   "execution_count": 14,
   "id": "23425b82-92bb-43df-9bf7-f6182e8fb4d2",
   "metadata": {},
   "outputs": [
    {
     "data": {
      "text/plain": [
       "SignificanceResult(statistic=np.float64(0.942857142857143), pvalue=np.float64(0.0048046647230320545))"
      ]
     },
     "execution_count": 14,
     "metadata": {},
     "output_type": "execute_result"
    }
   ],
   "source": [
    "rho=spearmanr(height,weight)\n",
    "rho"
   ]
  },
  {
   "cell_type": "markdown",
   "id": "a5d2717a-60a6-4016-8c7d-17a413741bac",
   "metadata": {},
   "source": [
    " Q. Correalation doesnt imply the causation"
   ]
  },
  {
   "cell_type": "markdown",
   "id": "6abf70a6-f12d-4ba9-b2d0-272bf26a55e1",
   "metadata": {},
   "source": [
    " # @ Confidence Interval : (CI)"
   ]
  },
  {
   "cell_type": "markdown",
   "id": "c1cf7548-8dd9-4eaf-907a-db43f4ebecb9",
   "metadata": {},
   "source": [
    " - X --- RV \n",
    " - x~Distribution(mean,SD)\n",
    " - Polulation mean = meu\n",
    " - sample mean = (x-bar)\n",
    " - x --- heights of people\n",
    " - Sample from population of a size :\n",
    " - X=x1,x2,x3-----------x30\n",
    " - Task --- We want to estimate the Populatiion mean?\n",
    " - Estimating the population mean --- meu = (x-bar) (approx.) --- we called it is as point estimation \n",
    "   if we increse the sample size the sample mean is going closer to the population mean\n",
    " - scenario : X~dist(mean,SD)\n",
    " - Sample size = n=30\n",
    " - x1,x2-----------x30\n",
    " - Statement : meu is lies [158.6,170.2] with 95 % Probability\n",
    " -  [158.6,170.2] --- interval\n",
    " -  95 % --- confidence --- (c)\n",
    " - Formula of CI = (x-bar)+/- z Score * (SD/sqrt(n)) ------ task : def CI(sample,samples_size) : 1.  mean 2. sd 3. n 4. z_score\n",
    " - We wanr to estimate mean ---\n",
    " - x~GD --- empirical properties ----\n",
    " - c = 78.2% -------  First range of SD\n",
    " - c = 95%   -------  sec\n",
    " - c = 99.7%\n",
    " - Suppose we want to get the value of c = 80%,90% ---\n",
    " - X~ Non Gaussian Distribution ---\n",
    " - chebtshevs inquality --- 1 range --- 75%\n",
    " - Suppose we want to get the value of c = 80%,90% ---\n",
    " - 1. t-distribution or student t-distribution\n",
    "   (theoretical way)---->table\n",
    " - 2. Bootstrap"
   ]
  },
  {
   "cell_type": "markdown",
   "id": "5ec4d995-054e-41b9-8d15-9471e3df5647",
   "metadata": {},
   "source": [
    "# @ 22/5/2025"
   ]
  },
  {
   "cell_type": "markdown",
   "id": "e070a64c-79a7-4451-b418-f398f6112ea6",
   "metadata": {},
   "source": [
    " # @ X~any Distribution :\n",
    " - We have only one sample\n",
    " - Task : Give the CI for median with Probability of 95%\n",
    " - S --- x1,x2,x3 --- xn --- n=10 Take a random sample from the original sample  k - sample --- k = 1000 --- sampling with repetation\n",
    "   it is giving the k random sample by using discrete uniform distribution\n",
    " - S! = x11,x12 --- x15\n",
    " - S2 = x1,x2 --- x5\n",
    " - sk\n",
    "\n",
    " - s1 --- m1\n",
    " - s2 --- m2\n",
    " - s3 --- m3\n",
    " - sk --- mk\n",
    "\n",
    " - sort all the medians of a samples\n",
    " - m1<=m2<=m3<=m4 --- <=mk\n",
    " - 95%----CI\n",
    "\n",
    " - m1,m2,m3 --- m1000\n",
    " - m25 --- 2.5 %\n",
    " - m975 --- 97.5%\n",
    " - median lies in [m25,m975] with a probabilty of 0.95"
   ]
  },
  {
   "cell_type": "code",
   "execution_count": 15,
   "id": "131afc65-a0f5-4156-9762-a195328ba2b3",
   "metadata": {},
   "outputs": [
    {
     "name": "stdout",
     "output_type": "stream",
     "text": [
      "(np.float64(164.0), np.float64(178.0))\n"
     ]
    }
   ],
   "source": [
    "def empirical_bootstarp(data,k,k_size,c):\n",
    "    median = []\n",
    "    for i in range(k):\n",
    "        s = np.random.choice(data,size=k_size,replace=True)\n",
    "        median.append(np.median(s))\n",
    "    median.sort()\n",
    "    low = (100 - c)/2\n",
    "    high = c+low\n",
    "    return np.percentile (median, low ),np.percentile(median, high)\n",
    "data = [158,155,166,164,170,176,178,180,184]\n",
    "k = 1000\n",
    "k_size = 5\n",
    "c = 80\n",
    "print(empirical_bootstarp(data,k,k_size,c))\n",
    "      "
   ]
  }
 ],
 "metadata": {
  "kernelspec": {
   "display_name": "Python 3 (ipykernel)",
   "language": "python",
   "name": "python3"
  },
  "language_info": {
   "codemirror_mode": {
    "name": "ipython",
    "version": 3
   },
   "file_extension": ".py",
   "mimetype": "text/x-python",
   "name": "python",
   "nbconvert_exporter": "python",
   "pygments_lexer": "ipython3",
   "version": "3.13.0"
  }
 },
 "nbformat": 4,
 "nbformat_minor": 5
}
