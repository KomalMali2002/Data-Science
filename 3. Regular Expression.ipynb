{
 "cells": [
  {
   "cell_type": "markdown",
   "id": "dea947a6-cd41-407a-9b0e-3b5d029f7448",
   "metadata": {},
   "source": [
    "# @ Regular Expression"
   ]
  },
  {
   "cell_type": "markdown",
   "id": "e321c8ae-88d4-4d70-aedf-a480c009bcfc",
   "metadata": {},
   "source": [
    " - Pip install regex \n",
    " - Regex : python module\n",
    " - Module : many predined function related to the regular expression match, search, findall, sub, subn--------\n",
    " - Syntax : for include the module in our program \n",
    " - For including the module in our program\n",
    " - import module name\n",
    " - import re \n",
    "\n",
    "\n",
    "@ regex: Regular expression:\n",
    "       - Sequence of the character to defined the specific pattern\n",
    "       \n",
    "       - We try use special character more\n",
    "       \n",
    "       - We are using the RE to find,match the particular pattern in the string\n",
    "       \n",
    "       - Compiler will always scan the regular expression from left to right\n",
    "       \n",
    "       - Regular expression are case sensitive\n",
    "\n",
    " - Ex : regex101\n",
    "        string = \"abc\"\n",
    "        pattern = \"^A\"  start form\n",
    " \n",
    " - We have to write the regular expression in verbose form\n",
    "   - Ex : pattern = '^a...s$'\n",
    "          string \"abbbs\"\n",
    "\n",
    " - While creating the regular expression :\n",
    "     A-Z,a-z,0-9, fow special characters\n",
    "\n",
    "@ Usage:\n",
    "       1. Data extrection: pulling of data\n",
    "       \n",
    "       2. Text processing: \n",
    " - Ex:\n",
    "      Processor : intel i5 hz generation 12\n",
    "   \n",
    "                - i3 ---0\n",
    "   \n",
    "                - i5---1\n",
    "   \n",
    "                - i7 --2\n",
    "\n",
    "      3. NLP : nature laguage proccess\n",
    "   \n",
    "      5. Web scapping : extracing the data from website\n",
    "  \n",
    "   \n",
    "         Website data : is in html and java form"
   ]
  },
  {
   "cell_type": "markdown",
   "id": "1d1a0e81-25de-4b99-99d7-5f2f64d094d7",
   "metadata": {},
   "source": [
    "# @ Mathematical Intuition"
   ]
  },
  {
   "cell_type": "markdown",
   "id": "413eef7e-3864-4eaf-95ad-4b6ca1b3254f",
   "metadata": {},
   "source": [
    " @ Regular expression : regular languagge programming language: noam  Chomsky\n",
    " \n",
    " @ Regular language: regular expression: formal language theory\n",
    " \n",
    " @ 128 character in python\n",
    "\n",
    " - EX: text_string=\"sight\"\n",
    "\n",
    "\n",
    "       patttern='sight$'  ------- Match\n",
    "\n",
    "   \n",
    " - Ex: text_string=\"hello\"\n",
    "\n",
    "       patttern='^h'     ------- Match\n",
    "\n",
    " @ pattern =f.n\n",
    " \n",
    "   string =fun, fon\n",
    "\n",
    "\n",
    " @ pattern=^b...b$\n",
    " \n",
    "   -^=start with\n",
    "   \n",
    "   $=end with\n"
   ]
  },
  {
   "cell_type": "markdown",
   "id": "3511f03a-f564-448f-b298-a333f7493338",
   "metadata": {},
   "source": [
    "# @  Meta Characters"
   ]
  },
  {
   "cell_type": "markdown",
   "id": "fd359325-6559-4925-bc84-5dd7fa669f8c",
   "metadata": {},
   "source": [
    " @ Meta characters :\n",
    "    .,[],?,+,{},()\n",
    "\n",
    " 1.[]- Square bracket : it will match the set of character in this string\n",
    " \n",
    "    - Whicherver the characters we need match we have to weite in the []\n",
    "    \n",
    " Ex - [a]-------abb-------match\n",
    " \n",
    "      [ab]------a or b----abb-----match\n",
    "      \n",
    "      [abc]------a or b or c\n",
    "      \n",
    "      [a-zAA-z]\n",
    "      \n",
    "      [a-zA-Z0-9]\n",
    "      \n",
    "      [0-9]\n",
    "      \n",
    " $ - It will give the end\n",
    " \n",
    " * - It will gives the 0 or more occurrences\n",
    "   - \n",
    " [^]- This caret will negate the value when we are using it within the square brackets\n",
    "\n",
    " | - Aternation (or)\n",
    "\n",
    " 1. ^---Starts with\n",
    " 2. . - Any unknown character value\n",
    " 3. * - Closure - using to show zero or more accurrence\n",
    " 4. +-----1 or more\n",
    " 5. ?-----0 or 1\n",
    " 6. $-----Ending\n",
    " 7. ()....More than one pattern\n",
    " 8. ?= 0 or 1 occurance  \n",
    " 9. \\-----Escape or for meta special\n",
    "\n",
    " {m} - Extractly m times \n",
    " \n",
    " {m} - Atlest m times\n",
    " \n",
    " {m,n} - Atleast m and atmost n\n",
    "\n",
    " @ Special character -\n",
    " 1. \\A = Matches if the specified characters are at the start of a sttring.\n",
    " 2. \\b = Matches if the specified characters are at the beginning or end of a word\n",
    " 3. \\B = Opposite of \\b. matches if the specified are not at the beginning or end of a word\n",
    " 4. *\\d = Matches any decimal degit. equivalent to [^0-9]\n",
    " 5. \\D = Matches any non decimal digit .equivalent to [^0-9]\n",
    " 6. \\s = Match where a string contains any whitespace character. equivalent to [^\\t\\n\\r\\f\\v]\n",
    " 7. \\S = Matches where a string contains any no-whitespace character equivalent to\n",
    " 8. *\\w = Matches any alphanumeric character (digit and alphabets).equivalent to [a-zA-Z0-9]  \n",
    " 9. *\\W = Matches any non-alphanumeric character (digit and alphabets).equivalent to [a-zA-Z0-9]\n",
    " 10. \\Z = Matches if the specified characters are at the end of a string\n",
    "\n",
    " @ Underscores _ is also consider an alphanumeric character\n",
    "\n",
    "- 320 email characters\n",
    "\n",
    "re.compile:\n",
    "          - It will compile the pattern into regex object\n",
    "          \n",
    "          - We can use the object to find all the pattern in the given string\n",
    "\n",
    " @ Syntax: re.compile(pattern)\n",
    "\n",
    "\n",
    " 1. Beauty of string :\n",
    " \n",
    "    Difference between the occurs max time and character occur at least time\n",
    "   \n",
    "    s=aabacc\n",
    "  \n",
    "    3-1=2 \n",
    "\n",
    " 2. common substring between these two strings :\n",
    "    \n",
    "    s1=\"aabbabababb\"\n",
    "    \n",
    "    s2=\"aabbbbbabab\"\n",
    "    \n",
    "    a,b,aa,aab,aba,ab, bab, bb\n"
   ]
  },
  {
   "cell_type": "code",
   "execution_count": 2,
   "id": "d8c79650-bbda-416a-b92a-8ace37694086",
   "metadata": {},
   "outputs": [
    {
     "name": "stdout",
     "output_type": "stream",
     "text": [
      "match successful\n"
     ]
    }
   ],
   "source": [
    "import re \n",
    "test_string=\"abc\"\n",
    "pattern='[a]'\n",
    "result=re.match(pattern,test_string)\n",
    "if result:\n",
    "    print (\"match successful\")\n",
    "else:\n",
    "     print (\"match unsuccessful\")"
   ]
  },
  {
   "cell_type": "code",
   "execution_count": 3,
   "id": "808bfaee-221e-46c5-a707-b85319f8c6b3",
   "metadata": {},
   "outputs": [
    {
     "name": "stdout",
     "output_type": "stream",
     "text": [
      "match successful\n"
     ]
    }
   ],
   "source": [
    "import re\n",
    "test_string=\"abc\"\n",
    "pattern='[a,b]'\n",
    "result=re.match(pattern,test_string)\n",
    "if result:\n",
    "    print (\"match successful\")\n",
    "else:\n",
    "     print (\"match unsuccessful\")"
   ]
  },
  {
   "cell_type": "code",
   "execution_count": 11,
   "id": "a2efe1d4-19b9-469a-ac16-38cadef3478c",
   "metadata": {},
   "outputs": [
    {
     "name": "stdout",
     "output_type": "stream",
     "text": [
      "match successful\n"
     ]
    }
   ],
   "source": [
    "import re\n",
    "test_string=\"1b\"\n",
    "pattern='[0-9]'\n",
    "result=re.match(pattern,test_string)\n",
    "if result:\n",
    "    print (\"match successful\")\n",
    "else:\n",
    "     print (\"match unsuccessful\")"
   ]
  },
  {
   "cell_type": "code",
   "execution_count": 13,
   "id": "8f6b810d-fb2c-429c-b196-0181c4916710",
   "metadata": {},
   "outputs": [
    {
     "name": "stdout",
     "output_type": "stream",
     "text": [
      "match unsuccessful\n"
     ]
    }
   ],
   "source": [
    "import re\n",
    "test_string=\"1b\"\n",
    "pattern='.1'\n",
    "result=re.match(pattern,test_string)\n",
    "if result:\n",
    "    print (\"match successful\")\n",
    "else:\n",
    "     print (\"match unsuccessful\")"
   ]
  },
  {
   "cell_type": "code",
   "execution_count": 17,
   "id": "ae7fb687-a2b3-4f88-a300-b7d062d70c64",
   "metadata": {},
   "outputs": [
    {
     "name": "stdout",
     "output_type": "stream",
     "text": [
      "match unsuccessful\n"
     ]
    }
   ],
   "source": [
    "import re\n",
    "test_string=\"bb91\"\n",
    "pattern='[0-9]'\n",
    "result=re.match(pattern,test_string)\n",
    "if result:\n",
    "    print (\"match successful\")\n",
    "else:\n",
    "     print (\"match unsuccessful\")"
   ]
  },
  {
   "cell_type": "code",
   "execution_count": 9,
   "id": "5746a3c3-d4bb-43ff-bfca-0c383fadefc2",
   "metadata": {},
   "outputs": [
    {
     "name": "stdout",
     "output_type": "stream",
     "text": [
      "match successful\n"
     ]
    }
   ],
   "source": [
    "import re\n",
    "test_string=\"abyyc\"\n",
    "pattern='^a...c'\n",
    "result=re.match(pattern,test_string)\n",
    "if result:\n",
    "    print (\"match successful\")\n",
    "else:\n",
    "     print (\"match unsuccessful\")"
   ]
  },
  {
   "cell_type": "code",
   "execution_count": 27,
   "id": "62c4930a-13d5-45bf-bba3-4cfd443c30a4",
   "metadata": {},
   "outputs": [
    {
     "name": "stdout",
     "output_type": "stream",
     "text": [
      "match successful\n"
     ]
    }
   ],
   "source": [
    "import re\n",
    "test_string=\"1b\"\n",
    "pattern='[0-1]'\n",
    "result=re.findall(pattern,test_string)\n",
    "if result:\n",
    "    print (\"match successful\")\n",
    "else:\n",
    "     print (\"match unsuccessful\")"
   ]
  },
  {
   "cell_type": "code",
   "execution_count": 24,
   "id": "ceb47566-dcd9-4e8c-b560-2fb1b7025f8e",
   "metadata": {},
   "outputs": [
    {
     "name": "stdout",
     "output_type": "stream",
     "text": [
      "match successful\n"
     ]
    }
   ],
   "source": [
    "# Write down the regular expression sring start with b and end with ba and it will take exactly 7 length\n",
    "import re\n",
    "test_string=\"abycbtdgba\"\n",
    "pattern='^a.......ba'\n",
    "result=re.match(pattern,test_string)\n",
    "if result:\n",
    "    print (\"match successful\")\n",
    "else:\n",
    "     print (\"match unsuccessful\")"
   ]
  },
  {
   "cell_type": "code",
   "execution_count": 30,
   "id": "8462c4e7-bceb-418f-8c25-267d68c15448",
   "metadata": {},
   "outputs": [
    {
     "name": "stdout",
     "output_type": "stream",
     "text": [
      "match unsuccessful\n"
     ]
    }
   ],
   "source": [
    "import re\n",
    "test_string=\"aab\"\n",
    "pattern='aa$'\n",
    "result=re.findall(pattern,test_string)\n",
    "if result:\n",
    "    print (\"match successful\")\n",
    "else:\n",
    "     print (\"match unsuccessful\")"
   ]
  },
  {
   "cell_type": "code",
   "execution_count": 31,
   "id": "b0b2fa5a-9b3b-4930-bd41-d5625b0490cb",
   "metadata": {},
   "outputs": [
    {
     "name": "stdout",
     "output_type": "stream",
     "text": [
      "match unsuccessful\n"
     ]
    }
   ],
   "source": [
    "import re\n",
    "test_string=\"aab\"\n",
    "pattern='aa$'\n",
    "result=re.match(pattern,test_string)\n",
    "if result:\n",
    "    print (\"match successful\")\n",
    "else:\n",
    "     print (\"match unsuccessful\")"
   ]
  },
  {
   "cell_type": "code",
   "execution_count": 32,
   "id": "f06e008a-1991-4b4c-aa1d-1b8f83f519aa",
   "metadata": {},
   "outputs": [
    {
     "name": "stdout",
     "output_type": "stream",
     "text": [
      "match successful\n"
     ]
    }
   ],
   "source": [
    "# RE for string containa abb and after that any number of times a\n",
    "\n",
    "import re\n",
    "test_string=\"baaaabbaaaaa\"\n",
    "pattern='abba*'\n",
    "result=re.findall(pattern,test_string)\n",
    "if result:\n",
    "    print (\"match successful\")\n",
    "else:\n",
    "     print (\"match unsuccessful\")"
   ]
  },
  {
   "cell_type": "code",
   "execution_count": 33,
   "id": "2dce448b-5927-422a-bc07-9cc331a80935",
   "metadata": {},
   "outputs": [
    {
     "name": "stdout",
     "output_type": "stream",
     "text": [
      "match unsuccessful\n"
     ]
    }
   ],
   "source": [
    "import re\n",
    "test_string=\"baaaabbaaaaa\"\n",
    "pattern='abba*'\n",
    "result=re.match(pattern,test_string)\n",
    "if result:\n",
    "    print (\"match successful\")\n",
    "else:\n",
    "     print (\"match unsuccessful\")"
   ]
  },
  {
   "cell_type": "code",
   "execution_count": 34,
   "id": "7c9b6a48-4735-4d59-97a3-d1cd1fe5e01b",
   "metadata": {},
   "outputs": [
    {
     "name": "stdout",
     "output_type": "stream",
     "text": [
      "match successful\n"
     ]
    }
   ],
   "source": [
    "import re\n",
    "test_string=\"bn\"\n",
    "pattern='ba*n'\n",
    "result=re.match(pattern,test_string)\n",
    "if result:\n",
    "    print (\"match successful\")\n",
    "else:\n",
    "     print (\"match unsuccessful\")"
   ]
  },
  {
   "cell_type": "code",
   "execution_count": 35,
   "id": "ca85d431-6b4e-4a3a-a226-b34f1b720230",
   "metadata": {},
   "outputs": [
    {
     "name": "stdout",
     "output_type": "stream",
     "text": [
      "match successful\n"
     ]
    }
   ],
   "source": [
    "import re\n",
    "test_string=\"bn\"\n",
    "pattern='ba*n'\n",
    "result=re.findall(pattern,test_string)\n",
    "if result:\n",
    "    print (\"match successful\")\n",
    "else:\n",
    "     print (\"match unsuccessful\")"
   ]
  },
  {
   "cell_type": "code",
   "execution_count": 1,
   "id": "13fcc7a0-9493-48d7-8171-d0fc49244ce0",
   "metadata": {},
   "outputs": [
    {
     "name": "stdout",
     "output_type": "stream",
     "text": [
      "match unsuccessful\n"
     ]
    }
   ],
   "source": [
    "import re\n",
    "test_string=\"bn\"\n",
    "pattern='^ban'\n",
    "result=re.match(pattern,test_string)\n",
    "if result:\n",
    "    print (\"match successful\")\n",
    "else:\n",
    "     print (\"match unsuccessful\")"
   ]
  },
  {
   "cell_type": "code",
   "execution_count": 3,
   "id": "17bbdd20-2c40-4705-99a7-7044bdec7224",
   "metadata": {},
   "outputs": [
    {
     "name": "stdout",
     "output_type": "stream",
     "text": [
      "match successful\n"
     ]
    }
   ],
   "source": [
    "import re\n",
    "test_string=\"bn\"\n",
    "pattern='^bn'\n",
    "result=re.match(pattern,test_string)\n",
    "if result:\n",
    "    print (\"match successful\")\n",
    "else:\n",
    "     print (\"match unsuccessful\")"
   ]
  },
  {
   "cell_type": "code",
   "execution_count": 18,
   "id": "0a1a4b1a-2f17-46f8-ba93-0233b53299d0",
   "metadata": {},
   "outputs": [
    {
     "name": "stdout",
     "output_type": "stream",
     "text": [
      "match unsuccessful\n"
     ]
    }
   ],
   "source": [
    "import re\n",
    "pattern=\"[b]a$\"\n",
    "test_string='^aaaa'\n",
    "result=re.match(pattern,test_string)\n",
    "if result:\n",
    "    print (\"match successful\")\n",
    "else:\n",
    "     print (\"match unsuccessful\")"
   ]
  },
  {
   "cell_type": "code",
   "execution_count": 10,
   "id": "c81c37be-6198-4fa2-aec7-1eb4c9ad91b6",
   "metadata": {},
   "outputs": [
    {
     "name": "stdout",
     "output_type": "stream",
     "text": [
      "match successful\n"
     ]
    }
   ],
   "source": [
    "import re\n",
    "pattern='^ab|ba|ca\"'\n",
    "test_string=\"ab\"\n",
    "\n",
    "result=re.match(pattern,test_string)\n",
    "if result:\n",
    "    print (\"match successful\")\n",
    "else:\n",
    "     print (\"match unsuccessful\")"
   ]
  },
  {
   "cell_type": "code",
   "execution_count": 11,
   "id": "bbaac9bb-4fb4-4d43-aac5-ec16ef0a77c8",
   "metadata": {},
   "outputs": [
    {
     "name": "stdout",
     "output_type": "stream",
     "text": [
      "match successful\n"
     ]
    }
   ],
   "source": [
    "import re\n",
    "pattern='^ab+D$'\n",
    "test_string=\"abD\"\n",
    "\n",
    "result=re.match(pattern,test_string)\n",
    "if result:\n",
    "    print (\"match successful\")\n",
    "else:\n",
    "     print (\"match unsuccessful\")"
   ]
  },
  {
   "cell_type": "code",
   "execution_count": 16,
   "id": "663921ad-2b7c-44df-94fc-4765ef7f8c54",
   "metadata": {},
   "outputs": [
    {
     "name": "stdout",
     "output_type": "stream",
     "text": [
      "match unsuccessful\n"
     ]
    }
   ],
   "source": [
    "import re\n",
    "pattern='a?D'\n",
    "test_string=\"ab\"\n",
    "result=re.match(pattern,test_string)\n",
    "if result:\n",
    "    print (\"match successful\")\n",
    "else:\n",
    "     print (\"match unsuccessful\")"
   ]
  },
  {
   "cell_type": "code",
   "execution_count": 17,
   "id": "b91e8395-96e9-4821-a38d-9c19a71dce5b",
   "metadata": {},
   "outputs": [
    {
     "name": "stdout",
     "output_type": "stream",
     "text": [
      "match unsuccessful\n"
     ]
    }
   ],
   "source": [
    "import re\n",
    "pattern='a?D'\n",
    "test_string=\"aab\"\n",
    "result=re.match(pattern,test_string)\n",
    "if result:\n",
    "    print (\"match successful\")\n",
    "else:\n",
    "     print (\"match unsuccessful\")"
   ]
  },
  {
   "cell_type": "code",
   "execution_count": 20,
   "id": "c8e4a3ef-803c-416b-83ea-365e21ea6d35",
   "metadata": {},
   "outputs": [
    {
     "name": "stdout",
     "output_type": "stream",
     "text": [
      "match successful\n"
     ]
    }
   ],
   "source": [
    "import re\n",
    "pattern='a{3,}'\n",
    "test_string=\"aaaab\"\n",
    "result=re.match(pattern,test_string)\n",
    "if result:\n",
    "    print (\"match successful\")\n",
    "else:\n",
    "     print (\"match unsuccessful\")"
   ]
  },
  {
   "cell_type": "markdown",
   "id": "9fcc6e43-3798-4d46-b3e2-98f899a9207e",
   "metadata": {},
   "source": [
    "# @ Groups ()"
   ]
  },
  {
   "cell_type": "code",
   "execution_count": 22,
   "id": "020a6659-38e0-4993-b672-26f43fd77e1e",
   "metadata": {},
   "outputs": [
    {
     "name": "stdout",
     "output_type": "stream",
     "text": [
      "match successful\n"
     ]
    }
   ],
   "source": [
    "import re\n",
    "pattern='(a|b|c)xz'\n",
    "test_string=\"axzbc\"\n",
    "result=re.match(pattern,test_string)\n",
    "if result:\n",
    "    print (\"match successful\")\n",
    "else:\n",
    "     print (\"match unsuccessful\")"
   ]
  },
  {
   "cell_type": "code",
   "execution_count": 31,
   "id": "79bc2b92-b421-4553-9855-cf4a596eaf77",
   "metadata": {},
   "outputs": [
    {
     "name": "stdout",
     "output_type": "stream",
     "text": [
      "match unsuccessful\n"
     ]
    }
   ],
   "source": [
    "import re\n",
    "pattern='(a)2b'\n",
    "test_string=\"abb\"\n",
    "result=re.match(pattern,test_string)\n",
    "if result:\n",
    "    print (\"match successful\")\n",
    "else:\n",
    "     print (\"match unsuccessful\")"
   ]
  },
  {
   "cell_type": "code",
   "execution_count": 30,
   "id": "fdf9661b-492b-4a49-8463-20b9c51a2375",
   "metadata": {},
   "outputs": [
    {
     "name": "stdout",
     "output_type": "stream",
     "text": [
      "match successful\n"
     ]
    }
   ],
   "source": [
    "import re\n",
    "pattern='(ab|bc)ca'\n",
    "test_string=\"abca\"\n",
    "result=re.match(pattern,test_string)\n",
    "if result:\n",
    "    print (\"match successful\")\n",
    "else:\n",
    "     print (\"match unsuccessful\")"
   ]
  },
  {
   "cell_type": "code",
   "execution_count": 39,
   "id": "a0380b9a-0e3d-4224-a3af-e3028b85abe1",
   "metadata": {},
   "outputs": [
    {
     "name": "stdout",
     "output_type": "stream",
     "text": [
      "match successful\n"
     ]
    }
   ],
   "source": [
    "import re\n",
    "pattern= 'file(1|2|3|4|5|6|7|8|9|10)?'\n",
    "test_string=\"filefile1file2......file10\"\n",
    "result=re.match(pattern,test_string)\n",
    "if result:\n",
    "    print (\"match successful\")\n",
    "else:\n",
    "     print (\"match unsuccessful\")"
   ]
  },
  {
   "cell_type": "code",
   "execution_count": 40,
   "id": "d800473a-d64d-457f-b0cf-e358c2599173",
   "metadata": {},
   "outputs": [
    {
     "name": "stdout",
     "output_type": "stream",
     "text": [
      "match unsuccessful\n"
     ]
    }
   ],
   "source": [
    "import re\n",
    "pattern='/A the'\n",
    "test_string=\"the areath is round\"\n",
    "result=re.match(pattern,test_string)\n",
    "if result:\n",
    "    print (\"match successful\")\n",
    "else:\n",
    "     print (\"match unsuccessful\")"
   ]
  },
  {
   "cell_type": "code",
   "execution_count": 3,
   "id": "5a6867d8-a0b5-431a-8ae1-ff8e993d26eb",
   "metadata": {},
   "outputs": [
    {
     "name": "stdout",
     "output_type": "stream",
     "text": [
      "Match successful\n"
     ]
    }
   ],
   "source": [
    "]import re\n",
    "pattern = r'\\d{3}' \n",
    "test_string = \"123456\"\n",
    "result = re.match(pattern, test_string)  \n",
    "if result:\n",
    "    print(\"Match successful\")\n",
    "else:\n",
    "    print(\"Match unsuccessful\")"
   ]
  },
  {
   "cell_type": "code",
   "execution_count": 16,
   "id": "63c7d27c-832e-4eae-8ca4-1b69c9bb81f8",
   "metadata": {},
   "outputs": [],
   "source": [
    "import re\n",
    "pattern=r'\\d{2,4}'\n",
    "test_string=\"i am born in 28day 11month 1996year\"\n",
    "print=re.findall(pattern,test_string)"
   ]
  },
  {
   "cell_type": "code",
   "execution_count": 2,
   "id": "87a48b63-2688-49c2-be45-40cb834ce7c7",
   "metadata": {},
   "outputs": [
    {
     "name": "stdout",
     "output_type": "stream",
     "text": [
      "<re.Match object; span=(0, 6), match='tokiyo'>\n",
      "None\n"
     ]
    }
   ],
   "source": [
    "import re\n",
    "pattern1 = r'\\Atokiyo' \n",
    "pattern2 = r'\\d{4}'\n",
    "test_string = \"tokiyo is a capital city of japan and its found in 1667\"\n",
    "print(re.match(pattern1, test_string))\n",
    "print(re.match(pattern2,test_string))"
   ]
  },
  {
   "cell_type": "code",
   "execution_count": 16,
   "id": "edcc3aa2-0e4f-49b7-b3b8-3d55249b676b",
   "metadata": {},
   "outputs": [
    {
     "name": "stdout",
     "output_type": "stream",
     "text": [
      " successful\n"
     ]
    }
   ],
   "source": [
    "import re\n",
    "pattern='(ha){3}'\n",
    "test_string=\"hahaha\"\n",
    "result=re.match(pattern,test_string)\n",
    "if result:\n",
    "    print (\" successful\")\n",
    "else:\n",
    "    print (\"unsuccessful\")"
   ]
  },
  {
   "cell_type": "code",
   "execution_count": 26,
   "id": "f414b550-ff86-43be-ada2-cbde4bed5ce1",
   "metadata": {},
   "outputs": [
    {
     "name": "stdout",
     "output_type": "stream",
     "text": [
      "match unsuccessful\n"
     ]
    }
   ],
   "source": [
    "import re\n",
    "pattern='(9/3|2/4)'\n",
    "test_string= \" \"\n",
    "result=re.match(pattern,test_string)\n",
    "if result:\n",
    "    print (\"match successful\")\n",
    "else:\n",
    "    print (\"match unsuccessful\")"
   ]
  },
  {
   "cell_type": "code",
   "execution_count": 28,
   "id": "8f2318ed-9143-4783-bccd-fe18c1b26290",
   "metadata": {},
   "outputs": [
    {
     "name": "stdout",
     "output_type": "stream",
     "text": [
      "match successful\n"
     ]
    },
    {
     "name": "stderr",
     "output_type": "stream",
     "text": [
      "<>:2: SyntaxWarning: invalid escape sequence '\\d'\n",
      "<>:2: SyntaxWarning: invalid escape sequence '\\d'\n",
      "C:\\Users\\Komal prakash mali\\AppData\\Local\\Temp\\ipykernel_1772\\2984628234.py:2: SyntaxWarning: invalid escape sequence '\\d'\n",
      "  pattern='\\d{4}-\\d{2}-\\d{2}'\n"
     ]
    }
   ],
   "source": [
    "import re\n",
    "pattern='\\d{4}-\\d{2}-\\d{2}'\n",
    "test_string= \"2002-05-12\"\n",
    "result=re.match(pattern,test_string)\n",
    "if result:\n",
    "    print (\"match successful\")\n",
    "else:\n",
    "    print (\"match unsuccessful\")"
   ]
  },
  {
   "cell_type": "code",
   "execution_count": 1,
   "id": "3cc2572c-5aa8-4bd8-979b-0c2d9f28a085",
   "metadata": {},
   "outputs": [
    {
     "name": "stdout",
     "output_type": "stream",
     "text": [
      "<re.Match object; span=(0, 9), match='komal.com'>\n"
     ]
    },
    {
     "name": "stderr",
     "output_type": "stream",
     "text": [
      "<>:3: SyntaxWarning: invalid escape sequence '\\.'\n",
      "<>:3: SyntaxWarning: invalid escape sequence '\\.'\n",
      "C:\\Users\\Komal prakash mali\\AppData\\Local\\Temp\\ipykernel_10588\\2481665372.py:3: SyntaxWarning: invalid escape sequence '\\.'\n",
      "  p=\"komal\\.com\"\n"
     ]
    }
   ],
   "source": [
    "import re\n",
    "s=\"komal.com\"\n",
    "p=\"komal\\.com\"\n",
    "print (re.match(p,s))"
   ]
  },
  {
   "cell_type": "code",
   "execution_count": 4,
   "id": "4b3d9ec1-be95-40e5-998d-771505681dae",
   "metadata": {},
   "outputs": [
    {
     "name": "stdout",
     "output_type": "stream",
     "text": [
      "<re.Match object; span=(0, 9), match='text1.txt'>\n"
     ]
    },
    {
     "name": "stderr",
     "output_type": "stream",
     "text": [
      "<>:2: SyntaxWarning: invalid escape sequence '\\.'\n",
      "<>:2: SyntaxWarning: invalid escape sequence '\\.'\n",
      "C:\\Users\\Komal prakash mali\\AppData\\Local\\Temp\\ipykernel_10588\\1583783244.py:2: SyntaxWarning: invalid escape sequence '\\.'\n",
      "  p=\"text1\\.txt\"\n"
     ]
    }
   ],
   "source": [
    "s=\"text1.txt\"\n",
    "p=\"text1\\.txt\"\n",
    "print (re.match(p,s))"
   ]
  },
  {
   "cell_type": "code",
   "execution_count": 5,
   "id": "6c2f1ba2-fec9-406f-a259-375eee276b18",
   "metadata": {},
   "outputs": [
    {
     "name": "stdout",
     "output_type": "stream",
     "text": [
      "\\komal\n"
     ]
    },
    {
     "name": "stderr",
     "output_type": "stream",
     "text": [
      "<>:1: SyntaxWarning: invalid escape sequence '\\k'\n",
      "<>:1: SyntaxWarning: invalid escape sequence '\\k'\n",
      "C:\\Users\\Komal prakash mali\\AppData\\Local\\Temp\\ipykernel_10588\\191676303.py:1: SyntaxWarning: invalid escape sequence '\\k'\n",
      "  print(\"\\komal\")\n"
     ]
    }
   ],
   "source": [
    "print(\"\\komal\")"
   ]
  },
  {
   "cell_type": "code",
   "execution_count": 6,
   "id": "9db4c75b-e9d9-4650-91c6-facc4b83bc16",
   "metadata": {},
   "outputs": [
    {
     "name": "stdout",
     "output_type": "stream",
     "text": [
      "\tkomal\n"
     ]
    }
   ],
   "source": [
    "print(\"\\tkomal\")"
   ]
  },
  {
   "cell_type": "code",
   "execution_count": 12,
   "id": "8c822abe-fe5e-45d3-aefd-378893efa6d0",
   "metadata": {},
   "outputs": [
    {
     "name": "stdout",
     "output_type": "stream",
     "text": [
      "<re.Match object; span=(0, 9), match='komal.com'>\n"
     ]
    },
    {
     "name": "stderr",
     "output_type": "stream",
     "text": [
      "<>:2: SyntaxWarning: invalid escape sequence '\\w'\n",
      "<>:2: SyntaxWarning: invalid escape sequence '\\w'\n",
      "C:\\Users\\Komal prakash mali\\AppData\\Local\\Temp\\ipykernel_10588\\111624696.py:2: SyntaxWarning: invalid escape sequence '\\w'\n",
      "  p=\"\\w+\\.com\"\n"
     ]
    }
   ],
   "source": [
    "s=\"komal.com\"\n",
    "p=\"\\w+\\.com\"\n",
    "print (re.match(p,s))"
   ]
  },
  {
   "cell_type": "code",
   "execution_count": 26,
   "id": "98c69399-eba0-40a5-b3fa-ca89cd34f38b",
   "metadata": {},
   "outputs": [
    {
     "name": "stdout",
     "output_type": "stream",
     "text": [
      "None\n"
     ]
    },
    {
     "name": "stderr",
     "output_type": "stream",
     "text": [
      "<>:4: SyntaxWarning: invalid escape sequence '\\w'\n",
      "<>:4: SyntaxWarning: invalid escape sequence '\\w'\n",
      "C:\\Users\\Komal prakash mali\\AppData\\Local\\Temp\\ipykernel_10588\\246706793.py:4: SyntaxWarning: invalid escape sequence '\\w'\n",
      "  p= '\\w+[0-9]@\\w+\\.com'\n"
     ]
    }
   ],
   "source": [
    "import re\n",
    "s='''komalm12052gmail.com,\n",
    "     komalm636@gmail.com'''\n",
    "p= '\\w+[0-9]@\\w+\\.com'\n",
    "print (re.match(p,s))"
   ]
  },
  {
   "cell_type": "code",
   "execution_count": 34,
   "id": "bd5797e4-f49b-417e-a1e2-3d7fea573cf1",
   "metadata": {},
   "outputs": [
    {
     "name": "stdout",
     "output_type": "stream",
     "text": [
      "<re.Match object; span=(0, 18), match='c:Windows\\\\System32'>\n"
     ]
    },
    {
     "name": "stderr",
     "output_type": "stream",
     "text": [
      "<>:1: SyntaxWarning: invalid escape sequence '\\S'\n",
      "<>:2: SyntaxWarning: invalid escape sequence '\\S'\n",
      "<>:1: SyntaxWarning: invalid escape sequence '\\S'\n",
      "<>:2: SyntaxWarning: invalid escape sequence '\\S'\n",
      "C:\\Users\\Komal prakash mali\\AppData\\Local\\Temp\\ipykernel_10588\\1544316665.py:1: SyntaxWarning: invalid escape sequence '\\S'\n",
      "  string= 'c:Windows\\System32'\n",
      "C:\\Users\\Komal prakash mali\\AppData\\Local\\Temp\\ipykernel_10588\\1544316665.py:2: SyntaxWarning: invalid escape sequence '\\S'\n",
      "  pattern=re.escape('c:Windows\\System32')\n"
     ]
    }
   ],
   "source": [
    "string= 'c:Windows\\System32'\n",
    "pattern=re.escape('c:Windows\\System32')\n",
    "print (re.match(pattern,string))"
   ]
  },
  {
   "cell_type": "code",
   "execution_count": 35,
   "id": "2d7ea424-bff5-4048-bfc0-7b5ddb064887",
   "metadata": {},
   "outputs": [
    {
     "name": "stdout",
     "output_type": "stream",
     "text": [
      "None\n"
     ]
    },
    {
     "name": "stderr",
     "output_type": "stream",
     "text": [
      "<>:1: SyntaxWarning: invalid escape sequence '\\w'\n",
      "<>:2: SyntaxWarning: invalid escape sequence '\\w'\n",
      "<>:1: SyntaxWarning: invalid escape sequence '\\w'\n",
      "<>:2: SyntaxWarning: invalid escape sequence '\\w'\n",
      "C:\\Users\\Komal prakash mali\\AppData\\Local\\Temp\\ipykernel_10588\\3985623029.py:1: SyntaxWarning: invalid escape sequence '\\w'\n",
      "  txt='''c:\\windows :\\python c:\\ windows/system32'''\n",
      "C:\\Users\\Komal prakash mali\\AppData\\Local\\Temp\\ipykernel_10588\\3985623029.py:2: SyntaxWarning: invalid escape sequence '\\w'\n",
      "  pattern=re.escape('c:\\windows :\\python c:\\ windows/system32')\n"
     ]
    }
   ],
   "source": [
    "txt='''c:\\windows :\\python c:\\ windows/system32'''\n",
    "pattern=re.escape('c:\\windows :\\python c:\\ windows/system32')\n",
    "print (re.match(pattern,string))"
   ]
  },
  {
   "cell_type": "code",
   "execution_count": 42,
   "id": "17955a2f-5fd7-4bcd-9d9d-2e40696a465c",
   "metadata": {},
   "outputs": [
    {
     "name": "stdout",
     "output_type": "stream",
     "text": [
      "['licence', 'licence', 'licence']\n"
     ]
    }
   ],
   "source": [
    "# consider an example below where we have messed up between licence and \n",
    "# licence spellings\n",
    "# and want to find all accurances of lience/licence in the text.\n",
    "txt = \"\"\"\n",
    "yesterday i was driving my car without a driving licence. the traffic police stopped\n",
    "licence I told then that i forgot my licence at home.\n",
    "\"\"\"\n",
    "pattern='licen[a-z]e'\n",
    "print(re.findall(pattern,txt))"
   ]
  },
  {
   "cell_type": "code",
   "execution_count": 44,
   "id": "1209f166-a801-4322-8600-0705cd306bbb",
   "metadata": {},
   "outputs": [
    {
     "name": "stdout",
     "output_type": "stream",
     "text": [
      "['e', 'e', 'a', 'i', 'a', 'i', 'i', 'a', 'i', 'o', 'u', 'a', 'i', 'i', 'i', 'e', 'e', 'e', 'a', 'i', 'o', 'i', 'e', 'o', 'e', 'i', 'e', 'e', 'o', 'e', 'a', 'i', 'o', 'o', 'i', 'e', 'e', 'a', 'o', 'e']\n"
     ]
    }
   ],
   "source": [
    "# find all the character used in a text except vowels\n",
    "txt=\"\"\"\n",
    "yesterday i was driving my car without a driving licence. the traffic police stopped\n",
    "licence I told then that i forgot my licence at home.\n",
    "\"\"\"\n",
    "pattern='[(a,e,i,o,u)]'\n",
    "print(re.findall(pattern,txt))"
   ]
  },
  {
   "cell_type": "code",
   "execution_count": null,
   "id": "e25e0c25-cf5e-48b5-9fdf-2ddf59843982",
   "metadata": {},
   "outputs": [],
   "source": [
    "# find all the match for dog and dogs in the given text."
   ]
  },
  {
   "cell_type": "code",
   "execution_count": 30,
   "id": "26638e68-7c15-4953-aed9-8ee489d94453",
   "metadata": {},
   "outputs": [
    {
     "name": "stdout",
     "output_type": "stream",
     "text": [
      "['file1.txt', 'file_one.txt', 'file.txt', 'fil.txt']\n"
     ]
    },
    {
     "name": "stderr",
     "output_type": "stream",
     "text": [
      "<>:11: SyntaxWarning: invalid escape sequence '\\w'\n",
      "<>:11: SyntaxWarning: invalid escape sequence '\\w'\n",
      "C:\\Users\\Komal prakash mali\\AppData\\Local\\Temp\\ipykernel_1772\\3697817055.py:11: SyntaxWarning: invalid escape sequence '\\w'\n",
      "  pattern='\\w+[0-9a-z\\-\\_]+\\.txt'\n"
     ]
    }
   ],
   "source": [
    "import re\n",
    "txt=\"\"\"\n",
    "file1.txt\n",
    "file_one.txt\n",
    "file.txt\n",
    "fil.txt\n",
    "file.xml\n",
    "file\n",
    "file.1.txt\n",
    "\"\"\"\n",
    "pattern='\\w+[0-9a-z\\-\\_]+\\.txt'\n",
    "print(re.findall(pattern,txt))\n"
   ]
  },
  {
   "cell_type": "code",
   "execution_count": 5,
   "id": "16b0bb37-1946-4761-99a1-062b123c81ce",
   "metadata": {},
   "outputs": [
    {
     "name": "stdout",
     "output_type": "stream",
     "text": [
      "[]\n"
     ]
    },
    {
     "name": "stderr",
     "output_type": "stream",
     "text": [
      "<>:6: SyntaxWarning: invalid escape sequence '\\@'\n",
      "<>:6: SyntaxWarning: invalid escape sequence '\\@'\n",
      "C:\\Users\\Komal prakash mali\\AppData\\Local\\Temp\\ipykernel_1916\\3928819369.py:6: SyntaxWarning: invalid escape sequence '\\@'\n",
      "  pattern = '[a-z0-9]+\\@[a-z0-9\\_]\\.[a-z]'\n"
     ]
    }
   ],
   "source": [
    "txt=\"\"\"\n",
    "abc123@gmail.com\n",
    "xyz447@my_work.edu\n",
    "pqrx999@outlook.in\n",
    "\"\"\"\n",
    "pattern='\\w+\\.'\n",
    "print(re.findall(pattern,txt))"
   ]
  },
  {
   "cell_type": "code",
   "execution_count": 11,
   "id": "45288cc9-fc80-4cd6-a39b-92682e0894da",
   "metadata": {},
   "outputs": [
    {
     "name": "stdout",
     "output_type": "stream",
     "text": [
      "['file1.txt', 'file09.txt']\n"
     ]
    },
    {
     "name": "stderr",
     "output_type": "stream",
     "text": [
      "<>:10: SyntaxWarning: invalid escape sequence '\\w'\n",
      "<>:10: SyntaxWarning: invalid escape sequence '\\w'\n",
      "C:\\Users\\Komal prakash mali\\AppData\\Local\\Temp\\ipykernel_1916\\1880077447.py:10: SyntaxWarning: invalid escape sequence '\\w'\n",
      "  pattern ='\\w+[0-9].txt'\n"
     ]
    }
   ],
   "source": [
    "import re\n",
    "txt=\"\"\"\n",
    "file1.txt\n",
    "file_one. the txt\n",
    "file09.txt\n",
    "fil.txt\n",
    "file23.xml\n",
    "file.txt\n",
    "\"\"\"\n",
    "pattern ='\\w+[0-9].txt'\n",
    "print(re.findall(pattern,txt))"
   ]
  },
  {
   "cell_type": "code",
   "execution_count": 12,
   "id": "5f6eed42-8dac-45f7-b6ef-fda20b7c257a",
   "metadata": {},
   "outputs": [
    {
     "name": "stdout",
     "output_type": "stream",
     "text": [
      "['1234143', '5657', '4435', '65111']\n"
     ]
    },
    {
     "name": "stderr",
     "output_type": "stream",
     "text": [
      "<>:9: SyntaxWarning: invalid escape sequence '\\d'\n",
      "<>:9: SyntaxWarning: invalid escape sequence '\\d'\n",
      "C:\\Users\\Komal prakash mali\\AppData\\Local\\Temp\\ipykernel_1916\\1740958169.py:9: SyntaxWarning: invalid escape sequence '\\d'\n",
      "  pattern = '\\d{4,}'\n"
     ]
    }
   ],
   "source": [
    "# in the given text,filter out all 4 or more digit number\n",
    "txt=\"\"\"\n",
    "1234143\n",
    "432\n",
    "5657\n",
    "4435\n",
    "65111\n",
    "\"\"\"\n",
    "pattern = '\\d{4,}'\n",
    "print(re.findall(pattern,txt))"
   ]
  },
  {
   "cell_type": "code",
   "execution_count": 13,
   "id": "700537aa-05e5-47d5-b55e-d10aef022cf5",
   "metadata": {},
   "outputs": [
    {
     "name": "stdout",
     "output_type": "stream",
     "text": [
      "['google.com', 'nasa.gov.in', 'facebook.in']\n"
     ]
    },
    {
     "name": "stderr",
     "output_type": "stream",
     "text": [
      "<>:6: SyntaxWarning: invalid escape sequence '\\w'\n",
      "<>:6: SyntaxWarning: invalid escape sequence '\\w'\n",
      "C:\\Users\\Komal prakash mali\\AppData\\Local\\Temp\\ipykernel_1916\\2888607086.py:6: SyntaxWarning: invalid escape sequence '\\w'\n",
      "  pattern='\\w[\\.a-z]+'\n"
     ]
    }
   ],
   "source": [
    "txt=\"\"\"\n",
    "google.com\n",
    "nasa.gov.in\n",
    "facebook.in\n",
    "\"\"\"\n",
    "pattern='\\w[\\.a-z]+'\n",
    "print(re.findall(pattern,txt))"
   ]
  },
  {
   "cell_type": "code",
   "execution_count": 6,
   "id": "fa2009ee-50f7-4ec2-865e-ce43f4a28781",
   "metadata": {},
   "outputs": [
    {
     "name": "stdout",
     "output_type": "stream",
     "text": [
      "['12', '89', '34']\n"
     ]
    }
   ],
   "source": [
    "import re\n",
    "string = 'hello 12 hi 89,howdy 34'\n",
    "pattern = r'\\d+'\n",
    "print(re.findall(pattern, string))\n"
   ]
  },
  {
   "cell_type": "code",
   "execution_count": 19,
   "id": "bfab00d8-5f98-494b-b4ba-136a3664ce4b",
   "metadata": {},
   "outputs": [
    {
     "name": "stdout",
     "output_type": "stream",
     "text": [
      "[' i am teacher and i love teaching']\n"
     ]
    }
   ],
   "source": [
    "txt = ''' i am teacher and i love teaching'''\n",
    "print(re.split('\\n',txt))"
   ]
  },
  {
   "cell_type": "code",
   "execution_count": 22,
   "id": "15e06244-f458-437c-b0eb-d01bc3407595",
   "metadata": {},
   "outputs": [
    {
     "name": "stdout",
     "output_type": "stream",
     "text": [
      "[' assistance1_2@subnet.com']\n"
     ]
    },
    {
     "name": "stderr",
     "output_type": "stream",
     "text": [
      "<>:2: SyntaxWarning: invalid escape sequence '\\w'\n",
      "<>:2: SyntaxWarning: invalid escape sequence '\\w'\n",
      "C:\\Users\\Komal prakash mali\\AppData\\Local\\Temp\\ipykernel_1916\\3123444755.py:2: SyntaxWarning: invalid escape sequence '\\w'\n",
      "  pattern=' \\w+[0-9]@\\w+\\.com'\n"
     ]
    }
   ],
   "source": [
    "string=\"\"\"for enquiry contact support_@subnet.com and for assistance assistance1_2@subnet.com\"\"\"\n",
    "pattern=' \\w+[0-9]@\\w+\\.com'\n",
    "print(re.findall(pattern,string))"
   ]
  },
  {
   "cell_type": "code",
   "execution_count": 23,
   "id": "33fb8e6c-c568-4df8-9f1c-635702ea6ccc",
   "metadata": {},
   "outputs": [
    {
     "name": "stdout",
     "output_type": "stream",
     "text": [
      "['python', 'python']\n"
     ]
    }
   ],
   "source": [
    "txt=''' python is the most beatiful language,python'''\n",
    "pattern =(re.compile('python',re.I))\n",
    "print(re.findall(pattern,txt))\n"
   ]
  },
  {
   "cell_type": "code",
   "execution_count": 26,
   "id": "b4265b9a-7048-4d28-ae5f-7fef0e046282",
   "metadata": {},
   "outputs": [
    {
     "name": "stdout",
     "output_type": "stream",
     "text": [
      "#\n"
     ]
    },
    {
     "name": "stderr",
     "output_type": "stream",
     "text": [
      "<>:2: SyntaxWarning: invalid escape sequence '\\w'\n",
      "<>:2: SyntaxWarning: invalid escape sequence '\\w'\n",
      "C:\\Users\\Komal prakash mali\\AppData\\Local\\Temp\\ipykernel_1916\\3866473381.py:2: SyntaxWarning: invalid escape sequence '\\w'\n",
      "  pattern=re.compile(\"\\w+@\\w+.com\")\n"
     ]
    }
   ],
   "source": [
    "txt=\"komalm1205@gmail.com\"\n",
    "pattern=re.compile(\"\\w+@\\w+.com\")\n",
    "print(re.sub(pattern,'#',txt))"
   ]
  },
  {
   "cell_type": "code",
   "execution_count": 40,
   "id": "f9fcadbf-71db-4975-ac33-9ca6bc5c3863",
   "metadata": {
    "scrolled": true
   },
   "outputs": [
    {
     "name": "stdout",
     "output_type": "stream",
     "text": [
      "##########@#####.###\n"
     ]
    },
    {
     "name": "stderr",
     "output_type": "stream",
     "text": [
      "<>:2: SyntaxWarning: invalid escape sequence '\\w'\n",
      "<>:2: SyntaxWarning: invalid escape sequence '\\w'\n",
      "C:\\Users\\Komal prakash mali\\AppData\\Local\\Temp\\ipykernel_1916\\1957466493.py:2: SyntaxWarning: invalid escape sequence '\\w'\n",
      "  pattern=re.compile(\"\\w+@\\w+.com\")\n"
     ]
    }
   ],
   "source": [
    "txt=\"komalm1205@gmail.com\"\n",
    "pattern=re.compile(\"\\w+@\\w+.com\")\n",
    "print(re.sub('[a-z0-9A-Z]','#',txt))"
   ]
  },
  {
   "cell_type": "code",
   "execution_count": 41,
   "id": "22195cf3-b7da-49f0-a747-524db29a9ffc",
   "metadata": {},
   "outputs": [
    {
     "name": "stdout",
     "output_type": "stream",
     "text": [
      "i have 2 apples 4 orages and 10 bananas\n"
     ]
    },
    {
     "name": "stderr",
     "output_type": "stream",
     "text": [
      "<>:2: SyntaxWarning: invalid escape sequence '\\d'\n",
      "<>:2: SyntaxWarning: invalid escape sequence '\\d'\n",
      "C:\\Users\\Komal prakash mali\\AppData\\Local\\Temp\\ipykernel_1916\\2486480825.py:2: SyntaxWarning: invalid escape sequence '\\d'\n",
      "  patteern ='\\d+'\n"
     ]
    }
   ],
   "source": [
    "txt =\"i have 2 apples 4 orages and 10 bananas\"\n",
    "patteern ='\\d+'\n",
    "print(re.sub(pattern,'#',txt))"
   ]
  },
  {
   "cell_type": "code",
   "execution_count": 1,
   "id": "9ec94cf4-924d-45b5-a11a-c9e090103bef",
   "metadata": {},
   "outputs": [
    {
     "name": "stdout",
     "output_type": "stream",
     "text": [
      "The difference is: 2\n"
     ]
    }
   ],
   "source": [
    "# beauty of the string differnce between the character occurs max time and character occursless time\n",
    "s = \"aabacc\"\n",
    "char_counts = {}\n",
    "for char in s:\n",
    "    if char in char_counts:\n",
    "        char_counts[char] += 1\n",
    "    else:\n",
    "        char_counts[char] = 1\n",
    "max_count = max(char_counts.values())\n",
    "min_count = min(char_counts.values())\n",
    "difference = max_count - min_count\n",
    "print(f\"The difference is: {difference}\")"
   ]
  },
  {
   "cell_type": "code",
   "execution_count": 10,
   "id": "fef33a2e-9c56-4cac-9e24-ccd18c7524d7",
   "metadata": {},
   "outputs": [
    {
     "name": "stdout",
     "output_type": "stream",
     "text": [
      "['b', 'a', 'ba', 'ab', 'bb', 'aa', 'aab', 'bab', 'aba', 'abb', 'bbb', 'bba', 'bbba', 'abbb', 'babb', 'bbab', 'aabb', 'abab', 'baba', 'babab', 'ababb', 'bbbab', 'bbaba', 'aabbb', 'bbbaba', 'bababb', 'bbabab', 'bbbabab']\n"
     ]
    }
   ],
   "source": [
    "def find_common_substrings(s1, s2):\n",
    "    substrings_dict = {}\n",
    "    common_substrings = set()\n",
    "    len1, len2 = len(s1), len(s2)\n",
    "    for i in range(len1):\n",
    "        for j in range(i + 1, len1 + 1):\n",
    "            substring = s1[i:j]\n",
    "            substrings_dict[substring] = True\n",
    "    for i in range(len2):\n",
    "        for j in range(i + 1, len2 + 1):\n",
    "            substring = s2[i:j]\n",
    "            if substring in substrings_dict:\n",
    "                common_substrings.add(substring)\n",
    "    return sorted(common_substrings, key=len)\n",
    "s1 = \"aabbbabababb\"\n",
    "s2 = \"aabbbbbababb\"\n",
    "result = find_common_substrings(s1, s2)\n",
    "print(result)"
   ]
  },
  {
   "cell_type": "code",
   "execution_count": 13,
   "id": "fa0ddb09-0fc1-4b68-8f41-badfd5d96f70",
   "metadata": {},
   "outputs": [
    {
     "name": "stdout",
     "output_type": "stream",
     "text": [
      "Year: 2016, Month: 9, Day: 2\n"
     ]
    }
   ],
   "source": [
    "import re\n",
    "def extract_date_from_url(url):\n",
    "    pattern = r'/(\\d{4})/(\\d{2})/(\\d{2})/'\n",
    "    match = re.search(pattern, url)\n",
    "    \n",
    "    if match:\n",
    "        year, month, day = match.groups()\n",
    "        return int(year), int(month), int(day)\n",
    "    else:\n",
    "        return None\n",
    "\n",
    "url1 = \"https://www.washingtonpost.com/news/football-insider/wp/2016/09/02/odell-beckhams-fame-rests-on-one-stupid-little-ball-josh-norman-tells-author/\"\n",
    "result = extract_date_from_url(url1)\n",
    "\n",
    "if result:\n",
    "    print(f\"Year: {result[0]}, Month: {result[1]}, Day: {result[2]}\")\n",
    "else:\n",
    "    print(\"No date found in the URL.\")"
   ]
  },
  {
   "cell_type": "code",
   "execution_count": 14,
   "id": "f8fa5da3-75eb-4005-8b33-f0a60966edfd",
   "metadata": {},
   "outputs": [
    {
     "name": "stdout",
     "output_type": "stream",
     "text": [
      "192.255.86.11\n"
     ]
    },
    {
     "name": "stderr",
     "output_type": "stream",
     "text": [
      "<>:5: SyntaxWarning: invalid escape sequence '\\.'\n",
      "<>:5: SyntaxWarning: invalid escape sequence '\\.'\n",
      "C:\\Users\\Komal prakash mali\\AppData\\Local\\Temp\\ipykernel_1212\\1716736234.py:5: SyntaxWarning: invalid escape sequence '\\.'\n",
      "  pattern='[0-9\\.]+'\n"
     ]
    }
   ],
   "source": [
    "# IP address = \"192.0255.086.11\"\n",
    "# O/P:192.225.86.11\n",
    "import re\n",
    "string=\"192.0255.086.11\"\n",
    "pattern='[0-9\\.]+'\n",
    "print(re.sub('0','',string))\n"
   ]
  },
  {
   "cell_type": "code",
   "execution_count": 17,
   "id": "865fb32b-c0c4-4f85-8244-ccefb3d29d49",
   "metadata": {
    "scrolled": true
   },
   "outputs": [
    {
     "name": "stdout",
     "output_type": "stream",
     "text": [
      "['the', 'quick', 'brown', 'for', 'jumps', 'over', 'the', 'lazy', 'dog']\n"
     ]
    },
    {
     "name": "stderr",
     "output_type": "stream",
     "text": [
      "<>:4: SyntaxWarning: invalid escape sequence '\\w'\n",
      "<>:4: SyntaxWarning: invalid escape sequence '\\w'\n",
      "C:\\Users\\Komal prakash mali\\AppData\\Local\\Temp\\ipykernel_1212\\2321060723.py:4: SyntaxWarning: invalid escape sequence '\\w'\n",
      "  pattern ='\\w{3,5}'\n"
     ]
    }
   ],
   "source": [
    "# program to find all three ,four,and five character word in a string.\n",
    "import re\n",
    "text ='the quick brown for jumps over the lazy dog'\n",
    "pattern ='\\w{3,5}'\n",
    "print(re.findall(pattern,text))"
   ]
  },
  {
   "cell_type": "code",
   "execution_count": 22,
   "id": "a1137eb7-4c45-4e0d-ba63-29642a26e87e",
   "metadata": {},
   "outputs": [
    {
     "name": "stdout",
     "output_type": "stream",
     "text": [
      "True\n"
     ]
    },
    {
     "name": "stderr",
     "output_type": "stream",
     "text": [
      "<>:3: SyntaxWarning: invalid escape sequence '\\w'\n",
      "<>:3: SyntaxWarning: invalid escape sequence '\\w'\n",
      "C:\\Users\\Komal prakash mali\\AppData\\Local\\Temp\\ipykernel_1212\\3269652680.py:3: SyntaxWarning: invalid escape sequence '\\w'\n",
      "  pattern=\"\\w+[0-9a-z\\@.]\"\n"
     ]
    }
   ],
   "source": [
    "# check the email address is valid or no\n",
    "def valid_email(email):\n",
    "     pattern=\"\\w+[0-9a-z\\@.]\"   \n",
    "     if re.match(pattern,email):\n",
    "        return True\n",
    "     else:\n",
    "       return False\n",
    "print (valid_email(\"mayurkulkarni636@gmail.com\"))"
   ]
  },
  {
   "cell_type": "code",
   "execution_count": null,
   "id": "691bbff9-7a83-4fa3-b921-d04d53a03b0e",
   "metadata": {},
   "outputs": [],
   "source": [
    "# write a function where every string is followed by 0 b or 1b\n",
    "string=\"aaab\"\n",
    "pattern=''\n",
    "print(re.findall(pattern,string))"
   ]
  },
  {
   "cell_type": "markdown",
   "id": "3d6a43fb-2752-449d-afcc-8523339718ce",
   "metadata": {},
   "source": [
    "# @ Grouping"
   ]
  },
  {
   "cell_type": "code",
   "execution_count": 31,
   "id": "24dd4f7b-ea79-4eb5-8473-e8c4473397ae",
   "metadata": {},
   "outputs": [
    {
     "name": "stdout",
     "output_type": "stream",
     "text": [
      "[('m', 'ayurkulkarni636', '@', 'gmail.com')]\n"
     ]
    },
    {
     "name": "stderr",
     "output_type": "stream",
     "text": [
      "<>:2: SyntaxWarning: invalid escape sequence '\\@'\n",
      "<>:2: SyntaxWarning: invalid escape sequence '\\@'\n",
      "C:\\Users\\Komal prakash mali\\AppData\\Local\\Temp\\ipykernel_1212\\1323158557.py:2: SyntaxWarning: invalid escape sequence '\\@'\n",
      "  pattern='(^[a-zA-Z0-9])([a-zA-Z0-9]*)(\\@)([a-zA-Z0-9]{2,}\\.\\w+)'\n"
     ]
    }
   ],
   "source": [
    "string = \"mayurkulkarni636@gmail.com\"\n",
    "pattern='(^[a-zA-Z0-9])([a-zA-Z0-9]*)(\\@)([a-zA-Z0-9]{2,}\\.\\w+)'\n",
    "print(re.findall(pattern,string))"
   ]
  },
  {
   "cell_type": "code",
   "execution_count": 34,
   "id": "ff140886-171f-4b9a-82ef-7168400b3de0",
   "metadata": {},
   "outputs": [
    {
     "name": "stderr",
     "output_type": "stream",
     "text": [
      "<>:2: SyntaxWarning: invalid escape sequence '\\@'\n",
      "<>:2: SyntaxWarning: invalid escape sequence '\\@'\n",
      "C:\\Users\\Komal prakash mali\\AppData\\Local\\Temp\\ipykernel_1772\\1241203713.py:2: SyntaxWarning: invalid escape sequence '\\@'\n",
      "  pattern='(^[a-zA-Z0-9])([a-zA-z0-9]*)(\\@)([a-zA-Z0-9]{2,}\\.\\w+)'\n"
     ]
    }
   ],
   "source": [
    "string = \"mayurkulkarni636@gmail.com\"\n",
    "pattern='(^[a-zA-Z0-9])([a-zA-z0-9]*)(\\@)([a-zA-Z0-9]{2,}\\.\\w+)'\n",
    "match=re.search(pattern,string)"
   ]
  },
  {
   "cell_type": "code",
   "execution_count": 36,
   "id": "cb83b48e-e484-482d-a7b3-e4c48c0487aa",
   "metadata": {},
   "outputs": [
    {
     "data": {
      "text/plain": [
       "'m'"
      ]
     },
     "execution_count": 36,
     "metadata": {},
     "output_type": "execute_result"
    }
   ],
   "source": [
    "match.group(1)"
   ]
  },
  {
   "cell_type": "code",
   "execution_count": 38,
   "id": "65dab229-6e25-4fb5-b7c2-4f5204039946",
   "metadata": {},
   "outputs": [
    {
     "data": {
      "text/plain": [
       "'ayurkulkarni636'"
      ]
     },
     "execution_count": 38,
     "metadata": {},
     "output_type": "execute_result"
    }
   ],
   "source": [
    "match.group(2)"
   ]
  },
  {
   "cell_type": "code",
   "execution_count": 40,
   "id": "e83ecff0-3247-4687-8af3-0e60a5309b31",
   "metadata": {},
   "outputs": [
    {
     "data": {
      "text/plain": [
       "'@'"
      ]
     },
     "execution_count": 40,
     "metadata": {},
     "output_type": "execute_result"
    }
   ],
   "source": [
    "match.group(3)"
   ]
  },
  {
   "cell_type": "code",
   "execution_count": 51,
   "id": "2fe59a54-9dfd-4622-b871-e8a08f65dc6f",
   "metadata": {},
   "outputs": [
    {
     "data": {
      "text/plain": [
       "'gmail.com'"
      ]
     },
     "execution_count": 51,
     "metadata": {},
     "output_type": "execute_result"
    }
   ],
   "source": [
    "match.group(4)"
   ]
  },
  {
   "cell_type": "code",
   "execution_count": 46,
   "id": "e6e48e0e-af6e-4e33-8264-c9230bee2237",
   "metadata": {},
   "outputs": [
    {
     "name": "stdout",
     "output_type": "stream",
     "text": [
      "[('m', 'ayurkulkarni636', '@', 'gmail.com')]\n"
     ]
    },
    {
     "name": "stderr",
     "output_type": "stream",
     "text": [
      "<>:4: SyntaxWarning: invalid escape sequence '\\w'\n",
      "<>:4: SyntaxWarning: invalid escape sequence '\\w'\n",
      "C:\\Users\\Komal prakash mali\\AppData\\Local\\Temp\\ipykernel_1772\\2113776335.py:4: SyntaxWarning: invalid escape sequence '\\w'\n",
      "  pattern='(\\w{2})(\\w*)(\\w{3}@)(\\w+)(\\.\\w+)'\n"
     ]
    }
   ],
   "source": [
    "import re\n",
    "def masking(email):\n",
    "    string='komalm1205@gmail.com'\n",
    "    pattern='(\\w{2})(\\w*)(\\w{3}@)(\\w+)(\\.\\w+)'\n",
    "print(re.findall(pattern,string))"
   ]
  },
  {
   "cell_type": "code",
   "execution_count": 50,
   "id": "e7673ba8-2302-4101-923c-6b7b493fe699",
   "metadata": {},
   "outputs": [
    {
     "data": {
      "text/plain": [
       "'m'"
      ]
     },
     "execution_count": 50,
     "metadata": {},
     "output_type": "execute_result"
    }
   ],
   "source": [
    "match.group(1)"
   ]
  },
  {
   "cell_type": "code",
   "execution_count": 54,
   "id": "07a2567b-4aae-4d98-8bbc-226687db4963",
   "metadata": {},
   "outputs": [
    {
     "name": "stdout",
     "output_type": "stream",
     "text": [
      "ma###########636@#####com\n"
     ]
    },
    {
     "name": "stderr",
     "output_type": "stream",
     "text": [
      "<>:3: SyntaxWarning: invalid escape sequence '\\w'\n",
      "<>:3: SyntaxWarning: invalid escape sequence '\\w'\n",
      "C:\\Users\\Komal prakash mali\\AppData\\Local\\Temp\\ipykernel_1772\\3573762494.py:3: SyntaxWarning: invalid escape sequence '\\w'\n",
      "  pattern='(\\w{2})(\\w*)(\\w{3}@)(\\w+).(\\w+)'\n"
     ]
    }
   ],
   "source": [
    "import re\n",
    "def masking(email):\n",
    "    pattern='(\\w{2})(\\w*)(\\w{3}@)(\\w+).(\\w+)'\n",
    "    match=re.search(pattern,string)\n",
    "    x=match.group(1)+'#'*(len(match.group(2)))+match.group(3)+'#'*(len(match.group(4)))+match.group(5)\n",
    "    return x\n",
    "print(masking('kiranmagare1107@gmail.com'))"
   ]
  },
  {
   "cell_type": "code",
   "execution_count": 62,
   "id": "c88d625c-6804-4786-abb5-3c0745c92558",
   "metadata": {},
   "outputs": [
    {
     "data": {
      "text/plain": [
       "'m###############'"
      ]
     },
     "execution_count": 62,
     "metadata": {},
     "output_type": "execute_result"
    }
   ],
   "source": [
    "match.group(1)+'#'*(len(match.group(2)))"
   ]
  },
  {
   "cell_type": "code",
   "execution_count": 16,
   "id": "9e79a76d-5324-407e-8ddd-a3f32f8aa8b2",
   "metadata": {},
   "outputs": [
    {
     "name": "stdout",
     "output_type": "stream",
     "text": [
      "1(345)-456-789\n"
     ]
    },
    {
     "name": "stderr",
     "output_type": "stream",
     "text": [
      "<>:3: SyntaxWarning: invalid escape sequence '\\.'\n",
      "<>:3: SyntaxWarning: invalid escape sequence '\\.'\n",
      "C:\\Users\\Komal prakash mali\\AppData\\Local\\Temp\\ipykernel_6492\\391790236.py:3: SyntaxWarning: invalid escape sequence '\\.'\n",
      "  pattern='[0-9\\.]+'\n"
     ]
    }
   ],
   "source": [
    "import re\n",
    "string = \"1(345)-456-789\"\n",
    "pattern='[0-9\\.]+'\n",
    "print(re.sub('0','',string))\n"
   ]
  },
  {
   "cell_type": "code",
   "execution_count": 11,
   "id": "53661c26-e3cf-46a0-a864-a25c4d2cce1a",
   "metadata": {},
   "outputs": [
    {
     "name": "stdout",
     "output_type": "stream",
     "text": [
      "50949066711869732400649192182185953712727164528751965056583473262863708544343306356002477236492316681182538739610484120611376826228682073923818703706597906776016830438287668195034454414647375475968919974197648576948805565475117361964101925978495290150681191310309203359084653193781496463183427232430292992000000000000000000000000000000000000000000000\n"
     ]
    }
   ],
   "source": [
    "def fact (n):\n",
    "    if n==0 or n==1:\n",
    "        return 1\n",
    "    else:\n",
    "        return n*fact(n-1)\n",
    "print (fact(189))"
   ]
  },
  {
   "cell_type": "code",
   "execution_count": 19,
   "id": "b5d0c815-1045-4f3c-a700-d1628c5010e8",
   "metadata": {},
   "outputs": [
    {
     "name": "stdout",
     "output_type": "stream",
     "text": [
      "[]\n"
     ]
    },
    {
     "name": "stderr",
     "output_type": "stream",
     "text": [
      "<>:3: SyntaxWarning: invalid escape sequence '\\d'\n",
      "<>:3: SyntaxWarning: invalid escape sequence '\\d'\n",
      "C:\\Users\\Komal prakash mali\\AppData\\Local\\Temp\\ipykernel_6492\\3003942601.py:3: SyntaxWarning: invalid escape sequence '\\d'\n",
      "  pattern='(\\d)+'\n"
     ]
    }
   ],
   "source": [
    "#write a python program that matches a word containing 'z'\n",
    "string = \"ab\"\n",
    "pattern='(\\d)+'\n",
    "print(re.findall(pattern,string))"
   ]
  },
  {
   "cell_type": "code",
   "execution_count": null,
   "id": "ee3a93db-b384-4ebf-a8cb-4777dfe33214",
   "metadata": {},
   "outputs": [],
   "source": [
    "# https:\\\\www.google.com\\\\<p> this the unavailable content<p> but is visible for dummies\n",
    "#https:\\\\www.github.co.in\\<p> this the unavailable content<p> but is visible for dummies\n",
    "url1 = \"https:\\\\www.google.com\\\\<p> \"\n",
    "url2 = \"https:\\\\www.github.co.in\\<p>\"\n",
    "result = \n",
    "\n",
    "if result:\n",
    "    print(\n",
    "else:\n",
    "    print()"
   ]
  },
  {
   "cell_type": "code",
   "execution_count": null,
   "id": "9d14fd46-42b5-4587-8cc5-0e81b4773fb5",
   "metadata": {},
   "outputs": [],
   "source": [
    "#  Check the weather both lists are equal or not\n",
    "list1 = [\"a\",\"bc\"]\n",
    " =list2 = [\"a\",\"b\",\"c\"]\n"
   ]
  },
  {
   "cell_type": "code",
   "execution_count": 22,
   "id": "3cd4db18-fbc0-4861-a6f3-9c6454e7703e",
   "metadata": {},
   "outputs": [
    {
     "name": "stdout",
     "output_type": "stream",
     "text": [
      "b is greater\n",
      "d is grater\n"
     ]
    }
   ],
   "source": [
    "# largest or digit find out\n",
    "a = str1 =\"52\"\n",
    "b =str2 =\"679\"\n",
    "c = str3 =\"4520\"\n",
    "d = str4 =\"4620\"\n",
    "if (a>b)&(a>c):\n",
    "   print (\"a is greater\")\n",
    "if ( b>a)&(b>c):\n",
    "   print (\"b is greater\")\n",
    "if (c>b)&(c>d):\n",
    "   print (\"c is greater\")\n",
    "else:\n",
    "   print (\"d is grater\")\n",
    "      "
   ]
  },
  {
   "cell_type": "code",
   "execution_count": 2,
   "id": "85068951-41f6-46fc-8005-cf1cf280eaad",
   "metadata": {},
   "outputs": [
    {
     "data": {
      "text/plain": [
       "10"
      ]
     },
     "execution_count": 2,
     "metadata": {},
     "output_type": "execute_result"
    }
   ],
   "source": [
    "# max peak among list:\n",
    "lst = [2,3,5,6,7,5,1,8,10,7,6]\n",
    "max_peak = None\n",
    "\n",
    "for i in range(1, len(lst) - 1):  # Ignore the first and last elements\n",
    "    if lst[i] > lst[i - 1] and lst[i] > lst[i + 1]:\n",
    "        if max_peak is None or lst[i] > max_peak:\n",
    "            max_peak = lst[i]\n",
    "\n",
    "max_peak\n"
   ]
  }
 ],
 "metadata": {
  "kernelspec": {
   "display_name": "Python 3 (ipykernel)",
   "language": "python",
   "name": "python3"
  },
  "language_info": {
   "codemirror_mode": {
    "name": "ipython",
    "version": 3
   },
   "file_extension": ".py",
   "mimetype": "text/x-python",
   "name": "python",
   "nbconvert_exporter": "python",
   "pygments_lexer": "ipython3",
   "version": "3.12.7"
  }
 },
 "nbformat": 4,
 "nbformat_minor": 5
}
