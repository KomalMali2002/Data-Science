{
 "cells": [
  {
   "cell_type": "markdown",
   "id": "e2006122-f67e-435a-978e-d4317a967ced",
   "metadata": {},
   "source": [
    "### @ Perimeter of circle"
   ]
  },
  {
   "cell_type": "code",
   "execution_count": 97,
   "id": "e7cfda07-d3ce-42c0-a337-44363d02ab51",
   "metadata": {},
   "outputs": [
    {
     "name": "stdout",
     "output_type": "stream",
     "text": [
      "center the value of radius 10\n"
     ]
    },
    {
     "name": "stdout",
     "output_type": "stream",
     "text": [
      "perimeter of circle 32.656000000000006\n"
     ]
    }
   ],
   "source": [
    "radius = float (input(\"center the value of radius\"))\n",
    "radius = 5.2\n",
    "perimeter  = 2*3.14*radius\n",
    "print (\"perimeter of circle\",perimeter)"
   ]
  },
  {
   "cell_type": "markdown",
   "id": "a1543e6b-8618-478c-9dd8-2e72d4d80588",
   "metadata": {},
   "source": [
    "## @ Area of equality triangle  "
   ]
  },
  {
   "cell_type": "code",
   "execution_count": 63,
   "id": "754ab30b-0fd1-4ab1-8749-8209be5a14c9",
   "metadata": {},
   "outputs": [
    {
     "name": "stdout",
     "output_type": "stream",
     "text": [
      "enter the value of sides 2\n"
     ]
    },
    {
     "name": "stdout",
     "output_type": "stream",
     "text": [
      "29.28\n"
     ]
    }
   ],
   "source": [
    "sides = float(input(\"enter the value of sides\"))\n",
    "sides = 4 \n",
    "Area = 1.83 * 4\n",
    "Area = 1.83 * (sides**2)\n",
    "print (Area)"
   ]
  },
  {
   "cell_type": "markdown",
   "id": "12156176-9cd9-42ac-b86d-91d13c0e23a4",
   "metadata": {},
   "source": [
    "# @ perimeter of rectangle"
   ]
  },
  {
   "cell_type": "code",
   "execution_count": 2,
   "id": "527048dd-ac5e-4918-91a1-45a464c1ab91",
   "metadata": {},
   "outputs": [
    {
     "name": "stdout",
     "output_type": "stream",
     "text": [
      "enter the lenght of the reactanglr 10\n",
      "enter the breadth of the reacrangle 12\n"
     ]
    },
    {
     "name": "stdout",
     "output_type": "stream",
     "text": [
      "area of the reactangle is 120\n",
      "perimeter of the reactangle 44\n"
     ]
    }
   ],
   "source": [
    "length = int(input(\"enter the lenght of the reactanglr\"))\n",
    "breadth = int (input(\"enter the breadth of the reacrangle\"))\n",
    "area = length * breadth\n",
    "perimeter = (length + breadth) *2\n",
    "print (\"area of the reactangle is\" ,area)\n",
    "print (\"perimeter of the reactangle\" ,perimeter)"
   ]
  },
  {
   "cell_type": "markdown",
   "id": "a82fb7b0-b7b0-47ef-a8aa-512f5e96deb3",
   "metadata": {},
   "source": [
    "# @ Area of trapezium"
   ]
  },
  {
   "cell_type": "code",
   "execution_count": 7,
   "id": "f8053be6-70d0-4eae-afb6-a1327282d93b",
   "metadata": {},
   "outputs": [
    {
     "name": "stdout",
     "output_type": "stream",
     "text": [
      "enter the value of a 30\n",
      "enter the value of b 20\n",
      "enter the value of h 40\n"
     ]
    },
    {
     "name": "stdout",
     "output_type": "stream",
     "text": [
      "1000.0\n"
     ]
    }
   ],
   "source": [
    "a = int(input(\"enter the value of a\"))\n",
    "b = int(input(\"enter the value of b\"))\n",
    "h = int(input(\"enter the value of h\"))\n",
    "print (0.5*(a+b)*h)"
   ]
  },
  {
   "cell_type": "markdown",
   "id": "4907edc0-1aa3-42bc-9901-eee3eb65a3cd",
   "metadata": {},
   "source": [
    "# @ Control Sturcture"
   ]
  },
  {
   "cell_type": "markdown",
   "id": "96ef1b47-3c5f-41e2-a1cd-f12f3b7e332f",
   "metadata": {},
   "source": [
    "# @  Simple if"
   ]
  },
  {
   "cell_type": "markdown",
   "id": "1d317c9d-798f-4aea-82cf-93c8a08d30ad",
   "metadata": {},
   "source": [
    "# Program of even or odd number \n"
   ]
  },
  {
   "cell_type": "code",
   "execution_count": 79,
   "id": "6c7f8265-a7bf-4dbe-ad05-c9e4aee56ce8",
   "metadata": {},
   "outputs": [
    {
     "name": "stdout",
     "output_type": "stream",
     "text": [
      "enter any number 15\n"
     ]
    },
    {
     "name": "stdout",
     "output_type": "stream",
     "text": [
      "odd number\n"
     ]
    }
   ],
   "source": [
    "number = int(input(\"enter any number\"))\n",
    "if number%2 == 0:\n",
    "   print (\"even number\")\n",
    "if number%2!=0:\n",
    "   print (\"odd number\")"
   ]
  },
  {
   "cell_type": "markdown",
   "id": "698c1f2e-207a-4963-8a7e-36a6bcb1209b",
   "metadata": {},
   "source": [
    "# @ if_________ else"
   ]
  },
  {
   "cell_type": "markdown",
   "id": "4c22ce0f-652a-476c-9d4c-013c010299ea",
   "metadata": {},
   "source": [
    "# Program of even or odd number\n"
   ]
  },
  {
   "cell_type": "code",
   "execution_count": 150,
   "id": "448b9e27-416b-4317-91a3-7187155451de",
   "metadata": {},
   "outputs": [
    {
     "name": "stdout",
     "output_type": "stream",
     "text": [
      "enter any number 6\n"
     ]
    },
    {
     "name": "stdout",
     "output_type": "stream",
     "text": [
      "even number\n"
     ]
    }
   ],
   "source": [
    "number = int(input(\"enter any number\"))\n",
    "if number%2==0:\n",
    "   print(\"even number\")\n",
    "else:\n",
    "   print(\"odd number\")     # if number & 1 == 0"
   ]
  },
  {
   "cell_type": "markdown",
   "id": "daaacb8c-b0f1-40eb-9066-bc5e1c971d77",
   "metadata": {},
   "source": [
    "# program of the circle"
   ]
  },
  {
   "cell_type": "code",
   "execution_count": 3,
   "id": "e6b1e6e5-055a-4b03-be23-35ea851029cf",
   "metadata": {},
   "outputs": [
    {
     "name": "stdout",
     "output_type": "stream",
     "text": [
      "enter the radius of circle 50\n",
      "enter the x-cordinated of a point 40\n",
      "enter the y-cordinated of a point 30\n"
     ]
    },
    {
     "name": "stdout",
     "output_type": "stream",
     "text": [
      "point lines outsite the circle\n",
      "point lines on the circle\n"
     ]
    }
   ],
   "source": [
    "radius = float(input(\"enter the radius of circle\"))\n",
    "x1 = int(input(\"enter the x-cordinated of a point\"))\n",
    "y1 = int(input(\"enter the y-cordinated of a point\"))\n",
    "distance = (((0-y1)**2)+((0-x1)**2))**0.5\n",
    "if distance == radius:\n",
    "   print (\"point lines outsite the circle\")\n",
    "if distance<radius:\n",
    "   print (\"point lines insite the circle\")\n",
    "else:\n",
    "   print (\"point lines on the circle\")"
   ]
  },
  {
   "cell_type": "markdown",
   "id": "b4691f8c-5e07-47a0-9ad2-bd90d116e67f",
   "metadata": {},
   "source": [
    "# Program of find the greatest number between 2 number"
   ]
  },
  {
   "cell_type": "code",
   "execution_count": 180,
   "id": "b24002aa-473c-4868-bddb-b1074e772cd6",
   "metadata": {},
   "outputs": [
    {
     "name": "stdout",
     "output_type": "stream",
     "text": [
      "enter any number 5\n",
      "enter any number 6\n"
     ]
    },
    {
     "name": "stdout",
     "output_type": "stream",
     "text": [
      "y is greater\n"
     ]
    }
   ],
   "source": [
    "x = int(input(\"enter any number\"))\n",
    "y = int(input(\"enter any number\"))\n",
    "if (x>y):\n",
    "    print (\"x is greater\")\n",
    "else:\n",
    "    print (\"y is greater\")"
   ]
  },
  {
   "cell_type": "markdown",
   "id": "1e4e800c-3e8e-4f21-8598-07fe81296072",
   "metadata": {},
   "source": [
    "# Program of find the greatest number between 3 number"
   ]
  },
  {
   "cell_type": "code",
   "execution_count": 85,
   "id": "ff043281-fa56-4e4d-9650-9f94d092d4f5",
   "metadata": {},
   "outputs": [
    {
     "name": "stdout",
     "output_type": "stream",
     "text": [
      "enter any number 50\n",
      "enter any number 40\n",
      "enter any number 45\n"
     ]
    },
    {
     "name": "stdout",
     "output_type": "stream",
     "text": [
      "a is greater\n",
      "c is greater\n"
     ]
    }
   ],
   "source": [
    "a = int(input(\"enter any number\"))\n",
    "b = int(input(\"enter any number\"))\n",
    "c = int(input(\"enter any number\"))\n",
    "if (a>b)&(a>c):\n",
    "   print (\"a is greater\")\n",
    "if ( b>a)&(b>c):\n",
    "  print (\"b is greater\")\n",
    "else:\n",
    "  print (\"c is greater\")"
   ]
  },
  {
   "cell_type": "markdown",
   "id": "408a0043-82bf-4811-9e32-0bba1e373f2c",
   "metadata": {},
   "source": [
    "# Program of find the greatest number between 4 number"
   ]
  },
  {
   "cell_type": "code",
   "execution_count": 89,
   "id": "aae1a7ec-6b4b-41fc-bc75-be4057621f65",
   "metadata": {},
   "outputs": [
    {
     "name": "stdout",
     "output_type": "stream",
     "text": [
      "enter any number 10\n",
      "enter any number 20\n",
      "enter any number 30\n",
      "enter any number 60\n"
     ]
    },
    {
     "name": "stdout",
     "output_type": "stream",
     "text": [
      "d is grater\n"
     ]
    }
   ],
   "source": [
    "a = int(input(\"enter any number\"))\n",
    "b = int(input(\"enter any number\"))\n",
    "c = int(input(\"enter any number\"))\n",
    "d = int(input(\"enter any number\"))\n",
    "if (a>b)&(a>c):\n",
    "   print (\"a is greater\")\n",
    "if ( b>a)&(b>c):\n",
    "   print (\"b is greater\")\n",
    "if (c>b)&(c>d):\n",
    "   print (\"c is greater\")\n",
    "else:\n",
    "   print (\"d is grater\")"
   ]
  },
  {
   "cell_type": "markdown",
   "id": "05bfc70a-9fb9-4705-a1d9-611d33ce9493",
   "metadata": {},
   "source": [
    "#  program of swapping the number"
   ]
  },
  {
   "cell_type": "code",
   "execution_count": 170,
   "id": "6a6a020c-18e0-4cc1-90d7-19826826252c",
   "metadata": {},
   "outputs": [
    {
     "name": "stdout",
     "output_type": "stream",
     "text": [
      "enter 1st number 1\n",
      "enter 2nd number 6\n"
     ]
    },
    {
     "name": "stdout",
     "output_type": "stream",
     "text": [
      "6 1\n"
     ]
    }
   ],
   "source": [
    "a = int(input(\"enter 1st number\"))\n",
    "b = int(input(\"enter 2nd number\"))\n",
    "tmp = b \n",
    "b = a\n",
    "a = tmp\n",
    "print (a,b)\n"
   ]
  },
  {
   "cell_type": "code",
   "execution_count": 182,
   "id": "a8b9ae1d-0268-4f2c-b827-4f1940550a07",
   "metadata": {},
   "outputs": [
    {
     "name": "stdout",
     "output_type": "stream",
     "text": [
      "enter 1st number 4\n",
      "enter 2nd number 6\n"
     ]
    },
    {
     "name": "stdout",
     "output_type": "stream",
     "text": [
      "14 4\n"
     ]
    }
   ],
   "source": [
    "a = int(input(\"enter 1st number\"))\n",
    "b = int(input(\"enter 2nd number\"))\n",
    "a = a+b\n",
    "b = a-b\n",
    "a = a+b \n",
    "print (a,b)"
   ]
  },
  {
   "cell_type": "code",
   "execution_count": 184,
   "id": "c80d9d1e-4764-4d8c-bf38-e24b25499853",
   "metadata": {},
   "outputs": [
    {
     "name": "stdout",
     "output_type": "stream",
     "text": [
      "enter 1st number 5\n",
      "enter 2nd number 8\n"
     ]
    },
    {
     "name": "stdout",
     "output_type": "stream",
     "text": [
      "8 5\n"
     ]
    }
   ],
   "source": [
    "a = int(input(\"enter 1st number\"))\n",
    "b = int(input(\"enter 2nd number\"))\n",
    "a = a^b\n",
    "b = a^b\n",
    "a = a^b \n",
    "print (a,b)"
   ]
  },
  {
   "cell_type": "markdown",
   "id": "0a8ff06c-9041-4997-8030-691043b5405f",
   "metadata": {},
   "source": [
    " # program of the multiple conditions"
   ]
  },
  {
   "cell_type": "code",
   "execution_count": 77,
   "id": "b9adef4a-3e10-4014-8da1-b5d9583ab198",
   "metadata": {},
   "outputs": [
    {
     "name": "stdout",
     "output_type": "stream",
     "text": [
      "enter the any number 76\n",
      "enter the any number 45\n",
      "enter the any number 78\n",
      "enter the any number 90\n"
     ]
    },
    {
     "name": "stdout",
     "output_type": "stream",
     "text": [
      "d is greater\n"
     ]
    }
   ],
   "source": [
    "a = int (input(\"enter the any number\")) \n",
    "b = int (input(\"enter the any number\")) \n",
    "c = int (input(\"enter the any number\")) \n",
    "d = int (input(\"enter the any number\")) \n",
    "if (a>b)&(a>c)&(a>d):\n",
    "    print (\"a is greater\")\n",
    "elif (b>a)&(b>c)&(b>d):\n",
    "     print (\"b is greater\")\n",
    "elif (c>a)&(c>b)&(c>d):\n",
    "     print (\"c is greater\")\n",
    "else :\n",
    "     print (\"d is greater\")"
   ]
  },
  {
   "cell_type": "markdown",
   "id": "d9c16db3-889b-4e9f-8083-19113210b4b5",
   "metadata": {},
   "source": [
    "# @if_______elif_________else"
   ]
  },
  {
   "cell_type": "markdown",
   "id": "1e111771-f33e-49ec-8c94-5bf2e920281d",
   "metadata": {},
   "source": [
    "# WAP to find the number is positive,negative or neutral "
   ]
  },
  {
   "cell_type": "code",
   "execution_count": 4,
   "id": "7d94efe9-a4ca-4798-9fce-f74e52015810",
   "metadata": {},
   "outputs": [
    {
     "name": "stdout",
     "output_type": "stream",
     "text": [
      "enter any number 40\n"
     ]
    },
    {
     "name": "stdout",
     "output_type": "stream",
     "text": [
      " number is positive\n"
     ]
    }
   ],
   "source": [
    "a = int (input(\"enter any number\"))\n",
    "if a>0: \n",
    "   print (\" number is positive\")\n",
    "elif a<0:\n",
    "    print (\"number is negative\")\n",
    "else: \n",
    "    print  (\"number is neutral\")"
   ]
  },
  {
   "cell_type": "markdown",
   "id": "7d1393ba-3324-450a-a557-1890d337673f",
   "metadata": {},
   "source": [
    "# WAP person is eligible or not for voting"
   ]
  },
  {
   "cell_type": "code",
   "execution_count": 5,
   "id": "ae9608ca-0d61-4694-80bf-3aa4733b1d23",
   "metadata": {},
   "outputs": [
    {
     "name": "stdout",
     "output_type": "stream",
     "text": [
      "enter the age of person 18\n"
     ]
    },
    {
     "name": "stdout",
     "output_type": "stream",
     "text": [
      " person is eligible for voting\n"
     ]
    }
   ],
   "source": [
    "age = int(input(\"enter the age of person\"))\n",
    "if age >= 18:\n",
    "    print (\" person is eligible for voting\")\n",
    "else:\n",
    "    print (\" person is not eligible for voting\")"
   ]
  },
  {
   "cell_type": "markdown",
   "id": "c48517bf-f807-4775-87b8-afc2395dd241",
   "metadata": {},
   "source": [
    "# WAP counting the salary"
   ]
  },
  {
   "cell_type": "code",
   "execution_count": 81,
   "id": "e0e64ac9-ecd1-4f23-b309-f4660988037c",
   "metadata": {},
   "outputs": [
    {
     "name": "stdout",
     "output_type": "stream",
     "text": [
      "enter the sales 50000\n"
     ]
    },
    {
     "name": "stdout",
     "output_type": "stream",
     "text": [
      "the salary is: 12200.0\n"
     ]
    }
   ],
   "source": [
    "basic_salary = 4000\n",
    "sale = float(input(\"enter the sales\"))\n",
    "if sale>=100000 :\n",
    "      hra=0.2*4000\n",
    "      da =1.1*4000\n",
    "      con=500\n",
    "      incentive=0.1*sale\n",
    "      bonus=1000\n",
    " \n",
    "else:\n",
    "      hra=0.2*4000\n",
    "      da =1.1*4000\n",
    "      con=500\n",
    "      incentive=0.04*sale\n",
    "      bonus=500\n",
    "total_salary = basic_salary + hra + da + con + incentive + bonus \n",
    "print (\"the salary is:\",total_salary)\n",
    " \n",
    "    \n",
    "    "
   ]
  },
  {
   "cell_type": "markdown",
   "id": "58a1a26b-ee57-47bc-bb86-08a13e7c7aec",
   "metadata": {},
   "source": [
    "# WAP of person is adult and drink alcohol"
   ]
  },
  {
   "cell_type": "code",
   "execution_count": 111,
   "id": "5c0e3d3e-783b-4e31-a630-753f2d6bed55",
   "metadata": {},
   "outputs": [
    {
     "name": "stdout",
     "output_type": "stream",
     "text": [
      "enter the age 23\n"
     ]
    },
    {
     "name": "stdout",
     "output_type": "stream",
     "text": [
      "person is adult & eligible to the drink alcohol\n"
     ]
    }
   ],
   "source": [
    "age = int (input(\"enter the age\"))\n",
    "if age >=18:\n",
    "  if age >=21:\n",
    "    print (\"person is adult & eligible to the drink alcohol\")\n",
    "  else:\n",
    "          print (\"person is adult but not eligible to the drink alcohol\")\n",
    "else:\n",
    "   print (\"person is not  adult & not eligible to the drink alcohol\")\n"
   ]
  },
  {
   "cell_type": "markdown",
   "id": "28b5e5aa-9fe3-4944-bde5-f2bc0c26bcbb",
   "metadata": {},
   "source": [
    "#  WAP to take marks of a five subject and grade it by percentage"
   ]
  },
  {
   "cell_type": "code",
   "execution_count": 123,
   "id": "b024b43b-c22b-4af9-af5f-dd3287133c56",
   "metadata": {},
   "outputs": [
    {
     "name": "stdout",
     "output_type": "stream",
     "text": [
      "enter the marks of 1st subject 50\n",
      "enter the marks of 2nd subject 50\n",
      "enter the marks of 3rd subject 50\n",
      "enter the marks of 4th subject 50\n",
      "enter the marks of 5th subject 50\n"
     ]
    },
    {
     "name": "stdout",
     "output_type": "stream",
     "text": [
      "student is fail\n"
     ]
    }
   ],
   "source": [
    "p1 = float(input(\"enter the marks of 1st subject\"))\n",
    "p2 = float(input(\"enter the marks of 2nd subject\"))\n",
    "p3 = float(input(\"enter the marks of 3rd subject\"))\n",
    "p4 = float(input(\"enter the marks of 4th subject\"))\n",
    "p5 = float(input(\"enter the marks of 5th subject\"))\n",
    "total_marks = 500\n",
    "obtain_marks = p1 + p2 + p3 + p4 + p5\n",
    "percentage = (obtain_marks/total_marks)*100\n",
    "if percentage > 90:\n",
    "    print (\"student got A+ grade\")\n",
    "elif percentage<=90 and percentage>80:  \n",
    "     print (\"student got A grade\")\n",
    "elif percentage<=80 and percentage>70:  \n",
    "     print (\"student got B grade\")\n",
    "elif percentage<=70 and percentage>60:  \n",
    "     print (\"student got C grade\")\n",
    "elif percentage<=60 and percentage>50: \n",
    "    print (\"student got D grade\")\n",
    "else: \n",
    "    print (\"student is fail\")\n"
   ]
  },
  {
   "cell_type": "markdown",
   "id": "20852a27-02fd-403f-8eb5-566bdc437f7d",
   "metadata": {},
   "source": [
    "# @ Nested if"
   ]
  },
  {
   "cell_type": "markdown",
   "id": "4ff0c121-0a39-4982-bbb2-2395720b0ed5",
   "metadata": {},
   "source": [
    "# Input is divisible by 5 and 10 "
   ]
  },
  {
   "cell_type": "code",
   "execution_count": 148,
   "id": "70337cd0-8322-4bcb-b11c-bb7f0bb63521",
   "metadata": {},
   "outputs": [
    {
     "name": "stdout",
     "output_type": "stream",
     "text": [
      "enter the any number 8\n"
     ]
    },
    {
     "name": "stdout",
     "output_type": "stream",
     "text": [
      "number is not divisible by both\n"
     ]
    }
   ],
   "source": [
    "number = int(input(\"enter the any number\"))\n",
    "if number %5==0:\n",
    "    if number %10==0:\n",
    "      print (\"number is divisible by 5 & 10\")\n",
    "    else:\n",
    "     print (\"number is divisible by 5 but not divisible by1 10\")\n",
    "else:\n",
    "      print (\"number is not divisible by both\")\n"
   ]
  },
  {
   "cell_type": "markdown",
   "id": "68dcef78-8c08-47fc-a67d-5560125e38e7",
   "metadata": {},
   "source": [
    "# @Iterative Approch (loop) repetitive statement"
   ]
  },
  {
   "cell_type": "markdown",
   "id": "330e4a45-d563-4295-afa6-76f2cf59a9dc",
   "metadata": {},
   "source": [
    "#  While Loop"
   ]
  },
  {
   "cell_type": "markdown",
   "id": "3f0caf7d-811d-4244-8e0e-2488a80a08dd",
   "metadata": {},
   "source": [
    " - whenever we want to execute specific block of the code the we will go for loop\n",
    "\n",
    " 1. While loop \n",
    " 2. for loop \n",
    "\n",
    " - We need to find out 3 steps\n",
    "     1. Initialization \n",
    "     2. termination condition\n",
    "     3. updation\n",
    "\n",
    " - whenever we are using the loop the approach it called iterative approach\n",
    " 1. while loop\n",
    "   - Syntax : \n",
    "            while condition:\n",
    "                  while body\n",
    "\n",
    "\n",
    " @ - The else block code is executed when the while condition is false\n",
    "   - if the while condition is true it will not goes to else block\n"
   ]
  },
  {
   "cell_type": "code",
   "execution_count": 10,
   "id": "17faa53b-6c72-43bb-9997-37c1a58480ca",
   "metadata": {},
   "outputs": [
    {
     "name": "stdout",
     "output_type": "stream",
     "text": [
      "Hello\n",
      "Hello\n",
      "Hello\n",
      "Hello\n",
      "Hello\n",
      "Hello\n",
      "Hello\n",
      "Hello\n",
      "Hello\n",
      "Hello\n"
     ]
    }
   ],
   "source": [
    "i = 1\n",
    "while i<=10: \n",
    "    print (\"Hello\")\n",
    "    i+=1"
   ]
  },
  {
   "cell_type": "markdown",
   "id": "ce036086-cafc-4af7-90b3-005903d5b26d",
   "metadata": {},
   "source": [
    "# WAP to print 10 to 1"
   ]
  },
  {
   "cell_type": "code",
   "execution_count": 1,
   "id": "baae5b65-08e0-464c-9e04-0a884465aee1",
   "metadata": {},
   "outputs": [],
   "source": [
    "i = 0\n",
    "while i>=1:\n",
    "    print (i)\n",
    "    i-=1"
   ]
  },
  {
   "cell_type": "markdown",
   "id": "c9f939b7-2e91-4959-a9ab-a7c028ac398f",
   "metadata": {},
   "source": [
    "# WAP to print the number"
   ]
  },
  {
   "cell_type": "code",
   "execution_count": 16,
   "id": "3c41737a-5d76-4443-85de-88205840837a",
   "metadata": {},
   "outputs": [
    {
     "name": "stdout",
     "output_type": "stream",
     "text": [
      "2\n",
      "3\n",
      "4\n",
      "5\n",
      "6\n",
      "7\n",
      "8\n",
      "9\n",
      "10\n",
      "11\n"
     ]
    }
   ],
   "source": [
    "i = 1\n",
    "while i<=10:\n",
    "    i+=1\n",
    "    print (i)"
   ]
  },
  {
   "cell_type": "markdown",
   "id": "01cdd3b5-8a57-435b-ba15-1787c6bd1237",
   "metadata": {},
   "source": [
    "# WAP to print a unit the user given the 0"
   ]
  },
  {
   "cell_type": "code",
   "execution_count": 24,
   "id": "f66309eb-3f53-457b-a26a-2a4b24e59298",
   "metadata": {},
   "outputs": [
    {
     "name": "stdout",
     "output_type": "stream",
     "text": [
      "enter the any number 8\n"
     ]
    },
    {
     "name": "stdout",
     "output_type": "stream",
     "text": [
      "8\n"
     ]
    },
    {
     "name": "stdout",
     "output_type": "stream",
     "text": [
      "enter the any number 4\n"
     ]
    },
    {
     "name": "stdout",
     "output_type": "stream",
     "text": [
      "4\n"
     ]
    },
    {
     "name": "stdout",
     "output_type": "stream",
     "text": [
      "enter the any number 0\n"
     ]
    },
    {
     "name": "stdout",
     "output_type": "stream",
     "text": [
      "over\n"
     ]
    }
   ],
   "source": [
    "i = 1\n",
    "a = int(input(\"enter the any number\"))\n",
    "while a!=0:\n",
    "    print (a)\n",
    "    a = int(input(\"enter the any number\"))\n",
    "print (\"over\")"
   ]
  },
  {
   "cell_type": "markdown",
   "id": "5c22cefb-7c31-4d34-9b76-583e69bd022e",
   "metadata": {},
   "source": [
    "# WAP to print first 10 number addition"
   ]
  },
  {
   "cell_type": "code",
   "execution_count": 21,
   "id": "72b85768-6e96-43cd-bbe3-b957808cf314",
   "metadata": {},
   "outputs": [
    {
     "name": "stdout",
     "output_type": "stream",
     "text": [
      "enter the any number 10\n"
     ]
    },
    {
     "name": "stdout",
     "output_type": "stream",
     "text": [
      "55\n"
     ]
    }
   ],
   "source": [
    "n = int(input(\"enter the any number\"))\n",
    "i=1\n",
    "sum = 0\n",
    "while i<=10:\n",
    "     sum = sum +i\n",
    "     i+=1\n",
    "print (sum)"
   ]
  },
  {
   "cell_type": "markdown",
   "id": "3f75b762-5c8a-427b-aac7-e0ce7c19780e",
   "metadata": {},
   "source": [
    "# Multiplication Program"
   ]
  },
  {
   "cell_type": "code",
   "execution_count": 13,
   "id": "8cc16955-69c8-4263-936b-5ed0f1c179d8",
   "metadata": {},
   "outputs": [
    {
     "name": "stdout",
     "output_type": "stream",
     "text": [
      "enter the any number 20\n"
     ]
    },
    {
     "name": "stdout",
     "output_type": "stream",
     "text": [
      "380\n"
     ]
    }
   ],
   "source": [
    "n = int(input(\"enter the any number\"))\n",
    "i=1\n",
    "mult=1\n",
    "while i<=n:\n",
    "     mult= n*i\n",
    "     i+=2\n",
    "print (mult)"
   ]
  },
  {
   "cell_type": "markdown",
   "id": "f828c352-f3e7-46f4-8429-7ee41a5da00b",
   "metadata": {},
   "source": [
    "# WAP to print addition of even number"
   ]
  },
  {
   "cell_type": "code",
   "execution_count": 21,
   "id": "44c28640-0a09-4f9d-9708-2b05eb15ea2c",
   "metadata": {},
   "outputs": [
    {
     "name": "stdout",
     "output_type": "stream",
     "text": [
      "enter the any number 10\n"
     ]
    },
    {
     "name": "stdout",
     "output_type": "stream",
     "text": [
      "30\n"
     ]
    }
   ],
   "source": [
    "n = int (input(\"enter the any number\"))\n",
    "i = 2\n",
    "sum = 0\n",
    "while i<=n: \n",
    "      sum=sum+i\n",
    "      i+=2\n",
    "print (sum)"
   ]
  },
  {
   "cell_type": "markdown",
   "id": "4e2eb188-cbb6-4bf4-909e-6898451ce445",
   "metadata": {},
   "source": [
    "#  WAP to print multiplication of even number"
   ]
  },
  {
   "cell_type": "code",
   "execution_count": 20,
   "id": "a6b50352-c652-4ceb-8fe8-5c54376f6e28",
   "metadata": {},
   "outputs": [
    {
     "name": "stdout",
     "output_type": "stream",
     "text": [
      "enter the any number 50\n"
     ]
    },
    {
     "name": "stdout",
     "output_type": "stream",
     "text": [
      "2500\n"
     ]
    }
   ],
   "source": [
    "n = int(input(\"enter the any number\"))\n",
    "i=2\n",
    "mult=1\n",
    "while i<=n:\n",
    "      mult=n*i\n",
    "      i+=2\n",
    "print (mult) "
   ]
  },
  {
   "cell_type": "markdown",
   "id": "a1241b8d-663a-495e-b43e-5e6414fc9587",
   "metadata": {},
   "source": [
    "# WAP to print addition of odd number"
   ]
  },
  {
   "cell_type": "code",
   "execution_count": 18,
   "id": "5d784afa-1d6c-461b-bd60-95ab53eddd1a",
   "metadata": {},
   "outputs": [
    {
     "name": "stdout",
     "output_type": "stream",
     "text": [
      "enter the any number 10\n"
     ]
    },
    {
     "name": "stdout",
     "output_type": "stream",
     "text": [
      "55\n"
     ]
    }
   ],
   "source": [
    "n = int (input(\"enter the any number\"))\n",
    "i = 1\n",
    "sum = 0\n",
    "while i<=n: \n",
    "      sum=sum+i\n",
    "      i+=1\n",
    "print (sum)"
   ]
  },
  {
   "cell_type": "markdown",
   "id": "a80a95e0-d610-4c61-92bd-d8aede6d27ad",
   "metadata": {},
   "source": [
    "# WAP to print all the number which is divisible by 3 in the n number "
   ]
  },
  {
   "cell_type": "code",
   "execution_count": 12,
   "id": "82188e65-fc21-4a19-8f80-514133712a0c",
   "metadata": {},
   "outputs": [
    {
     "name": "stdout",
     "output_type": "stream",
     "text": [
      "enter the any number 50\n"
     ]
    },
    {
     "name": "stdout",
     "output_type": "stream",
     "text": [
      "3\n",
      "6\n",
      "9\n",
      "12\n",
      "15\n",
      "18\n",
      "21\n",
      "24\n",
      "27\n",
      "30\n",
      "33\n",
      "36\n",
      "39\n",
      "42\n",
      "45\n",
      "48\n"
     ]
    }
   ],
   "source": [
    "n = int (input(\"enter the any number\"))\n",
    "i = 1\n",
    "while i<=n:\n",
    "    if i%3==0:\n",
    "      print(i)\n",
    "    i+=1"
   ]
  },
  {
   "cell_type": "markdown",
   "id": "14f2920c-e671-43b0-b566-8df4a092ffb0",
   "metadata": {},
   "source": [
    "# WAp to given number is Divible by 5 & 10 "
   ]
  },
  {
   "cell_type": "code",
   "execution_count": 13,
   "id": "888d4697-8bef-4d52-ae76-c899c1834a2b",
   "metadata": {},
   "outputs": [
    {
     "name": "stdout",
     "output_type": "stream",
     "text": [
      "enter any number 50\n"
     ]
    },
    {
     "name": "stdout",
     "output_type": "stream",
     "text": [
      "10\n",
      "20\n",
      "30\n",
      "40\n",
      "50\n"
     ]
    }
   ],
   "source": [
    "n = int (input(\"enter any number\"))\n",
    "i = 1\n",
    "while i<=n:\n",
    "     if i%5==0 and i%10==0 :\n",
    "         print (i)\n",
    "     i+=1 "
   ]
  },
  {
   "cell_type": "markdown",
   "id": "cace6927-f4bb-41f3-b8ce-e89eda4079ae",
   "metadata": {},
   "source": [
    "# WAP to addition of given number digit"
   ]
  },
  {
   "cell_type": "code",
   "execution_count": 24,
   "id": "caa55166-6fe3-4205-bad6-38f02116b7c4",
   "metadata": {},
   "outputs": [
    {
     "name": "stdout",
     "output_type": "stream",
     "text": [
      "enter the any number 123\n"
     ]
    },
    {
     "name": "stdout",
     "output_type": "stream",
     "text": [
      "6\n"
     ]
    }
   ],
   "source": [
    "n = int (input(\"enter the any number\"))\n",
    "sum = 0\n",
    "while n!=0:\n",
    "    sum = sum+(n%10)\n",
    "    n = n//10\n",
    "print (sum)"
   ]
  },
  {
   "cell_type": "markdown",
   "id": "e53c9ff5-1811-4c4f-bc31-1139d08519f4",
   "metadata": {},
   "source": [
    "# WAP to reversed the given number digit"
   ]
  },
  {
   "cell_type": "code",
   "execution_count": 25,
   "id": "270f335a-9e82-4f5c-b535-dabf2e591c31",
   "metadata": {},
   "outputs": [
    {
     "name": "stdout",
     "output_type": "stream",
     "text": [
      "enter the any number 567\n"
     ]
    },
    {
     "name": "stdout",
     "output_type": "stream",
     "text": [
      "765\n"
     ]
    }
   ],
   "source": [
    "n = int (input(\"enter the any number\"))\n",
    "a = 0\n",
    "while n!=0:\n",
    "    a=a*10+(n%10)\n",
    "    n=n//10\n",
    "print(a)"
   ]
  },
  {
   "cell_type": "markdown",
   "id": "026aec5b-2546-422a-8602-55fe25cfd7ab",
   "metadata": {},
   "source": [
    "# Take any number and print the number in reversed"
   ]
  },
  {
   "cell_type": "code",
   "execution_count": 11,
   "id": "4c2fe520-dde1-427b-96e6-5ecf06033356",
   "metadata": {},
   "outputs": [
    {
     "name": "stdout",
     "output_type": "stream",
     "text": [
      "123\n"
     ]
    }
   ],
   "source": [
    "def digit(n, a=0):\n",
    "    if n == 0:\n",
    "        return a\n",
    "    else:\n",
    "        a = a * 10 + n % 10\n",
    "        return digit(n // 10, a)  \n",
    "print(digit(321))"
   ]
  },
  {
   "cell_type": "markdown",
   "id": "3dc057d9-088d-4397-88c9-fd07be824c79",
   "metadata": {},
   "source": [
    "# WAP of the prime number"
   ]
  },
  {
   "cell_type": "code",
   "execution_count": 75,
   "id": "c59ae540-a6ec-495d-aeb0-431f618d197f",
   "metadata": {},
   "outputs": [
    {
     "name": "stdout",
     "output_type": "stream",
     "text": [
      "enter the any number 24\n"
     ]
    },
    {
     "name": "stdout",
     "output_type": "stream",
     "text": [
      "number is not prime\n"
     ]
    }
   ],
   "source": [
    "n = int (input(\"enter the any number\"))\n",
    "i = 2\n",
    "d = False\n",
    "while i<n:\n",
    "    if n%i==0:\n",
    "      d = True\n",
    "    i+=1\n",
    "if d== False:\n",
    "    print (\"number is prime\")\n",
    "else:\n",
    " print (\"number is not prime\")"
   ]
  },
  {
   "cell_type": "markdown",
   "id": "d368f6cb-4dcc-4f09-a038-1b34fd51b5d0",
   "metadata": {},
   "source": [
    "# Count the number of digit (Iterative Approch)"
   ]
  },
  {
   "cell_type": "code",
   "execution_count": 14,
   "id": "f8c9b935-a473-45c0-8a8e-b59e975e1ea9",
   "metadata": {},
   "outputs": [
    {
     "name": "stdout",
     "output_type": "stream",
     "text": [
      "Enter any number:  90\n"
     ]
    },
    {
     "name": "stdout",
     "output_type": "stream",
     "text": [
      "4\n"
     ]
    }
   ],
   "source": [
    "def count_once(n, count=0):\n",
    "    while n > 0:\n",
    "        if n & 1 == 1:\n",
    "            count += 1\n",
    "        n >>= 1\n",
    "    return count\n",
    "a = int(input(\"Enter any number: \"))\n",
    "print(count_once(a))"
   ]
  },
  {
   "cell_type": "markdown",
   "id": "9bb5e56d-7e14-4260-a859-bde66392aa14",
   "metadata": {},
   "source": [
    "# WAP to print 1 to 100  prime number\n"
   ]
  },
  {
   "cell_type": "code",
   "execution_count": 27,
   "id": "8433aa29-c1da-4868-9bd0-61c035f5d94c",
   "metadata": {},
   "outputs": [
    {
     "name": "stdout",
     "output_type": "stream",
     "text": [
      "enter the any number 17\n"
     ]
    },
    {
     "name": "stdout",
     "output_type": "stream",
     "text": [
      "stop\n"
     ]
    }
   ],
   "source": [
    "n = int (input(\"enter the any number\"))\n",
    "i = 1\n",
    "d = False \n",
    "while i<n:\n",
    "      if n%i==0:\n",
    "        d = True \n",
    "      i+=1\n",
    "if d ==False:\n",
    "    print(i)\n",
    "else:\n",
    "    print (\"stop\")\n"
   ]
  },
  {
   "cell_type": "markdown",
   "id": "3983dd62-33dd-49ea-8bb8-e19a89a58ea3",
   "metadata": {},
   "source": [
    "\n",
    "# @ While with else block"
   ]
  },
  {
   "cell_type": "code",
   "execution_count": 126,
   "id": "95a73d36-c6fe-40dd-bdf4-2ee1387b7e2f",
   "metadata": {},
   "outputs": [
    {
     "name": "stdout",
     "output_type": "stream",
     "text": [
      "1\n",
      "2\n",
      "3\n",
      "4\n",
      "5\n",
      "6\n",
      "7\n",
      "8\n",
      "9\n",
      "10\n",
      "Stop Here\n"
     ]
    }
   ],
   "source": [
    "i = 1\n",
    "while i<=10:\n",
    "      print (i)\n",
    "      i+=1\n",
    "else:\n",
    "   print (\"Stop Here\")"
   ]
  },
  {
   "cell_type": "code",
   "execution_count": null,
   "id": "44001e2c-a242-47ee-b997-9d9037fc0dd8",
   "metadata": {},
   "outputs": [],
   "source": [
    "i = 1\n",
    "j = 2\n",
    "while i<10:\n",
    "     while j>5:\n",
    "       print(j)\n",
    "       j+=1\n",
    "print (i) \n",
    "i+=1"
   ]
  },
  {
   "cell_type": "markdown",
   "id": "e8b7383c-0524-4efa-b576-321405bce01d",
   "metadata": {},
   "source": [
    "# @ For Loop (iterative approach)"
   ]
  },
  {
   "cell_type": "markdown",
   "id": "caa3697a-94a4-4d98-8559-e0e690155a4c",
   "metadata": {},
   "source": [
    " - It is  used iterative over the squence iterative == transverse =- visit the number in sequence\n",
    "\n",
    " - sequence : list,tuple,set,dictionary\n",
    "              working for a loop is same as while loop but the implementation is different\n",
    "\n",
    " - syntax :\n",
    "          for element in sequence:\n",
    "             body of for\n",
    " - element : - iterator,who is going to iterate the sequence\n",
    "             - the working of while loop & for loop is same but the implimentation is different\n",
    "             - No. of comparison of while loop and for loop are same over the same sequence\n",
    "\n",
    "@ Range Function - It will print the value in specific range\n",
    "\n",
    "@ Program : for i in range (1,10,1)\n",
    "                print (i)\n",
    "  - By default the stepsize is 1\n",
    "            range (startstep,    endstep,  stepsize)\n",
    "                       |            |         |\n",
    "                initialization  condition  updation \n",
    "  - by default it start with 0\n",
    "  - End step is mandatory step and U need to specify it, otherwise compiler will not understand where a have to stop"
   ]
  },
  {
   "cell_type": "markdown",
   "id": "d0b9272e-b575-42b1-a8e8-af497dcb5c05",
   "metadata": {},
   "source": [
    "# @ Iterative Approch (Stack Overhead)"
   ]
  },
  {
   "cell_type": "markdown",
   "id": "fa435830-f419-4812-bc10-74ef6befe264",
   "metadata": {},
   "source": [
    "@ In Some cases recursive version is better than iterative version \n",
    "@ but recursion always have the stack overhead\n",
    "@ So the space complexity of recursion is always grether the iterative version \n",
    "@ most of the algorithimic techniques are recursive in nature\n",
    "\n",
    "@ Example : Divide and conquer, dynamic programming\n",
    "\n",
    "@ Advantage : 1. Very Logical\n",
    "              2. very Easy To Implement\n",
    "\n",
    "@ Disadvantage : 1. Stack overflow, or Infinite recursion\n",
    "                 2. It may lead to segmentation fault\n",
    "                 3. Stack overhead\n"
   ]
  },
  {
   "cell_type": "markdown",
   "id": "eaa526c2-21f0-410d-ba88-b873dba456e2",
   "metadata": {},
   "source": [
    "# @ Break"
   ]
  },
  {
   "cell_type": "markdown",
   "id": "1462d958-4609-4dc4-bb91-300e8aa73c55",
   "metadata": {},
   "source": [
    "@ Break :\n",
    "         - it is a unconditional statement\n",
    "         - it will execute without checking any condition\n",
    "         - once the break statement encountered the printer/ cursor automatically comes out of the scope and it will points first statement after scope\n",
    "\n",
    "@ Syntax : 1. for var in range(n)\n",
    "                 if condition:\n",
    "                   break\n",
    "\n",
    "           2. while conditon:\n",
    "                if condition\n",
    "                   break  \n"
   ]
  },
  {
   "cell_type": "markdown",
   "id": "57292e26-e69b-4f56-8ffd-7933b016d88d",
   "metadata": {},
   "source": [
    "#  Whether the prime number or not "
   ]
  },
  {
   "cell_type": "code",
   "execution_count": 15,
   "id": "bd52ad5e-9d46-4b12-b21c-6119e1aab5fa",
   "metadata": {},
   "outputs": [
    {
     "name": "stdout",
     "output_type": "stream",
     "text": [
      "enter the any number 6\n"
     ]
    },
    {
     "name": "stdout",
     "output_type": "stream",
     "text": [
      "prime number\n"
     ]
    }
   ],
   "source": [
    "b = False\n",
    "a = int(input(\"enter the any number\"))\n",
    "for i in range(1,a):\n",
    "     if (a%i==10):\n",
    "      b = True \n",
    "     break;\n",
    "if b == False :\n",
    "    print (\"prime number\")\n",
    "else:\n",
    "     print (\"no prime number\")"
   ]
  },
  {
   "cell_type": "markdown",
   "id": "0772a68f-b936-42c9-9716-c5e94473586a",
   "metadata": {},
   "source": [
    "#  Check the number is perfect or not "
   ]
  },
  {
   "cell_type": "code",
   "execution_count": 22,
   "id": "ca3f3ce3-e849-4fe1-98ca-eeb82012a1b6",
   "metadata": {},
   "outputs": [
    {
     "name": "stdout",
     "output_type": "stream",
     "text": [
      "enter the any number 6\n"
     ]
    },
    {
     "name": "stdout",
     "output_type": "stream",
     "text": [
      "the number is a perfect number\n"
     ]
    }
   ],
   "source": [
    "a = int (input(\"enter the any number\"))\n",
    "sum = 0\n",
    "for i in range (1, a):\n",
    "      if (a%i==0):\n",
    "         sum = sum + i\n",
    "if (sum ==a):\n",
    "    print (\"the number is a perfect number\")\n",
    "else:\n",
    "    print (\"the number is not a pecfect number\")"
   ]
  },
  {
   "cell_type": "markdown",
   "id": "d11da30d-f235-45ef-bac1-6a2fd1ddb196",
   "metadata": {},
   "source": [
    "#  Check the number is amongstrong number or not"
   ]
  },
  {
   "cell_type": "code",
   "execution_count": 29,
   "id": "1fb80294-c1b6-41c7-b776-915712665c00",
   "metadata": {},
   "outputs": [
    {
     "name": "stdout",
     "output_type": "stream",
     "text": [
      "enter any number 10 \n"
     ]
    },
    {
     "name": "stdout",
     "output_type": "stream",
     "text": [
      "not amongstrong number\n"
     ]
    }
   ],
   "source": [
    "n = int (input(\"enter any number\"))\n",
    "temp = n\n",
    "sum = 0\n",
    "for i in range (1,temp):\n",
    "       r = temp%10\n",
    "       sum = sum + (r*r*r)\n",
    "       temp = temp // 10 \n",
    "if sum == n:\n",
    "    print (\"amongstrong number\")\n",
    "else:\n",
    "    print (\"not amongstrong number\")"
   ]
  },
  {
   "cell_type": "markdown",
   "id": "3e8c785b-79d8-474c-be94-1231e4e2cae9",
   "metadata": {},
   "source": [
    "# @ Continue "
   ]
  },
  {
   "cell_type": "markdown",
   "id": "e3c299a5-a70c-4b7f-93a7-b0ee18390f95",
   "metadata": {},
   "source": [
    " @ Continue  - it is uncondition statement\n",
    "             - so we dont required to specify any condition\n",
    "             - once the continue encoutered the cursor goes automatically towards the first statement in the scope\n"
   ]
  },
  {
   "cell_type": "code",
   "execution_count": 3,
   "id": "24de361b-5972-4c97-9360-07b7b5ae522d",
   "metadata": {},
   "outputs": [
    {
     "name": "stdout",
     "output_type": "stream",
     "text": [
      "else block\n"
     ]
    }
   ],
   "source": [
    " for i in range(10):\n",
    "    if i%2==0:\n",
    "     continue\n",
    "     print(i)\n",
    "else:\n",
    "   print(\"else block\")"
   ]
  },
  {
   "cell_type": "markdown",
   "id": "2e8e3ad4-977a-4298-8832-ec7c515d6307",
   "metadata": {},
   "source": [
    "#  Factorial of a number for & While"
   ]
  },
  {
   "cell_type": "code",
   "execution_count": 31,
   "id": "b2298b26-a817-4a1e-8c92-48786733ac04",
   "metadata": {},
   "outputs": [
    {
     "name": "stdout",
     "output_type": "stream",
     "text": [
      "1\n",
      "3\n",
      "5\n",
      "7\n",
      "9\n",
      "else block\n"
     ]
    }
   ],
   "source": [
    "for i in range (10):\n",
    "    if i%2==0:\n",
    "        continue\n",
    "    print(i)\n",
    "else:\n",
    "        print(\"else block\") "
   ]
  },
  {
   "cell_type": "markdown",
   "id": "55fd52e6-5fc4-47cb-978f-98eca0da5e72",
   "metadata": {},
   "source": [
    " # WAP to Find a Factorial"
   ]
  },
  {
   "cell_type": "code",
   "execution_count": 3,
   "id": "e8ef49f3-4340-4969-adda-daaf4a87536c",
   "metadata": {},
   "outputs": [
    {
     "name": "stdout",
     "output_type": "stream",
     "text": [
      "Enter any Number 3\n"
     ]
    },
    {
     "name": "stdout",
     "output_type": "stream",
     "text": [
      "6\n"
     ]
    }
   ],
   "source": [
    "n =int(input(\"Enter any Number\"))\n",
    "mul=1\n",
    "for i in range(1,n+1):\n",
    "    mul=mul*i\n",
    "    continue\n",
    "print(mul)"
   ]
  },
  {
   "cell_type": "code",
   "execution_count": 91,
   "id": "a014372a-43a2-4400-9eb6-eef6dccebf53",
   "metadata": {},
   "outputs": [
    {
     "name": "stdout",
     "output_type": "stream",
     "text": [
      "Enter any Number 3\n"
     ]
    },
    {
     "name": "stdout",
     "output_type": "stream",
     "text": [
      "6\n"
     ]
    }
   ],
   "source": [
    "n =int(input(\"Enter any Number\"))\n",
    "i=1\n",
    "mul=1\n",
    "while i<=n:\n",
    "    mul = mul*i\n",
    "    i+=1\n",
    "print(mul)"
   ]
  },
  {
   "cell_type": "markdown",
   "id": "81011fe5-f3fe-421b-86c3-5e5d5e6fb6d9",
   "metadata": {},
   "source": [
    "#  WAP from 0 to 10 except 3 and 6"
   ]
  },
  {
   "cell_type": "code",
   "execution_count": 2,
   "id": "2a4cf762-089f-49fd-aaa0-6650d78be9c4",
   "metadata": {},
   "outputs": [
    {
     "name": "stdout",
     "output_type": "stream",
     "text": [
      "1\n",
      "2\n",
      "4\n",
      "5\n",
      "7\n",
      "8\n",
      "else block\n"
     ]
    }
   ],
   "source": [
    "for i in range (10):\n",
    "    if i% 3==0:\n",
    "      continue\n",
    "    print (i)\n",
    "else:\n",
    "    print (\"else block\")"
   ]
  },
  {
   "cell_type": "markdown",
   "id": "a98fc9d2-5749-4baf-9497-744f1b942ffd",
   "metadata": {},
   "source": [
    "#  pythagoras theorem program 1 to 1000"
   ]
  },
  {
   "cell_type": "code",
   "execution_count": 2,
   "id": "cbee8c15-12bd-4f9b-b5a8-66c094d41629",
   "metadata": {},
   "outputs": [
    {
     "name": "stdout",
     "output_type": "stream",
     "text": [
      "enter the length of the first side 10\n",
      "enter the langth of the second side 20\n"
     ]
    },
    {
     "name": "stdout",
     "output_type": "stream",
     "text": [
      "500.0\n",
      "the length of the pythagoras is 500.0\n"
     ]
    }
   ],
   "source": [
    "a = float (input(\"enter the length of the first side\"))\n",
    "b = float (input(\"enter the langth of the second side\"))\n",
    "c_squared = a**2 + b**2 \n",
    "print (c_squared)\n",
    "#c = c_squared*0.5 \n",
    "print (\"the length of the pythagoras is\" , c_squared)"
   ]
  },
  {
   "cell_type": "markdown",
   "id": "5f8b2152-5ea5-4149-9e68-17ed597e9455",
   "metadata": {},
   "source": [
    "# @ Functions"
   ]
  },
  {
   "cell_type": "markdown",
   "id": "f1d2ae50-e0fe-4c47-92e2-9a8ab190c911",
   "metadata": {},
   "source": [
    " - Function is a self contained block to solve a perticular problem , through function only we are achieving the modularity\n",
    "    so,function divides the larger program into small small module.\n",
    " - function supports the reusability, once are define the function we can use it anywhere through out the program\n",
    "\n",
    "        1. prototype declaration --> python is dynamically typed --> we dont reruired prototype declaration\n",
    "\n",
    "        2. function defination --> defining the function \n",
    "                                      |            |\n",
    "                           function with body   writing steps within functionto solve a particular problem\n",
    "\n",
    "        3. function calling --> If we want to execute any function we need to call it without calling function will not be executed --> call explicity\n",
    "\n",
    "\n",
    "@ Function Defination :\n",
    "\n",
    "                 Identifire   arguments we are passing in a function\n",
    "                    |             |\n",
    " - syntax : def function.name(parameter): - (: end of function header)\n",
    "             |       |            |   \n",
    "        keyword function body   optional/ not mandatory\n",
    "                     | \n",
    "                 step in the\n",
    "                  function\n",
    "\n",
    " - syntax : function_name(argument):\n",
    " - Function may or may not return the value\n",
    " - all the user defined function is called by the main function in a python and the main function is called by oprating system.\n",
    " - for returning the value or expression from a function we required to use return statement\n",
    "   return ------- [value/expression]\n",
    " - most of the time in case of expression only function will return\n",
    " - whenever we are writing a code using function then defined it "
   ]
  },
  {
   "cell_type": "code",
   "execution_count": 122,
   "id": "010ffd37-9c0e-45cc-a4b6-f79332c78d47",
   "metadata": {},
   "outputs": [
    {
     "name": "stdout",
     "output_type": "stream",
     "text": [
      "hello ! How are you\n"
     ]
    }
   ],
   "source": [
    "def my_fun():\n",
    " print(\"hello ! How are you\")\n",
    "my_fun()"
   ]
  },
  {
   "cell_type": "code",
   "execution_count": 133,
   "id": "29fd213f-7e42-47ff-ba61-9075c56c30e7",
   "metadata": {},
   "outputs": [
    {
     "name": "stdout",
     "output_type": "stream",
     "text": [
      "11\n"
     ]
    }
   ],
   "source": [
    "def addition(a,b):\n",
    "    sum = a+b\n",
    "    return (sum)\n",
    "print (addition(5,6))"
   ]
  },
  {
   "cell_type": "markdown",
   "id": "71a1d210-f2f9-465b-b3fd-b6a3f9d41a27",
   "metadata": {},
   "source": [
    "#  Program of addition, substraction, multiplication, & division"
   ]
  },
  {
   "cell_type": "code",
   "execution_count": 131,
   "id": "d225b82b-b7fd-4a85-9d9d-93d163b34af9",
   "metadata": {},
   "outputs": [
    {
     "name": "stdout",
     "output_type": "stream",
     "text": [
      "11\n"
     ]
    }
   ],
   "source": [
    "def addition(a,b):\n",
    "    sum = a+b\n",
    "    print (sum)\n",
    "addition (5,6)"
   ]
  },
  {
   "cell_type": "code",
   "execution_count": 144,
   "id": "8be2bc28-2379-4af7-97cf-d29544de1991",
   "metadata": {},
   "outputs": [
    {
     "name": "stdout",
     "output_type": "stream",
     "text": [
      "-1\n"
     ]
    }
   ],
   "source": [
    "def sub(a,b):\n",
    "    sub = a-b\n",
    "    print (sub)\n",
    "sub (5,6)"
   ]
  },
  {
   "cell_type": "code",
   "execution_count": 152,
   "id": "7c8b234d-7fb8-4891-9b3c-7f0e412e1d2e",
   "metadata": {},
   "outputs": [
    {
     "name": "stdout",
     "output_type": "stream",
     "text": [
      "10\n"
     ]
    }
   ],
   "source": [
    "def mult(a,b):\n",
    "    mult = a*b\n",
    "    print (mult)\n",
    "mult(2,5)"
   ]
  },
  {
   "cell_type": "code",
   "execution_count": 154,
   "id": "69785baf-d6b6-444b-b03a-462d5f8e5455",
   "metadata": {},
   "outputs": [
    {
     "name": "stdout",
     "output_type": "stream",
     "text": [
      "2\n"
     ]
    }
   ],
   "source": [
    "def div(a,b):\n",
    "    div = a%b\n",
    "    print (div)\n",
    "div (2,10)"
   ]
  },
  {
   "cell_type": "markdown",
   "id": "0960094a-73e6-475e-80c2-7ae595353f45",
   "metadata": {},
   "source": [
    "# WAP to print Factorial number "
   ]
  },
  {
   "cell_type": "code",
   "execution_count": 161,
   "id": "2ac6b209-818f-45e9-a1ba-5980c8c710b6",
   "metadata": {},
   "outputs": [
    {
     "name": "stdout",
     "output_type": "stream",
     "text": [
      "1\n"
     ]
    }
   ],
   "source": [
    "def factorial (n):\n",
    "    fact = 1\n",
    "    for i in range (1,n+1):\n",
    "        fact = fact*i\n",
    "        return fact\n",
    "print (factorial(5))"
   ]
  },
  {
   "cell_type": "markdown",
   "id": "b3cc5d77-255a-41cc-b3ba-7cc6d1e56278",
   "metadata": {},
   "source": [
    "# WAP to print addition of n number"
   ]
  },
  {
   "cell_type": "code",
   "execution_count": 17,
   "id": "2c1652d5-ac6f-46aa-ae64-f8f2d0618c37",
   "metadata": {},
   "outputs": [
    {
     "name": "stdout",
     "output_type": "stream",
     "text": [
      "2\n"
     ]
    }
   ],
   "source": [
    "def add (n):\n",
    "    add = 1\n",
    "    for i in range(1,n+1):\n",
    "       add = add + i\n",
    "       return add\n",
    "print (add (6))"
   ]
  },
  {
   "cell_type": "markdown",
   "id": "e1ffe2a9-32fe-4059-96eb-cd3af8ae52c9",
   "metadata": {},
   "source": [
    "# WAP to find Maximum number "
   ]
  },
  {
   "cell_type": "code",
   "execution_count": 256,
   "id": "9d57014f-5a55-438e-b3df-cac0724d107f",
   "metadata": {},
   "outputs": [
    {
     "name": "stdout",
     "output_type": "stream",
     "text": [
      "6\n"
     ]
    },
    {
     "data": {
      "text/plain": [
       "<function max>"
      ]
     },
     "execution_count": 256,
     "metadata": {},
     "output_type": "execute_result"
    }
   ],
   "source": [
    "def maximum (a,b,c):\n",
    "    if a>b and a>c:\n",
    "        print (a)\n",
    "    if b>c and b>a:\n",
    "        print (b)\n",
    "    else:\n",
    "        print(c)\n",
    "        return max \n",
    "maximum(4,3,6)"
   ]
  },
  {
   "cell_type": "markdown",
   "id": "7d82feae-ac77-4546-88fd-d5de892295e9",
   "metadata": {},
   "source": [
    "# check the number is prime or not \n"
   ]
  },
  {
   "cell_type": "code",
   "execution_count": 12,
   "id": "197e9e14-ee4c-466d-9f83-e88b5812c3f2",
   "metadata": {},
   "outputs": [
    {
     "name": "stdout",
     "output_type": "stream",
     "text": [
      "prime number\n"
     ]
    }
   ],
   "source": [
    "def prime(n):\n",
    "     a = False\n",
    "     for i in range(2,n):\n",
    "         if n%i== 0:\n",
    "            a = True\n",
    "         return a\n",
    "if prime(7)==False:\n",
    "    print (\"prime number\")\n",
    "else:\n",
    "     print (\"no prime number\")\n",
    "    "
   ]
  },
  {
   "cell_type": "markdown",
   "id": "e7d4aa15-21ad-45cd-9381-2fd2fbe9d103",
   "metadata": {},
   "source": [
    "# print the difference betweeen even or odd number "
   ]
  },
  {
   "cell_type": "code",
   "execution_count": 13,
   "id": "c6f134a9-4ed7-4b1a-8416-6e50820e0269",
   "metadata": {},
   "outputs": [],
   "source": [
    "def count(n): \n",
    "    count1=0\n",
    "    count2=0\n",
    "    for i in range (1, n+1,2):\n",
    "       if n % i == 0:\n",
    "         count1 = count1+1\n",
    "    for i in range (2, n+1,2):\n",
    "       if n % i ==0:\n",
    "          count2 = count2+1\n",
    "          diff = count1 - count2\n",
    "count(300)\n",
    "    "
   ]
  },
  {
   "cell_type": "markdown",
   "id": "654afe95-537b-49e1-833a-80f61a8f450d",
   "metadata": {},
   "source": [
    "# @ Recursion"
   ]
  },
  {
   "cell_type": "markdown",
   "id": "70a78373-8538-4b12-af53-f00381366aff",
   "metadata": {},
   "source": [
    " - Approach towards the problem solving\n",
    " - function calling itself again and again until the same condition will get satisfied\n",
    " - whenever we want to write any recursive code we have to find out\n",
    "\n",
    "@ Two Steps : \n",
    "            1. Anchor / stop step\n",
    "            2. recursive / Inductive step\n",
    "\n",
    "@ 1. Anchor / stop step : - Termination Condition\n",
    "                          - Where exactly the function calling get stop\n",
    "\n",
    "@ 2. recursive / Inductive step : - Which statement we want to execute repeatedly\n",
    "                                  - Whenever we are writing the recursive code stack will be create in the stacl segment implicitly\n",
    "\n",
    "@ Memory Layout : memory of a collection of segment\n",
    "\n",
    "@ Stack : - Genric Data Structure\n",
    "          - Linear Data Strucuter : - String a data in a stack linear \n",
    "\n",
    "@ Principle - LIFO Or FILO\n",
    "            - LIFO : Last in First Out\n",
    "            - FILO : First in Last Out\n",
    "\n",
    "@ One End - Open\n",
    "@ Other End - Closed\n",
    "\n",
    "@ Standard operating function of the stack :\n",
    "                                           1. Push - Inserting the element onto the stack\n",
    "                                           2. Pop - deleting the element from stack\n",
    "\n",
    "@ In a recursion :  Stack -\n",
    "                           1. push - Every time the recursive function call will get push onto the stack\n",
    "                           2. Pop - Whenever the function starts returning the value the function call will get poped from the stack\n",
    "                                  - function execution done and then only it will start the returning the value it will get poped\n",
    "\n",
    "\n",
    "@ Recursive program execution will be done in 2 phases : 1. Winding Phase - Pushing the function call\n",
    "                                                         2. Unwinding Phase - Returning the value\n",
    "\n",
    "- Element stored inside the stack in the from of Activation records/stack framer\n",
    "- DAG - Directed Acyclic Graph\n",
    "- Stack Size - Address space of stack segment\n",
    "- Whenever we are not specifying the anchor step the it may leads to stack overflow and segmentation fault\n",
    "- SO, it is mandatory to write anchor steps\n"
   ]
  },
  {
   "cell_type": "markdown",
   "id": "76d10724-32f8-40a1-8d80-4cc03037bc9b",
   "metadata": {},
   "source": [
    "# WAP Of Multiplication of two number using recursion"
   ]
  },
  {
   "cell_type": "code",
   "execution_count": 30,
   "id": "9a8caa1f-84b7-49ff-826a-f754e15eb76d",
   "metadata": {},
   "outputs": [
    {
     "name": "stdout",
     "output_type": "stream",
     "text": [
      "enter the first number 6\n",
      "enter the second number 4\n"
     ]
    },
    {
     "name": "stdout",
     "output_type": "stream",
     "text": [
      "24\n"
     ]
    }
   ],
   "source": [
    " def multiplication(a,b):\n",
    "    if b ==0:\n",
    "        return 0\n",
    "    else:\n",
    "       return a+multiplication(a,(b-1))\n",
    "a = int(input(\"enter the first number\"))\n",
    "b = int(input(\"enter the second number\"))\n",
    "print (multiplication(a,b)) "
   ]
  },
  {
   "cell_type": "markdown",
   "id": "3a2dca9f-4fb6-49e2-aed7-e9a8d95a4bd4",
   "metadata": {},
   "source": [
    "# WAP of Division of two number using recursion"
   ]
  },
  {
   "cell_type": "code",
   "execution_count": 40,
   "id": "4e2ed380-8850-4d59-b46d-340610f2a412",
   "metadata": {},
   "outputs": [
    {
     "name": "stdout",
     "output_type": "stream",
     "text": [
      "enter the any number 18\n",
      "enter the any number 3\n"
     ]
    },
    {
     "name": "stdout",
     "output_type": "stream",
     "text": [
      "6\n"
     ]
    }
   ],
   "source": [
    "def division(a,b):\n",
    "    if a <b:\n",
    "        return 0\n",
    "    else:\n",
    "        return 1+division ((a-b),b)\n",
    "a = int(input(\"enter the any number\"))\n",
    "b = int (input(\"enter the any number\"))\n",
    "print (division(a,b))"
   ]
  },
  {
   "cell_type": "code",
   "execution_count": 3,
   "id": "76e25ac4-b173-47ab-87f8-511473bea9a4",
   "metadata": {},
   "outputs": [
    {
     "name": "stdout",
     "output_type": "stream",
     "text": [
      "enter any number 10\n"
     ]
    },
    {
     "name": "stdout",
     "output_type": "stream",
     "text": [
      "55\n"
     ]
    }
   ],
   "source": [
    "def sum (n):\n",
    " if n ==0:\n",
    "    return 0\n",
    " else:\n",
    "    return n + sum (n-1)\n",
    "n = int (input(\"enter any number\"))\n",
    "print (sum (n))"
   ]
  },
  {
   "cell_type": "code",
   "execution_count": 37,
   "id": "99ba0a26-289a-4e58-8af4-58e433cfb013",
   "metadata": {},
   "outputs": [
    {
     "name": "stdout",
     "output_type": "stream",
     "text": [
      "enter the first number 80\n",
      "enter the second number 2\n"
     ]
    },
    {
     "name": "stdout",
     "output_type": "stream",
     "text": [
      "40\n"
     ]
    }
   ],
   "source": [
    "def division(a,b):\n",
    "    x=0\n",
    "    if a<b:\n",
    "      return x\n",
    "    else:\n",
    "      x+=1\n",
    "      return x+division((a-b),b)\n",
    "a = int(input(\"enter the first number\"))\n",
    "b = int (input(\"enter the second number\"))\n",
    "print (division(a,b))\n",
    "     "
   ]
  },
  {
   "cell_type": "markdown",
   "id": "a6fa496f-3512-43f0-97f1-36efd37607ed",
   "metadata": {},
   "source": [
    "# WAP of Print 1st n number using recursion "
   ]
  },
  {
   "cell_type": "code",
   "execution_count": 21,
   "id": "81be108b-4370-4439-b498-fe78e3adc65b",
   "metadata": {},
   "outputs": [
    {
     "name": "stdout",
     "output_type": "stream",
     "text": [
      "1\n",
      "2\n",
      "3\n",
      "4\n",
      "5\n",
      "6\n",
      "7\n",
      "8\n",
      "9\n",
      "10\n",
      "11\n",
      "12\n",
      "13\n",
      "14\n",
      "15\n",
      "16\n",
      "17\n",
      "18\n",
      "19\n",
      "20\n",
      "21\n",
      "22\n",
      "23\n",
      "24\n",
      "25\n",
      "26\n",
      "27\n",
      "28\n",
      "29\n",
      "30\n",
      "31\n",
      "32\n",
      "33\n",
      "34\n",
      "35\n",
      "36\n",
      "37\n",
      "38\n",
      "39\n",
      "40\n",
      "41\n",
      "42\n",
      "43\n",
      "44\n",
      "45\n",
      "46\n",
      "47\n",
      "48\n",
      "49\n",
      "50\n",
      "None\n"
     ]
    }
   ],
   "source": [
    "def addition (n,i=1):\n",
    "    if n==0:\n",
    "      return\n",
    "    else:\n",
    "       print(i)\n",
    "       return addition(n-1,i+1)\n",
    "print (addition(50))"
   ]
  },
  {
   "cell_type": "markdown",
   "id": "9ccda1af-543a-45d3-b8d9-00489d459108",
   "metadata": {},
   "source": [
    "#  Reverse"
   ]
  },
  {
   "cell_type": "code",
   "execution_count": 19,
   "id": "93742f26-6cc0-40d2-bee4-e02c049c6e2e",
   "metadata": {},
   "outputs": [
    {
     "name": "stdout",
     "output_type": "stream",
     "text": [
      "50\n",
      "49\n",
      "48\n",
      "47\n",
      "46\n",
      "45\n",
      "44\n",
      "43\n",
      "42\n",
      "41\n",
      "40\n",
      "39\n",
      "38\n",
      "37\n",
      "36\n",
      "35\n",
      "34\n",
      "33\n",
      "32\n",
      "31\n",
      "30\n",
      "29\n",
      "28\n",
      "27\n",
      "26\n",
      "25\n",
      "24\n",
      "23\n",
      "22\n",
      "21\n",
      "20\n",
      "19\n",
      "18\n",
      "17\n",
      "16\n",
      "15\n",
      "14\n",
      "13\n",
      "12\n",
      "11\n",
      "10\n",
      "9\n",
      "8\n",
      "7\n",
      "6\n",
      "5\n",
      "4\n",
      "3\n",
      "2\n",
      "1\n",
      "None\n"
     ]
    }
   ],
   "source": [
    "def addition (n):\n",
    "    if n==0:\n",
    "      return\n",
    "    else:\n",
    "       print(n)\n",
    "       return addition(n-1)\n",
    "print (addition(50))"
   ]
  },
  {
   "cell_type": "markdown",
   "id": "47f4c2fa-60c4-4b90-beb4-2abf4d3301b3",
   "metadata": {},
   "source": [
    "#  Python code count the number of digit "
   ]
  },
  {
   "cell_type": "code",
   "execution_count": 41,
   "id": "d65be1c7-36b7-40e4-af40-1b035a24de1f",
   "metadata": {},
   "outputs": [
    {
     "name": "stdout",
     "output_type": "stream",
     "text": [
      "3\n"
     ]
    }
   ],
   "source": [
    "def nod (n,count = 0):\n",
    "    if n!= 0:\n",
    "        return nod(n//10,count+1)\n",
    "    else:\n",
    "        return count\n",
    "            \n",
    "print (nod(523))"
   ]
  },
  {
   "cell_type": "code",
   "execution_count": 57,
   "id": "ad4672b9-1b5b-406a-b01a-9d8da3d9d200",
   "metadata": {},
   "outputs": [
    {
     "name": "stdout",
     "output_type": "stream",
     "text": [
      "32\n"
     ]
    }
   ],
   "source": [
    "def power (x,n):\n",
    "    if n==0:\n",
    "        return 1\n",
    "    else:\n",
    "        return x *power(x,(n-1))\n",
    "print (power(2,5))"
   ]
  },
  {
   "cell_type": "code",
   "execution_count": 53,
   "id": "92696226-9768-4fbf-80ad-756de3a386d4",
   "metadata": {},
   "outputs": [
    {
     "name": "stdout",
     "output_type": "stream",
     "text": [
      "32\n"
     ]
    }
   ],
   "source": [
    "def power (x,n):\n",
    "    if n == 0:\n",
    "        return 1\n",
    "    elif n%2==0:\n",
    "        xp1 = power(x,n//2)\n",
    "        result = xp1 * xp1\n",
    "    else:\n",
    "        xp2 = power(x, n//2)\n",
    "        result = xp2 * xp2*x\n",
    "    return result\n",
    "print (power (2,5))\n",
    "        \n",
    "        "
   ]
  },
  {
   "cell_type": "code",
   "execution_count": 74,
   "id": "747857c9-29c3-4bbb-a907-7e5518722b32",
   "metadata": {},
   "outputs": [
    {
     "name": "stdout",
     "output_type": "stream",
     "text": [
      "0\n"
     ]
    }
   ],
   "source": [
    "n=1\n",
    "def GcD (a,b):\n",
    "    if  a%n == 0:\n",
    "        return 0\n",
    "    elif  b%n ==0:\n",
    "       return n+GcD(a,b)%n\n",
    "    else:\n",
    "        return (a,b(n+1))\n",
    "print (GcD(360 ,60))\n"
   ]
  },
  {
   "cell_type": "code",
   "execution_count": 77,
   "id": "b527b835-3c4e-4efa-904e-1b7cd0204e69",
   "metadata": {},
   "outputs": [
    {
     "name": "stdout",
     "output_type": "stream",
     "text": [
      "1\n"
     ]
    }
   ],
   "source": [
    "def somefunction (x,y):\n",
    "    if x == y:\n",
    "        return 1\n",
    "    elif x>y:\n",
    "        return somefunction (x-y,y)\n",
    "    else:\n",
    "        return somefunction (x, y-x)\n",
    "print (somefunction (15,255))"
   ]
  },
  {
   "cell_type": "markdown",
   "id": "0e494a3b-cdd0-4dd9-adef-54bcd0704c71",
   "metadata": {},
   "source": [
    "# Iterative Approach"
   ]
  },
  {
   "cell_type": "code",
   "execution_count": 40,
   "id": "e049ac92-1ccc-4f83-9404-7aad03cd7ced",
   "metadata": {},
   "outputs": [
    {
     "name": "stdout",
     "output_type": "stream",
     "text": [
      "6\n"
     ]
    }
   ],
   "source": [
    "def digit (n,a=0):\n",
    "    if n==0:\n",
    "        return 0\n",
    "    else:\n",
    "        a=n%10\n",
    "        return a+digit(n//10)\n",
    "print (digit(321))"
   ]
  },
  {
   "cell_type": "markdown",
   "id": "d7129530-1b6d-4763-9326-854c748e91bd",
   "metadata": {},
   "source": [
    "#  Count the number of digit "
   ]
  },
  {
   "cell_type": "code",
   "execution_count": 9,
   "id": "3708afd9-2f76-4741-9ae0-55ae104ec851",
   "metadata": {},
   "outputs": [
    {
     "name": "stdout",
     "output_type": "stream",
     "text": [
      "Enter any number:  90\n"
     ]
    },
    {
     "name": "stdout",
     "output_type": "stream",
     "text": [
      "Number of digits: 2\n"
     ]
    }
   ],
   "source": [
    "def count(n, a=0):  \n",
    "    if n == 0:  \n",
    "        return a\n",
    "    else:\n",
    "        return count(n // 10, a + 1)  \n",
    "n = int(input(\"Enter any number: \"))\n",
    "print(\"Number of digits:\", count(n, 0))  "
   ]
  },
  {
   "cell_type": "markdown",
   "id": "9fdc2203-9591-4f94-abe1-7af135932556",
   "metadata": {},
   "source": [
    "#  a = 9 convert this number in binary"
   ]
  },
  {
   "cell_type": "code",
   "execution_count": 8,
   "id": "744aa34d-2c11-46a1-9774-1bbe631b5b6b",
   "metadata": {},
   "outputs": [
    {
     "name": "stdout",
     "output_type": "stream",
     "text": [
      "Enter any number:  9\n"
     ]
    },
    {
     "name": "stdout",
     "output_type": "stream",
     "text": [
      "Number of digits: 1\n"
     ]
    }
   ],
   "source": [
    "def count(n, a=0):  \n",
    "    if n == 0:  \n",
    "        return a\n",
    "    else:\n",
    "       return count(n // 10, a + 1)  \n",
    "n = int(input(\"Enter any number: \"))\n",
    "print(\"Number of digits:\", count(n, 0))  "
   ]
  },
  {
   "cell_type": "markdown",
   "id": "6efd54be-d580-49cb-bea8-65260ed2a7db",
   "metadata": {},
   "source": [
    "#  armstrong number"
   ]
  },
  {
   "cell_type": "code",
   "execution_count": 6,
   "id": "fc442900-bd05-4be5-92d8-2c58a96bdbe1",
   "metadata": {},
   "outputs": [
    {
     "name": "stdout",
     "output_type": "stream",
     "text": [
      "Enter any number:  153\n"
     ]
    },
    {
     "name": "stdout",
     "output_type": "stream",
     "text": [
      "Armstrong Number\n"
     ]
    }
   ],
   "source": [
    "def digit(n):\n",
    "    temp = n\n",
    "    sum = 0\n",
    "    for i in range(1,temp+1):\n",
    "        r = temp % 10\n",
    "        sum += r * r * r\n",
    "        temp //= 10\n",
    "    if n == sum:\n",
    "        return \"Armstrong Number\"\n",
    "    else:\n",
    "        return \"Not an Armstrong Number\"\n",
    "\n",
    "n = int(input(\"Enter any number: \"))\n",
    "print(digit(n))"
   ]
  },
  {
   "cell_type": "markdown",
   "id": "38ae7834-627f-4d3c-a6b6-09c784978928",
   "metadata": {},
   "source": [
    "#  Take the number that it is palindrome"
   ]
  },
  {
   "cell_type": "code",
   "execution_count": 5,
   "id": "2f39394f-8ad4-4617-bb7c-320cfdfc9adf",
   "metadata": {},
   "outputs": [
    {
     "name": "stdout",
     "output_type": "stream",
     "text": [
      "Enter any number:  23\n"
     ]
    },
    {
     "name": "stdout",
     "output_type": "stream",
     "text": [
      "The number is not a palindrome\n"
     ]
    }
   ],
   "source": [
    "n = int(input(\"Enter any number: \"))\n",
    "temp = n  \n",
    "num = 0\n",
    "\n",
    "while n > 0:\n",
    "    num = num * 10 + n % 10  \n",
    "    n = n // 10 \n",
    "\n",
    "if num == temp: \n",
    "    print(\"The number is a palindrome\")\n",
    "else:\n",
    "    print(\"The number is not a palindrome\")\n"
   ]
  },
  {
   "cell_type": "code",
   "execution_count": 3,
   "id": "bfeae6c1-e5d0-4636-8e0a-ce85abbed33b",
   "metadata": {},
   "outputs": [
    {
     "name": "stdout",
     "output_type": "stream",
     "text": [
      "Enter any number:  45\n"
     ]
    },
    {
     "name": "stdout",
     "output_type": "stream",
     "text": [
      "The number is not a palindrome\n"
     ]
    }
   ],
   "source": [
    "def digit(n, temp=None, num=0):\n",
    "    if temp is None: \n",
    "        temp = n\n",
    "        \n",
    "    if temp > 0: \n",
    "        num = num * 10 + temp % 10  \n",
    "        return digit(n, temp // 10, num)  \n",
    "    \n",
    "    if n == num: \n",
    "        return \"The number is a palindrome\"\n",
    "    else:\n",
    "        return \"The number is not a palindrome\"\n",
    "n = int(input(\"Enter any number: \"))\n",
    "print(digit(n))"
   ]
  },
  {
   "cell_type": "markdown",
   "id": "84989cf1-3a1e-4bdd-af30-20410b7897cb",
   "metadata": {},
   "source": [
    "#  Take a number & print the addition first & last digit"
   ]
  },
  {
   "cell_type": "markdown",
   "id": "1df97bb2-2121-4019-97b7-ffbf9cfe817a",
   "metadata": {},
   "source": [
    "# @ Recursion"
   ]
  },
  {
   "cell_type": "code",
   "execution_count": 4,
   "id": "b7849b84-c9ed-45b5-9922-58d6ed08a495",
   "metadata": {},
   "outputs": [
    {
     "name": "stdout",
     "output_type": "stream",
     "text": [
      "3\n"
     ]
    }
   ],
   "source": [
    "def division(a,b):\n",
    "    if a<b:\n",
    "        return 0\n",
    "    elif a==0: \n",
    "        return 0\n",
    "    else:\n",
    "       return 1+division((a-b),b)\n",
    "print(division(6,2))"
   ]
  },
  {
   "cell_type": "code",
   "execution_count": 2,
   "id": "7510f8fb-5d8c-47d6-8d33-d0423e0fbb79",
   "metadata": {},
   "outputs": [
    {
     "name": "stdout",
     "output_type": "stream",
     "text": [
      "enter the number 356\n"
     ]
    },
    {
     "name": "stdout",
     "output_type": "stream",
     "text": [
      "9\n"
     ]
    }
   ],
   "source": [
    "# revered number 356 iterative \n",
    "def firstandlast(n):\n",
    "    last_digit=n%10\n",
    "    while n>0:\n",
    "        n=n//10\n",
    "        if n<10:\n",
    "            first_digit=n\n",
    "            break\n",
    "    return last_digit + first_digit\n",
    "n = int (input(\"enter the number\"))    \n",
    "print (firstandlast(n))\n"
   ]
  },
  {
   "cell_type": "code",
   "execution_count": 1,
   "id": "19946a1b-b729-4e89-80d4-f252c686382a",
   "metadata": {},
   "outputs": [
    {
     "name": "stdout",
     "output_type": "stream",
     "text": [
      "Enter any number 356\n"
     ]
    },
    {
     "name": "stdout",
     "output_type": "stream",
     "text": [
      "9\n"
     ]
    }
   ],
   "source": [
    "# revered number 356 recursion \n",
    "def recursion(n):\n",
    "    if n<10:\n",
    "        return n\n",
    "    return recursion(n//10)\n",
    "n=int(input(\"Enter any number\"))\n",
    "last_digit=n%10\n",
    "if last_digit==recursion(n):\n",
    "    print(last_digit)\n",
    "else:\n",
    "    sum=last_digit+recursion(n)\n",
    "    print(sum)"
   ]
  },
  {
   "cell_type": "code",
   "execution_count": 7,
   "id": "e9b1f116-cfd0-4f4c-9968-7ad7fabc4eb9",
   "metadata": {},
   "outputs": [
    {
     "name": "stdout",
     "output_type": "stream",
     "text": [
      "[4, 5, 6, 10]\n",
      "[4, 5, 6, 10]\n",
      "20\n",
      "10\n"
     ]
    }
   ],
   "source": [
    "def modify_list(lst, var):\n",
    "    lst.append(10)  \n",
    "    var = 20       \n",
    "    return lst, var  \n",
    "my_list = [4, 5, 6] \n",
    "var = 10  \n",
    "\n",
    "result, num = modify_list(my_list, var)  \n",
    "\n",
    "print(my_list) \n",
    "print(result)\n",
    "print(num)     \n",
    "print(var)"
   ]
  },
  {
   "cell_type": "code",
   "execution_count": null,
   "id": "f90cbebb-bf68-46cb-85ab-1004f790c114",
   "metadata": {},
   "outputs": [],
   "source": []
  }
 ],
 "metadata": {
  "kernelspec": {
   "display_name": "Python 3 (ipykernel)",
   "language": "python",
   "name": "python3"
  },
  "language_info": {
   "codemirror_mode": {
    "name": "ipython",
    "version": 3
   },
   "file_extension": ".py",
   "mimetype": "text/x-python",
   "name": "python",
   "nbconvert_exporter": "python",
   "pygments_lexer": "ipython3",
   "version": "3.13.0"
  }
 },
 "nbformat": 4,
 "nbformat_minor": 5
}
