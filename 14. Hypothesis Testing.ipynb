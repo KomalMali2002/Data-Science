{
 "cells": [
  {
   "cell_type": "markdown",
   "id": "caceb697-3265-4613-8bbc-fb436c366a9b",
   "metadata": {},
   "source": [
    "# @ 23/05/2025"
   ]
  },
  {
   "cell_type": "markdown",
   "id": "00e6bbe0-a48f-4214-aa83-9b57843b52f0",
   "metadata": {},
   "source": [
    " # @ Hypothesis Testing "
   ]
  },
  {
   "cell_type": "markdown",
   "id": "3ccf304a-db58-4780-917c-e3534b9bc305",
   "metadata": {},
   "source": [
    " - Instuition --- Proof by contradiction\n",
    " - Hypothesis --- Assumption\n",
    " - We are estimating about the population with the help of sample\n",
    " - Estimation :\n",
    " - point estimate?\n",
    "# @ process:\n",
    " - defined test statistics\n",
    " - form the hypothesis\n",
    " - calculate the value\n",
    " - EX - What age people are died in covid?\n",
    " -  data --- required the data across the globe --- population\n",
    " - Is it possible to get this data --- Not possible\n",
    " - How to do estimation --- we will take a sample\n",
    " - sample :\n",
    " - ages --- a1,a2 --- a100\n",
    " - average --- age --- mean --- (x - bar)\n",
    " - population --- population_mean --- mue\n",
    " - With the help of this sample mean we are estimating about thepopulation mean\n",
    " - x - bar ~ meu --- This method we callled it as point estimation\n",
    " - x - bar --- 65 year\n",
    " - Different people can bring the diffrent sample\n",
    " -  S1 --- X1 \n",
    " -  S2 --- X2\n",
    " -  S3 --- X3\n",
    " -  ---\n",
    " -  Sn --- Xn\n",
    "   \n",
    " 1. Central limit therom\n",
    " - take the average of the averages --- x_new --- sample mean\n",
    " - x1,x1 --- xn --- Gaussian distribution\n",
    " 2. if we know the distribution is Gaussian --- empirical properties\n",
    "\n",
    " 2. Bootsraping --- CI for means\n",
    " - sample --- a1,a2 --- a100 --- only one sample\n",
    " - samples --- 100\n",
    " - sample size = 50\n",
    "\n",
    " - take the mean of each sample\n",
    " - s1 --- m1\n",
    " - s2 --- m2\n",
    " - sn --- mn\n",
    "\n",
    " - sort --- m1<=m2<m3 --- <=mn\n",
    " - low=\n",
    " - high=\n",
    " - c=90\n",
    " - [low,high] with a 90% confidence.\n",
    "\n",
    " - Data --- Check --- GD\n",
    " 1. Construct a distplot --- PDF / KDE --- Symmetric shape\n",
    " 2. QQ - Plot\n",
    " 3. Box-Cox Transformation : lambda, transfrom method\n",
    " 4. Hypothesis Testing \n",
    " - data --- assume that data is normally distributed\n",
    " - proving this thing with the help of contradiction.\n",
    " - ex : friend --- energy drink --- brain alertness --- 120%\n",
    " - --->u can crack any exam\n",
    " - s1 --- 90%\n",
    " - s2 ---\n",
    " - s2 --- \n",
    " - class 1             class2\n",
    " - heights of a students in both class1 and class2\n",
    " - class-1       class2\n",
    " - h1--h50       h1--h50\n",
    "\n",
    " - is the a difference between the height of class1 and class2 ?\n",
    "\n",
    " - estimate the parameter:\n",
    " - class1 --- average height --- meu1\n",
    " - class2 --- average height --- meu2\n",
    "\n",
    " - abs(meu1-meu2) = 0\n",
    " - there is no differenece in the height of class1 and class 2\n",
    "\n",
    " - In hypothesis testing we are making the two kinds of assumption:\n",
    " 1. Null hypothesis : (H0)the current assumption\n",
    " - there is no differenece in the height of class1 and class 2\n",
    " 2. alternative hypothesis : (H1)inverse of null hypothesis\n",
    " - it is used for rejecting the null hypothesis\n",
    " 3. we are calculating the p-value\n",
    " -  probability of observing the thing given that the null hypothesis is TRue\n",
    " - p-value=(p-observing|NUll hypothesis is true)\n",
    "     p-value=m --- 20cm\n",
    "     p-value=0.2\n",
    " - before making the observing probability we have to perform the experiment\n",
    "\n",
    " - ex : Task --- you have a coin we have to check that the coin is biased towards head\n",
    " - by using the probability :\n",
    " - P(H)=0.5\n",
    " - P(H)>0.5\n",
    " - NUll hypothesis --- coin is unbiased\n",
    " - alternate Hypothesis : coin is biased towards head\n",
    "\n",
    " - perform the experiment\n",
    " - by considering the Null hypothesis is true\n",
    " - tossing a coin 5 files\n",
    " - f1 f2 f3 f4 f5\n",
    " - H  H  H  H  H --- x=5 --- getting head 5 times\n",
    " - if the coinis unbiased what is the probability of getting all heads if we flip a coin 5 times\n",
    " - P(oberving|Null hypothesis)=1/2^5~1/32~0.03~3%\n",
    " - True\n",
    " - CI --- 95%\n",
    " - thumb rule --- signifinace level --- <5%\n",
    " - 3%<5% --- NUll hypothesis is getting rejected\n",
    " - alternative hypothesis is accepted\n",
    " - inference --- coin is biased towards head.\n",
    "\n",
    " - Null hypothesis is accepted==Alternative hypothesis is rejected\n",
    " - Null hypothesis is rejected== alternative hypothesis is accepted"
   ]
  },
  {
   "cell_type": "markdown",
   "id": "bb330d81-3686-4fe5-8e1a-0bfc55220d5a",
   "metadata": {},
   "source": [
    "- 24/052025"
   ]
  },
  {
   "cell_type": "markdown",
   "id": "504f6892-cc62-459b-9426-a1ba5dba5edd",
   "metadata": {},
   "source": [
    "# @ Permutation Test"
   ]
  },
  {
   "cell_type": "markdown",
   "id": "de5164f5-7be0-4063-9fa8-a12ca05f2b3d",
   "metadata": {},
   "source": [
    " - datapoints=100\n",
    " - 10k --- samples\n",
    " - test statistics = meu1-meu2 = X\n",
    " - x1,x2 --- x10k\n",
    "\n",
    " - original=meu1-meu2 X1----- X2-----\n",
    " - combine these two samples x1 and x2\n",
    " - randomly sampled\n",
    " - del1=s1------------>meu1\n",
    " - s2------------>meu2---->meu1-meu2\n",
    " - sort all the x1=meu1-mue2\n",
    " - x1,x2----------original------xn\n",
    "\n",
    "\n",
    " - class1 and class2 --- data\n",
    "\n",
    " - distplot --- PDF\n",
    " - there no diff betn class1 and class2\n",
    "\n",
    " - X=2\n",
    "\n",
    " - x1,x2, --- x10k\n",
    " - x1~GD(meu,sd)-->N(0,1)\n",
    "\n",
    " - KS test : \n",
    " - X and Y two random variables\n",
    " - X=[x1,x2 --- xn]\n",
    " - Y=[y1,y2 --- yn]\n",
    " - Is X and Y is following the same distribution or not?\n",
    "\n",
    " - gaussian distribution:\n",
    " - QQ-plot\n",
    " - hypothesis testing:\n",
    "  1.KS testing\n",
    "  2.AD testing\n",
    " - CDF(x)\n",
    " - CDF(y)\n",
    "\n",
    " - CDF(x)-CDF(y)=0\n",
    "\n",
    " - NH : both X and Y have same distribution\n",
    " - X --- p data points\n",
    " - Y --- q data points\n",
    " - p=q=very large value\n",
    "\n"
   ]
  },
  {
   "cell_type": "markdown",
   "id": "acf57ec2-f11f-47f9-928d-3591b9dcdea6",
   "metadata": {},
   "source": [
    " - 27/05/2025"
   ]
  },
  {
   "cell_type": "code",
   "execution_count": 1,
   "id": "44c01b43-7f70-41b5-85d8-e34b89b5e7b0",
   "metadata": {},
   "outputs": [],
   "source": [
    "import numpy as np"
   ]
  },
  {
   "cell_type": "code",
   "execution_count": 4,
   "id": "3fb45f7a-b3fc-4c23-8bad-5b9ed8540c34",
   "metadata": {},
   "outputs": [
    {
     "name": "stdout",
     "output_type": "stream",
     "text": [
      "(np.float64(5.800000000000011), np.float64(0.0))\n"
     ]
    },
    {
     "name": "stderr",
     "output_type": "stream",
     "text": [
      "C:\\Users\\Komal prakash mali\\AppData\\Local\\Programs\\Python\\Python313\\Lib\\site-packages\\numpy\\_core\\fromnumeric.py:3904: RuntimeWarning: Mean of empty slice.\n",
      "  return _methods._mean(a, axis=axis, dtype=dtype,\n",
      "C:\\Users\\Komal prakash mali\\AppData\\Local\\Programs\\Python\\Python313\\Lib\\site-packages\\numpy\\_core\\_methods.py:147: RuntimeWarning: invalid value encountered in scalar divide\n",
      "  ret = ret.dtype.type(ret / rcount)\n"
     ]
    }
   ],
   "source": [
    "def permutation_test(a1, a2, n_permutations=100):\n",
    "    obs_diff = np.mean(a2) - np.mean(a1)\n",
    "    combined = np.concatenate((a1, a2))\n",
    "    a = []\n",
    "    for _ in range(n_permutations):\n",
    "        np.random.shuffle(combined)\n",
    "        new_A = combined[:len(a1)]\n",
    "        new_B = combined[len(a1):]\n",
    "        a.append(np.mean(new_B) - np.mean(new_A))\n",
    "    p_value = np.sum(np.abs(a) >= np.abs(obs_diff)) / n_permutations\n",
    "    return obs_diff, p_value\n",
    "a1 = np.array([85, 90, 88, 75, 95])\n",
    "a2 = np.array([92, 94, 89, 96, 91])\n",
    "obs_diff, p_val = permutation_test(a1, a2)\n",
    "print(permutation(a1,a2))"
   ]
  },
  {
   "cell_type": "code",
   "execution_count": 3,
   "id": "80fa352e-acf4-49cb-91fa-9a2a0fa03637",
   "metadata": {},
   "outputs": [
    {
     "name": "stdout",
     "output_type": "stream",
     "text": [
      "(np.float64(1.3000000000000043), np.float64(0.84))\n"
     ]
    }
   ],
   "source": [
    "def permutation(s1, s2, num_iterations=100):\n",
    "    s = []\n",
    "    meu1= np.mean(s1)\n",
    "    meu2 = np.mean(s2)\n",
    "    original_mean_diff = abs(meu1 - meu2)\n",
    "    combined = np.array(s1 + s2)\n",
    "    for _ in range(num_iterations):\n",
    "        np.random.shuffle(combined)\n",
    "        y1 = combined[:len(s1)]\n",
    "        y2 = combined[len(s1):]\n",
    "        d = np.mean(y1) - np.mean(y2)\n",
    "        s.append(d)\n",
    "    p_value = np.mean([abs(d) >= original_mean_diff for d in s])\n",
    "    return original_mean_diff, p_value\n",
    "s3 = np.random.randint(1, 100, size=50)\n",
    "s5 = np.random.randint(1, 100, size=50)\n",
    "s4 = list(s3)\n",
    "s6 = list(s5)\n",
    "print(permutation(s4, s6))"
   ]
  },
  {
   "cell_type": "markdown",
   "id": "f9291144-3db5-42f1-9915-9e58c1a23a93",
   "metadata": {},
   "source": [
    " - 26/05/2025"
   ]
  },
  {
   "cell_type": "markdown",
   "id": "b75ccc1d-7c35-4243-8fca-2d45bcef7d5c",
   "metadata": {},
   "source": [
    "# @ KS Test (Kolmogorov–Smirnov test)"
   ]
  },
  {
   "cell_type": "markdown",
   "id": "9ec86ad0-51c0-4f52-a048-f6b2fa99ed75",
   "metadata": {},
   "source": [
    " - X and Y are any two random variables\n",
    " - X=[x1,x2,x3, --- xn]\n",
    " - Y=[y1,y2, --- yn]\n",
    " # @ task :\n",
    " - check the X and Y are having the same distribution or not.\n",
    " - X --- m\n",
    " - Y --- n\n",
    " - construct the CDF for both X and Y\n",
    " - CDF(X)-CDF(Y)=0 --- both X and Y are having same distribution\n",
    " - m and n value large\n",
    " - CDF(X) and CDF(Y) are overlapping\n",
    " - value --- small X and Y --- if this case there may the possibility that null hypothesis is true\n",
    " - CDF(x)-cdf(y) --- x\n",
    "\n",
    " # P_value=P(x|h0)=0.05> --- accepted\n",
    " -  Therotical aspect\n",
    " - Dn,m --- Test statistics\n",
    " - Dn,m=supx{F1,n(X)-F2,m(Y)}\n",
    " - H0 --- X and Y are having same distribution\n",
    " - H1 --- not having same distribution\n",
    " - alpha~p_value\n",
    " - condition for rejecting the null hypothesis\n",
    " - Dn,m>c(alpha)*sqrt((n+m)/n*m)\n",
    "\n",
    " - alpha=0.05\n",
    " - m=1000\n",
    " - n=1000\n",
    " - c(alpha)=1.358\n",
    " - Dn,m>0.047892 --- Null hypothesis is rejected\n",
    "\n",
    " - Dn,m>any value --- false --- alternative hypothesis is accepted.\n",
    "\n",
    " - process of applying the ks test:\n",
    " - check the SL is following Gaussian distribution or not\n",
    " 1. we need to standardize the data(normalizaed).\n",
    " -  PL-np.mean(SL)/(np.std(SL))\n",
    " 2. stats.kstest(normalized_values,'norm')\n",
    " - test_sts,p_value=stats.kstest(normalized_values,'norm')\n",
    "\n",
    " - standardization=PL-mean(PL)/sd(PL) --- Zscore"
   ]
  },
  {
   "cell_type": "code",
   "execution_count": 5,
   "id": "966be02d-006e-4bcd-95e3-656a34ac0912",
   "metadata": {},
   "outputs": [],
   "source": [
    "import numpy as np\n",
    "import pandas as pd\n",
    "import matplotlib.pyplot as plt\n",
    "import seaborn as sns\n",
    "import scipy.stats as stats\n",
    "from scipy import stats"
   ]
  },
  {
   "cell_type": "code",
   "execution_count": 6,
   "id": "e73aa6d4-e949-4e67-a398-3d057d7e7836",
   "metadata": {},
   "outputs": [
    {
     "data": {
      "text/html": [
       "<div>\n",
       "<style scoped>\n",
       "    .dataframe tbody tr th:only-of-type {\n",
       "        vertical-align: middle;\n",
       "    }\n",
       "\n",
       "    .dataframe tbody tr th {\n",
       "        vertical-align: top;\n",
       "    }\n",
       "\n",
       "    .dataframe thead th {\n",
       "        text-align: right;\n",
       "    }\n",
       "</style>\n",
       "<table border=\"1\" class=\"dataframe\">\n",
       "  <thead>\n",
       "    <tr style=\"text-align: right;\">\n",
       "      <th></th>\n",
       "      <th>sepal.length</th>\n",
       "      <th>sepal.width</th>\n",
       "      <th>petal.length</th>\n",
       "      <th>petal.width</th>\n",
       "      <th>variety</th>\n",
       "    </tr>\n",
       "  </thead>\n",
       "  <tbody>\n",
       "    <tr>\n",
       "      <th>0</th>\n",
       "      <td>5.1</td>\n",
       "      <td>3.5</td>\n",
       "      <td>1.4</td>\n",
       "      <td>0.2</td>\n",
       "      <td>Setosa</td>\n",
       "    </tr>\n",
       "    <tr>\n",
       "      <th>1</th>\n",
       "      <td>4.9</td>\n",
       "      <td>3.0</td>\n",
       "      <td>1.4</td>\n",
       "      <td>0.2</td>\n",
       "      <td>Setosa</td>\n",
       "    </tr>\n",
       "    <tr>\n",
       "      <th>2</th>\n",
       "      <td>4.7</td>\n",
       "      <td>3.2</td>\n",
       "      <td>1.3</td>\n",
       "      <td>0.2</td>\n",
       "      <td>Setosa</td>\n",
       "    </tr>\n",
       "    <tr>\n",
       "      <th>3</th>\n",
       "      <td>4.6</td>\n",
       "      <td>3.1</td>\n",
       "      <td>1.5</td>\n",
       "      <td>0.2</td>\n",
       "      <td>Setosa</td>\n",
       "    </tr>\n",
       "    <tr>\n",
       "      <th>4</th>\n",
       "      <td>5.0</td>\n",
       "      <td>3.6</td>\n",
       "      <td>1.4</td>\n",
       "      <td>0.2</td>\n",
       "      <td>Setosa</td>\n",
       "    </tr>\n",
       "    <tr>\n",
       "      <th>...</th>\n",
       "      <td>...</td>\n",
       "      <td>...</td>\n",
       "      <td>...</td>\n",
       "      <td>...</td>\n",
       "      <td>...</td>\n",
       "    </tr>\n",
       "    <tr>\n",
       "      <th>145</th>\n",
       "      <td>6.7</td>\n",
       "      <td>3.0</td>\n",
       "      <td>5.2</td>\n",
       "      <td>2.3</td>\n",
       "      <td>Virginica</td>\n",
       "    </tr>\n",
       "    <tr>\n",
       "      <th>146</th>\n",
       "      <td>6.3</td>\n",
       "      <td>2.5</td>\n",
       "      <td>5.0</td>\n",
       "      <td>1.9</td>\n",
       "      <td>Virginica</td>\n",
       "    </tr>\n",
       "    <tr>\n",
       "      <th>147</th>\n",
       "      <td>6.5</td>\n",
       "      <td>3.0</td>\n",
       "      <td>5.2</td>\n",
       "      <td>2.0</td>\n",
       "      <td>Virginica</td>\n",
       "    </tr>\n",
       "    <tr>\n",
       "      <th>148</th>\n",
       "      <td>6.2</td>\n",
       "      <td>3.4</td>\n",
       "      <td>5.4</td>\n",
       "      <td>2.3</td>\n",
       "      <td>Virginica</td>\n",
       "    </tr>\n",
       "    <tr>\n",
       "      <th>149</th>\n",
       "      <td>5.9</td>\n",
       "      <td>3.0</td>\n",
       "      <td>5.1</td>\n",
       "      <td>1.8</td>\n",
       "      <td>Virginica</td>\n",
       "    </tr>\n",
       "  </tbody>\n",
       "</table>\n",
       "<p>150 rows × 5 columns</p>\n",
       "</div>"
      ],
      "text/plain": [
       "     sepal.length  sepal.width  petal.length  petal.width    variety\n",
       "0             5.1          3.5           1.4          0.2     Setosa\n",
       "1             4.9          3.0           1.4          0.2     Setosa\n",
       "2             4.7          3.2           1.3          0.2     Setosa\n",
       "3             4.6          3.1           1.5          0.2     Setosa\n",
       "4             5.0          3.6           1.4          0.2     Setosa\n",
       "..            ...          ...           ...          ...        ...\n",
       "145           6.7          3.0           5.2          2.3  Virginica\n",
       "146           6.3          2.5           5.0          1.9  Virginica\n",
       "147           6.5          3.0           5.2          2.0  Virginica\n",
       "148           6.2          3.4           5.4          2.3  Virginica\n",
       "149           5.9          3.0           5.1          1.8  Virginica\n",
       "\n",
       "[150 rows x 5 columns]"
      ]
     },
     "execution_count": 6,
     "metadata": {},
     "output_type": "execute_result"
    }
   ],
   "source": [
    "df=pd.read_csv(\"D:\\\\Download\\\\iris.csv\")\n",
    "df"
   ]
  },
  {
   "cell_type": "code",
   "execution_count": 3,
   "id": "9dad7104-5bf6-474a-bf23-f9c1068524a1",
   "metadata": {},
   "outputs": [
    {
     "data": {
      "text/plain": [
       "0      5.1\n",
       "1      4.9\n",
       "2      4.7\n",
       "3      4.6\n",
       "4      5.0\n",
       "      ... \n",
       "145    6.7\n",
       "146    6.3\n",
       "147    6.5\n",
       "148    6.2\n",
       "149    5.9\n",
       "Name: sepal.length, Length: 150, dtype: float64"
      ]
     },
     "execution_count": 3,
     "metadata": {},
     "output_type": "execute_result"
    }
   ],
   "source": [
    "sepal = df [\"sepal.length\"]\n",
    "sepal"
   ]
  },
  {
   "cell_type": "code",
   "execution_count": 4,
   "id": "1c79cd86-3243-436f-a621-9098662423a0",
   "metadata": {},
   "outputs": [
    {
     "data": {
      "text/plain": [
       "np.float64(5.843333333333334)"
      ]
     },
     "execution_count": 4,
     "metadata": {},
     "output_type": "execute_result"
    }
   ],
   "source": [
    "sepal_mean=np.mean(sepal)\n",
    "sepal_mean"
   ]
  },
  {
   "cell_type": "code",
   "execution_count": 21,
   "id": "f22496c2-0e39-4590-b8f8-8da64d9de6e3",
   "metadata": {},
   "outputs": [
    {
     "data": {
      "text/plain": [
       "np.float64(0.8253012917851409)"
      ]
     },
     "execution_count": 21,
     "metadata": {},
     "output_type": "execute_result"
    }
   ],
   "source": [
    "sepal_sd = np.std(sepal)\n",
    "sepal_sd"
   ]
  },
  {
   "cell_type": "code",
   "execution_count": 22,
   "id": "90c7234c-ea4d-4441-9e66-0ca44cc63b45",
   "metadata": {},
   "outputs": [
    {
     "data": {
      "text/plain": [
       "0     -0.900681\n",
       "1     -1.143017\n",
       "2     -1.385353\n",
       "3     -1.506521\n",
       "4     -1.021849\n",
       "         ...   \n",
       "145    1.038005\n",
       "146    0.553333\n",
       "147    0.795669\n",
       "148    0.432165\n",
       "149    0.068662\n",
       "Name: sepal.length, Length: 150, dtype: float64"
      ]
     },
     "execution_count": 22,
     "metadata": {},
     "output_type": "execute_result"
    }
   ],
   "source": [
    "normalized_sepal = (sepal- sepal_mean) / sepal_sd\n",
    "normalized_sepal"
   ]
  },
  {
   "cell_type": "code",
   "execution_count": 23,
   "id": "0773b909-6d6f-4a58-948d-ada4e0198a93",
   "metadata": {},
   "outputs": [],
   "source": [
    "test_statistics,p_value = stats.kstest (normalized_sepal,'norm')"
   ]
  },
  {
   "cell_type": "code",
   "execution_count": 24,
   "id": "b62bc41d-af03-4916-9c5a-fdce9b2b8a91",
   "metadata": {},
   "outputs": [
    {
     "data": {
      "text/plain": [
       "np.float64(0.08945440179507252)"
      ]
     },
     "execution_count": 24,
     "metadata": {},
     "output_type": "execute_result"
    }
   ],
   "source": [
    "test_statistics"
   ]
  },
  {
   "cell_type": "code",
   "execution_count": 25,
   "id": "0c9e3e83-fa9c-450e-8f6e-90a4682480c7",
   "metadata": {},
   "outputs": [
    {
     "data": {
      "text/plain": [
       "np.float64(0.17058360931631134)"
      ]
     },
     "execution_count": 25,
     "metadata": {},
     "output_type": "execute_result"
    }
   ],
   "source": [
    "p_value"
   ]
  },
  {
   "cell_type": "code",
   "execution_count": 26,
   "id": "40cadb03-11ce-4af8-9ffc-15c4142f4218",
   "metadata": {},
   "outputs": [
    {
     "data": {
      "text/plain": [
       "0      1.4\n",
       "1      1.4\n",
       "2      1.3\n",
       "3      1.5\n",
       "4      1.4\n",
       "      ... \n",
       "145    5.2\n",
       "146    5.0\n",
       "147    5.2\n",
       "148    5.4\n",
       "149    5.1\n",
       "Name: petal.length, Length: 150, dtype: float64"
      ]
     },
     "execution_count": 26,
     "metadata": {},
     "output_type": "execute_result"
    }
   ],
   "source": [
    "petal = df [\"petal.length\"]\n",
    "petal"
   ]
  },
  {
   "cell_type": "code",
   "execution_count": 27,
   "id": "cae20ee1-0e60-42ee-ae5b-644a247c37f2",
   "metadata": {},
   "outputs": [
    {
     "data": {
      "text/plain": [
       "np.float64(3.7580000000000005)"
      ]
     },
     "execution_count": 27,
     "metadata": {},
     "output_type": "execute_result"
    }
   ],
   "source": [
    "petal_mean =np.mean(petal)\n",
    "petal_mean"
   ]
  },
  {
   "cell_type": "code",
   "execution_count": 28,
   "id": "0a3afdbc-f17f-4944-ac8d-d8c57ca6d071",
   "metadata": {},
   "outputs": [
    {
     "data": {
      "text/plain": [
       "np.float64(1.759404065775303)"
      ]
     },
     "execution_count": 28,
     "metadata": {},
     "output_type": "execute_result"
    }
   ],
   "source": [
    "petal_sd = np.std(petal)\n",
    "petal_sd"
   ]
  },
  {
   "cell_type": "code",
   "execution_count": 29,
   "id": "9b6c28ad-bff7-420f-bd3e-a5f01c102579",
   "metadata": {},
   "outputs": [
    {
     "data": {
      "text/plain": [
       "0     -1.340227\n",
       "1     -1.340227\n",
       "2     -1.397064\n",
       "3     -1.283389\n",
       "4     -1.340227\n",
       "         ...   \n",
       "145    0.819596\n",
       "146    0.705921\n",
       "147    0.819596\n",
       "148    0.933271\n",
       "149    0.762758\n",
       "Name: petal.length, Length: 150, dtype: float64"
      ]
     },
     "execution_count": 29,
     "metadata": {},
     "output_type": "execute_result"
    }
   ],
   "source": [
    "normalized_petal = (petal- petal_mean) / petal_sd\n",
    "normalized_petal"
   ]
  },
  {
   "cell_type": "code",
   "execution_count": 30,
   "id": "c3d16f9a-75e9-4409-a578-c5fb5e4b08f2",
   "metadata": {},
   "outputs": [],
   "source": [
    "test_statistics,p_value = stats.kstest (normalized_petal,'norm')"
   ]
  },
  {
   "cell_type": "code",
   "execution_count": 31,
   "id": "d3701c33-8003-4533-b3cd-3382b45822df",
   "metadata": {},
   "outputs": [
    {
     "data": {
      "text/plain": [
       "np.float64(0.19894200836859716)"
      ]
     },
     "execution_count": 31,
     "metadata": {},
     "output_type": "execute_result"
    }
   ],
   "source": [
    "test_statistics"
   ]
  },
  {
   "cell_type": "code",
   "execution_count": 32,
   "id": "552927b2-7ef8-4d96-88e0-d5720c00131c",
   "metadata": {},
   "outputs": [
    {
     "data": {
      "text/plain": [
       "np.float64(1.116072664284306e-05)"
      ]
     },
     "execution_count": 32,
     "metadata": {},
     "output_type": "execute_result"
    }
   ],
   "source": [
    "p_value"
   ]
  },
  {
   "cell_type": "code",
   "execution_count": 33,
   "id": "cf79c879-041c-4181-bc35-ff124606376b",
   "metadata": {},
   "outputs": [
    {
     "name": "stdout",
     "output_type": "stream",
     "text": [
      "(value):10f\n"
     ]
    }
   ],
   "source": [
    "value = 1.116072664284306e-05 \n",
    "print(f\"(value):10f\")"
   ]
  },
  {
   "cell_type": "code",
   "execution_count": 34,
   "id": "e4dfab0d-afac-4183-9d26-044ecbfda92e",
   "metadata": {},
   "outputs": [
    {
     "data": {
      "image/png": "[encoded data removed]",
      "text/plain": [
       "<Figure size 640x480 with 1 Axes>"
      ]
     },
     "metadata": {},
     "output_type": "display_data"
    }
   ],
   "source": [
    "sns.histplot(petal, kde=True, color='red')\n",
    "plt.show()"
   ]
  },
  {
   "cell_type": "code",
   "execution_count": 6,
   "id": "b95b62b3-b5e8-4614-a7af-0eedbd977fa5",
   "metadata": {},
   "outputs": [
    {
     "data": {
      "image/png": "[encoded data removed]",
      "text/plain": [
       "<Figure size 640x480 with 1 Axes>"
      ]
     },
     "metadata": {},
     "output_type": "display_data"
    }
   ],
   "source": [
    "sns.histplot(sepal, kde=True, color='red')\n",
    "plt.show()"
   ]
  },
  {
   "cell_type": "markdown",
   "id": "1fa033d6-bbe7-43bf-a6e7-3d42174df2aa",
   "metadata": {},
   "source": [
    "- 27/05/2025"
   ]
  },
  {
   "cell_type": "markdown",
   "id": "015b2c34-f51d-4cc8-a6f0-4d7ace892776",
   "metadata": {},
   "source": [
    " - 28/05/2025"
   ]
  },
  {
   "cell_type": "markdown",
   "id": "d8bd3122-551a-4095-b0d2-dd438318e66f",
   "metadata": {},
   "source": [
    " # @ Sample\n",
    " - population : 1Million\n",
    " - take  the subset of population --- sample\n",
    " - based on the sampling techniques we are selecting the samples from the population.\n",
    " 1. Random sampling :\n",
    "   1000 datapoints --- population\n",
    "   sample=50\n",
    " - which 50 datapoints we will take from the population to make a sample\n",
    " - we are randomly picking the 50 datapoints from the population.\n",
    " - each sample of size 50 is having equal probability of picking becoz it is following the uniform distribution.\n",
    "\n",
    " - 2.proportional sampling :\n",
    " - most of the ML algorithms is using the proportional sampling\n",
    " - list/array\n",
    " - p1  p2  p3  p4   p5\n",
    " - d=[3.7,7.9,1.2,4.5,20.1]--->n values\n",
    " - Task : we have to pick a values from the array whose probability is more proportional towards the value.\n",
    " - the probability of picking is more when the value is larger.\n",
    " - the probability of picking the point p5 is higher becoz it is having the highest value\n",
    "\n",
    " - point p3 is having the less probability of picking becoz value is small.\n",
    "\n",
    " - if we pick randomly each point have the equal probability --- uniform distribution.\n",
    "\n",
    " - classes :\n",
    " - boys --- 1000\n",
    " - girls --- 300\n",
    "\n",
    " - sampling : 70,30\n",
    "\n",
    " - method : di=[3.7,7.9,1.2,4.5,20.1]\n",
    " # step : 1\n",
    " - a. sum up all the values\n",
    "   - summation(si)=3.7+7.9+1.2+4.5+20.1\n",
    "            -  =37.4\n",
    " - b.di/si\n",
    " - d1'=3.7/37.4=0.098\n",
    " - d2'=7.9/37.4=0.211\n",
    " - d3'=1.2/37.4=0.032\n",
    " - d4'=4.5/37.4=0.120\n",
    " - d5'=20.1/37.4=0.537\n",
    " - we are normalizing the values to 1\n",
    "\n",
    " - c. cummulative sum :\n",
    " - d1''=d1'=0.098\n",
    " - d2''=d1''+d2'=0.098+0.211=0.309\n",
    " - d3''=d2''+d3'=0.341\n",
    " - d4''=d3''+d4'=0.461\n",
    " - d5''=d4''+d5'=0.998\n",
    "\n",
    " # step : 2\n",
    " - we will take a one value from the sample of uniform distribution r(0,1)\n",
    " - np.random.uniform(0,1,1)\n",
    " - r=0.6\n",
    "\n",
    " # step : 3\n",
    " - proportional sampling :\n",
    " - if r<=d1'':\n",
    " -       return 1\n",
    " -   elif r<=d2'':\n",
    " -       return 2\n",
    " -   elif r<=d3'':\n",
    " -       return 3\n",
    " -   elif r<=d4'':\n",
    " -       return 4\n",
    " -   elif r<=d5'':\n",
    " -       return 5\n",
    " - r=0.6\n",
    "\n",
    " - 0.6<=0.098--->false\n",
    " - o.6<=0.309--->false\n",
    " - 0.6<=0.341---->False\n",
    " - 0.6<=0.461---->false\n",
    " - 0.6<=0.998----->TRue\n",
    " - r=0.3"
   ]
  },
  {
   "cell_type": "code",
   "execution_count": 4,
   "id": "e0faf1c3-b928-4274-bb1c-d940de381379",
   "metadata": {},
   "outputs": [
    {
     "name": "stdout",
     "output_type": "stream",
     "text": [
      "20.1\n"
     ]
    }
   ],
   "source": [
    "import numpy as np\n",
    "def weight(di):\n",
    "    n_list = []\n",
    "    d_re = []\n",
    "    si = sum(di)\n",
    "    for i in di:\n",
    "        n_id = i / si\n",
    "        n_list.append(n_id)\n",
    "    for i in range(len(n_list)):\n",
    "        if i == 0:\n",
    "            d_re.append(n_list[i])\n",
    "        else:\n",
    "            d_re.append(d_re[i - 1] + n_list[i])\n",
    "    r = np.random.uniform(0, 1)\n",
    "    for i in range(len(d_re)):\n",
    "        if r <= d_re[i]:\n",
    "            return di[i]\n",
    "di = [3.7, 7.9, 1.2, 4.5, 20.1]\n",
    "print(weight(di))\n"
   ]
  },
  {
   "cell_type": "code",
   "execution_count": 80,
   "id": "1950a5f5-28a1-459a-bbbf-0be31dbf359c",
   "metadata": {},
   "outputs": [
    {
     "name": "stdout",
     "output_type": "stream",
     "text": [
      "Normalized list: [0.09893048128342247, 0.21122994652406418, 0.03208556149732621, 0.12032085561497327, 0.5374331550802139]\n",
      "Cumulative list: [0.09893048128342247, 0.31016042780748665, 0.34224598930481287, 0.46256684491978617, 1.0]\n"
     ]
    }
   ],
   "source": [
    "di = [3.7,7.9,1.2,4.5,20.1]  \n",
    "n_list = []\n",
    "cumulative_list = []\n",
    "si = sum(di)\n",
    "for i in di:\n",
    "    n_id = i / si\n",
    "    n_list.append(n_id)\n",
    "for i in range(len(n_list)):\n",
    "    if i == 0:\n",
    "        cumulative_list.append(n_list[i])\n",
    "    else:\n",
    "        cumulative_list.append(cumulative_list[i-1] + n_list[i])\n",
    "print(\"Normalized list:\", n_list)\n",
    "print(\"Cumulative list:\", cumulative_list)\n"
   ]
  },
  {
   "cell_type": "markdown",
   "id": "192c488b-f626-43e5-b309-65b750dc92ea",
   "metadata": {},
   "source": [
    " - 29/05/2025"
   ]
  },
  {
   "cell_type": "markdown",
   "id": "320f14bc-9198-4c50-b2d6-1a574eeefe56",
   "metadata": {},
   "source": [
    " # @ Anderson Darling Test : (AD Test)"
   ]
  },
  {
   "cell_type": "markdown",
   "id": "7ee95dc7-190e-4f44-a309-bae0ed162931",
   "metadata": {},
   "source": [
    "- This test is used to check a particular sample is having the same distribution or not\n",
    "- AD test primarily used to check a distribution is normal distribution or not.\n",
    "- We can use AD test to check other distributions also(Weibull,uniform,exponential etc)\n",
    "- We don't required any distribution parameter\n",
    "- In this testing we are comparing the Empirical distribution function(EDF) with cumulative    distribution function(CDF) of particular distribution.\n",
    "- F(x)---->EDF\n",
    "- Test statistics:\n",
    "    - EDF(x)-CDF(x)\n",
    "\n",
    "# @ EDF:empirical distribution function:\n",
    "    EDF(x)=1/nsum(X<=x)\n",
    "\n",
    "X=[2,3,4,1,5]--sample data\n",
    "\n",
    "# step1 : sort x\n",
    " xsort=[1,2,3,4,5]\n",
    "\n",
    "# step2 : find the rank where X<=x\n",
    "    F(X<=1)=1\n",
    "    F(x<=2)=2\n",
    "    F(x<=3)=3\n",
    "    F(X<=4)=4\n",
    "    F(X<=5)=5\n",
    "\n",
    "# step3 :\n",
    "    F1=1/5\n",
    "    F2=2/5\n",
    "    F3=3/5\n",
    "    F4=4/5\n",
    "    F5=5/5\n",
    "EDF will also give the non decreasing graph like a CDF.\n",
    "\n",
    "# @ Difference between EDF and CDF\n",
    "# @ EDF :                    \n",
    "  - we don't required distribution parameter\n",
    "  - we can directly apply method\n",
    "\n",
    "# @ CDF :\n",
    " \n",
    " - we required a distribution parameter\n",
    " - syntax:\n",
    " - from scipy import stats\n",
    " - norm.cdf(data,meu,SD)\n",
    " - we used CDF for normal distribution.\n",
    "\n",
    "# @ define the Hypothesis :\n",
    "  - H0 : distribution are same\n",
    "  - H1 : distribution are not same\n",
    "\n",
    "# critical value:\n",
    "- significance level : 15%,10%,5%,2%,1%\n",
    "\n",
    "- critical value : threshold value to reject the null hypothesis\n",
    "\n",
    "         1. test statistics\n",
    "         2. critical value\n",
    "         3. significance level:15%,10%,5%,2%,1%\n",
    "\n",
    " - criteria :\n",
    "\n",
    "           test statistics>=critical_value -\n",
    "           NUll hypothesis is rejected---->alternative hypothesis is accepted\n",
    "           test statistics<critical value--->null hypothesis is accepted\n",
    "\n",
    "# when we are apply AD test\n",
    "- we are getting three kinds of value:\n",
    "- \n",
    "syntax :\n",
    "\n",
    "       from scipy import stats\n",
    "       stats.anderson(data,dist='norm')"
   ]
  },
  {
   "cell_type": "code",
   "execution_count": 7,
   "id": "a8841322-692e-4144-a702-889c3660e82b",
   "metadata": {},
   "outputs": [],
   "source": [
    "import numpy as np\n",
    "import pandas as pd\n",
    "import matplotlib.pyplot as plt\n",
    "import seaborn as sns\n",
    "#import scipy.stats as stats\n",
    "from scipy import stats"
   ]
  },
  {
   "cell_type": "code",
   "execution_count": 7,
   "id": "8eb0a10d-0567-4dcd-8493-abb5f8a76cf9",
   "metadata": {},
   "outputs": [
    {
     "data": {
      "text/html": [
       "<div>\n",
       "<style scoped>\n",
       "    .dataframe tbody tr th:only-of-type {\n",
       "        vertical-align: middle;\n",
       "    }\n",
       "\n",
       "    .dataframe tbody tr th {\n",
       "        vertical-align: top;\n",
       "    }\n",
       "\n",
       "    .dataframe thead th {\n",
       "        text-align: right;\n",
       "    }\n",
       "</style>\n",
       "<table border=\"1\" class=\"dataframe\">\n",
       "  <thead>\n",
       "    <tr style=\"text-align: right;\">\n",
       "      <th></th>\n",
       "      <th>sepal.length</th>\n",
       "      <th>sepal.width</th>\n",
       "      <th>petal.length</th>\n",
       "      <th>petal.width</th>\n",
       "      <th>variety</th>\n",
       "    </tr>\n",
       "  </thead>\n",
       "  <tbody>\n",
       "    <tr>\n",
       "      <th>0</th>\n",
       "      <td>5.1</td>\n",
       "      <td>3.5</td>\n",
       "      <td>1.4</td>\n",
       "      <td>0.2</td>\n",
       "      <td>Setosa</td>\n",
       "    </tr>\n",
       "    <tr>\n",
       "      <th>1</th>\n",
       "      <td>4.9</td>\n",
       "      <td>3.0</td>\n",
       "      <td>1.4</td>\n",
       "      <td>0.2</td>\n",
       "      <td>Setosa</td>\n",
       "    </tr>\n",
       "    <tr>\n",
       "      <th>2</th>\n",
       "      <td>4.7</td>\n",
       "      <td>3.2</td>\n",
       "      <td>1.3</td>\n",
       "      <td>0.2</td>\n",
       "      <td>Setosa</td>\n",
       "    </tr>\n",
       "    <tr>\n",
       "      <th>3</th>\n",
       "      <td>4.6</td>\n",
       "      <td>3.1</td>\n",
       "      <td>1.5</td>\n",
       "      <td>0.2</td>\n",
       "      <td>Setosa</td>\n",
       "    </tr>\n",
       "    <tr>\n",
       "      <th>4</th>\n",
       "      <td>5.0</td>\n",
       "      <td>3.6</td>\n",
       "      <td>1.4</td>\n",
       "      <td>0.2</td>\n",
       "      <td>Setosa</td>\n",
       "    </tr>\n",
       "    <tr>\n",
       "      <th>...</th>\n",
       "      <td>...</td>\n",
       "      <td>...</td>\n",
       "      <td>...</td>\n",
       "      <td>...</td>\n",
       "      <td>...</td>\n",
       "    </tr>\n",
       "    <tr>\n",
       "      <th>145</th>\n",
       "      <td>6.7</td>\n",
       "      <td>3.0</td>\n",
       "      <td>5.2</td>\n",
       "      <td>2.3</td>\n",
       "      <td>Virginica</td>\n",
       "    </tr>\n",
       "    <tr>\n",
       "      <th>146</th>\n",
       "      <td>6.3</td>\n",
       "      <td>2.5</td>\n",
       "      <td>5.0</td>\n",
       "      <td>1.9</td>\n",
       "      <td>Virginica</td>\n",
       "    </tr>\n",
       "    <tr>\n",
       "      <th>147</th>\n",
       "      <td>6.5</td>\n",
       "      <td>3.0</td>\n",
       "      <td>5.2</td>\n",
       "      <td>2.0</td>\n",
       "      <td>Virginica</td>\n",
       "    </tr>\n",
       "    <tr>\n",
       "      <th>148</th>\n",
       "      <td>6.2</td>\n",
       "      <td>3.4</td>\n",
       "      <td>5.4</td>\n",
       "      <td>2.3</td>\n",
       "      <td>Virginica</td>\n",
       "    </tr>\n",
       "    <tr>\n",
       "      <th>149</th>\n",
       "      <td>5.9</td>\n",
       "      <td>3.0</td>\n",
       "      <td>5.1</td>\n",
       "      <td>1.8</td>\n",
       "      <td>Virginica</td>\n",
       "    </tr>\n",
       "  </tbody>\n",
       "</table>\n",
       "<p>150 rows × 5 columns</p>\n",
       "</div>"
      ],
      "text/plain": [
       "     sepal.length  sepal.width  petal.length  petal.width    variety\n",
       "0             5.1          3.5           1.4          0.2     Setosa\n",
       "1             4.9          3.0           1.4          0.2     Setosa\n",
       "2             4.7          3.2           1.3          0.2     Setosa\n",
       "3             4.6          3.1           1.5          0.2     Setosa\n",
       "4             5.0          3.6           1.4          0.2     Setosa\n",
       "..            ...          ...           ...          ...        ...\n",
       "145           6.7          3.0           5.2          2.3  Virginica\n",
       "146           6.3          2.5           5.0          1.9  Virginica\n",
       "147           6.5          3.0           5.2          2.0  Virginica\n",
       "148           6.2          3.4           5.4          2.3  Virginica\n",
       "149           5.9          3.0           5.1          1.8  Virginica\n",
       "\n",
       "[150 rows x 5 columns]"
      ]
     },
     "execution_count": 7,
     "metadata": {},
     "output_type": "execute_result"
    }
   ],
   "source": [
    "df=pd.read_csv(\"D:\\\\Download\\\\iris.csv\")\n",
    "df"
   ]
  },
  {
   "cell_type": "code",
   "execution_count": 8,
   "id": "fbf686ed-68a6-4f49-a8be-fcf287b02883",
   "metadata": {},
   "outputs": [
    {
     "data": {
      "text/plain": [
       "0      1.4\n",
       "1      1.4\n",
       "2      1.3\n",
       "3      1.5\n",
       "4      1.4\n",
       "      ... \n",
       "145    5.2\n",
       "146    5.0\n",
       "147    5.2\n",
       "148    5.4\n",
       "149    5.1\n",
       "Name: petal.length, Length: 150, dtype: float64"
      ]
     },
     "execution_count": 8,
     "metadata": {},
     "output_type": "execute_result"
    }
   ],
   "source": [
    "data = df['petal.length']\n",
    "data"
   ]
  },
  {
   "cell_type": "code",
   "execution_count": 10,
   "id": "fb909a81-a28c-4ca2-bdc6-e15149d617a4",
   "metadata": {},
   "outputs": [
    {
     "data": {
      "text/plain": [
       "AndersonResult(statistic=np.float64(7.6785455198266845), critical_values=array([0.562, 0.64 , 0.767, 0.895, 1.065]), significance_level=array([15. , 10. ,  5. ,  2.5,  1. ]), fit_result=  params: FitParams(loc=np.float64(3.7580000000000005), scale=np.float64(1.7652982332594662))\n",
       " success: True\n",
       " message: '`anderson` successfully fit the distribution to the data.')"
      ]
     },
     "execution_count": 10,
     "metadata": {},
     "output_type": "execute_result"
    }
   ],
   "source": [
    "result = stats.anderson(data,dist='norm')\n",
    "result"
   ]
  },
  {
   "cell_type": "code",
   "execution_count": 11,
   "id": "153fa6db-9825-42bc-a5d1-aba0ed7c7956",
   "metadata": {},
   "outputs": [
    {
     "data": {
      "text/plain": [
       "array([0.562, 0.64 , 0.767, 0.895, 1.065])"
      ]
     },
     "execution_count": 11,
     "metadata": {},
     "output_type": "execute_result"
    }
   ],
   "source": [
    "result.critical_values"
   ]
  },
  {
   "cell_type": "code",
   "execution_count": 44,
   "id": "1236b51f-e225-4240-b824-93f3dadb69c0",
   "metadata": {},
   "outputs": [
    {
     "data": {
      "text/plain": [
       "np.float64(7.6785455198266845)"
      ]
     },
     "execution_count": 44,
     "metadata": {},
     "output_type": "execute_result"
    }
   ],
   "source": [
    "# null hypothesis is rejected\n",
    "result.statistic"
   ]
  },
  {
   "cell_type": "code",
   "execution_count": 45,
   "id": "143daa8e-333f-4c1e-8f6e-736afbb46e37",
   "metadata": {},
   "outputs": [
    {
     "data": {
      "text/plain": [
       "array([15. , 10. ,  5. ,  2.5,  1. ])"
      ]
     },
     "execution_count": 45,
     "metadata": {},
     "output_type": "execute_result"
    }
   ],
   "source": [
    "result.significance_level"
   ]
  },
  {
   "cell_type": "code",
   "execution_count": 12,
   "id": "fac4ebc0-d76d-4acd-9d7e-6d9481c7c171",
   "metadata": {},
   "outputs": [
    {
     "data": {
      "text/plain": [
       "0     -2.0\n",
       "1     -2.0\n",
       "2     -2.0\n",
       "3     -2.0\n",
       "4     -2.0\n",
       "      ... \n",
       "145    0.0\n",
       "146    0.0\n",
       "147    0.0\n",
       "148    0.0\n",
       "149    0.0\n",
       "Name: petal.length, Length: 150, dtype: float64"
      ]
     },
     "execution_count": 12,
     "metadata": {},
     "output_type": "execute_result"
    }
   ],
   "source": [
    "# KS test\n",
    "normalised_data=(data-np.mean(data))//np.std(data)\n",
    "normalised_data"
   ]
  },
  {
   "cell_type": "code",
   "execution_count": 15,
   "id": "1bd82f59-74d6-4809-9508-6a0960f4b0ce",
   "metadata": {},
   "outputs": [
    {
     "data": {
      "text/plain": [
       "np.float64(0.33333333333333337)"
      ]
     },
     "execution_count": 15,
     "metadata": {},
     "output_type": "execute_result"
    }
   ],
   "source": [
    "normalised_data = (data - np.mean(data)) //np.std(data)\n",
    "test_statistic, p_value = stats.kstest(normalised_data, 'norm')\n",
    "test_statistic\n"
   ]
  },
  {
   "cell_type": "code",
   "execution_count": 16,
   "id": "aa1adc6e-ce6a-4088-b185-81da81f8aea1",
   "metadata": {},
   "outputs": [
    {
     "data": {
      "text/plain": [
       "np.float64(2.3291631748869842e-15)"
      ]
     },
     "execution_count": 16,
     "metadata": {},
     "output_type": "execute_result"
    }
   ],
   "source": [
    "p_value"
   ]
  },
  {
   "cell_type": "code",
   "execution_count": 17,
   "id": "1f6412e8-351f-4d20-bef2-95a8ad6a9b10",
   "metadata": {},
   "outputs": [
    {
     "data": {
      "text/plain": [
       "array([0.39515539, 0.39515539, 0.29719483, 0.49263588, 0.39515539,\n",
       "       0.68628897, 0.39515539, 0.49263588, 0.39515539, 0.49263588,\n",
       "       0.49263588, 0.58967049, 0.39515539, 0.09966806, 0.19871456,\n",
       "       0.49263588, 0.29719483, 0.39515539, 0.68628897, 0.49263588,\n",
       "       0.68628897, 0.49263588, 0.        , 0.68628897, 0.87837911,\n",
       "       0.58967049, 0.58967049, 0.49263588, 0.39515539, 0.58967049,\n",
       "       0.58967049, 0.49263588, 0.49263588, 0.39515539, 0.49263588,\n",
       "       0.19871456, 0.29719483, 0.39515539, 0.29719483, 0.49263588,\n",
       "       0.29719483, 0.29719483, 0.29719483, 0.58967049, 0.87837911,\n",
       "       0.39515539, 0.58967049, 0.39515539, 0.49263588, 0.39515539,\n",
       "       3.46387186, 3.28378156, 3.64343615, 2.83108425, 3.37389397,\n",
       "       3.28378156, 3.46387186, 2.19060004, 3.37389397, 2.74009188,\n",
       "       2.3744711 , 3.01260446, 2.83108425, 3.46387186, 2.46613355,\n",
       "       3.19353143, 3.28378156, 2.92192042, 3.28378156, 2.74009188,\n",
       "       3.55371827, 2.83108425, 3.64343615, 3.46387186, 3.10314024,\n",
       "       3.19353143, 3.55371827, 3.73302829, 3.28378156, 2.3744711 ,\n",
       "       2.64893903, 2.55762118, 2.74009188, 3.82249738, 3.28378156,\n",
       "       3.28378156, 3.46387186, 3.19353143, 2.92192042, 2.83108425,\n",
       "       3.19353143, 3.37389397, 2.83108425, 2.19060004, 3.01260446,\n",
       "       3.01260446, 3.01260446, 3.10314024, 1.91333743, 2.92192042,\n",
       "       4.62257577, 3.82249738, 4.53410933, 4.26808376, 4.4455398 ,\n",
       "       5.15130785, 3.28378156, 4.88737451, 4.4455398 , 4.71094093,\n",
       "       3.82249738, 4.0010766 , 4.17919325, 3.73302829, 3.82249738,\n",
       "       4.0010766 , 4.17919325, 5.23910069, 5.4144178 , 3.73302829,\n",
       "       4.35686527, 3.64343615, 5.23910069, 3.64343615, 4.35686527,\n",
       "       4.62257577, 3.55371827, 3.64343615, 4.26808376, 4.4455398 ,\n",
       "       4.71094093, 4.97544628, 4.26808376, 3.82249738, 4.26808376,\n",
       "       4.71094093, 4.26808376, 4.17919325, 3.55371827, 4.09019159,\n",
       "       4.26808376, 3.82249738, 3.82249738, 4.53410933, 4.35686527,\n",
       "       3.91184599, 3.73302829, 3.91184599, 4.09019159, 3.82249738])"
      ]
     },
     "execution_count": 17,
     "metadata": {},
     "output_type": "execute_result"
    }
   ],
   "source": [
    "transform_data,alpha=stats.boxcox(data)\n",
    "transform_data"
   ]
  },
  {
   "cell_type": "code",
   "execution_count": 18,
   "id": "f3e3c724-8af3-4fd5-9b98-837383f04f99",
   "metadata": {},
   "outputs": [
    {
     "data": {
      "text/plain": [
       "np.float64(0.9312837951447049)"
      ]
     },
     "execution_count": 18,
     "metadata": {},
     "output_type": "execute_result"
    }
   ],
   "source": [
    "alpha"
   ]
  },
  {
   "cell_type": "code",
   "execution_count": 19,
   "id": "2e9f490d-2c73-4b23-b9f2-2fcea29d3843",
   "metadata": {},
   "outputs": [
    {
     "data": {
      "text/plain": [
       "((array([-2.60376328, -2.283875  , -2.1005573 , -1.96875864, -1.86428437,\n",
       "         -1.77691182, -1.70131573, -1.63435332, -1.57400778, -1.51890417,\n",
       "         -1.46806125, -1.42075308, -1.37642684, -1.33465133, -1.29508341,\n",
       "         -1.25744533, -1.22150891, -1.18708433, -1.15401181, -1.12215558,\n",
       "         -1.0913992 , -1.06164202, -1.03279638, -1.00478546, -0.97754152,\n",
       "         -0.95100448, -0.92512081, -0.89984257, -0.87512664, -0.85093408,\n",
       "         -0.8272296 , -0.80398107, -0.78115919, -0.75873709, -0.73669013,\n",
       "         -0.71499557, -0.69363244, -0.67258128, -0.65182406, -0.63134396,\n",
       "         -0.61112532, -0.59115349, -0.57141472, -0.55189613, -0.53258558,\n",
       "         -0.51347162, -0.49454346, -0.47579085, -0.45720409, -0.43877397,\n",
       "         -0.4204917 , -0.40234892, -0.38433762, -0.36645016, -0.3486792 ,\n",
       "         -0.33101768, -0.31345882, -0.29599609, -0.27862316, -0.26133393,\n",
       "         -0.24412247, -0.22698303, -0.20991002, -0.19289797, -0.17594158,\n",
       "         -0.15903562, -0.142175  , -0.12535471, -0.10856981, -0.09181544,\n",
       "         -0.07508681, -0.05837916, -0.0416878 , -0.02500804, -0.00833524,\n",
       "          0.00833524,  0.02500804,  0.0416878 ,  0.05837916,  0.07508681,\n",
       "          0.09181544,  0.10856981,  0.12535471,  0.142175  ,  0.15903562,\n",
       "          0.17594158,  0.19289797,  0.20991002,  0.22698303,  0.24412247,\n",
       "          0.26133393,  0.27862316,  0.29599609,  0.31345882,  0.33101768,\n",
       "          0.3486792 ,  0.36645016,  0.38433762,  0.40234892,  0.4204917 ,\n",
       "          0.43877397,  0.45720409,  0.47579085,  0.49454346,  0.51347162,\n",
       "          0.53258558,  0.55189613,  0.57141472,  0.59115349,  0.61112532,\n",
       "          0.63134396,  0.65182406,  0.67258128,  0.69363244,  0.71499557,\n",
       "          0.73669013,  0.75873709,  0.78115919,  0.80398107,  0.8272296 ,\n",
       "          0.85093408,  0.87512664,  0.89984257,  0.92512081,  0.95100448,\n",
       "          0.97754152,  1.00478546,  1.03279638,  1.06164202,  1.0913992 ,\n",
       "          1.12215558,  1.15401181,  1.18708433,  1.22150891,  1.25744533,\n",
       "          1.29508341,  1.33465133,  1.37642684,  1.42075308,  1.46806125,\n",
       "          1.51890417,  1.57400778,  1.63435332,  1.70131573,  1.77691182,\n",
       "          1.86428437,  1.96875864,  2.1005573 ,  2.283875  ,  2.60376328]),\n",
       "  array([0.        , 0.09966806, 0.19871456, 0.19871456, 0.29719483,\n",
       "         0.29719483, 0.29719483, 0.29719483, 0.29719483, 0.29719483,\n",
       "         0.29719483, 0.39515539, 0.39515539, 0.39515539, 0.39515539,\n",
       "         0.39515539, 0.39515539, 0.39515539, 0.39515539, 0.39515539,\n",
       "         0.39515539, 0.39515539, 0.39515539, 0.39515539, 0.49263588,\n",
       "         0.49263588, 0.49263588, 0.49263588, 0.49263588, 0.49263588,\n",
       "         0.49263588, 0.49263588, 0.49263588, 0.49263588, 0.49263588,\n",
       "         0.49263588, 0.49263588, 0.58967049, 0.58967049, 0.58967049,\n",
       "         0.58967049, 0.58967049, 0.58967049, 0.58967049, 0.68628897,\n",
       "         0.68628897, 0.68628897, 0.68628897, 0.87837911, 0.87837911,\n",
       "         1.91333743, 2.19060004, 2.19060004, 2.3744711 , 2.3744711 ,\n",
       "         2.46613355, 2.55762118, 2.64893903, 2.74009188, 2.74009188,\n",
       "         2.74009188, 2.83108425, 2.83108425, 2.83108425, 2.83108425,\n",
       "         2.83108425, 2.92192042, 2.92192042, 2.92192042, 3.01260446,\n",
       "         3.01260446, 3.01260446, 3.01260446, 3.10314024, 3.10314024,\n",
       "         3.19353143, 3.19353143, 3.19353143, 3.19353143, 3.28378156,\n",
       "         3.28378156, 3.28378156, 3.28378156, 3.28378156, 3.28378156,\n",
       "         3.28378156, 3.28378156, 3.37389397, 3.37389397, 3.37389397,\n",
       "         3.46387186, 3.46387186, 3.46387186, 3.46387186, 3.46387186,\n",
       "         3.55371827, 3.55371827, 3.55371827, 3.55371827, 3.64343615,\n",
       "         3.64343615, 3.64343615, 3.64343615, 3.64343615, 3.73302829,\n",
       "         3.73302829, 3.73302829, 3.73302829, 3.82249738, 3.82249738,\n",
       "         3.82249738, 3.82249738, 3.82249738, 3.82249738, 3.82249738,\n",
       "         3.82249738, 3.91184599, 3.91184599, 4.0010766 , 4.0010766 ,\n",
       "         4.09019159, 4.09019159, 4.17919325, 4.17919325, 4.17919325,\n",
       "         4.26808376, 4.26808376, 4.26808376, 4.26808376, 4.26808376,\n",
       "         4.26808376, 4.35686527, 4.35686527, 4.35686527, 4.4455398 ,\n",
       "         4.4455398 , 4.4455398 , 4.53410933, 4.53410933, 4.62257577,\n",
       "         4.62257577, 4.71094093, 4.71094093, 4.71094093, 4.88737451,\n",
       "         4.97544628, 5.15130785, 5.23910069, 5.23910069, 5.4144178 ])),\n",
       " (np.float64(1.5430898421501418),\n",
       "  np.float64(2.581364781793216),\n",
       "  np.float64(0.9376658707759856)))"
      ]
     },
     "execution_count": 19,
     "metadata": {},
     "output_type": "execute_result"
    },
    {
     "data": {
      "image/png": "[encoded data removed]",
      "text/plain": [
       "<Figure size 640x480 with 1 Axes>"
      ]
     },
     "metadata": {},
     "output_type": "display_data"
    }
   ],
   "source": [
    "stats.probplot(transform_data,dist='norm',plot=plt)"
   ]
  },
  {
   "cell_type": "markdown",
   "id": "f328ed8c-b379-4536-9fc1-2b6a8ee09115",
   "metadata": {},
   "source": [
    " - 30/05/2025"
   ]
  },
  {
   "cell_type": "markdown",
   "id": "e2c56768-de90-4368-8a4d-658c6125fb66",
   "metadata": {},
   "source": [
    " # @ Chi Square Test "
   ]
  },
  {
   "cell_type": "markdown",
   "id": "b131f597-0875-4b83-94d5-f49e80100283",
   "metadata": {},
   "source": [
    "- It is hypothesis test particularly used for the categorical variable.\n",
    "- We don't required any distribution parameters\n",
    "- Categorical variable:nominal or ordinal\n",
    "    - Nominal data : dont have any order-->gender\n",
    "    - Ordinal data : we have order---->ex:days\n",
    "# Task :\n",
    "       - To check the two categorical variable are having the relation or not\n",
    "       - Terminologies:\n",
    "       1. Chi-saquare value\n",
    "       2. Observed data \n",
    "       3. Expected data\n",
    "       4. p_value\n",
    "       5. Degree of freedom\n",
    "       \n",
    "- ex :\n",
    "     - Is there any relationship between the Gender and movie type?\n",
    "     - gender : Male/Female\n",
    "     - movie type: horror  action  comedy  love stories\n",
    "\n",
    "1. data--->sample=100\n",
    "- horror action comedy lovestories\n",
    "  \n",
    "             horror     action    comedy  lovestories\n",
    "-  male       10          15         10      15\n",
    "- female      5           10         10      25\n",
    "  \n",
    "2. hypothesis :\n",
    "- H0 : there is no relationship between these two columns\n",
    "- H1 : there is a relationship between these two columns\n",
    "\n",
    "- observed data\n",
    "\n",
    "           horror     action    comedy  lovestories\n",
    "- male       10          15         10      15-------->50\n",
    "- female      5           10         10      25-------->50\n",
    "- total       15          25         20      40-------->100\n",
    "\n",
    "3. Expected value=(row_value)*(Column_value)/100\n",
    "\n",
    "            horror         action       comedy   lS\n",
    "- male    10 * 15/100      15 * 25/100\n",
    "\n",
    "4. chi-squar =  summation(expected value-observed value)^2/E\n",
    "\n",
    "   chi-square_value\n",
    "   \n",
    "5. degree of freedom\n",
    "\n",
    "\n",
    "  dof= no of categorical variable-1\n",
    "  dof=2-1=1\n",
    "\n",
    "6. dof and significance level alpha=0.05\n",
    "            7.879\n",
    "7. - chi-square>7.879---->H0 is accepted\n",
    "   - chi-square<7.879----->H0 is rejected\n",
    "                 \n",
    "\n",
    "- titanic dataset:survived or not survived\n",
    "- survived and Pclass--->\n",
    "- titanic dataset:\n",
    " \n",
    "# task :\n",
    "  Is there any relationship between the survived and Pclass columns\n",
    "\n",
    "- dataset : survived column and pclass\n",
    "\n",
    "- survived and class1\n",
    "- survived and class2\n",
    "- survived and class3\n",
    "\n",
    "- not survived and class1\n",
    "- not survived and class2\n",
    "- not survived and class3\n",
    " \n"
   ]
  },
  {
   "cell_type": "code",
   "execution_count": 20,
   "id": "2fdeba1c-4067-46e4-a115-02bcfede0cda",
   "metadata": {},
   "outputs": [],
   "source": [
    "import numpy as np\n",
    "import pandas as pd\n",
    "import matplotlib.pyplot as plt\n",
    "import seaborn as sns\n",
    "#import scipy.stats as stats\n",
    "from scipy import stats"
   ]
  },
  {
   "cell_type": "code",
   "execution_count": 21,
   "id": "7c92fba6-cd1a-4e63-bdf5-e60de0934b3d",
   "metadata": {},
   "outputs": [
    {
     "data": {
      "text/html": [
       "<div>\n",
       "<style scoped>\n",
       "    .dataframe tbody tr th:only-of-type {\n",
       "        vertical-align: middle;\n",
       "    }\n",
       "\n",
       "    .dataframe tbody tr th {\n",
       "        vertical-align: top;\n",
       "    }\n",
       "\n",
       "    .dataframe thead th {\n",
       "        text-align: right;\n",
       "    }\n",
       "</style>\n",
       "<table border=\"1\" class=\"dataframe\">\n",
       "  <thead>\n",
       "    <tr style=\"text-align: right;\">\n",
       "      <th></th>\n",
       "      <th>PassengerId</th>\n",
       "      <th>Survived</th>\n",
       "      <th>Pclass</th>\n",
       "      <th>Name</th>\n",
       "      <th>Sex</th>\n",
       "      <th>Age</th>\n",
       "      <th>SibSp</th>\n",
       "      <th>Parch</th>\n",
       "      <th>Ticket</th>\n",
       "      <th>Fare</th>\n",
       "      <th>Cabin</th>\n",
       "      <th>Embarked</th>\n",
       "    </tr>\n",
       "  </thead>\n",
       "  <tbody>\n",
       "    <tr>\n",
       "      <th>0</th>\n",
       "      <td>1</td>\n",
       "      <td>0</td>\n",
       "      <td>3</td>\n",
       "      <td>Braund, Mr. Owen Harris</td>\n",
       "      <td>male</td>\n",
       "      <td>22.0</td>\n",
       "      <td>1</td>\n",
       "      <td>0</td>\n",
       "      <td>A/5 21171</td>\n",
       "      <td>7.2500</td>\n",
       "      <td>NaN</td>\n",
       "      <td>S</td>\n",
       "    </tr>\n",
       "    <tr>\n",
       "      <th>1</th>\n",
       "      <td>2</td>\n",
       "      <td>1</td>\n",
       "      <td>1</td>\n",
       "      <td>Cumings, Mrs. John Bradley (Florence Briggs Th...</td>\n",
       "      <td>female</td>\n",
       "      <td>38.0</td>\n",
       "      <td>1</td>\n",
       "      <td>0</td>\n",
       "      <td>PC 17599</td>\n",
       "      <td>71.2833</td>\n",
       "      <td>C85</td>\n",
       "      <td>C</td>\n",
       "    </tr>\n",
       "    <tr>\n",
       "      <th>2</th>\n",
       "      <td>3</td>\n",
       "      <td>1</td>\n",
       "      <td>3</td>\n",
       "      <td>Heikkinen, Miss. Laina</td>\n",
       "      <td>female</td>\n",
       "      <td>26.0</td>\n",
       "      <td>0</td>\n",
       "      <td>0</td>\n",
       "      <td>STON/O2. 3101282</td>\n",
       "      <td>7.9250</td>\n",
       "      <td>NaN</td>\n",
       "      <td>S</td>\n",
       "    </tr>\n",
       "    <tr>\n",
       "      <th>3</th>\n",
       "      <td>4</td>\n",
       "      <td>1</td>\n",
       "      <td>1</td>\n",
       "      <td>Futrelle, Mrs. Jacques Heath (Lily May Peel)</td>\n",
       "      <td>female</td>\n",
       "      <td>35.0</td>\n",
       "      <td>1</td>\n",
       "      <td>0</td>\n",
       "      <td>113803</td>\n",
       "      <td>53.1000</td>\n",
       "      <td>C123</td>\n",
       "      <td>S</td>\n",
       "    </tr>\n",
       "    <tr>\n",
       "      <th>4</th>\n",
       "      <td>5</td>\n",
       "      <td>0</td>\n",
       "      <td>3</td>\n",
       "      <td>Allen, Mr. William Henry</td>\n",
       "      <td>male</td>\n",
       "      <td>35.0</td>\n",
       "      <td>0</td>\n",
       "      <td>0</td>\n",
       "      <td>373450</td>\n",
       "      <td>8.0500</td>\n",
       "      <td>NaN</td>\n",
       "      <td>S</td>\n",
       "    </tr>\n",
       "    <tr>\n",
       "      <th>...</th>\n",
       "      <td>...</td>\n",
       "      <td>...</td>\n",
       "      <td>...</td>\n",
       "      <td>...</td>\n",
       "      <td>...</td>\n",
       "      <td>...</td>\n",
       "      <td>...</td>\n",
       "      <td>...</td>\n",
       "      <td>...</td>\n",
       "      <td>...</td>\n",
       "      <td>...</td>\n",
       "      <td>...</td>\n",
       "    </tr>\n",
       "    <tr>\n",
       "      <th>886</th>\n",
       "      <td>887</td>\n",
       "      <td>0</td>\n",
       "      <td>2</td>\n",
       "      <td>Montvila, Rev. Juozas</td>\n",
       "      <td>male</td>\n",
       "      <td>27.0</td>\n",
       "      <td>0</td>\n",
       "      <td>0</td>\n",
       "      <td>211536</td>\n",
       "      <td>13.0000</td>\n",
       "      <td>NaN</td>\n",
       "      <td>S</td>\n",
       "    </tr>\n",
       "    <tr>\n",
       "      <th>887</th>\n",
       "      <td>888</td>\n",
       "      <td>1</td>\n",
       "      <td>1</td>\n",
       "      <td>Graham, Miss. Margaret Edith</td>\n",
       "      <td>female</td>\n",
       "      <td>19.0</td>\n",
       "      <td>0</td>\n",
       "      <td>0</td>\n",
       "      <td>112053</td>\n",
       "      <td>30.0000</td>\n",
       "      <td>B42</td>\n",
       "      <td>S</td>\n",
       "    </tr>\n",
       "    <tr>\n",
       "      <th>888</th>\n",
       "      <td>889</td>\n",
       "      <td>0</td>\n",
       "      <td>3</td>\n",
       "      <td>Johnston, Miss. Catherine Helen \"Carrie\"</td>\n",
       "      <td>female</td>\n",
       "      <td>NaN</td>\n",
       "      <td>1</td>\n",
       "      <td>2</td>\n",
       "      <td>W./C. 6607</td>\n",
       "      <td>23.4500</td>\n",
       "      <td>NaN</td>\n",
       "      <td>S</td>\n",
       "    </tr>\n",
       "    <tr>\n",
       "      <th>889</th>\n",
       "      <td>890</td>\n",
       "      <td>1</td>\n",
       "      <td>1</td>\n",
       "      <td>Behr, Mr. Karl Howell</td>\n",
       "      <td>male</td>\n",
       "      <td>26.0</td>\n",
       "      <td>0</td>\n",
       "      <td>0</td>\n",
       "      <td>111369</td>\n",
       "      <td>30.0000</td>\n",
       "      <td>C148</td>\n",
       "      <td>C</td>\n",
       "    </tr>\n",
       "    <tr>\n",
       "      <th>890</th>\n",
       "      <td>891</td>\n",
       "      <td>0</td>\n",
       "      <td>3</td>\n",
       "      <td>Dooley, Mr. Patrick</td>\n",
       "      <td>male</td>\n",
       "      <td>32.0</td>\n",
       "      <td>0</td>\n",
       "      <td>0</td>\n",
       "      <td>370376</td>\n",
       "      <td>7.7500</td>\n",
       "      <td>NaN</td>\n",
       "      <td>Q</td>\n",
       "    </tr>\n",
       "  </tbody>\n",
       "</table>\n",
       "<p>891 rows × 12 columns</p>\n",
       "</div>"
      ],
      "text/plain": [
       "     PassengerId  Survived  Pclass  \\\n",
       "0              1         0       3   \n",
       "1              2         1       1   \n",
       "2              3         1       3   \n",
       "3              4         1       1   \n",
       "4              5         0       3   \n",
       "..           ...       ...     ...   \n",
       "886          887         0       2   \n",
       "887          888         1       1   \n",
       "888          889         0       3   \n",
       "889          890         1       1   \n",
       "890          891         0       3   \n",
       "\n",
       "                                                  Name     Sex   Age  SibSp  \\\n",
       "0                              Braund, Mr. Owen Harris    male  22.0      1   \n",
       "1    Cumings, Mrs. John Bradley (Florence Briggs Th...  female  38.0      1   \n",
       "2                               Heikkinen, Miss. Laina  female  26.0      0   \n",
       "3         Futrelle, Mrs. Jacques Heath (Lily May Peel)  female  35.0      1   \n",
       "4                             Allen, Mr. William Henry    male  35.0      0   \n",
       "..                                                 ...     ...   ...    ...   \n",
       "886                              Montvila, Rev. Juozas    male  27.0      0   \n",
       "887                       Graham, Miss. Margaret Edith  female  19.0      0   \n",
       "888           Johnston, Miss. Catherine Helen \"Carrie\"  female   NaN      1   \n",
       "889                              Behr, Mr. Karl Howell    male  26.0      0   \n",
       "890                                Dooley, Mr. Patrick    male  32.0      0   \n",
       "\n",
       "     Parch            Ticket     Fare Cabin Embarked  \n",
       "0        0         A/5 21171   7.2500   NaN        S  \n",
       "1        0          PC 17599  71.2833   C85        C  \n",
       "2        0  STON/O2. 3101282   7.9250   NaN        S  \n",
       "3        0            113803  53.1000  C123        S  \n",
       "4        0            373450   8.0500   NaN        S  \n",
       "..     ...               ...      ...   ...      ...  \n",
       "886      0            211536  13.0000   NaN        S  \n",
       "887      0            112053  30.0000   B42        S  \n",
       "888      2        W./C. 6607  23.4500   NaN        S  \n",
       "889      0            111369  30.0000  C148        C  \n",
       "890      0            370376   7.7500   NaN        Q  \n",
       "\n",
       "[891 rows x 12 columns]"
      ]
     },
     "execution_count": 21,
     "metadata": {},
     "output_type": "execute_result"
    }
   ],
   "source": [
    "df=pd.read_csv(\"D:\\\\Download\\\\train.csv\")\n",
    "df"
   ]
  },
  {
   "cell_type": "code",
   "execution_count": 18,
   "id": "c889a9da-0f6a-496b-a119-048b41a7e7e1",
   "metadata": {},
   "outputs": [
    {
     "data": {
      "text/plain": [
       "0      0\n",
       "1      1\n",
       "2      1\n",
       "3      1\n",
       "4      0\n",
       "      ..\n",
       "886    0\n",
       "887    1\n",
       "888    0\n",
       "889    1\n",
       "890    0\n",
       "Name: Survived, Length: 891, dtype: int64"
      ]
     },
     "execution_count": 18,
     "metadata": {},
     "output_type": "execute_result"
    }
   ],
   "source": [
    "df ['Survived']"
   ]
  },
  {
   "cell_type": "code",
   "execution_count": 22,
   "id": "eaa9a690-9c40-4645-a725-0cc9a55317a2",
   "metadata": {},
   "outputs": [
    {
     "data": {
      "text/plain": [
       "np.int64(0)"
      ]
     },
     "execution_count": 22,
     "metadata": {},
     "output_type": "execute_result"
    }
   ],
   "source": [
    "df['Pclass'].isnull().sum()"
   ]
  },
  {
   "cell_type": "code",
   "execution_count": 16,
   "id": "de26e27f-3000-4dec-bc65-aa53fc41324b",
   "metadata": {},
   "outputs": [
    {
     "data": {
      "text/plain": [
       "Survived\n",
       "0    549\n",
       "1    342\n",
       "Name: count, dtype: int64"
      ]
     },
     "execution_count": 16,
     "metadata": {},
     "output_type": "execute_result"
    }
   ],
   "source": [
    "df ['Survived'].value_counts()"
   ]
  },
  {
   "cell_type": "code",
   "execution_count": 23,
   "id": "fc741ff9-9f4b-4e82-a166-2aa16736d2ec",
   "metadata": {},
   "outputs": [
    {
     "data": {
      "text/plain": [
       "np.int64(0)"
      ]
     },
     "execution_count": 23,
     "metadata": {},
     "output_type": "execute_result"
    }
   ],
   "source": [
    "df['Pclass'].isnull().sum()"
   ]
  },
  {
   "cell_type": "code",
   "execution_count": 24,
   "id": "1f174b8c-4900-46aa-8617-3387d06eb703",
   "metadata": {},
   "outputs": [
    {
     "data": {
      "text/plain": [
       "Pclass\n",
       "3    491\n",
       "1    216\n",
       "2    184\n",
       "Name: count, dtype: int64"
      ]
     },
     "execution_count": 24,
     "metadata": {},
     "output_type": "execute_result"
    }
   ],
   "source": [
    "df['Pclass'].value_counts()"
   ]
  },
  {
   "cell_type": "code",
   "execution_count": 25,
   "id": "4fb11120-9f3b-4128-a8f9-ad57e921cc68",
   "metadata": {},
   "outputs": [],
   "source": [
    "Survived0=[\n",
    "    len(df[(df[\"Survived\"]==1) & (df[\"Pclass\"]==1)]),\n",
    "    len(df[(df[\"Survived\"]==1) & (df[\"Pclass\"]==2)]),\n",
    "    len(df[(df[\"Survived\"]==1) & (df[\"Pclass\"]==3)])\n",
    "]"
   ]
  },
  {
   "cell_type": "code",
   "execution_count": 26,
   "id": "01eb93ec-377e-4d81-af26-845bfa93817b",
   "metadata": {},
   "outputs": [],
   "source": [
    "Survived1=[\n",
    "    len(df[(df[\"Survived\"]==1) & (df[\"Pclass\"]==1)]),\n",
    "    len(df[(df[\"Survived\"]==1) & (df[\"Pclass\"]==2)]),\n",
    "    len(df[(df[\"Survived\"]==1) & (df[\"Pclass\"]==3)])\n",
    "]"
   ]
  },
  {
   "cell_type": "code",
   "execution_count": 27,
   "id": "45d9458b-038a-4969-960f-016d0997ac49",
   "metadata": {},
   "outputs": [
    {
     "data": {
      "text/plain": [
       "array([[136,  87, 119],\n",
       "       [136,  87, 119]])"
      ]
     },
     "execution_count": 27,
     "metadata": {},
     "output_type": "execute_result"
    }
   ],
   "source": [
    "observed=np.array([Survived0,Survived1])\n",
    "observed"
   ]
  },
  {
   "cell_type": "code",
   "execution_count": 30,
   "id": "832fab4d-cc17-4efc-a7d1-cec693075ad9",
   "metadata": {},
   "outputs": [],
   "source": [
    "from scipy.stats import chi2_contingency"
   ]
  },
  {
   "cell_type": "code",
   "execution_count": 33,
   "id": "a2bd871b-4fb6-4468-8ed0-98b47c23f55a",
   "metadata": {},
   "outputs": [
    {
     "data": {
      "text/plain": [
       "np.float64(1.0)"
      ]
     },
     "execution_count": 33,
     "metadata": {},
     "output_type": "execute_result"
    }
   ],
   "source": [
    "# H0 is rejected \n",
    "chi,p_value,dof,expected=chi2_contingency(observed)\n",
    "p_value"
   ]
  },
  {
   "cell_type": "markdown",
   "id": "c16870ed-7162-481c-a00a-eb57b7302d4a",
   "metadata": {},
   "source": [
    "- 31/05/2025"
   ]
  },
  {
   "cell_type": "code",
   "execution_count": 34,
   "id": "fd8b31fa-ace2-4229-b30c-19324a052ee1",
   "metadata": {},
   "outputs": [],
   "source": [
    "import numpy as np\n",
    "import pandas as pd\n",
    "import matplotlib.pyplot as plt\n",
    "import seaborn as sns\n",
    "#import scipy.stats as stats\n",
    "from scipy import stats"
   ]
  },
  {
   "cell_type": "code",
   "execution_count": 35,
   "id": "4dc34f90-492b-4e54-b541-df9545683e4e",
   "metadata": {},
   "outputs": [
    {
     "data": {
      "text/html": [
       "<div>\n",
       "<style scoped>\n",
       "    .dataframe tbody tr th:only-of-type {\n",
       "        vertical-align: middle;\n",
       "    }\n",
       "\n",
       "    .dataframe tbody tr th {\n",
       "        vertical-align: top;\n",
       "    }\n",
       "\n",
       "    .dataframe thead th {\n",
       "        text-align: right;\n",
       "    }\n",
       "</style>\n",
       "<table border=\"1\" class=\"dataframe\">\n",
       "  <thead>\n",
       "    <tr style=\"text-align: right;\">\n",
       "      <th></th>\n",
       "      <th>Customer</th>\n",
       "      <th>State</th>\n",
       "      <th>CLV</th>\n",
       "      <th>Coverage</th>\n",
       "      <th>Income</th>\n",
       "      <th>loc_type</th>\n",
       "      <th>monthly_premium</th>\n",
       "      <th>months_last_claim</th>\n",
       "      <th>Months_Since_Policy_Inception</th>\n",
       "      <th>Total_Claim_Amount</th>\n",
       "      <th>Vehicle_Class</th>\n",
       "      <th>avg_vehicle_age</th>\n",
       "    </tr>\n",
       "  </thead>\n",
       "  <tbody>\n",
       "    <tr>\n",
       "      <th>0</th>\n",
       "      <td>BU79786</td>\n",
       "      <td>Washington</td>\n",
       "      <td>2763.519279</td>\n",
       "      <td>Basic</td>\n",
       "      <td>56274</td>\n",
       "      <td>Suburban</td>\n",
       "      <td>69</td>\n",
       "      <td>32</td>\n",
       "      <td>5</td>\n",
       "      <td>384.811147</td>\n",
       "      <td>Two-Door Car</td>\n",
       "      <td>40.696695</td>\n",
       "    </tr>\n",
       "    <tr>\n",
       "      <th>1</th>\n",
       "      <td>AI49188</td>\n",
       "      <td>Nevada</td>\n",
       "      <td>12887.431650</td>\n",
       "      <td>Premium</td>\n",
       "      <td>48767</td>\n",
       "      <td>Suburban</td>\n",
       "      <td>108</td>\n",
       "      <td>18</td>\n",
       "      <td>38</td>\n",
       "      <td>566.472247</td>\n",
       "      <td>Two-Door Car</td>\n",
       "      <td>48.755298</td>\n",
       "    </tr>\n",
       "    <tr>\n",
       "      <th>2</th>\n",
       "      <td>HB64268</td>\n",
       "      <td>Washington</td>\n",
       "      <td>2813.692575</td>\n",
       "      <td>Basic</td>\n",
       "      <td>43836</td>\n",
       "      <td>Rural</td>\n",
       "      <td>73</td>\n",
       "      <td>12</td>\n",
       "      <td>44</td>\n",
       "      <td>138.130879</td>\n",
       "      <td>Four-Door Car</td>\n",
       "      <td>70.394474</td>\n",
       "    </tr>\n",
       "    <tr>\n",
       "      <th>3</th>\n",
       "      <td>OC83172</td>\n",
       "      <td>Oregon</td>\n",
       "      <td>8256.297800</td>\n",
       "      <td>Basic</td>\n",
       "      <td>62902</td>\n",
       "      <td>Rural</td>\n",
       "      <td>69</td>\n",
       "      <td>14</td>\n",
       "      <td>94</td>\n",
       "      <td>159.383042</td>\n",
       "      <td>Two-Door Car</td>\n",
       "      <td>53.460212</td>\n",
       "    </tr>\n",
       "    <tr>\n",
       "      <th>4</th>\n",
       "      <td>XZ87318</td>\n",
       "      <td>Oregon</td>\n",
       "      <td>5380.898636</td>\n",
       "      <td>Basic</td>\n",
       "      <td>55350</td>\n",
       "      <td>Suburban</td>\n",
       "      <td>67</td>\n",
       "      <td>0</td>\n",
       "      <td>13</td>\n",
       "      <td>321.600000</td>\n",
       "      <td>Four-Door Car</td>\n",
       "      <td>32.811507</td>\n",
       "    </tr>\n",
       "    <tr>\n",
       "      <th>...</th>\n",
       "      <td>...</td>\n",
       "      <td>...</td>\n",
       "      <td>...</td>\n",
       "      <td>...</td>\n",
       "      <td>...</td>\n",
       "      <td>...</td>\n",
       "      <td>...</td>\n",
       "      <td>...</td>\n",
       "      <td>...</td>\n",
       "      <td>...</td>\n",
       "      <td>...</td>\n",
       "      <td>...</td>\n",
       "    </tr>\n",
       "    <tr>\n",
       "      <th>6812</th>\n",
       "      <td>TF56202</td>\n",
       "      <td>California</td>\n",
       "      <td>5032.165498</td>\n",
       "      <td>Basic</td>\n",
       "      <td>66367</td>\n",
       "      <td>Suburban</td>\n",
       "      <td>64</td>\n",
       "      <td>6</td>\n",
       "      <td>48</td>\n",
       "      <td>307.200000</td>\n",
       "      <td>Two-Door Car</td>\n",
       "      <td>37.492591</td>\n",
       "    </tr>\n",
       "    <tr>\n",
       "      <th>6813</th>\n",
       "      <td>YM19146</td>\n",
       "      <td>California</td>\n",
       "      <td>4100.398533</td>\n",
       "      <td>Premium</td>\n",
       "      <td>47761</td>\n",
       "      <td>Suburban</td>\n",
       "      <td>104</td>\n",
       "      <td>16</td>\n",
       "      <td>58</td>\n",
       "      <td>541.282007</td>\n",
       "      <td>Four-Door Car</td>\n",
       "      <td>48.946675</td>\n",
       "    </tr>\n",
       "    <tr>\n",
       "      <th>6814</th>\n",
       "      <td>LA72316</td>\n",
       "      <td>California</td>\n",
       "      <td>23405.987980</td>\n",
       "      <td>Basic</td>\n",
       "      <td>71941</td>\n",
       "      <td>Urban</td>\n",
       "      <td>73</td>\n",
       "      <td>18</td>\n",
       "      <td>89</td>\n",
       "      <td>198.234764</td>\n",
       "      <td>Four-Door Car</td>\n",
       "      <td>65.310053</td>\n",
       "    </tr>\n",
       "    <tr>\n",
       "      <th>6815</th>\n",
       "      <td>PK87824</td>\n",
       "      <td>California</td>\n",
       "      <td>3096.511217</td>\n",
       "      <td>Extended</td>\n",
       "      <td>21604</td>\n",
       "      <td>Suburban</td>\n",
       "      <td>79</td>\n",
       "      <td>14</td>\n",
       "      <td>28</td>\n",
       "      <td>379.200000</td>\n",
       "      <td>Four-Door Car</td>\n",
       "      <td>48.002914</td>\n",
       "    </tr>\n",
       "    <tr>\n",
       "      <th>6816</th>\n",
       "      <td>UP19263</td>\n",
       "      <td>California</td>\n",
       "      <td>7524.442436</td>\n",
       "      <td>Extended</td>\n",
       "      <td>21941</td>\n",
       "      <td>Suburban</td>\n",
       "      <td>96</td>\n",
       "      <td>34</td>\n",
       "      <td>3</td>\n",
       "      <td>691.200000</td>\n",
       "      <td>Four-Door Car</td>\n",
       "      <td>45.151858</td>\n",
       "    </tr>\n",
       "  </tbody>\n",
       "</table>\n",
       "<p>6817 rows × 12 columns</p>\n",
       "</div>"
      ],
      "text/plain": [
       "     Customer       State           CLV  Coverage  Income  loc_type  \\\n",
       "0     BU79786  Washington   2763.519279     Basic   56274  Suburban   \n",
       "1     AI49188      Nevada  12887.431650   Premium   48767  Suburban   \n",
       "2     HB64268  Washington   2813.692575     Basic   43836     Rural   \n",
       "3     OC83172      Oregon   8256.297800     Basic   62902     Rural   \n",
       "4     XZ87318      Oregon   5380.898636     Basic   55350  Suburban   \n",
       "...       ...         ...           ...       ...     ...       ...   \n",
       "6812  TF56202  California   5032.165498     Basic   66367  Suburban   \n",
       "6813  YM19146  California   4100.398533   Premium   47761  Suburban   \n",
       "6814  LA72316  California  23405.987980     Basic   71941     Urban   \n",
       "6815  PK87824  California   3096.511217  Extended   21604  Suburban   \n",
       "6816  UP19263  California   7524.442436  Extended   21941  Suburban   \n",
       "\n",
       "      monthly_premium  months_last_claim  Months_Since_Policy_Inception  \\\n",
       "0                  69                 32                              5   \n",
       "1                 108                 18                             38   \n",
       "2                  73                 12                             44   \n",
       "3                  69                 14                             94   \n",
       "4                  67                  0                             13   \n",
       "...               ...                ...                            ...   \n",
       "6812               64                  6                             48   \n",
       "6813              104                 16                             58   \n",
       "6814               73                 18                             89   \n",
       "6815               79                 14                             28   \n",
       "6816               96                 34                              3   \n",
       "\n",
       "      Total_Claim_Amount  Vehicle_Class  avg_vehicle_age  \n",
       "0             384.811147   Two-Door Car        40.696695  \n",
       "1             566.472247   Two-Door Car        48.755298  \n",
       "2             138.130879  Four-Door Car        70.394474  \n",
       "3             159.383042   Two-Door Car        53.460212  \n",
       "4             321.600000  Four-Door Car        32.811507  \n",
       "...                  ...            ...              ...  \n",
       "6812          307.200000   Two-Door Car        37.492591  \n",
       "6813          541.282007  Four-Door Car        48.946675  \n",
       "6814          198.234764  Four-Door Car        65.310053  \n",
       "6815          379.200000  Four-Door Car        48.002914  \n",
       "6816          691.200000  Four-Door Car        45.151858  \n",
       "\n",
       "[6817 rows x 12 columns]"
      ]
     },
     "execution_count": 35,
     "metadata": {},
     "output_type": "execute_result"
    }
   ],
   "source": [
    "df=pd.read_csv(\"D:\\\\Download\\\\marketing_cva_f.csv\")\n",
    "df"
   ]
  },
  {
   "cell_type": "code",
   "execution_count": 55,
   "id": "784b7dd7-e328-4277-9af1-0d24dae37bc5",
   "metadata": {},
   "outputs": [
    {
     "name": "stdout",
     "output_type": "stream",
     "text": [
      "<class 'pandas.core.frame.DataFrame'>\n",
      "RangeIndex: 6817 entries, 0 to 6816\n",
      "Data columns (total 12 columns):\n",
      " #   Column                         Non-Null Count  Dtype  \n",
      "---  ------                         --------------  -----  \n",
      " 0   Customer                       6817 non-null   object \n",
      " 1   State                          6817 non-null   object \n",
      " 2   CLV                            6817 non-null   float64\n",
      " 3   Coverage                       6817 non-null   object \n",
      " 4   Income                         6817 non-null   int64  \n",
      " 5   loc_type                       6817 non-null   object \n",
      " 6   monthly_premium                6817 non-null   int64  \n",
      " 7   months_last_claim              6817 non-null   int64  \n",
      " 8   Months_Since_Policy_Inception  6817 non-null   int64  \n",
      " 9   Total_Claim_Amount             6817 non-null   float64\n",
      " 10  Vehicle_Class                  6817 non-null   object \n",
      " 11  avg_vehicle_age                6817 non-null   float64\n",
      "dtypes: float64(3), int64(4), object(5)\n",
      "memory usage: 639.2+ KB\n"
     ]
    }
   ],
   "source": [
    "df.info()"
   ]
  },
  {
   "cell_type": "code",
   "execution_count": 56,
   "id": "206e78e6-731e-4d0b-a0c6-e0d51351d58e",
   "metadata": {},
   "outputs": [
    {
     "data": {
      "text/plain": [
       "0       40.696695\n",
       "1       48.755298\n",
       "2       70.394474\n",
       "3       53.460212\n",
       "4       32.811507\n",
       "          ...    \n",
       "6812    37.492591\n",
       "6813    48.946675\n",
       "6814    65.310053\n",
       "6815    48.002914\n",
       "6816    45.151858\n",
       "Name: avg_vehicle_age, Length: 6817, dtype: float64"
      ]
     },
     "execution_count": 56,
     "metadata": {},
     "output_type": "execute_result"
    }
   ],
   "source": [
    "df['avg_vehicle_age']"
   ]
  },
  {
   "cell_type": "code",
   "execution_count": 57,
   "id": "61b84f38-72b6-471c-b379-aeb47d2aa2b5",
   "metadata": {},
   "outputs": [
    {
     "data": {
      "text/plain": [
       "np.int64(0)"
      ]
     },
     "execution_count": 57,
     "metadata": {},
     "output_type": "execute_result"
    }
   ],
   "source": [
    "df['avg_vehicle_age'].isnull().sum()"
   ]
  },
  {
   "cell_type": "code",
   "execution_count": 58,
   "id": "3eafb932-de3a-4ee4-9890-4ee078b8c005",
   "metadata": {},
   "outputs": [
    {
     "name": "stderr",
     "output_type": "stream",
     "text": [
      "C:\\Users\\Komal prakash mali\\AppData\\Local\\Temp\\ipykernel_13660\\300751294.py:1: UserWarning: \n",
      "\n",
      "`distplot` is a deprecated function and will be removed in seaborn v0.14.0.\n",
      "\n",
      "Please adapt your code to use either `displot` (a figure-level function with\n",
      "similar flexibility) or `histplot` (an axes-level function for histograms).\n",
      "\n",
      "For a guide to updating your code to use the new functions, please see\n",
      "https://gist.github.com/mwaskom/de44147ed2974457ad6372750bbe5751\n",
      "\n",
      "  sns.distplot(df['avg_vehicle_age'],hist=True)\n"
     ]
    },
    {
     "data": {
      "text/plain": [
       "<Axes: xlabel='avg_vehicle_age', ylabel='Density'>"
      ]
     },
     "execution_count": 58,
     "metadata": {},
     "output_type": "execute_result"
    },
    {
     "data": {
      "image/png": "[encoded data removed]",
      "text/plain": [
       "<Figure size 640x480 with 1 Axes>"
      ]
     },
     "metadata": {},
     "output_type": "display_data"
    }
   ],
   "source": [
    "sns.distplot(df['avg_vehicle_age'],hist=True)"
   ]
  },
  {
   "cell_type": "code",
   "execution_count": 59,
   "id": "96c7ef57-6a45-40a2-bc86-64542f951191",
   "metadata": {
    "scrolled": true
   },
   "outputs": [
    {
     "data": {
      "text/plain": [
       "((array([-3.71482038, -3.48420977, -3.35734064, ...,  3.35734064,\n",
       "          3.48420977,  3.71482038]),\n",
       "  array([11.87597393, 12.97579736, 13.65700265, ..., 81.36779223,\n",
       "         83.20637063, 83.38748475])),\n",
       " (np.float64(9.922473086072278),\n",
       "  np.float64(50.12625675651166),\n",
       "  np.float64(0.9998408439831585)))"
      ]
     },
     "execution_count": 59,
     "metadata": {},
     "output_type": "execute_result"
    },
    {
     "data": {
      "image/png": "[encoded data removed]",
      "text/plain": [
       "<Figure size 640x480 with 1 Axes>"
      ]
     },
     "metadata": {},
     "output_type": "display_data"
    }
   ],
   "source": [
    "stats.probplot(df['avg_vehicle_age'],dist='norm',plot=plt)"
   ]
  },
  {
   "cell_type": "code",
   "execution_count": 60,
   "id": "fa887b18-dfc3-45ce-b102-847cc4e1a6ea",
   "metadata": {},
   "outputs": [
    {
     "data": {
      "text/plain": [
       "array([44.44389775, 53.83105166, 79.32549155, ..., 73.30260475,\n",
       "       52.95181483, 49.62516201])"
      ]
     },
     "execution_count": 60,
     "metadata": {},
     "output_type": "execute_result"
    }
   ],
   "source": [
    "transform_data,l=stats.boxcox(df['avg_vehicle_age'])\n",
    "transform_data"
   ]
  },
  {
   "cell_type": "code",
   "execution_count": 61,
   "id": "24541def-5883-4f44-a35a-0ce15490197f",
   "metadata": {},
   "outputs": [
    {
     "data": {
      "text/plain": [
       "np.float64(1.0401662897663373)"
      ]
     },
     "execution_count": 61,
     "metadata": {},
     "output_type": "execute_result"
    }
   ],
   "source": [
    "l"
   ]
  },
  {
   "cell_type": "code",
   "execution_count": 62,
   "id": "24a1420f-fd07-48d1-843a-f0083e734049",
   "metadata": {},
   "outputs": [
    {
     "data": {
      "text/plain": [
       "AndersonResult(statistic=np.float64(0.38327277704593143), critical_values=array([0.576, 0.656, 0.787, 0.917, 1.091]), significance_level=array([15. , 10. ,  5. ,  2.5,  1. ]), fit_result=  params: FitParams(loc=np.float64(50.12625675651166), scale=np.float64(9.91976670960054))\n",
       " success: True\n",
       " message: '`anderson` successfully fit the distribution to the data.')"
      ]
     },
     "execution_count": 62,
     "metadata": {},
     "output_type": "execute_result"
    }
   ],
   "source": [
    "# h0 : avg vehicle is gaussian distribution\n",
    "# h1 : avg vehicle is not gaussian distribution\n",
    "stats.anderson(df['avg_vehicle_age'],dist='norm')"
   ]
  },
  {
   "cell_type": "code",
   "execution_count": 63,
   "id": "0e794d56-9428-40cb-b458-1531dcfa73b0",
   "metadata": {},
   "outputs": [],
   "source": [
    "data=df['avg_vehicle_age']"
   ]
  },
  {
   "cell_type": "code",
   "execution_count": 64,
   "id": "44b486a1-b671-4e8e-8cc9-0463e82196b7",
   "metadata": {},
   "outputs": [
    {
     "data": {
      "text/plain": [
       "0       35.643155\n",
       "1       43.701758\n",
       "2       65.340934\n",
       "3       48.406672\n",
       "4       27.757967\n",
       "          ...    \n",
       "6812    32.439052\n",
       "6813    43.893135\n",
       "6814    60.256513\n",
       "6815    42.949374\n",
       "6816    40.098319\n",
       "Name: avg_vehicle_age, Length: 6817, dtype: float64"
      ]
     },
     "execution_count": 64,
     "metadata": {},
     "output_type": "execute_result"
    }
   ],
   "source": [
    "normalized_data=(data-np.mean(data)/np.std(data))\n",
    "normalized_data"
   ]
  },
  {
   "cell_type": "code",
   "execution_count": 65,
   "id": "593dcd6a-7123-4dec-bea3-c4b8eccc51df",
   "metadata": {},
   "outputs": [
    {
     "data": {
      "text/plain": [
       "KstestResult(statistic=np.float64(0.9999999999955245), pvalue=np.float64(0.0), statistic_location=np.float64(6.822434346725045), statistic_sign=np.int8(-1))"
      ]
     },
     "execution_count": 65,
     "metadata": {},
     "output_type": "execute_result"
    }
   ],
   "source": [
    "stats.kstest(normalized_data,'norm')"
   ]
  },
  {
   "cell_type": "code",
   "execution_count": 72,
   "id": "ab9a9ee6-b0e8-4511-91e4-7c9b1087bc5c",
   "metadata": {},
   "outputs": [
    {
     "data": {
      "text/plain": [
       "1730    66.141354\n",
       "1212    39.275165\n",
       "2780    58.779394\n",
       "1793    64.326098\n",
       "4773    51.273263\n",
       "          ...    \n",
       "5954    43.419079\n",
       "3492    37.865214\n",
       "1098    49.924931\n",
       "3522    65.897228\n",
       "1892    44.018393\n",
       "Name: avg_vehicle_age, Length: 1000, dtype: float64"
      ]
     },
     "execution_count": 72,
     "metadata": {},
     "output_type": "execute_result"
    }
   ],
   "source": [
    "sample = df['avg_vehicle_age'].sample(n=1000, replace=True)\n",
    "sample"
   ]
  },
  {
   "cell_type": "code",
   "execution_count": 77,
   "id": "8db5ce91-a722-48e2-9496-b5840502be21",
   "metadata": {},
   "outputs": [
    {
     "data": {
      "text/plain": [
       "array([54.0150524 , 53.31303513, 44.8029521 , 47.81426355, 44.75386232,\n",
       "       42.55186572, 64.93634778, 64.95639805, 44.77574364, 40.23398729,\n",
       "       45.83647903, 54.40691764, 53.66609452, 39.0425405 , 46.10112949,\n",
       "       34.37082524, 79.55392468, 37.56282229, 49.5464389 , 39.23279816,\n",
       "       46.82642831, 54.5008464 , 50.66425594, 60.97484498, 43.52341855,\n",
       "       57.99080564, 65.154585  , 52.10129081, 40.04566748, 49.06260238,\n",
       "       41.83173276, 42.22762122, 46.69262771, 46.26135201, 47.80495107,\n",
       "       58.55153475, 55.71464767, 34.01608663, 39.39288825, 41.7512305 ,\n",
       "       52.68337962, 47.72386955, 43.43068847, 44.81639227, 47.63658074,\n",
       "       62.05188736, 57.94293207, 60.36967361, 62.87435719, 50.31692275,\n",
       "       49.39274233, 45.93121455, 48.7095369 , 51.55161761, 52.39940257,\n",
       "       49.71973369, 44.24243682, 45.54631606, 48.88720174, 55.79622648,\n",
       "       49.7464764 , 45.40182115, 42.20508647, 54.30276861, 48.68580381,\n",
       "       65.90902119, 55.87455805, 58.50865307, 54.25037836, 68.57225275,\n",
       "       50.72537689, 40.3057371 , 42.61363552, 54.24708068, 31.00703171,\n",
       "       64.35050853, 51.26023253, 30.27081717, 47.68257544, 30.05459202,\n",
       "       39.80424244, 41.94334464, 47.80495107, 45.56937742, 40.49198936,\n",
       "       61.51609367, 50.5167014 , 54.17105129, 54.11611245, 53.30006487,\n",
       "       52.16002194, 47.07368463, 51.55395168, 33.04197262, 53.67506304,\n",
       "       56.73998855, 51.11637689, 38.72512894, 56.96856643, 42.71740749,\n",
       "       43.09122225, 56.84117109, 34.62686807, 40.76547391, 55.41208312,\n",
       "       32.26099662, 58.42513337, 39.72813307, 42.68138114, 42.83215157,\n",
       "       66.74876053, 64.81362562, 31.856858  , 42.91271741, 35.3706643 ,\n",
       "       49.92810217, 52.04229697, 60.82478308, 44.27883278, 55.84843523,\n",
       "       42.22762122, 45.60402972, 43.02575344, 38.63889833, 43.94792229,\n",
       "       41.13391971, 40.23506852, 50.66286407, 48.51827253, 46.27080636,\n",
       "       38.26881696, 36.19634885, 69.53798106, 50.29334962, 41.72459077,\n",
       "       42.19716676, 47.24222477, 40.20387699, 51.51344331, 47.25786547,\n",
       "       44.75076634, 46.22073994, 52.46154354, 40.14164915, 62.14305508,\n",
       "       57.55233775, 61.39491878, 54.34445053, 51.89449092, 28.878198  ,\n",
       "       49.6649491 , 37.12352513, 45.89966286, 51.99849845, 44.77454992,\n",
       "       45.83432651, 35.97649602, 45.4905672 , 60.95769869, 54.8620314 ,\n",
       "       47.07368463, 43.67653225, 40.71683742, 66.81116609, 59.76449852,\n",
       "       73.21505961, 45.51349925, 33.17569835, 53.16797477, 57.46830369,\n",
       "       49.7341064 , 39.77332997, 75.6222744 , 51.55945599, 58.93456263,\n",
       "       59.33822995, 42.03083176, 62.6087619 , 44.90551573, 43.42333157,\n",
       "       50.53275217, 48.98096551, 59.27841238, 66.7814849 , 53.44340664,\n",
       "       35.27576775, 45.0826927 , 57.58387096, 46.30283302, 60.22269481,\n",
       "       53.23583037, 52.61170189, 31.5195426 , 30.29124856, 40.09964308,\n",
       "       42.47652319, 37.31511222, 37.90924969, 50.45618575, 64.08892607,\n",
       "       48.31024058, 62.81669279, 51.14201556, 42.02172149, 62.29175553,\n",
       "       46.65360747, 40.6556316 , 43.65208284, 60.43669476, 53.44231788,\n",
       "       34.79022051, 48.51529076, 54.2388753 , 40.46233343, 53.1669478 ,\n",
       "       44.86024988, 59.52204122, 47.07893177, 74.27131987, 48.15685757,\n",
       "       57.85018884, 21.22977994, 62.68218009, 62.05780592, 59.54116032,\n",
       "       39.01111883, 37.73901808, 44.37108651, 60.34801904, 38.28706653,\n",
       "       44.67183114, 38.87587836, 35.47857694, 56.41403561, 64.70833385,\n",
       "       35.35679985, 57.89347973, 64.92064464, 66.1139068 , 45.9494711 ,\n",
       "       61.15050959, 51.11637689, 54.95983787, 50.66286407, 58.36690708,\n",
       "       44.37186484, 46.21008423, 55.87455805, 54.58583603, 47.33699296,\n",
       "       68.67225965, 57.46292444, 56.24747266, 39.89322696, 39.48697312,\n",
       "       52.3007622 , 50.93186353, 46.1133902 , 27.8694726 , 46.93906306,\n",
       "       45.6100517 , 37.78052226, 56.33921065, 54.0251632 , 74.82106594,\n",
       "       42.4769028 , 43.09122225, 65.61107116, 59.90334704, 56.93846835,\n",
       "       52.7269901 , 51.26370984, 63.81901511, 56.08100774, 42.02637358,\n",
       "       56.6533695 , 52.09209749, 31.17791078, 51.4069591 , 49.95854343,\n",
       "       48.10493687, 41.3809953 , 51.35656358, 52.9784143 , 44.04172353,\n",
       "       45.23190369, 64.76010049, 48.55501737, 38.69397002, 46.39928449,\n",
       "       48.21148209, 44.89957282, 50.54995953, 64.76535052, 46.60437283,\n",
       "       48.48573944, 66.3150366 , 44.15625006, 36.66777213, 31.68845264,\n",
       "       50.53275217, 46.94625447, 50.4049847 , 60.41614095, 38.26655061,\n",
       "       48.70143984, 62.29772898, 46.60437283, 48.09045364, 51.58425836,\n",
       "       53.43650714, 40.06801078, 36.42664399, 54.64310466, 56.68347448,\n",
       "       26.21583887, 80.00776486, 49.26706   , 49.68607531, 53.15352863,\n",
       "       54.85803336, 45.70872824, 54.64929058, 61.31418593, 60.29454899,\n",
       "       43.29624734, 44.40945238, 60.95508922, 55.29139177, 47.8051325 ,\n",
       "       48.89551025, 47.69425279, 45.03789279, 34.37082524, 47.95856684,\n",
       "       53.84648229, 54.90389719, 52.48096519, 57.8923936 , 59.00993482,\n",
       "       58.76324188, 37.98826926, 62.35579039, 60.64266697, 53.06022274,\n",
       "       47.50599197, 54.93839916, 36.50761321, 60.32106597, 51.11127864,\n",
       "       39.77332997, 62.2895657 , 40.00240038, 61.47000008, 56.48743556,\n",
       "       61.68544733, 64.52898116, 55.47096183, 26.24851825, 42.12973762,\n",
       "       56.81881268, 49.37605417, 56.28522968, 71.35386212, 38.355422  ,\n",
       "       52.45847088, 45.80888625, 47.9548115 , 66.28589715, 38.75170966,\n",
       "       43.86139098, 63.62330457, 56.83964559, 47.19254024, 45.09443732,\n",
       "       48.29430175, 67.34957359, 48.98171343, 62.8347428 , 72.934833  ,\n",
       "       61.43751059, 62.95834762, 53.71774861, 44.52570262, 60.34284973,\n",
       "       20.49530888, 41.51036475, 41.53594752, 65.35856309, 35.96816052,\n",
       "       36.94763668, 48.45173626, 64.23387964, 50.47382555, 53.52437769,\n",
       "       45.03556495, 66.49880702, 54.00278207, 29.59032717, 65.31323511,\n",
       "       51.67222571, 36.90789004, 56.37232214, 69.339277  , 47.56659133,\n",
       "       33.84463016, 64.80888209, 53.94664901, 55.09580535, 35.36171059,\n",
       "       68.36855163, 64.01608999, 40.48544666, 52.16002194, 34.58741949,\n",
       "       59.86433957, 67.02517136, 44.82088221, 50.68066463, 59.86433957,\n",
       "       41.61090518, 58.0312262 , 31.65547888, 40.88208908, 43.68002926,\n",
       "       32.16015541, 53.20638274, 39.56811028, 53.55189959, 45.34977612,\n",
       "       59.65786456, 47.13006745, 45.62670317, 56.13780687, 61.34035196,\n",
       "       69.47269574, 18.53209348, 50.26565936, 57.31217773, 49.00713203,\n",
       "       53.46645817, 32.77258352, 62.43958866, 50.87488933, 62.43958866,\n",
       "       44.80076572, 54.66402153, 41.54268794, 51.66991613, 41.62595211,\n",
       "       61.71598251, 52.33505117, 48.84918168, 33.76863345, 53.28947823,\n",
       "       62.43102519, 43.85702522, 46.17141567, 42.28184738, 44.65755087,\n",
       "       42.62799857, 42.98530555, 50.28595143, 69.23206273, 64.40456823,\n",
       "       54.69978766, 39.26434027, 62.92413857, 59.30407537, 57.30050901,\n",
       "       58.63558563, 40.82333467, 61.39491878, 49.0942056 , 47.90686802,\n",
       "       36.30724437, 54.74230334, 48.94408094, 66.03078877, 50.93248408,\n",
       "       61.69578634, 66.92773684, 40.42492121, 31.60901606, 54.44629298,\n",
       "       23.78632155, 49.7289579 , 53.06022274, 47.88356427, 50.95427619,\n",
       "       37.33345369, 57.12504019, 57.62361513, 43.84603138, 45.60574606,\n",
       "       52.08387525, 55.82434499, 63.38225083, 68.70449838, 46.68240034,\n",
       "       47.45173196, 44.88295683, 47.41629611, 60.72523733, 65.96400388,\n",
       "       54.27617766, 46.13897215, 38.75170966, 61.17018093, 49.41171208,\n",
       "       43.24817043, 41.25255018, 56.96569463, 49.88588371, 51.33937082,\n",
       "       56.92093238, 50.56327283, 59.43967804, 61.47000008, 42.8334295 ,\n",
       "       73.92196875, 61.70674399, 50.44902288, 52.78494151, 58.19994845,\n",
       "       46.62061462, 47.73546884, 44.69174922, 44.7188339 , 51.73391446,\n",
       "       53.63510028, 32.62412948, 43.57183593, 70.67002295, 59.76449852,\n",
       "       42.29479079, 48.98171343, 63.40350362, 40.24022363, 59.3192007 ,\n",
       "       53.60470015, 55.32924582, 60.30283127, 45.49058928, 43.13453375,\n",
       "       40.71270438, 35.96816052, 57.68417317, 46.09423685, 47.73024004,\n",
       "       48.0790425 , 58.09369627, 59.52877726, 60.83432517, 26.88719664,\n",
       "       52.8488269 , 52.47509581, 45.21760862, 68.29936675, 45.65142595,\n",
       "       57.698299  , 41.38628507, 53.44711888, 40.00760345, 44.8557221 ,\n",
       "       42.7157567 , 48.90889574, 61.70674399, 31.7172089 , 57.99080564,\n",
       "       59.11755364, 72.35995497, 53.26442438, 58.34247915, 48.31710783,\n",
       "       59.56563963, 37.94281083, 61.88465248, 61.0968163 , 66.61308725,\n",
       "       55.06303181, 44.52556184, 58.25502367, 55.53711662, 49.5464389 ,\n",
       "       51.13332994, 54.49026289, 44.70249404, 53.97977518, 49.39796583,\n",
       "       53.17311626, 53.0627075 , 46.95177487, 50.59733415, 53.0596536 ,\n",
       "       63.97486234, 59.12558707, 45.55606337, 51.02658019, 46.1548159 ,\n",
       "       49.89064959, 56.12605141, 45.68431267, 60.44735285, 32.8115068 ,\n",
       "       61.49458968, 51.53278816, 62.42576493, 44.46553456, 74.03561809,\n",
       "       53.37918645, 56.15582668, 46.26459843, 52.77800668, 50.38148892,\n",
       "       53.21422145, 49.27404451, 39.26684302, 43.11976693, 55.13895819,\n",
       "       47.91422501, 32.26099662, 52.56268045, 54.2408433 , 53.5618756 ,\n",
       "       42.70610433, 55.77470625, 44.77454992, 47.2259489 , 54.36427754,\n",
       "       40.42492121, 42.84687034, 37.34017583, 50.40809748, 35.26549167,\n",
       "       51.73391446, 59.48612061, 57.0605889 , 42.38469819, 59.38493225,\n",
       "       53.35435166, 52.32992437, 37.11300511, 54.09297206, 40.26602182,\n",
       "       51.22301032, 48.41538361, 40.53507244, 45.76611257, 64.60059313,\n",
       "       36.56999391, 26.21583887, 49.081086  , 43.88101385, 41.41821695,\n",
       "       59.99503279, 42.1380597 , 66.57038138, 26.34742884, 53.79149081,\n",
       "       39.21557736, 40.50541017, 53.20638274, 47.54528915, 60.26582812,\n",
       "       49.21373364, 64.24900898, 51.15517951, 42.48021092, 54.75841248,\n",
       "       48.63374113, 53.88887532, 46.39193721, 59.00993482, 47.04869638,\n",
       "       21.92780925, 49.78568926, 54.19669062, 48.21376631, 50.32866974,\n",
       "       41.76362996, 30.66486293, 48.4197496 , 56.09316084, 44.54590746,\n",
       "       52.76231476, 35.36171059, 31.8989531 , 48.75438737, 49.55794559,\n",
       "       44.64685492, 54.4009628 , 28.62011207, 53.92244579, 49.92810217,\n",
       "       40.50161569, 45.62670317, 56.03632109, 12.97579736, 55.13895819,\n",
       "       56.70885287, 32.11718314, 48.97249347, 66.09346897, 44.23578607,\n",
       "       45.23546919, 34.11332644, 54.31482212, 46.71024159, 54.66402153,\n",
       "       54.05420678, 31.12136322, 66.37159673, 48.63374113, 46.08520073,\n",
       "       44.70249404, 37.84615737, 64.11696825, 55.49272221, 47.095195  ,\n",
       "       44.00327295, 47.0252066 , 64.72793908, 46.60810684, 53.88887532,\n",
       "       45.93173024, 60.61796488, 58.2666824 , 50.51054484, 52.06500123,\n",
       "       48.5129578 , 28.46717991, 42.96516869, 45.90965379, 38.83327788,\n",
       "       51.88201198, 58.28462436, 53.59378349, 33.72806749, 59.7271313 ,\n",
       "       46.99052074, 43.70300073, 41.72150217, 47.18393302, 53.36912579,\n",
       "       54.96616566, 42.32436319, 47.25454009, 47.81506655, 31.47201133,\n",
       "       60.72523733, 64.76302367, 62.40937409, 47.53544025, 61.94258641,\n",
       "       59.3751647 , 64.24900898, 49.81695051, 51.64828649, 60.29418334,\n",
       "       60.09297516, 51.40935076, 37.93348796, 35.96541884, 40.19880428,\n",
       "       53.05340763, 41.07001389, 66.1139068 , 52.52694188, 60.69631201,\n",
       "       43.53511705, 54.47875107, 42.69866959, 60.65086466, 58.73175679,\n",
       "       46.0798382 , 65.31005308, 56.6786031 , 47.7636595 , 62.65072557,\n",
       "       35.39211604, 50.38685866, 49.50880008, 57.48110496, 56.85894366,\n",
       "       48.54932869, 57.55233775, 12.97579736, 51.51533289, 41.34806152,\n",
       "       53.38815817, 58.73175679, 57.94470183, 32.025924  , 45.49548622,\n",
       "       51.8247225 , 44.43607402, 40.16927129, 58.09365496, 62.44946817,\n",
       "       57.88441729, 43.38164272, 83.20637063, 47.73691893, 44.0218905 ,\n",
       "       46.89076567, 54.74487854, 57.08365702, 56.98598779, 73.18898947,\n",
       "       47.31609463, 38.11048332, 31.21155976, 60.21592871, 53.83606392,\n",
       "       39.59372442, 66.46451669, 51.56457447, 45.00437936, 34.27505076,\n",
       "       53.47680903, 57.43436554, 52.96228658, 55.0179047 , 49.55389579,\n",
       "       67.53500316, 47.29210457, 52.73745511, 62.40937409, 65.61107116,\n",
       "       59.83948834, 44.9305373 , 51.32329564, 60.41892805, 46.1548159 ,\n",
       "       42.45264142, 36.42664399, 50.76039725, 34.35718855, 54.34967563,\n",
       "       40.87842754, 52.32874473, 65.64813081, 48.15348695, 56.99903277,\n",
       "       47.55343923, 58.36237896, 37.30705751, 39.84056077, 70.00924609,\n",
       "       65.84475764, 57.30340332, 49.39869961, 49.34124227, 48.80942985,\n",
       "       62.27238736, 36.21351931, 34.93070384, 40.81684122, 56.68347448,\n",
       "       50.2323019 , 50.3156995 , 55.72007738, 52.15808228, 52.73326732,\n",
       "       49.87658982, 56.99903277, 39.1033966 , 46.84091196, 50.2491387 ,\n",
       "       59.8291569 , 54.6191707 , 76.40762318, 50.98673316, 56.06778177,\n",
       "       47.96982216, 51.69097855, 32.53768921, 49.42683004, 44.70984591,\n",
       "       58.10707335, 57.22115751, 55.66790787, 53.48438625, 71.07658933,\n",
       "       44.06037935, 45.87123638, 52.31258838, 51.32573876, 61.13773729,\n",
       "       57.64649685, 62.09734699, 33.33425146, 65.47513405, 52.24159803,\n",
       "       59.56551284, 39.90688644, 77.80707404, 50.30622121, 39.40019678,\n",
       "       67.16543793, 45.3168918 , 50.59985941, 43.98190827, 53.98003112,\n",
       "       69.72949306, 59.04462972, 47.25786547, 35.01792472, 59.28975203,\n",
       "       57.26947309, 67.24077945, 55.84838545, 47.86208349, 50.94270798,\n",
       "       39.66251121, 49.9800313 , 57.9103945 , 44.81937152, 54.23052183,\n",
       "       34.27505076, 61.83123057, 31.32586906, 35.30133213, 55.62240215,\n",
       "       47.88356427, 47.10392125, 47.91523531, 46.60035658, 44.70594921,\n",
       "       62.74580743, 61.69578634, 68.03789869, 40.14164915, 53.11855326,\n",
       "       55.01892626, 47.77057425, 42.48021092, 49.96882361, 38.579962  ,\n",
       "       52.3877256 , 54.4557396 , 51.03234119, 34.08643627, 52.65240108,\n",
       "       44.03676296, 47.91548385, 26.83732391, 43.11976693, 53.57756912,\n",
       "       63.89594648, 55.97254915, 54.75841248, 50.95433551, 46.59949752,\n",
       "       59.29407078, 49.5464389 , 42.52705327, 62.09518258, 54.34082376,\n",
       "       50.3156995 , 57.17094968, 53.51388793, 37.86521413, 50.48199389,\n",
       "       42.61323722, 32.7356767 , 33.43457011, 61.04754368, 51.98003874,\n",
       "       53.33321118, 42.2268039 , 32.62412948, 50.65799363, 35.97155828,\n",
       "       50.43223109, 52.06755031, 74.11655225, 34.93384065, 50.18001787,\n",
       "       52.60704825, 53.85593022, 53.2732852 , 60.36091154, 57.25681662,\n",
       "       49.53760588, 55.40398987, 46.69262771, 62.43102519, 50.72814858,\n",
       "       50.4049847 , 50.95427619, 60.61155671, 44.9305373 , 66.0444268 ,\n",
       "       42.81423979, 46.53001453, 42.95684895, 49.11100565, 65.75664042])"
      ]
     },
     "execution_count": 77,
     "metadata": {},
     "output_type": "execute_result"
    }
   ],
   "source": [
    "sample =np.random.choice(df['avg_vehicle_age'],size=1000, replace=True)\n",
    "sample\n"
   ]
  },
  {
   "cell_type": "code",
   "execution_count": 36,
   "id": "0f895cbc-8bc9-417d-8196-81852b6f0781",
   "metadata": {},
   "outputs": [
    {
     "data": {
      "image/png": "[encoded data removed]",
      "text/plain": [
       "<Figure size 640x480 with 1 Axes>"
      ]
     },
     "metadata": {},
     "output_type": "display_data"
    }
   ],
   "source": [
    "# Parameters\n",
    "sample_size = 30   \n",
    "num_samples = 1000 \n",
    "sample_means = []\n",
    "for _ in range(num_samples):\n",
    "    sample = df['avg_vehicle_age'].sample(sample_size, replace=True)\n",
    "    sample_means.append(sample.mean())\n",
    "sample_means = pd.Series(sample_means)\n",
    "sns.histplot(sample_means, kde=True)\n",
    "plt.title(f\"Sampling Distribution of the Mean (n={sample_size})\")\n",
    "plt.xlabel(\"Sample Mean of avg_vehicle_age\")\n",
    "plt.ylabel(\"Frequency\")\n",
    "plt.show()"
   ]
  },
  {
   "cell_type": "code",
   "execution_count": 40,
   "id": "e2b78e02-4835-423d-b80a-dea1bd5abfbc",
   "metadata": {},
   "outputs": [
    {
     "data": {
      "text/html": [
       "<div>\n",
       "<style scoped>\n",
       "    .dataframe tbody tr th:only-of-type {\n",
       "        vertical-align: middle;\n",
       "    }\n",
       "\n",
       "    .dataframe tbody tr th {\n",
       "        vertical-align: top;\n",
       "    }\n",
       "\n",
       "    .dataframe thead th {\n",
       "        text-align: right;\n",
       "    }\n",
       "</style>\n",
       "<table border=\"1\" class=\"dataframe\">\n",
       "  <thead>\n",
       "    <tr style=\"text-align: right;\">\n",
       "      <th></th>\n",
       "      <th>PassengerId</th>\n",
       "      <th>Survived</th>\n",
       "      <th>Pclass</th>\n",
       "      <th>Name</th>\n",
       "      <th>Sex</th>\n",
       "      <th>Age</th>\n",
       "      <th>SibSp</th>\n",
       "      <th>Parch</th>\n",
       "      <th>Ticket</th>\n",
       "      <th>Fare</th>\n",
       "      <th>Cabin</th>\n",
       "      <th>Embarked</th>\n",
       "    </tr>\n",
       "  </thead>\n",
       "  <tbody>\n",
       "    <tr>\n",
       "      <th>0</th>\n",
       "      <td>1</td>\n",
       "      <td>0</td>\n",
       "      <td>3</td>\n",
       "      <td>Braund, Mr. Owen Harris</td>\n",
       "      <td>male</td>\n",
       "      <td>22.0</td>\n",
       "      <td>1</td>\n",
       "      <td>0</td>\n",
       "      <td>A/5 21171</td>\n",
       "      <td>7.2500</td>\n",
       "      <td>NaN</td>\n",
       "      <td>S</td>\n",
       "    </tr>\n",
       "    <tr>\n",
       "      <th>1</th>\n",
       "      <td>2</td>\n",
       "      <td>1</td>\n",
       "      <td>1</td>\n",
       "      <td>Cumings, Mrs. John Bradley (Florence Briggs Th...</td>\n",
       "      <td>female</td>\n",
       "      <td>38.0</td>\n",
       "      <td>1</td>\n",
       "      <td>0</td>\n",
       "      <td>PC 17599</td>\n",
       "      <td>71.2833</td>\n",
       "      <td>C85</td>\n",
       "      <td>C</td>\n",
       "    </tr>\n",
       "    <tr>\n",
       "      <th>2</th>\n",
       "      <td>3</td>\n",
       "      <td>1</td>\n",
       "      <td>3</td>\n",
       "      <td>Heikkinen, Miss. Laina</td>\n",
       "      <td>female</td>\n",
       "      <td>26.0</td>\n",
       "      <td>0</td>\n",
       "      <td>0</td>\n",
       "      <td>STON/O2. 3101282</td>\n",
       "      <td>7.9250</td>\n",
       "      <td>NaN</td>\n",
       "      <td>S</td>\n",
       "    </tr>\n",
       "    <tr>\n",
       "      <th>3</th>\n",
       "      <td>4</td>\n",
       "      <td>1</td>\n",
       "      <td>1</td>\n",
       "      <td>Futrelle, Mrs. Jacques Heath (Lily May Peel)</td>\n",
       "      <td>female</td>\n",
       "      <td>35.0</td>\n",
       "      <td>1</td>\n",
       "      <td>0</td>\n",
       "      <td>113803</td>\n",
       "      <td>53.1000</td>\n",
       "      <td>C123</td>\n",
       "      <td>S</td>\n",
       "    </tr>\n",
       "    <tr>\n",
       "      <th>4</th>\n",
       "      <td>5</td>\n",
       "      <td>0</td>\n",
       "      <td>3</td>\n",
       "      <td>Allen, Mr. William Henry</td>\n",
       "      <td>male</td>\n",
       "      <td>35.0</td>\n",
       "      <td>0</td>\n",
       "      <td>0</td>\n",
       "      <td>373450</td>\n",
       "      <td>8.0500</td>\n",
       "      <td>NaN</td>\n",
       "      <td>S</td>\n",
       "    </tr>\n",
       "    <tr>\n",
       "      <th>...</th>\n",
       "      <td>...</td>\n",
       "      <td>...</td>\n",
       "      <td>...</td>\n",
       "      <td>...</td>\n",
       "      <td>...</td>\n",
       "      <td>...</td>\n",
       "      <td>...</td>\n",
       "      <td>...</td>\n",
       "      <td>...</td>\n",
       "      <td>...</td>\n",
       "      <td>...</td>\n",
       "      <td>...</td>\n",
       "    </tr>\n",
       "    <tr>\n",
       "      <th>886</th>\n",
       "      <td>887</td>\n",
       "      <td>0</td>\n",
       "      <td>2</td>\n",
       "      <td>Montvila, Rev. Juozas</td>\n",
       "      <td>male</td>\n",
       "      <td>27.0</td>\n",
       "      <td>0</td>\n",
       "      <td>0</td>\n",
       "      <td>211536</td>\n",
       "      <td>13.0000</td>\n",
       "      <td>NaN</td>\n",
       "      <td>S</td>\n",
       "    </tr>\n",
       "    <tr>\n",
       "      <th>887</th>\n",
       "      <td>888</td>\n",
       "      <td>1</td>\n",
       "      <td>1</td>\n",
       "      <td>Graham, Miss. Margaret Edith</td>\n",
       "      <td>female</td>\n",
       "      <td>19.0</td>\n",
       "      <td>0</td>\n",
       "      <td>0</td>\n",
       "      <td>112053</td>\n",
       "      <td>30.0000</td>\n",
       "      <td>B42</td>\n",
       "      <td>S</td>\n",
       "    </tr>\n",
       "    <tr>\n",
       "      <th>888</th>\n",
       "      <td>889</td>\n",
       "      <td>0</td>\n",
       "      <td>3</td>\n",
       "      <td>Johnston, Miss. Catherine Helen \"Carrie\"</td>\n",
       "      <td>female</td>\n",
       "      <td>NaN</td>\n",
       "      <td>1</td>\n",
       "      <td>2</td>\n",
       "      <td>W./C. 6607</td>\n",
       "      <td>23.4500</td>\n",
       "      <td>NaN</td>\n",
       "      <td>S</td>\n",
       "    </tr>\n",
       "    <tr>\n",
       "      <th>889</th>\n",
       "      <td>890</td>\n",
       "      <td>1</td>\n",
       "      <td>1</td>\n",
       "      <td>Behr, Mr. Karl Howell</td>\n",
       "      <td>male</td>\n",
       "      <td>26.0</td>\n",
       "      <td>0</td>\n",
       "      <td>0</td>\n",
       "      <td>111369</td>\n",
       "      <td>30.0000</td>\n",
       "      <td>C148</td>\n",
       "      <td>C</td>\n",
       "    </tr>\n",
       "    <tr>\n",
       "      <th>890</th>\n",
       "      <td>891</td>\n",
       "      <td>0</td>\n",
       "      <td>3</td>\n",
       "      <td>Dooley, Mr. Patrick</td>\n",
       "      <td>male</td>\n",
       "      <td>32.0</td>\n",
       "      <td>0</td>\n",
       "      <td>0</td>\n",
       "      <td>370376</td>\n",
       "      <td>7.7500</td>\n",
       "      <td>NaN</td>\n",
       "      <td>Q</td>\n",
       "    </tr>\n",
       "  </tbody>\n",
       "</table>\n",
       "<p>891 rows × 12 columns</p>\n",
       "</div>"
      ],
      "text/plain": [
       "     PassengerId  Survived  Pclass  \\\n",
       "0              1         0       3   \n",
       "1              2         1       1   \n",
       "2              3         1       3   \n",
       "3              4         1       1   \n",
       "4              5         0       3   \n",
       "..           ...       ...     ...   \n",
       "886          887         0       2   \n",
       "887          888         1       1   \n",
       "888          889         0       3   \n",
       "889          890         1       1   \n",
       "890          891         0       3   \n",
       "\n",
       "                                                  Name     Sex   Age  SibSp  \\\n",
       "0                              Braund, Mr. Owen Harris    male  22.0      1   \n",
       "1    Cumings, Mrs. John Bradley (Florence Briggs Th...  female  38.0      1   \n",
       "2                               Heikkinen, Miss. Laina  female  26.0      0   \n",
       "3         Futrelle, Mrs. Jacques Heath (Lily May Peel)  female  35.0      1   \n",
       "4                             Allen, Mr. William Henry    male  35.0      0   \n",
       "..                                                 ...     ...   ...    ...   \n",
       "886                              Montvila, Rev. Juozas    male  27.0      0   \n",
       "887                       Graham, Miss. Margaret Edith  female  19.0      0   \n",
       "888           Johnston, Miss. Catherine Helen \"Carrie\"  female   NaN      1   \n",
       "889                              Behr, Mr. Karl Howell    male  26.0      0   \n",
       "890                                Dooley, Mr. Patrick    male  32.0      0   \n",
       "\n",
       "     Parch            Ticket     Fare Cabin Embarked  \n",
       "0        0         A/5 21171   7.2500   NaN        S  \n",
       "1        0          PC 17599  71.2833   C85        C  \n",
       "2        0  STON/O2. 3101282   7.9250   NaN        S  \n",
       "3        0            113803  53.1000  C123        S  \n",
       "4        0            373450   8.0500   NaN        S  \n",
       "..     ...               ...      ...   ...      ...  \n",
       "886      0            211536  13.0000   NaN        S  \n",
       "887      0            112053  30.0000   B42        S  \n",
       "888      2        W./C. 6607  23.4500   NaN        S  \n",
       "889      0            111369  30.0000  C148        C  \n",
       "890      0            370376   7.7500   NaN        Q  \n",
       "\n",
       "[891 rows x 12 columns]"
      ]
     },
     "execution_count": 40,
     "metadata": {},
     "output_type": "execute_result"
    }
   ],
   "source": [
    "dff=pd.read_csv(\"D:\\\\Download\\\\train.csv\")\n",
    "dff"
   ]
  },
  {
   "cell_type": "code",
   "execution_count": 41,
   "id": "086b1318-d92d-4938-8afa-99e7671b431c",
   "metadata": {},
   "outputs": [
    {
     "data": {
      "text/plain": [
       "np.int64(0)"
      ]
     },
     "execution_count": 41,
     "metadata": {},
     "output_type": "execute_result"
    }
   ],
   "source": [
    "dff['Sex'].isnull().sum()"
   ]
  },
  {
   "cell_type": "code",
   "execution_count": 42,
   "id": "be0da201-3f4b-44e5-a1f2-bcef35104b27",
   "metadata": {},
   "outputs": [
    {
     "data": {
      "text/plain": [
       "[468, 81]"
      ]
     },
     "execution_count": 42,
     "metadata": {},
     "output_type": "execute_result"
    }
   ],
   "source": [
    "survived=[\n",
    "    len(dff[(dff[\"Survived\"]==0) & (dff[\"Sex\"]=='male')]),\n",
    "    len(dff[(dff[\"Survived\"]==0) & (dff[\"Sex\"]=='female')])\n",
    "]\n",
    "survived"
   ]
  },
  {
   "cell_type": "code",
   "execution_count": 43,
   "id": "8fb2f64c-a342-4a4f-b4ca-1816f48cea05",
   "metadata": {},
   "outputs": [],
   "source": [
    "non_survived=[\n",
    "    len(dff[(dff[\"Survived\"]==1) & (dff[\"Sex\"]=='male')]),\n",
    "    len(dff[(dff[\"Survived\"]==1) & (dff[\"Sex\"]=='female')])\n",
    "]"
   ]
  },
  {
   "cell_type": "code",
   "execution_count": 44,
   "id": "ab2d95eb-1bf1-4a47-8519-4a63ba2caf1c",
   "metadata": {},
   "outputs": [
    {
     "data": {
      "text/plain": [
       "array([[468,  81],\n",
       "       [109, 233]])"
      ]
     },
     "execution_count": 44,
     "metadata": {},
     "output_type": "execute_result"
    }
   ],
   "source": [
    "observed=np.array([survived,non_survived])\n",
    "observed"
   ]
  },
  {
   "cell_type": "code",
   "execution_count": 45,
   "id": "3471f1a2-47f5-414e-8923-5952d205e221",
   "metadata": {},
   "outputs": [],
   "source": [
    "from scipy.stats import chi2_contingency"
   ]
  },
  {
   "cell_type": "code",
   "execution_count": 46,
   "id": "571cf071-1bbb-4f81-ad60-34ea6d55d08c",
   "metadata": {},
   "outputs": [
    {
     "data": {
      "text/plain": [
       "np.float64(1.1973570627755645e-58)"
      ]
     },
     "execution_count": 46,
     "metadata": {},
     "output_type": "execute_result"
    }
   ],
   "source": [
    "chi,p_value,dof,expected=chi2_contingency(observed)\n",
    "p_value"
   ]
  },
  {
   "cell_type": "markdown",
   "id": "db01786d-ab9c-41c6-b5e1-555ec34950db",
   "metadata": {},
   "source": [
    "# @ Important Questtion\n",
    "\n",
    "- Bootstraping\n",
    "- Why we need hypothesis testing (**)\n",
    "- permutation Test\n",
    "- KS Test\n",
    "- AD Test\n",
    "- Chi - square Test"
   ]
  },
  {
   "cell_type": "code",
   "execution_count": null,
   "id": "2e3ff25a-7fe5-42a7-99ff-33fdc2b2c34a",
   "metadata": {},
   "outputs": [],
   "source": []
  }
 ],
 "metadata": {
  "kernelspec": {
   "display_name": "Python 3 (ipykernel)",
   "language": "python",
   "name": "python3"
  },
  "language_info": {
   "codemirror_mode": {
    "name": "ipython",
    "version": 3
   },
   "file_extension": ".py",
   "mimetype": "text/x-python",
   "name": "python",
   "nbconvert_exporter": "python",
   "pygments_lexer": "ipython3",
   "version": "3.13.0"
  }
 },
 "nbformat": 4,
 "nbformat_minor": 5
}
