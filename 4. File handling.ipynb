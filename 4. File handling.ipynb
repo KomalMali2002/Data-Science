{
 "cells": [
  {
   "cell_type": "markdown",
   "id": "99df0b89-06b0-43c1-81d5-1feec9f3e491",
   "metadata": {},
   "source": [
    "# @ File "
   ]
  },
  {
   "cell_type": "markdown",
   "id": "08b87c0a-aed2-4842-9e86-e2b4acefe2ac",
   "metadata": {},
   "source": [
    " - File is a collection of data or information\n",
    " - File is stored in permanant storage(HDD)\n",
    " - X=5------ created in RAM\n",
    " - File is also a named memory location in disk(HDD)\n",
    " - We can retrive that the data any time\n",
    " - Ex: text file : characters\n",
    "\n",
    "    json file: \n",
    "\n",
    "    xml file:\n",
    "\n",
    "    csv file:\n",
    "\n",
    "    SQL file:\n",
    "\n",
    "    audio, video, pdf etc\n",
    "\n",
    " - There are two type of file:\n",
    "\n",
    "                              1. Text file: characters\n",
    "\n",
    "                              2. Binary file: we are storing a data in the form of bytes(group of bits)\n",
    "\n",
    "                            Ex : audio, video, images etc\n",
    "\n",
    " 1. Need of file handling : Data preservance\n",
    "\n",
    "    Role of file handing :\n",
    "\n",
    "                         input----program------output\n",
    "\n",
    " - There is two way store of the data\n",
    "    1. File\n",
    "    2. Database\n",
    "\n",
    " - File and database : are stored in secondary memory\n",
    " - Operating system : software\n",
    "   1. Kernel mode:file\n",
    "   2. User mode:\n",
    "      Update in file\n",
    "\n",
    " - BIOS setup : basic input output system \n",
    "\n",
    " 2. Data sharing :\n",
    " - File permission : rwx\n",
    "\n",
    " 3. Data organization :\n",
    " - Os-----file system-----directory structure-----hierarchical format three data structure\n",
    " - File is reside in hard disk \n",
    " - File will be stored in the form of number of block \n",
    " - Each block is addressable   \n",
    " - Each block address is unique \n",
    " - Hard disk will contains number of blocks\n",
    " - RAM contains number of frame\n",
    " - Backup and recovery \n",
    " - File handling we are performing the operation on the file.\n",
    "   1. Opening the file\n",
    "   2. Closing the file\n",
    "   3. Read/write the file\n",
    "\n",
    " 1. Opening the file :\n",
    "   - When we want create a new file\n",
    "   - Reading the content of the file\n",
    "   - To add or append the data into the file\n",
    "   - To create the new file\n",
    "\n",
    "   - Syntax :\n",
    "     Descripter=open(\"file_name\",'mode')\n",
    "     1. 'r'------ read mode -------- by default open function is having read mode\n",
    "     2. 'w'------ write mode ------ want to write some thing into the file\n",
    "     3. 'a'------ append mode ------ it will add at the end of the file\n",
    "     4. 'x'----- open a file for exclusive creation ,if the file already exists ,the operation fails\n",
    "     5. '+'----- open file for updating\n",
    "\n",
    " 2. Closing the file :\n",
    "    - Once we read the file we will close\n",
    "    - For closing the file we are deallocating all the file resources.\n",
    "    - Syntax :\n",
    "      File descripter.close()\n",
    "\n",
    "\n",
    " 3. Read/Write the file :\n",
    "    \n",
    " - Function :\n",
    "\n",
    " - Write() :  Writes a string to the file.\n",
    "\n",
    " - Tell() : tell current location of curser \n",
    "\n",
    " - Seek() : it is for recenter the curser\n",
    "\n",
    " - Readline(n) : it will read n characters of current line\n",
    "\n",
    "                - if n is specified it will read the entire line\n",
    "\n",
    " - Readlines() : it will return the list of lines\n",
    "\n",
    " - Writelines() : it will take list as a input  \n",
    "                     \n",
    " - This are the memory level opration\n",
    "\n",
    "       - Rename()\n",
    "\n",
    "       - Remove()\n",
    "\n",
    " - Os module\n",
    " - Pythoncode-----os module------os memory manager\n",
    " - Syntax: import os\n",
    " - Os.rename(\"test.txt\",\"sample.txt\")\n",
    " - Os.remove(\"sample.txt\")\n",
    "\n",
    " - Isomorphic string:\n",
    "\n",
    "                   1. s1=fun\n",
    "\n",
    "                      s2=fon\n",
    "\n",
    "                      f-----f\n",
    "\n",
    "                      u-----o\n",
    "\n",
    "                      n-----n\n",
    "\n",
    "                      It is isomorphic pair\n",
    "\n",
    "\n",
    "                   2. s1=add\n",
    "\n",
    "                      s2=egd\n",
    "                          \n",
    "                      a-----e\n",
    "\n",
    "                      d-----g\n",
    "\n",
    "                      d-----d\n",
    "\n",
    "                      It is not a isomorphic pair\n",
    "\n",
    "   \n",
    "\n",
    " - One thing has only a one preimage not more than that.\n",
    " \n",
    " - Unique character\n",
    " - If the first character is not repeated then it is unique character"
   ]
  },
  {
   "cell_type": "raw",
   "id": "e7067ebb-9a03-4735-8a38-76fa8779ba6f",
   "metadata": {},
   "source": [
    "first_name=input(\"enter first name;\")\n",
    "f.write(last_name)\n",
    "f.close()"
   ]
  },
  {
   "cell_type": "code",
   "execution_count": 1,
   "id": "ff48ff60-2ebd-4892-aaee-3b69091518d6",
   "metadata": {},
   "outputs": [],
   "source": [
    "f=open(\"test.txt\",'w')\n",
    "f.write(\"This is file handling \")\n",
    "f.write(\"It is way of storing the data inside the file \")\n",
    "f.close()"
   ]
  },
  {
   "cell_type": "code",
   "execution_count": 2,
   "id": "5c48c0d0-5919-4afc-9c7e-b044db598cbb",
   "metadata": {},
   "outputs": [],
   "source": [
    "f=open(\"test.txt\",'a')\n",
    "f.write (\"This is last line\")\n",
    "f.close()"
   ]
  },
  {
   "cell_type": "code",
   "execution_count": 3,
   "id": "7ba735e6-ad15-42e4-af8f-48294d7675e1",
   "metadata": {},
   "outputs": [
    {
     "name": "stdout",
     "output_type": "stream",
     "text": [
      "This is file handling It is way of storing the data inside the file This is last line\n"
     ]
    }
   ],
   "source": [
    "f=open(\"test.txt\",\"r\")\n",
    "print(f.read())\n",
    "f.close()"
   ]
  },
  {
   "cell_type": "code",
   "execution_count": 24,
   "id": "22b90f53-8ddc-4663-b8cc-7c521223799a",
   "metadata": {},
   "outputs": [],
   "source": [
    "f=open(\"txt.txt\",'w')\n",
    "f.write(\"this is file handling\")\n",
    "f.write(\"it is way o\")\n",
    "f.close()"
   ]
  },
  {
   "cell_type": "code",
   "execution_count": 25,
   "id": "aa13c9fb-0d11-409b-9232-f603f8fbf9d7",
   "metadata": {},
   "outputs": [
    {
     "name": "stdin",
     "output_type": "stream",
     "text": [
      "enter first naame; komal\n",
      "enter last naame; mali\n"
     ]
    },
    {
     "data": {
      "text/plain": [
       "4"
      ]
     },
     "execution_count": 25,
     "metadata": {},
     "output_type": "execute_result"
    }
   ],
   "source": [
    "first_name=input(\"enter first naame;\")\n",
    "last_name=input(\"enter last naame;\")\n",
    "f=open(\"info.txt\",'w')\n",
    "f.write(first_name)\n",
    "f.write(last_name)"
   ]
  },
  {
   "cell_type": "markdown",
   "id": "25898040-4a28-4d13-a1bc-361ebd0f8e1b",
   "metadata": {},
   "source": [
    "# @ File Handling"
   ]
  },
  {
   "cell_type": "code",
   "execution_count": 26,
   "id": "19d61dbf-43ea-4fe2-bada-8d4b04e0bf9d",
   "metadata": {},
   "outputs": [],
   "source": [
    "f=open(\"test.txt\",'w')\n",
    "f.write(\"This is file handling \")\n",
    "f.write(\"It is way of storing the data inside the file \")\n",
    "f.close()"
   ]
  },
  {
   "cell_type": "code",
   "execution_count": 27,
   "id": "e170160a-9529-4e25-b08a-007d5dedee7e",
   "metadata": {},
   "outputs": [],
   "source": [
    "f=open(\"test.txt\",'a')\n",
    "f.write (\"This is last line\")\n",
    "f.close()"
   ]
  },
  {
   "cell_type": "code",
   "execution_count": 28,
   "id": "4808ec53-53c4-4550-bd25-1903ccee2d4a",
   "metadata": {},
   "outputs": [
    {
     "name": "stdout",
     "output_type": "stream",
     "text": [
      "This is file handling It is way of storing the data inside the file This is last line\n"
     ]
    }
   ],
   "source": [
    "f=open(\"test.txt\",\"r\")\n",
    "print(f.read())\n",
    "f.close()"
   ]
  },
  {
   "cell_type": "code",
   "execution_count": 29,
   "id": "1b05b2cb-c0d3-4de1-8b20-1e531943f7ba",
   "metadata": {},
   "outputs": [
    {
     "name": "stdout",
     "output_type": "stream",
     "text": [
      "s file handling It is way of storing the data inside the file This is last line\n"
     ]
    }
   ],
   "source": [
    "f=open(\"test.txt\",'r+')\n",
    "f.write('python')\n",
    "print(f.read())\n",
    "f.close()"
   ]
  },
  {
   "cell_type": "code",
   "execution_count": 4,
   "id": "9d3dd183-d3bb-4db3-8b12-b63ce946888b",
   "metadata": {},
   "outputs": [],
   "source": [
    "f=open(\"new.txt\",'w')\n",
    "f.write('This is first line\\n')\n",
    "f.write('this is second line\\n')\n",
    "f.write('this is third line\\n')\n",
    "f.close() "
   ]
  },
  {
   "cell_type": "code",
   "execution_count": 5,
   "id": "64e68d7e-bced-4dfc-83b5-3d427a476311",
   "metadata": {},
   "outputs": [
    {
     "name": "stdout",
     "output_type": "stream",
     "text": [
      "This is first line\n",
      "\n",
      "this is second line\n",
      "\n",
      "this is third line\n",
      "\n"
     ]
    }
   ],
   "source": [
    "f=open('new.txt','r')\n",
    "for line in f:\n",
    "    print(line)\n",
    "f.close()"
   ]
  },
  {
   "cell_type": "code",
   "execution_count": 9,
   "id": "65e6a9c7-fe10-481c-bc34-630aa398bf7f",
   "metadata": {},
   "outputs": [],
   "source": [
    "f=open('new.txt','r')"
   ]
  },
  {
   "cell_type": "code",
   "execution_count": 10,
   "id": "b54ac8c4-542f-4204-a940-7cd47118f0af",
   "metadata": {},
   "outputs": [
    {
     "data": {
      "text/plain": [
       "'This '"
      ]
     },
     "execution_count": 10,
     "metadata": {},
     "output_type": "execute_result"
    }
   ],
   "source": [
    "f.read(5)"
   ]
  },
  {
   "cell_type": "code",
   "execution_count": 11,
   "id": "74406d4b-82f4-4462-bdf8-a7c173a3fbad",
   "metadata": {},
   "outputs": [
    {
     "data": {
      "text/plain": [
       "'is first l'"
      ]
     },
     "execution_count": 11,
     "metadata": {},
     "output_type": "execute_result"
    }
   ],
   "source": [
    "f.read(10)"
   ]
  },
  {
   "cell_type": "code",
   "execution_count": 13,
   "id": "f146ec62-bdf9-41a6-9489-c143dbb809a4",
   "metadata": {},
   "outputs": [
    {
     "data": {
      "text/plain": [
       "15"
      ]
     },
     "execution_count": 13,
     "metadata": {},
     "output_type": "execute_result"
    }
   ],
   "source": [
    "f.tell()"
   ]
  },
  {
   "cell_type": "code",
   "execution_count": 14,
   "id": "a20a42c4-6773-453d-b4dc-129a909a467e",
   "metadata": {},
   "outputs": [
    {
     "data": {
      "text/plain": [
       "0"
      ]
     },
     "execution_count": 14,
     "metadata": {},
     "output_type": "execute_result"
    }
   ],
   "source": [
    "f.seek(0)"
   ]
  },
  {
   "cell_type": "code",
   "execution_count": 15,
   "id": "b8b929ce-6c76-464d-a962-4a6bef3febf0",
   "metadata": {},
   "outputs": [
    {
     "data": {
      "text/plain": [
       "'This '"
      ]
     },
     "execution_count": 15,
     "metadata": {},
     "output_type": "execute_result"
    }
   ],
   "source": [
    "f.read(5)"
   ]
  },
  {
   "cell_type": "code",
   "execution_count": 16,
   "id": "439505d0-a5b4-4461-a357-52de29741b57",
   "metadata": {},
   "outputs": [],
   "source": [
    "list=['line1','line2','line3']\n",
    "f=open('list.txt','w')\n",
    "f.write('line1\\n')\n",
    "f.write('line2\\n')\n",
    "f.write('line3\\n ')\n",
    "f.close()"
   ]
  },
  {
   "cell_type": "code",
   "execution_count": 17,
   "id": "41c2df8f-52ad-4a02-9c91-43112c39b1bc",
   "metadata": {},
   "outputs": [
    {
     "name": "stdout",
     "output_type": "stream",
     "text": [
      "line1\n",
      "line2\n",
      "line3\n",
      " \n"
     ]
    }
   ],
   "source": [
    "f=open('list.txt','r')\n",
    "print(f.read())\n",
    "f.close()"
   ]
  },
  {
   "cell_type": "code",
   "execution_count": 18,
   "id": "45ea8b9c-b32b-434a-8bd2-da9c39ef8177",
   "metadata": {},
   "outputs": [
    {
     "name": "stdout",
     "output_type": "stream",
     "text": [
      "line1\n",
      "\n",
      "line2\n",
      "\n",
      "line3\n",
      "\n",
      " \n"
     ]
    }
   ],
   "source": [
    "f=open('list.txt','r')\n",
    "for line in f:\n",
    "    print(line)\n",
    "f.close()"
   ]
  },
  {
   "cell_type": "code",
   "execution_count": 19,
   "id": "0d98c816-49ba-419d-99d2-07bc3d1f73c2",
   "metadata": {},
   "outputs": [
    {
     "name": "stdout",
     "output_type": "stream",
     "text": [
      "['This', 'is', 'a', 'file']\n"
     ]
    }
   ],
   "source": [
    "# write a string in list\n",
    "string='This is a file'\n",
    "words_list = string.split()\n",
    "print(words_list)"
   ]
  },
  {
   "cell_type": "code",
   "execution_count": 20,
   "id": "1d8d870a-7c69-416d-83aa-ae88e1054b70",
   "metadata": {},
   "outputs": [],
   "source": [
    "f=open('abc.txt','w+')\n",
    "f.write(\"welcome to python programming\\n\")\n",
    "f.write(\"it is simple coding language\\n\")\n",
    "f.write(\"It is very slow as compare to other language\\n\")\n",
    "f.write(\"It is learning for data science\\n\")\n",
    "f.write(\"7821840239\\n\")\n",
    "f.write(\"@$%^&\")\n",
    "f.close()"
   ]
  },
  {
   "cell_type": "code",
   "execution_count": 21,
   "id": "a4d5d4cb-3fe2-46ff-8872-690f0fe20459",
   "metadata": {},
   "outputs": [
    {
     "name": "stdout",
     "output_type": "stream",
     "text": [
      "welcome to python programming\n",
      "it is simple coding language\n",
      "It is very slow as compare to other language\n",
      "It is learning for data science\n",
      "7821840239\n",
      "@$%^&\n"
     ]
    }
   ],
   "source": [
    "f=open('abc.txt','r+')\n",
    "print(f.read())\n",
    "f.close()"
   ]
  },
  {
   "cell_type": "code",
   "execution_count": 22,
   "id": "3d80a578-2752-460d-b0e2-703f4d61afd3",
   "metadata": {},
   "outputs": [
    {
     "data": {
      "text/plain": [
       "'welcom to python program\\n'"
      ]
     },
     "execution_count": 22,
     "metadata": {},
     "output_type": "execute_result"
    }
   ],
   "source": [
    "f=open(\"abc.txt\",'r+')\n",
    "f.readline()"
   ]
  },
  {
   "cell_type": "code",
   "execution_count": 23,
   "id": "83e322a7-485e-460e-a62a-41a105d18e09",
   "metadata": {},
   "outputs": [
    {
     "data": {
      "text/plain": [
       "0"
      ]
     },
     "execution_count": 23,
     "metadata": {},
     "output_type": "execute_result"
    }
   ],
   "source": [
    "f.seek(0)"
   ]
  },
  {
   "cell_type": "code",
   "execution_count": 24,
   "id": "11c5257e-d71b-4c6c-a02e-ff4584db4572",
   "metadata": {},
   "outputs": [],
   "source": [
    "f.close()"
   ]
  },
  {
   "cell_type": "code",
   "execution_count": 20,
   "id": "f325246b-3111-4911-a580-d140a15ec7d3",
   "metadata": {},
   "outputs": [
    {
     "name": "stdout",
     "output_type": "stream",
     "text": [
      "welcom to python program\n",
      "\n"
     ]
    }
   ],
   "source": [
    "f=open(\"abc.txt\",'r+')\n",
    "list=f.readline()\n",
    "print(list)\n",
    "f.close()"
   ]
  },
  {
   "cell_type": "code",
   "execution_count": 28,
   "id": "11cb2b09-423d-4bcc-9589-a957dc8640b6",
   "metadata": {},
   "outputs": [
    {
     "name": "stdout",
     "output_type": "stream",
     "text": [
      "['welcome to python programming\\n', 'it is simple coding language\\n', 'It is very slow as compare to other language\\n', 'It is learning for data science\\n', '7821840239\\n', '@$%^&']\n",
      "6\n"
     ]
    }
   ],
   "source": [
    "f=open('abc.txt','r+')\n",
    "list=f.readlines()\n",
    "print(list)\n",
    "print(len(list))\n",
    "f.close()"
   ]
  },
  {
   "cell_type": "code",
   "execution_count": 27,
   "id": "5f13d8a9-ce72-42ac-8e32-51d411316e68",
   "metadata": {},
   "outputs": [
    {
     "name": "stdout",
     "output_type": "stream",
     "text": [
      "6\n"
     ]
    }
   ],
   "source": [
    "# count the number of character present in the text file\n",
    "f=open(\"abc.txt\",'r+')\n",
    "string=f.read()\n",
    "print(len(\"string\"))\n",
    "f.close()"
   ]
  },
  {
   "cell_type": "code",
   "execution_count": 29,
   "id": "5841bd82-281f-42f5-ac3b-d5d70d69f31d",
   "metadata": {},
   "outputs": [
    {
     "name": "stdout",
     "output_type": "stream",
     "text": [
      "21\n",
      "['welcome', 'to', 'python', 'programming\\nit', 'is', 'simple', 'coding', 'language\\nIt', 'is', 'very', 'slow', 'as', 'compare', 'to', 'other', 'language\\nIt', 'is', 'learning', 'for', 'data', 'science\\n7821840239\\n@$%^&']\n"
     ]
    }
   ],
   "source": [
    "# number of word in text file\n",
    "f=open(\"abc.txt\",'r+')\n",
    "string=f.read()\n",
    "new=string.split(' ')\n",
    "print(len(new))\n",
    "print(new)\n",
    "f.close()"
   ]
  },
  {
   "cell_type": "code",
   "execution_count": 30,
   "id": "202c10c9-b78f-4570-9812-585d1b216267",
   "metadata": {},
   "outputs": [
    {
     "name": "stdout",
     "output_type": "stream",
     "text": [
      "['it', 'is', 'simple', 'coding', 'language\\n']\n",
      "5\n",
      "['It', 'is', 'learning', 'for', 'data', 'science\\n']\n",
      "6\n",
      "['@$%^&']\n",
      "1\n"
     ]
    }
   ],
   "source": [
    "f=open('abc.txt','r+')\n",
    "for i in f:\n",
    "    list1=f.readline()\n",
    "    new=list1.split(' ')\n",
    "    print(new)\n",
    "    print(len(new))\n",
    "f.close()"
   ]
  },
  {
   "cell_type": "code",
   "execution_count": 63,
   "id": "bf64dfa9-1ef5-482d-87f2-5fc6dfcc1198",
   "metadata": {},
   "outputs": [
    {
     "name": "stdout",
     "output_type": "stream",
     "text": [
      "26\n",
      "['welcome', 'to', 'python', 'programming', 'it', 'is', 'simple', 'coding', 'language', 'It', 'is', 'very', 'slow', 'as', 'compare', 'to', 'other', 'language', 'It', 'is', 'learning', 'for', 'data', 'science', '7821840239', '@$%^&']\n"
     ]
    }
   ],
   "source": [
    "f = open(\"abc.txt\", 'r+')\n",
    "string = f.read()\n",
    "new = string.split()  \n",
    "print(len(new))\n",
    "print(new)  \n",
    "f.close()"
   ]
  },
  {
   "cell_type": "code",
   "execution_count": 34,
   "id": "970da356-b0e4-4e42-be48-e82de469c5e7",
   "metadata": {},
   "outputs": [
    {
     "name": "stdout",
     "output_type": "stream",
     "text": [
      "alphabets= 112\n",
      "digits= 10\n",
      "spaces= 25\n",
      "special= 5\n"
     ]
    }
   ],
   "source": [
    "# count the number of alpha digit spaces special characters in text file\n",
    "f=open(\"abc.txt\",'r+')\n",
    "string=f.read()\n",
    "alpha=0\n",
    "digit=0\n",
    "spaces=0\n",
    "special=0\n",
    "for c in string:\n",
    "    if c.isalpha():\n",
    "        alpha+=1\n",
    "    elif c.isdigit():\n",
    "        digit+=1\n",
    "    elif c.isspace():\n",
    "        spaces+=1\n",
    "    else:\n",
    "       special+=1\n",
    "print(\"alphabets=\",alpha)\n",
    "print(\"digits=\",digit)\n",
    "print(\"spaces=\",spaces)\n",
    "print(\"special=\",special)\n",
    "f.close()\n",
    "        "
   ]
  },
  {
   "cell_type": "code",
   "execution_count": 35,
   "id": "1a5e4343-737b-4e19-abdd-be66f8635539",
   "metadata": {},
   "outputs": [
    {
     "name": "stdout",
     "output_type": "stream",
     "text": [
      "welcome to python programming\n",
      "\n",
      "alphabets= 26\n",
      "digits= 0\n",
      "spaces= 4\n",
      "special character= 0\n",
      "it is simple coding language\n",
      "\n",
      "alphabets= 24\n",
      "digits= 0\n",
      "spaces= 5\n",
      "special character= 0\n",
      "It is very slow as compare to other language\n",
      "\n",
      "alphabets= 36\n",
      "digits= 0\n",
      "spaces= 9\n",
      "special character= 0\n",
      "It is learning for data science\n",
      "\n",
      "alphabets= 26\n",
      "digits= 0\n",
      "spaces= 6\n",
      "special character= 0\n",
      "7821840239\n",
      "\n",
      "alphabets= 0\n",
      "digits= 10\n",
      "spaces= 1\n",
      "special character= 0\n",
      "@$%^&\n",
      "alphabets= 0\n",
      "digits= 0\n",
      "spaces= 0\n",
      "special character= 5\n"
     ]
    }
   ],
   "source": [
    "f=open('abc.txt','r+')\n",
    "list=f.readlines()\n",
    "for line in list:\n",
    "    alpha=0\n",
    "    digit=0\n",
    "    spaces=0\n",
    "    specialcharacter=0\n",
    "    for ch in line:\n",
    "        if ch.isalpha():\n",
    "           alpha+=1\n",
    "        elif ch.isdigit():\n",
    "           digit+=1\n",
    "        elif ch.isspace():\n",
    "           spaces+=1\n",
    "        else:\n",
    "           specialcharacter+=1\n",
    "   \n",
    "    print(line)\n",
    "    print('alphabets=',alpha)\n",
    "    print('digits=',digit)\n",
    "    print(\"spaces=\",spaces)\n",
    "    print(\"special character=\",specialcharacter)\n",
    "f.close()   "
   ]
  },
  {
   "cell_type": "code",
   "execution_count": 41,
   "id": "45a554b9-e8ce-41f5-957a-f55543d053fa",
   "metadata": {},
   "outputs": [
    {
     "name": "stdout",
     "output_type": "stream",
     "text": [
      "Line 1: 4 words\n",
      "Line 2: 4 words\n",
      "Line 3: 12 words\n"
     ]
    }
   ],
   "source": [
    "with open(\"abc.txt\", 'r') as f:\n",
    "    lines = f.readlines()  \n",
    "    for i, line in enumerate(lines, start=1):\n",
    "        word_count = len(line.split())  \n",
    "        print(f\"Line {i}: {word_count} words\")"
   ]
  },
  {
   "cell_type": "code",
   "execution_count": 37,
   "id": "0ad28e21-af90-43be-ba6d-f62ce1287513",
   "metadata": {},
   "outputs": [
    {
     "name": "stdout",
     "output_type": "stream",
     "text": [
      "Line 1:\n",
      "  Alphabets: 26\n",
      "  Digits: 0\n",
      "  Spaces: 4\n",
      "  Special Characters: 0\n",
      "Line 2:\n",
      "  Alphabets: 24\n",
      "  Digits: 0\n",
      "  Spaces: 5\n",
      "  Special Characters: 0\n",
      "Line 3:\n",
      "  Alphabets: 36\n",
      "  Digits: 0\n",
      "  Spaces: 9\n",
      "  Special Characters: 0\n",
      "Line 4:\n",
      "  Alphabets: 26\n",
      "  Digits: 0\n",
      "  Spaces: 6\n",
      "  Special Characters: 0\n",
      "Line 5:\n",
      "  Alphabets: 0\n",
      "  Digits: 10\n",
      "  Spaces: 1\n",
      "  Special Characters: 0\n",
      "Line 6:\n",
      "  Alphabets: 0\n",
      "  Digits: 0\n",
      "  Spaces: 0\n",
      "  Special Characters: 5\n"
     ]
    }
   ],
   "source": [
    "### Count the number of alphabets, digit,space,and special character in each line in the text file\n",
    "with open(\"abc.txt\", 'r') as f:\n",
    "    lines = f.readlines()\n",
    "    for i, line in enumerate(lines, start=1):\n",
    "        alphabets = sum(1 for char in line if char.isalpha())\n",
    "        digits = sum(1 for char in line if char.isdigit())\n",
    "        spaces = sum(1 for char in line if char.isspace())\n",
    "        special_chars = sum(1 for char in line if not char.isalnum() and not char.isspace())\n",
    "        \n",
    "        print(f\"Line {i}:\")\n",
    "        print(f\"  Alphabets: {alphabets}\")\n",
    "        print(f\"  Digits: {digits}\")\n",
    "        print(f\"  Spaces: {spaces}\")\n",
    "        print(f\"  Special Characters: {special_chars}\")"
   ]
  },
  {
   "cell_type": "code",
   "execution_count": 38,
   "id": "a93291ea-ab27-4e4c-86f9-a29b963f8524",
   "metadata": {},
   "outputs": [
    {
     "name": "stdout",
     "output_type": "stream",
     "text": [
      "Line 1:\n",
      "  Vowels: 8\n",
      "  Consonants: 18\n",
      "Line 2:\n",
      "  Vowels: 10\n",
      "  Consonants: 14\n",
      "Line 3:\n",
      "  Vowels: 15\n",
      "  Consonants: 21\n",
      "Line 4:\n",
      "  Vowels: 11\n",
      "  Consonants: 15\n",
      "Line 5:\n",
      "  Vowels: 0\n",
      "  Consonants: 0\n",
      "Line 6:\n",
      "  Vowels: 0\n",
      "  Consonants: 0\n"
     ]
    }
   ],
   "source": [
    "#count the vowels and consonents in the word of text file\n",
    "vowels_set = {'a', 'e', 'i', 'o', 'u', 'A', 'E', 'I', 'O', 'U'}\n",
    "f= open(\"abc.txt\", 'r') \n",
    "lines = f.readlines()\n",
    "for i, line in enumerate(lines, start=1):\n",
    "        vowels = sum(1 for char in line if char in vowels_set)\n",
    "        consonants = sum(1 for char in line if char.isalpha() and char not in vowels_set)\n",
    "        \n",
    "        print(f\"Line {i}:\")\n",
    "        print(f\"  Vowels: {vowels}\")\n",
    "        print(f\"  Consonants: {consonants}\")\n",
    "f.close()"
   ]
  },
  {
   "cell_type": "code",
   "execution_count": 39,
   "id": "f903b41c-178b-4f49-9afe-bb44659b01c5",
   "metadata": {},
   "outputs": [
    {
     "name": "stdout",
     "output_type": "stream",
     "text": [
      "Total number of vowels: 44\n"
     ]
    }
   ],
   "source": [
    "#count the vowels and consonents in the text file\n",
    "with open('abc.txt', 'r+') as f:\n",
    "    string = f.read()\n",
    "listofwords = string.split()\n",
    "vowels = 0\n",
    "for word in listofwords:\n",
    "    for ch in word:\n",
    "        if ch.lower() in ['a', 'e', 'i', 'o', 'u']:\n",
    "            vowels += 1\n",
    "print(\"Total number of vowels:\", vowels)"
   ]
  },
  {
   "cell_type": "code",
   "execution_count": 68,
   "id": "0fa9d4db-901d-4791-9dab-cf78426c586e",
   "metadata": {},
   "outputs": [
    {
     "name": "stdout",
     "output_type": "stream",
     "text": [
      "Maximum words in a line: 12\n",
      "Minimum words in a line: 4\n"
     ]
    }
   ],
   "source": [
    "# Count the max and min in the text file \n",
    "with open(\"abc.txt\", 'r') as f:\n",
    "    lines = f.readlines()\n",
    "    word_counts = [len(line.split()) for line in lines]  \n",
    "\n",
    "    max_words = max(word_counts)  \n",
    "    min_words = min(word_counts)  \n",
    "\n",
    "print(\"Maximum words in a line:\", max_words)\n",
    "print(\"Minimum words in a line:\", min_words)"
   ]
  },
  {
   "cell_type": "code",
   "execution_count": 69,
   "id": "03e5a446-16f8-494f-a461-f9935a38d56b",
   "metadata": {},
   "outputs": [
    {
     "name": "stdout",
     "output_type": "stream",
     "text": [
      "Line 1:\n",
      "  Maximum word length: 7\n",
      "  Minimum word length: 2\n",
      "Line 2:\n",
      "  Maximum word length: 5\n",
      "  Minimum word length: 1\n",
      "Line 3:\n",
      "  Maximum word length: 8\n",
      "  Minimum word length: 2\n"
     ]
    }
   ],
   "source": [
    "# Count the max and min in the file by each line \n",
    "with open(\"abc.txt\", 'r') as f:\n",
    "    lines = f.readlines()\n",
    "    for i, line in enumerate(lines, start=1):\n",
    "        words = line.split() \n",
    "        word_lengths = [len(word) for word in words]  \n",
    "        \n",
    "        if word_lengths:  \n",
    "            max_word_length = max(word_lengths)\n",
    "            min_word_length = min(word_lengths)\n",
    "        else:\n",
    "            max_word_length = 0  \n",
    "            min_word_length = 0\n",
    "\n",
    "        print(f\"Line {i}:\")\n",
    "        print(f\"  Maximum word length: {max_word_length}\")\n",
    "        print(f\"  Minimum word length: {min_word_length}\")"
   ]
  },
  {
   "cell_type": "code",
   "execution_count": 40,
   "id": "526b1b51-3477-42ae-aa62-ebfc35daafcc",
   "metadata": {},
   "outputs": [],
   "source": [
    "f=open(\"q.txt\",'w')\n",
    "list=['python programming\\n',\"modularity\\n\",\"high level\\n\"]\n",
    "f.writelines(list)\n",
    "f.close()"
   ]
  },
  {
   "cell_type": "code",
   "execution_count": 42,
   "id": "855a7b0f-bf92-48ae-94da-f78b52de3ca9",
   "metadata": {},
   "outputs": [
    {
     "name": "stdout",
     "output_type": "stream",
     "text": [
      "python programming\n",
      "modularity\n",
      "high level\n",
      "\n"
     ]
    }
   ],
   "source": [
    "f=open(\"q.txt\",'r')\n",
    "print(f.read())\n",
    "f.close()"
   ]
  },
  {
   "cell_type": "code",
   "execution_count": 8,
   "id": "3169df86-cebc-48f4-9b2c-f5123a424ed8",
   "metadata": {},
   "outputs": [
    {
     "name": "stdout",
     "output_type": "stream",
     "text": [
      "language\n"
     ]
    }
   ],
   "source": [
    "def largest_word(file):\n",
    "    with open(file,'r') as f:\n",
    "        data=f.read()\n",
    "        word=data.split()\n",
    "        largest=word[0]\n",
    "        for w in word:\n",
    "          if len(w)>len(largest):\n",
    "           largest=w\n",
    "    return largest\n",
    "file=\"abc.txt\"\n",
    "largest=largest_word(file)\n",
    "print(largest)"
   ]
  },
  {
   "cell_type": "code",
   "execution_count": 43,
   "id": "dcdb18d7-eefa-4e8e-b0a7-865b79036c4d",
   "metadata": {},
   "outputs": [
    {
     "name": "stdout",
     "output_type": "stream",
     "text": [
      "Largest word in line 1: programming\n",
      "Largest word in line 2: language\n",
      "Largest word in line 3: language\n",
      "Largest word in line 4: learning\n",
      "Largest word in line 5: 7821840239\n",
      "Largest word in line 6: @$%^&\n"
     ]
    }
   ],
   "source": [
    "# find the largest word in each line by using text file \n",
    "def find_largest_word_in_line(filename):\n",
    "    largest_words = []\n",
    "    with open(filename, 'r') as file:\n",
    "        for line in file:\n",
    "            words = line.split()\n",
    "            if words:  \n",
    "                largest_word = max(words, key=len)\n",
    "                largest_words.append(largest_word)\n",
    "    return largest_words\n",
    "largest_words_per_line = find_largest_word_in_line(\"abc.txt\")\n",
    "for idx, word in enumerate(largest_words_per_line, 1):\n",
    "    print(f\"Largest word in line {idx}: {word}\")"
   ]
  },
  {
   "cell_type": "code",
   "execution_count": 45,
   "id": "6368f1de-42b7-4476-95eb-d9a3a40aa129",
   "metadata": {},
   "outputs": [
    {
     "name": "stdin",
     "output_type": "stream",
     "text": [
      "enter first string: fun\n",
      "enter second string: fon\n"
     ]
    },
    {
     "name": "stdout",
     "output_type": "stream",
     "text": [
      "True\n"
     ]
    }
   ],
   "source": [
    "def are_isomorphic(str1, str2):\n",
    "    if len(str1) != len(str2):\n",
    "        return False\n",
    "    \n",
    "    map_str1_to_str2 = {}\n",
    "    map_str2_to_str1 = {}\n",
    "\n",
    "    for char1, char2 in zip(str1, str2):\n",
    "        # Check mapping from str1 to str2\n",
    "        if char1 in map_str1_to_str2:\n",
    "            if map_str1_to_str2[char1] != char2:\n",
    "                return False\n",
    "        else:\n",
    "            map_str1_to_str2[char1] = char2\n",
    "        if char2 in map_str2_to_str1:\n",
    "            if map_str2_to_str1[char2] != char1:\n",
    "                return False\n",
    "        else:\n",
    "            map_str2_to_str1[char2] = char1\n",
    "\n",
    "    return True\n",
    "\n",
    "str1=input(\"enter first string:\")\n",
    "str2=input(\"enter second string:\")\n",
    "print(are_isomorphic(str1, str2))"
   ]
  },
  {
   "cell_type": "code",
   "execution_count": 70,
   "id": "b6346b80-ea83-4bc6-9ae4-966dbadf69a5",
   "metadata": {},
   "outputs": [],
   "source": [
    "# copy the content of a file 1 into file 2\n",
    "f1=open('abc.txt','r')\n",
    "f2=open(\"p.txt\",'w')\n",
    "data=f1.read()\n",
    "f2.write(data)\n",
    "f1.close()\n",
    "f2.close()"
   ]
  },
  {
   "cell_type": "code",
   "execution_count": 46,
   "id": "ee0a00c2-1eb7-4aff-bab2-47ae04fa3b82",
   "metadata": {},
   "outputs": [
    {
     "name": "stdout",
     "output_type": "stream",
     "text": [
      "welcom to python program\n",
      " hii i am komal\n",
      "hii how are you python is very slow campare to other language \n",
      "\n"
     ]
    }
   ],
   "source": [
    "f2=open(\"p.txt\",'r')\n",
    "print(f2.read())\n",
    "f2.close()"
   ]
  },
  {
   "cell_type": "code",
   "execution_count": 72,
   "id": "08e206ac-8483-48ac-9be6-74c42b652634",
   "metadata": {},
   "outputs": [],
   "source": [
    "# read the file1 and count the numbers of words in first and copy it to file 2\n",
    "f1=open('abc.txt','r')\n",
    "f2=open(\"p.txt\",'w')\n",
    "data=f1.read()\n",
    "list=data.split()\n",
    "f2.write(str(len(list))\n",
    "f1.close()\n",
    "f2.close()"
   ]
  },
  {
   "cell_type": "code",
   "execution_count": 74,
   "id": "caca6e6e-1d11-45ed-bff7-76f989f0838d",
   "metadata": {},
   "outputs": [
    {
     "name": "stdout",
     "output_type": "stream",
     "text": [
      "welcom to python program\n",
      " hii i am komal\n",
      "hii how are you python is very slow campare to other language \n",
      "\n"
     ]
    }
   ],
   "source": [
    "f2=open(\"p.txt\",'r')\n",
    "print(f2.read())\n",
    "f2.close()"
   ]
  },
  {
   "cell_type": "code",
   "execution_count": 77,
   "id": "31217a10-2c37-4187-8145-438fc3d48c7f",
   "metadata": {},
   "outputs": [],
   "source": [
    "#read file1 and make the alphabets in file2 is @ and for numbers is #\n",
    "f1=open(\"file1\",'w')\n",
    "f1.write(\"python programming is a simple one\\n\")\n",
    "f1.write(\"python is good for scripting\\n\")\n",
    "f1.write(\"python is really good for automation\\n\")\n",
    "f1.write(\"python has good backend framework\\n\")\n",
    "f1.write(\"134 567 8907\")\n",
    "f1.write(\"!@#$%^&*\")\n",
    "f1.close()"
   ]
  },
  {
   "cell_type": "code",
   "execution_count": 78,
   "id": "5477b16b-4ac3-4245-a63f-37bb34603221",
   "metadata": {},
   "outputs": [],
   "source": [
    "f1=open(\"file1\",'r')\n",
    "f2=open(\"file2\",\"w\")\n",
    "data=f1.read()\n",
    "for c in data:\n",
    "    if c.isalpha():\n",
    "        f2.write(\"*\")\n",
    "    elif c.isdigit():\n",
    "        f2.write(\"#\")\n",
    "    elif c.isspace():\n",
    "        f2.write(\"@\")\n",
    "    else:\n",
    "        f2.write(c)\n",
    "f1.close()\n",
    "f2.close()"
   ]
  },
  {
   "cell_type": "code",
   "execution_count": 79,
   "id": "aee9f8c8-e12e-470b-a298-44d7de7f9591",
   "metadata": {},
   "outputs": [
    {
     "name": "stdout",
     "output_type": "stream",
     "text": [
      "******@***********@**@*@******@***@******@**@****@***@*********@******@**@******@****@***@**********@******@***@****@*******@*********@###@###@####!@#$%^&*\n"
     ]
    }
   ],
   "source": [
    "f2=open('file2','r')\n",
    "print(f2.read())\n",
    "f2.close()"
   ]
  },
  {
   "cell_type": "markdown",
   "id": "820a9c88-6d19-435e-b586-28d5efa0eb38",
   "metadata": {},
   "source": [
    "# @ Directory "
   ]
  },
  {
   "cell_type": "markdown",
   "id": "5bb158b2-d6dd-4793-9497-bf56a592dc4b",
   "metadata": {},
   "source": [
    " - Directory will plays the very important role in file system\n",
    " - File will be organized in the form of directory structure\n",
    " - Directory is nothing but the folder it will contain the files or sub directory\n",
    " - Directory have the hierarchical structure(tree)\n",
    " - Root directory (parent) is always the root of the tree\n",
    " - All the files and sub directories are the children for the root directory\n",
    " - \\Root------root directory\n",
    " - \\.--------parent directory\n",
    " - \\..------child directory or leaf node of the directory\n",
    " - To perform the operation on directories we have to use os module \n",
    " - Syntax : import os\n",
    "   Current working directory\n",
    "   Change the directory\n",
    "   Create the directory\n",
    "   Remove the directory\n",
    "\n",
    " - If there are multiple file in your program (python code) better to keep that files in a differnce directories\n",
    " - Because directory will provides maintainability and scalability\n",
    " - We can access directory using 2 paths\n",
    "  1. relative path : Path from the current working directory\n",
    "  2. Absolute path : Path from the root directory\n",
    "\n",
    " - Maintainability :  1. If we make any changes in one file it wont affect the other file\n",
    "\n",
    "                     2. Readability\n",
    "\n",
    "                     3. Modularity\n",
    "\n",
    "                     4. Well organized\n",
    "\n",
    " - Scalability : - If the load is occurs it is handle by the directory itself\n",
    "\n",
    "                 - No performance issue\n",
    "\n",
    "   \n",
    "              1. Verticle scaling (monolithic architecture) :\n",
    "\n",
    "                      - It is strict to single system\n",
    "\n",
    "                      - If we  want to scale it we will increase the resoureces for that system\n",
    "\n",
    "              2. Horizontal scaling:\n",
    "\n",
    "                           - Distributed computing\n",
    "\n",
    "                           - Instead of increase the resourcces for one system we will increase the number of system\n",
    "\n",
    "                           - We are writing a code in one system which is applicable on all system in the clustter\n",
    "\n",
    "                           - Directory structure will follows the horizontal scaling\n",
    "\n",
    "                           - We are communicating with operating system through python code using os module\n",
    "\n",
    "                           - To perform the operations on directories we have to use os module\n",
    "\n",
    "   \n",
    " - Syntax : import os\n",
    " - Oprations :\n",
    "              1. Current working directory\n",
    "\n",
    "              2. Change the directory\n",
    "\n",
    "              3. Create new directory\n",
    "\n",
    "              4. Remove the directory\n",
    "\n",
    " @ Drawbacks of file handling :\n",
    " 1. Redundancy : we can have multiple files with the same name\n",
    " 2. Inconsistency : komal.txt\n",
    " 3. Security \n"
   ]
  },
  {
   "cell_type": "code",
   "execution_count": 49,
   "id": "32ef0552-7306-4ec9-8f1f-1128569ccad8",
   "metadata": {},
   "outputs": [
    {
     "data": {
      "text/plain": [
       "0"
      ]
     },
     "execution_count": 49,
     "metadata": {},
     "output_type": "execute_result"
    }
   ],
   "source": [
    "import os\n",
    "os.system (\"notepad\")"
   ]
  },
  {
   "cell_type": "code",
   "execution_count": 50,
   "id": "1264e2f2-09e2-481e-9b22-13be95978480",
   "metadata": {},
   "outputs": [
    {
     "data": {
      "text/plain": [
       "'C:\\\\Users\\\\Komal prakash mali\\\\Data science'"
      ]
     },
     "execution_count": 50,
     "metadata": {},
     "output_type": "execute_result"
    }
   ],
   "source": [
    "# how to get creating directory\n",
    "import os\n",
    "os.getcwd()"
   ]
  },
  {
   "cell_type": "code",
   "execution_count": 51,
   "id": "44f012b7-1668-4f61-bedb-50d33742d21b",
   "metadata": {},
   "outputs": [],
   "source": [
    "# changing the current working directory\n",
    "os.chdir('C:\\\\Users\\\\Komal prakash mali\\\\Data science')"
   ]
  },
  {
   "cell_type": "code",
   "execution_count": 52,
   "id": "94a16146-d10c-4f4d-9499-f501609df373",
   "metadata": {},
   "outputs": [
    {
     "data": {
      "text/plain": [
       "'C:\\\\Users\\\\Komal prakash mali\\\\Data science'"
      ]
     },
     "execution_count": 52,
     "metadata": {},
     "output_type": "execute_result"
    }
   ],
   "source": [
    "os.getcwd()"
   ]
  },
  {
   "cell_type": "code",
   "execution_count": 53,
   "id": "25c4507b-960f-4968-8201-8c740a2fe0e3",
   "metadata": {},
   "outputs": [
    {
     "data": {
      "text/plain": [
       "[' Structure Query Language.ipynb',\n",
       " '.ipynb_checkpoints',\n",
       " '1. Python Programs.ipynb',\n",
       " '2. Data Structure.ipynb',\n",
       " '3. Regular Expression.ipynb',\n",
       " '4. File handling.ipynb',\n",
       " '5. Exceptional Handling.ipynb',\n",
       " '6. Object Oriented Programming.ipynb',\n",
       " '8. Modules & Package.ipynb',\n",
       " '9. Predefined Function.ipynb',\n",
       " 'abc.txt',\n",
       " 'Assignment Predefined Function.ipynb',\n",
       " 'file1',\n",
       " 'file2',\n",
       " 'info.txt',\n",
       " 'komal',\n",
       " 'Leet Code.ipynb',\n",
       " 'list.txt',\n",
       " 'new.txt',\n",
       " 'p.txt',\n",
       " 'practice Q .ipynb',\n",
       " 'q.txt',\n",
       " 'recursion code.ipynb',\n",
       " 'test.txt',\n",
       " 'tressing program',\n",
       " 'txt.txt',\n",
       " 'Untitled.ipynb',\n",
       " 'untitled.txt',\n",
       " 'Untitled1.ipynb',\n",
       " 'Untitled2.ipynb',\n",
       " 'Untitled3.ipynb',\n",
       " 'Untitled4.ipynb',\n",
       " 'Untitled5.ipynb',\n",
       " 'Untitled6.ipynb']"
      ]
     },
     "execution_count": 53,
     "metadata": {},
     "output_type": "execute_result"
    }
   ],
   "source": [
    "os.listdir(os.getcwd())"
   ]
  },
  {
   "cell_type": "code",
   "execution_count": 54,
   "id": "2ac3f2d4-ca3a-451a-88a7-2e76aaa8f69d",
   "metadata": {},
   "outputs": [],
   "source": [
    "#create the new directory in current working directory\n",
    "os.mkdir(\"test\")"
   ]
  },
  {
   "cell_type": "code",
   "execution_count": 55,
   "id": "a29d7d38-9818-472f-997c-c5bb97f6b5ed",
   "metadata": {},
   "outputs": [
    {
     "data": {
      "text/plain": [
       "[' Structure Query Language.ipynb',\n",
       " '.ipynb_checkpoints',\n",
       " '1. Python Programs.ipynb',\n",
       " '2. Data Structure.ipynb',\n",
       " '3. Regular Expression.ipynb',\n",
       " '4. File handling.ipynb',\n",
       " '5. Exceptional Handling.ipynb',\n",
       " '6. Object Oriented Programming.ipynb',\n",
       " '8. Modules & Package.ipynb',\n",
       " '9. Predefined Function.ipynb',\n",
       " 'abc.txt',\n",
       " 'Assignment Predefined Function.ipynb',\n",
       " 'file1',\n",
       " 'file2',\n",
       " 'info.txt',\n",
       " 'komal',\n",
       " 'Leet Code.ipynb',\n",
       " 'list.txt',\n",
       " 'new.txt',\n",
       " 'p.txt',\n",
       " 'practice Q .ipynb',\n",
       " 'q.txt',\n",
       " 'recursion code.ipynb',\n",
       " 'test',\n",
       " 'test.txt',\n",
       " 'tressing program',\n",
       " 'txt.txt',\n",
       " 'Untitled.ipynb',\n",
       " 'untitled.txt',\n",
       " 'Untitled1.ipynb',\n",
       " 'Untitled2.ipynb',\n",
       " 'Untitled3.ipynb',\n",
       " 'Untitled4.ipynb',\n",
       " 'Untitled5.ipynb',\n",
       " 'Untitled6.ipynb']"
      ]
     },
     "execution_count": 55,
     "metadata": {},
     "output_type": "execute_result"
    }
   ],
   "source": [
    "os.listdir(os.getcwd())"
   ]
  },
  {
   "cell_type": "code",
   "execution_count": 58,
   "id": "bd92d07f-b57a-4d88-95a2-1ee5e76deae7",
   "metadata": {},
   "outputs": [
    {
     "data": {
      "text/plain": [
       "'C:\\\\Users\\\\Komal prakash mali\\\\Data science'"
      ]
     },
     "execution_count": 58,
     "metadata": {},
     "output_type": "execute_result"
    }
   ],
   "source": [
    "# removing the directory\n",
    "os.getcwd()"
   ]
  },
  {
   "cell_type": "code",
   "execution_count": 62,
   "id": "9bc39a7a-9c3a-4862-942d-3ba2fd4d23b5",
   "metadata": {},
   "outputs": [],
   "source": [
    "os.rename(\"test\",\"test1\")"
   ]
  },
  {
   "cell_type": "code",
   "execution_count": 60,
   "id": "7b7f90e2-3b6b-465a-8037-1a8b4c452997",
   "metadata": {},
   "outputs": [
    {
     "data": {
      "text/plain": [
       "[' Structure Query Language.ipynb',\n",
       " '.ipynb_checkpoints',\n",
       " '1. Python Programs.ipynb',\n",
       " '2. Data Structure.ipynb',\n",
       " '3. Regular Expression.ipynb',\n",
       " '4. File handling.ipynb',\n",
       " '5. Exceptional Handling.ipynb',\n",
       " '6. Object Oriented Programming.ipynb',\n",
       " '8. Modules & Package.ipynb',\n",
       " '9. Predefined Function.ipynb',\n",
       " 'abc.txt',\n",
       " 'Assignment Predefined Function.ipynb',\n",
       " 'file1',\n",
       " 'file2',\n",
       " 'info.txt',\n",
       " 'komal',\n",
       " 'Leet Code.ipynb',\n",
       " 'list.txt',\n",
       " 'new.txt',\n",
       " 'p.txt',\n",
       " 'practice Q .ipynb',\n",
       " 'q.txt',\n",
       " 'recursion code.ipynb',\n",
       " 'test',\n",
       " 'test.txt',\n",
       " 'tressing program',\n",
       " 'txt.txt',\n",
       " 'Untitled.ipynb',\n",
       " 'untitled.txt',\n",
       " 'Untitled1.ipynb',\n",
       " 'Untitled2.ipynb',\n",
       " 'Untitled3.ipynb',\n",
       " 'Untitled4.ipynb',\n",
       " 'Untitled5.ipynb',\n",
       " 'Untitled6.ipynb']"
      ]
     },
     "execution_count": 60,
     "metadata": {},
     "output_type": "execute_result"
    }
   ],
   "source": [
    "os.listdir(os.getcwd())"
   ]
  },
  {
   "cell_type": "code",
   "execution_count": 61,
   "id": "928efc0b-e6c6-40c6-9804-4777fe771713",
   "metadata": {},
   "outputs": [
    {
     "data": {
      "text/plain": [
       "720"
      ]
     },
     "execution_count": 61,
     "metadata": {},
     "output_type": "execute_result"
    }
   ],
   "source": [
    "import math\n",
    "math.factorial(6)"
   ]
  }
 ],
 "metadata": {
  "kernelspec": {
   "display_name": "Python 3 (ipykernel)",
   "language": "python",
   "name": "python3"
  },
  "language_info": {
   "codemirror_mode": {
    "name": "ipython",
    "version": 3
   },
   "file_extension": ".py",
   "mimetype": "text/x-python",
   "name": "python",
   "nbconvert_exporter": "python",
   "pygments_lexer": "ipython3",
   "version": "3.13.0"
  }
 },
 "nbformat": 4,
 "nbformat_minor": 5
}
