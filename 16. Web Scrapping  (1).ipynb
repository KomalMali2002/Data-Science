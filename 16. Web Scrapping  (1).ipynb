{
 "cells": [
  {
   "cell_type": "markdown",
   "id": "c0eebf23-8efa-4716-87b4-7ad108a40084",
   "metadata": {},
   "source": [
    "# Scrapping"
   ]
  },
  {
   "cell_type": "markdown",
   "id": "99609fa0-855e-44e3-b553-16c9ae6574c2",
   "metadata": {},
   "source": [
    "### @  First step of a data science life cycle \n",
    " 1. Data gathering or acquisition \n",
    " - we are gathering the data from different kinds of resources\n",
    "    1. repository --- > data --> kaggle\n",
    "    2. data can be any the form of binary file pdf files\n",
    "\n",
    "             - pdf are binary files ---> they use the binary data structure\n",
    "\n",
    "    3. website -->\n",
    "\n",
    "            1. free API ,Paid API\n",
    "            2. Web Scrapping :  Web Scrapping is a process of extracting the data from the website\n",
    "                             1. beatiful soup\n",
    "                             2. scrappy\n",
    "                             3. selenium\n",
    "                             4. RPA\n",
    "                             5. NLTK\n",
    "   4. Transactional database -- My SQL\n",
    "   5. Non relational database \n",
    "   6. Datawarehouse -- OLap ---> Mining/extraction algorithum\n",
    "   7. Distribution stoarage --HDFS -- spark\n",
    "   8. cloud stoarage -- AWS -- RDD\n",
    "      -  gathring the data manually"
   ]
  },
  {
   "cell_type": "markdown",
   "id": "668840ba-a3a1-48bd-bf09-d0ad0af4fac1",
   "metadata": {},
   "source": [
    "## Data Extraction using PDF"
   ]
  },
  {
   "cell_type": "code",
   "execution_count": 1,
   "id": "8cb02c88-59ec-457b-80d9-f163bc00fdd5",
   "metadata": {},
   "outputs": [
    {
     "name": "stderr",
     "output_type": "stream",
     "text": [
      "\n",
      "[notice] A new release of pip is available: 24.3.1 -> 25.1.1\n",
      "[notice] To update, run: python.exe -m pip install --upgrade pip\n"
     ]
    },
    {
     "name": "stdout",
     "output_type": "stream",
     "text": [
      "Requirement already satisfied: pypdf in c:\\users\\komal prakash mali\\appdata\\local\\programs\\python\\python313\\lib\\site-packages (5.5.0)\n"
     ]
    }
   ],
   "source": [
    " !pip install pypdf"
   ]
  },
  {
   "cell_type": "code",
   "execution_count": 3,
   "id": "4a112537-a9f9-4b80-97a8-1105e1029be2",
   "metadata": {},
   "outputs": [],
   "source": [
    "from pypdf import PdfReader"
   ]
  },
  {
   "cell_type": "code",
   "execution_count": 4,
   "id": "a2bf7b07-01ae-42b8-b8d2-9dda57a31d3c",
   "metadata": {},
   "outputs": [],
   "source": [
    "file_path=r\"D:\\Download\\invoice.pdf\""
   ]
  },
  {
   "cell_type": "code",
   "execution_count": 5,
   "id": "cab6c7f5-0568-4716-9135-8cbad26b9542",
   "metadata": {},
   "outputs": [
    {
     "name": "stdout",
     "output_type": "stream",
     "text": [
      "1\n",
      "Invoice\n",
      "Payment is due within 30 days from date of invoice. Late payment is subject to fees of 5% per month.\n",
      "Thanks for choosing DEMO - Sliced Invoices | admin@slicedinvoices.com\n",
      "Page 1/1\n",
      "From:\n",
      "DEMO - Sliced Invoices\n",
      "Suite 5A-1204\n",
      "123 Somewhere Street\n",
      "Your City AZ 12345\n",
      "admin@slicedinvoices.com\n",
      "Invoice Number INV-3337\n",
      "Order Number 12345\n",
      "Invoice Date January 25, 2016\n",
      "Due Date January 31, 2016\n",
      "Total Due $93.50\n",
      "To:\n",
      "Test Business\n",
      "123 Somewhere St\n",
      "Melbourne, VIC 3000\n",
      "test@test.com\n",
      "Hrs/Qty Service Rate/Price Adjust Sub Total\n",
      "1.00 Web Design\n",
      "This is a sample description... $85.00 0.00% $85.00\n",
      "Sub Total $85.00\n",
      "Tax $8.50\n",
      "Total $93.50\n",
      "ANZ Bank\n",
      "ACC # 1234 1234\n",
      "BSB # 4321 432 Paid\n"
     ]
    }
   ],
   "source": [
    "with open(file_path,mode='rb')as f:\n",
    "    reader=PdfReader(f)\n",
    "    print (len(reader.pages))\n",
    "    print(reader.pages[0].extract_text())"
   ]
  },
  {
   "cell_type": "code",
   "execution_count": 6,
   "id": "82522aef-7e12-4630-b50d-4b39a97b7f28",
   "metadata": {},
   "outputs": [
    {
     "name": "stdout",
     "output_type": "stream",
     "text": [
      "1\n"
     ]
    }
   ],
   "source": [
    "with open(file_path,mode='rb')as f:\n",
    "    reader=PdfReader(f)\n",
    "    print (len(reader.pages))\n",
    "    txt=reader.pages[0].extract_text()"
   ]
  },
  {
   "cell_type": "code",
   "execution_count": 7,
   "id": "5ae5c3ae-730d-41ee-869a-5c721f7f06c7",
   "metadata": {},
   "outputs": [
    {
     "data": {
      "text/plain": [
       "'Invoice\\nPayment is due within 30 days from date of invoice. Late payment is subject to fees of 5% per month.\\nThanks for choosing DEMO - Sliced Invoices | admin@slicedinvoices.com\\nPage 1/1\\nFrom:\\nDEMO - Sliced Invoices\\nSuite 5A-1204\\n123 Somewhere Street\\nYour City AZ 12345\\nadmin@slicedinvoices.com\\nInvoice Number INV-3337\\nOrder Number 12345\\nInvoice Date January 25, 2016\\nDue Date January 31, 2016\\nTotal Due $93.50\\nTo:\\nTest Business\\n123 Somewhere St\\nMelbourne, VIC 3000\\ntest@test.com\\nHrs/Qty Service Rate/Price Adjust Sub Total\\n1.00 Web Design\\nThis is a sample description... $85.00 0.00% $85.00\\nSub Total $85.00\\nTax $8.50\\nTotal $93.50\\nANZ Bank\\nACC # 1234 1234\\nBSB # 4321 432 Paid'"
      ]
     },
     "execution_count": 7,
     "metadata": {},
     "output_type": "execute_result"
    }
   ],
   "source": [
    "txt"
   ]
  },
  {
   "cell_type": "code",
   "execution_count": 8,
   "id": "4c16e1d0-72f1-41d6-85a1-702d400dfaeb",
   "metadata": {},
   "outputs": [
    {
     "name": "stderr",
     "output_type": "stream",
     "text": [
      "<>:3: SyntaxWarning: invalid escape sequence '\\$'\n",
      "<>:3: SyntaxWarning: invalid escape sequence '\\$'\n",
      "C:\\Users\\Komal prakash mali\\AppData\\Local\\Temp\\ipykernel_18128\\2831977523.py:3: SyntaxWarning: invalid escape sequence '\\$'\n",
      "  m = re. findall(\"\\$\\d+\\.\\d+\",txt)\n"
     ]
    },
    {
     "data": {
      "text/plain": [
       "['$93.50', '$85.00', '$85.00', '$85.00', '$8.50', '$93.50']"
      ]
     },
     "execution_count": 8,
     "metadata": {},
     "output_type": "execute_result"
    }
   ],
   "source": [
    "# Extract all the amount from the text with doller\n",
    "import re\n",
    "m = re. findall(\"\\$\\d+\\.\\d+\",txt)\n",
    "m"
   ]
  },
  {
   "cell_type": "code",
   "execution_count": 9,
   "id": "9fe7ef7b-0e41-4c75-9ad4-68c38cdded2c",
   "metadata": {},
   "outputs": [
    {
     "data": {
      "text/plain": [
       "['Total Due $93.50']"
      ]
     },
     "execution_count": 9,
     "metadata": {},
     "output_type": "execute_result"
    }
   ],
   "source": [
    "# Find the Total Due\n",
    "m = re.findall(r\"Total Due\\s+\\$[\\d,]+\\.\\d{2}\", txt)\n",
    "m"
   ]
  },
  {
   "cell_type": "code",
   "execution_count": 10,
   "id": "9ba01eb8-991f-4af4-9594-d3e9694a11e3",
   "metadata": {},
   "outputs": [
    {
     "data": {
      "text/plain": [
       "['admin@slicedinvoices.com', 'admin@slicedinvoices.com', 'test@test.com']"
      ]
     },
     "execution_count": 10,
     "metadata": {},
     "output_type": "execute_result"
    }
   ],
   "source": [
    "# extract email from txt\n",
    "email=re.findall(r\"\\w+\\@\\w+\\.com\",txt)\n",
    "email"
   ]
  },
  {
   "cell_type": "code",
   "execution_count": 11,
   "id": "1497700f-d636-45b2-b084-332bb02b2689",
   "metadata": {},
   "outputs": [
    {
     "data": {
      "text/plain": [
       "['January 25, 2016', 'January 31, 2016']"
      ]
     },
     "execution_count": 11,
     "metadata": {},
     "output_type": "execute_result"
    }
   ],
   "source": [
    "# extract date from txt\n",
    "date=re.findall(r\"\\w+\\s\\d{2}.+\\d{4}\",txt)\n",
    "date"
   ]
  },
  {
   "cell_type": "markdown",
   "id": "9b298a9c-973f-4bf8-8cc8-0f247907d091",
   "metadata": {},
   "source": [
    "## @ API : \n",
    "\n",
    " - Application Programming Interface\n",
    " - API is used so that application can communication with each other\n",
    " - chatgpt ------- openAI\n",
    "   \n",
    "### @ Web Application :\n",
    "\n",
    " - follows the client server architecture\n",
    " - for web application we required browser\n",
    " - query ----- chatgpt\n",
    "\n",
    "   \n",
    " @ ML model --- API --- for that model --- live --- deployed on the cloud\n",
    " - server : computer --- high configure computer\n",
    " - database server ---  database is running\n",
    " - Application server --- app running --- app --- server --- live model (API)\n",
    "\n",
    "\n",
    "\n",
    " - OpenAI ------- company\n",
    " - Scikit learn\n",
    " - HTTP is not a API it is a protocol used by API\n",
    "\n",
    "        HTTP                                   HTTPs\n",
    "        no encryption                          encryption (security)\n",
    "                                               HTTP + ss"
   ]
  },
  {
   "cell_type": "markdown",
   "id": "5232945d-7c21-490c-9411-cce8c6c27eac",
   "metadata": {},
   "source": [
    "### @ HTTP Methods :\n",
    "\n",
    "1. Get : It is used to fetch the data from the website or API\n",
    "2. POst : We are sending a new information/ info to website or API\n",
    "3. Put :\n",
    "4. Update :\n",
    "5. patch :\n",
    "\n",
    "@ HTTp response --- status code\n",
    "\n",
    "### @ Request Module : \n",
    " - If we want to communicate with website or API through python "
   ]
  },
  {
   "cell_type": "code",
   "execution_count": 12,
   "id": "eaaa1455-7e6c-48a1-aa8a-3fd72c7babd0",
   "metadata": {},
   "outputs": [
    {
     "name": "stdout",
     "output_type": "stream",
     "text": [
      "Requirement already satisfied: requests in c:\\users\\komal prakash mali\\appdata\\local\\programs\\python\\python313\\lib\\site-packages (2.32.3)\n",
      "Requirement already satisfied: charset-normalizer<4,>=2 in c:\\users\\komal prakash mali\\appdata\\local\\programs\\python\\python313\\lib\\site-packages (from requests) (3.4.0)\n",
      "Requirement already satisfied: idna<4,>=2.5 in c:\\users\\komal prakash mali\\appdata\\local\\programs\\python\\python313\\lib\\site-packages (from requests) (3.10)\n",
      "Requirement already satisfied: urllib3<3,>=1.21.1 in c:\\users\\komal prakash mali\\appdata\\local\\programs\\python\\python313\\lib\\site-packages (from requests) (2.2.3)\n",
      "Requirement already satisfied: certifi>=2017.4.17 in c:\\users\\komal prakash mali\\appdata\\local\\programs\\python\\python313\\lib\\site-packages (from requests) (2024.8.30)\n"
     ]
    },
    {
     "name": "stderr",
     "output_type": "stream",
     "text": [
      "\n",
      "[notice] A new release of pip is available: 24.3.1 -> 25.1.1\n",
      "[notice] To update, run: python.exe -m pip install --upgrade pip\n"
     ]
    }
   ],
   "source": [
    "! pip install requests"
   ]
  },
  {
   "cell_type": "code",
   "execution_count": 13,
   "id": "432211ac-fa40-4c7b-ba53-f70c7ae0123e",
   "metadata": {},
   "outputs": [],
   "source": [
    "import requests"
   ]
  },
  {
   "cell_type": "code",
   "execution_count": 16,
   "id": "769a7b82-94cf-492b-bad4-76ee8b549d0b",
   "metadata": {},
   "outputs": [
    {
     "data": {
      "text/plain": [
       "<Response [503]>"
      ]
     },
     "execution_count": 16,
     "metadata": {},
     "output_type": "execute_result"
    }
   ],
   "source": [
    "response=requests.get(\"https://www.amazon.in/\")\n",
    "response"
   ]
  },
  {
   "cell_type": "code",
   "execution_count": 17,
   "id": "116c2a5a-abf7-4993-af98-e3d571e488bb",
   "metadata": {},
   "outputs": [
    {
     "data": {
      "text/plain": [
       "['__attrs__',\n",
       " '__bool__',\n",
       " '__class__',\n",
       " '__delattr__',\n",
       " '__dict__',\n",
       " '__dir__',\n",
       " '__doc__',\n",
       " '__enter__',\n",
       " '__eq__',\n",
       " '__exit__',\n",
       " '__firstlineno__',\n",
       " '__format__',\n",
       " '__ge__',\n",
       " '__getattribute__',\n",
       " '__getstate__',\n",
       " '__gt__',\n",
       " '__hash__',\n",
       " '__init__',\n",
       " '__init_subclass__',\n",
       " '__iter__',\n",
       " '__le__',\n",
       " '__lt__',\n",
       " '__module__',\n",
       " '__ne__',\n",
       " '__new__',\n",
       " '__nonzero__',\n",
       " '__reduce__',\n",
       " '__reduce_ex__',\n",
       " '__repr__',\n",
       " '__setattr__',\n",
       " '__setstate__',\n",
       " '__sizeof__',\n",
       " '__static_attributes__',\n",
       " '__str__',\n",
       " '__subclasshook__',\n",
       " '__weakref__',\n",
       " '_content',\n",
       " '_content_consumed',\n",
       " '_next',\n",
       " 'apparent_encoding',\n",
       " 'close',\n",
       " 'connection',\n",
       " 'content',\n",
       " 'cookies',\n",
       " 'elapsed',\n",
       " 'encoding',\n",
       " 'headers',\n",
       " 'history',\n",
       " 'is_permanent_redirect',\n",
       " 'is_redirect',\n",
       " 'iter_content',\n",
       " 'iter_lines',\n",
       " 'json',\n",
       " 'links',\n",
       " 'next',\n",
       " 'ok',\n",
       " 'raise_for_status',\n",
       " 'raw',\n",
       " 'reason',\n",
       " 'request',\n",
       " 'status_code',\n",
       " 'text',\n",
       " 'url']"
      ]
     },
     "execution_count": 17,
     "metadata": {},
     "output_type": "execute_result"
    }
   ],
   "source": [
    "dir(response)"
   ]
  },
  {
   "cell_type": "code",
   "execution_count": 20,
   "id": "1e8f87f6-ca1a-46be-86c3-e4e7e690d15c",
   "metadata": {},
   "outputs": [
    {
     "data": {
      "text/plain": [
       "''"
      ]
     },
     "execution_count": 20,
     "metadata": {},
     "output_type": "execute_result"
    }
   ],
   "source": [
    "response.text"
   ]
  },
  {
   "cell_type": "markdown",
   "id": "d29bcbb1-a16f-4897-abab-af15547e6923",
   "metadata": {},
   "source": [
    "## @ Web Scrapping :\n",
    "\n",
    "- Scrapping : Extracting the data from website\n",
    "- Beautiful Soup"
   ]
  },
  {
   "cell_type": "code",
   "execution_count": 22,
   "id": "434b85f1-6018-4a75-9937-7de54aa6143d",
   "metadata": {},
   "outputs": [
    {
     "name": "stdout",
     "output_type": "stream",
     "text": [
      "Requirement already satisfied: beautifulsoup4 in c:\\users\\komal prakash mali\\appdata\\local\\programs\\python\\python313\\lib\\site-packages (4.12.3)\n",
      "Requirement already satisfied: soupsieve>1.2 in c:\\users\\komal prakash mali\\appdata\\local\\programs\\python\\python313\\lib\\site-packages (from beautifulsoup4) (2.6)\n"
     ]
    },
    {
     "name": "stderr",
     "output_type": "stream",
     "text": [
      "\n",
      "[notice] A new release of pip is available: 24.3.1 -> 25.1.1\n",
      "[notice] To update, run: python.exe -m pip install --upgrade pip\n"
     ]
    }
   ],
   "source": [
    " !pip install beautifulsoup4"
   ]
  },
  {
   "cell_type": "code",
   "execution_count": null,
   "id": "eb7d302d-bc79-4568-a3f0-bb035c0eaabf",
   "metadata": {},
   "outputs": [],
   "source": []
  }
 ],
 "metadata": {
  "kernelspec": {
   "display_name": "Python 3 (ipykernel)",
   "language": "python",
   "name": "python3"
  },
  "language_info": {
   "codemirror_mode": {
    "name": "ipython",
    "version": 3
   },
   "file_extension": ".py",
   "mimetype": "text/x-python",
   "name": "python",
   "nbconvert_exporter": "python",
   "pygments_lexer": "ipython3",
   "version": "3.13.0"
  }
 },
 "nbformat": 4,
 "nbformat_minor": 5
}
